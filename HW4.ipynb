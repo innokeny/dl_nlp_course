{
 "cells": [
  {
   "cell_type": "markdown",
   "metadata": {
    "id": "rqR0_i22DX8w"
   },
   "source": [
    "# Библиотеки"
   ]
  },
  {
   "cell_type": "code",
   "execution_count": null,
   "metadata": {
    "colab": {
     "base_uri": "https://localhost:8080/",
     "height": 375
    },
    "execution": {
     "iopub.execute_input": "2025-04-16T12:47:13.125336Z",
     "iopub.status.busy": "2025-04-16T12:47:13.125079Z",
     "iopub.status.idle": "2025-04-16T12:47:53.839033Z",
     "shell.execute_reply": "2025-04-16T12:47:53.838466Z",
     "shell.execute_reply.started": "2025-04-16T12:47:13.125313Z"
    },
    "id": "8QOo24CbDR2m",
    "outputId": "f96f715e-ff75-4d8b-8e1b-97309945def7",
    "trusted": true
   },
   "outputs": [],
   "source": [
    "import numpy as np\n",
    "from sklearn.model_selection import train_test_split\n",
    "from transformers import (\n",
    "    AutoTokenizer,\n",
    "    AutoModelForTokenClassification,\n",
    "    TrainingArguments,\n",
    "    Trainer,\n",
    "    DataCollatorForTokenClassification,\n",
    "    BertForTokenClassification,\n",
    "    DataCollatorForLanguageModeling,\n",
    "    AutoModelForMaskedLM\n",
    ")\n",
    "from datasets import Dataset\n",
    "import evaluate\n",
    "from corus import load_ne5\n",
    "import os\n",
    "import zipfile\n",
    "import torch\n",
    "import pandas as pd\n",
    "import math\n",
    "from corus import load_lenta\n",
    "import seqeval"
   ]
  },
  {
   "cell_type": "markdown",
   "metadata": {
    "id": "tXXk2BfgUUF7"
   },
   "source": [
    "# Обучите NER-модель"
   ]
  },
  {
   "cell_type": "markdown",
   "metadata": {
    "id": "TcdN9CakK4tM"
   },
   "source": [
    "## Загрузка и подготовка данных"
   ]
  },
  {
   "cell_type": "code",
   "execution_count": 4,
   "metadata": {
    "colab": {
     "base_uri": "https://localhost:8080/"
    },
    "execution": {
     "iopub.execute_input": "2025-04-16T12:47:53.840151Z",
     "iopub.status.busy": "2025-04-16T12:47:53.839673Z",
     "iopub.status.idle": "2025-04-16T12:47:56.346274Z",
     "shell.execute_reply": "2025-04-16T12:47:56.345419Z",
     "shell.execute_reply.started": "2025-04-16T12:47:53.840132Z"
    },
    "id": "uhqU6CnFK7WQ",
    "outputId": "9c272abe-49e4-4796-c237-7fd5a9e9f1bd",
    "trusted": true
   },
   "outputs": [
    {
     "name": "stdout",
     "output_type": "stream",
     "text": [
      "--2025-04-16 16:32:36--  http://www.labinform.ru/pub/named_entities/collection5.zip\n",
      "Resolving www.labinform.ru (www.labinform.ru)... 95.181.230.181\n",
      "Connecting to www.labinform.ru (www.labinform.ru)|95.181.230.181|:80... connected.\n",
      "HTTP request sent, awaiting response... 200 OK\n",
      "Length: 1899530 (1.8M) [application/zip]\n",
      "Saving to: ‘collection5.zip’\n",
      "\n",
      "collection5.zip     100%[===================>]   1.81M  9.83MB/s    in 0.2s    \n",
      "\n",
      "2025-04-16 16:32:37 (9.83 MB/s) - ‘collection5.zip’ saved [1899530/1899530]\n",
      "\n"
     ]
    }
   ],
   "source": [
    "!wget http://www.labinform.ru/pub/named_entities/collection5.zip\n",
    "!unzip -oq collection5.zip -d Collection5\n",
    "!rm collection5.zip"
   ]
  },
  {
   "cell_type": "code",
   "execution_count": 8,
   "metadata": {
    "execution": {
     "iopub.execute_input": "2025-04-16T12:47:56.348503Z",
     "iopub.status.busy": "2025-04-16T12:47:56.348242Z",
     "iopub.status.idle": "2025-04-16T12:47:56.482611Z",
     "shell.execute_reply": "2025-04-16T12:47:56.481782Z",
     "shell.execute_reply.started": "2025-04-16T12:47:56.348483Z"
    },
    "id": "ymT3YF7dLrhk",
    "trusted": true
   },
   "outputs": [],
   "source": [
    "path = \"Collection5/Collection5\"\n",
    "records = list(load_ne5(path))"
   ]
  },
  {
   "cell_type": "code",
   "execution_count": 9,
   "metadata": {
    "colab": {
     "base_uri": "https://localhost:8080/"
    },
    "execution": {
     "iopub.execute_input": "2025-04-16T12:47:56.483723Z",
     "iopub.status.busy": "2025-04-16T12:47:56.483499Z",
     "iopub.status.idle": "2025-04-16T12:47:56.490365Z",
     "shell.execute_reply": "2025-04-16T12:47:56.489486Z",
     "shell.execute_reply.started": "2025-04-16T12:47:56.483706Z"
    },
    "id": "WyyYYsQRR9PT",
    "outputId": "2c89182b-5eb1-4e0b-faff-6be817c9198c",
    "trusted": true
   },
   "outputs": [
    {
     "name": "stdout",
     "output_type": "stream",
     "text": [
      "Содержимое папки Collection5: ['238.ann', '539.txt', '538.ann', '088.txt', '524.ann', '1016.ann', '15_01_13b.ann', '1145.ann', '384.ann', '04_02_13a_abdulatipov.ann', '1100.txt', '092.ann', '25_12_12e.ann', '140.ann', '284.ann', '30_11_12i.ann', '327.ann', '544.ann', '293.ann', '056.ann', '126.txt', '21_11_12j.txt', '334.ann', '121.txt', '220.ann', '1183.ann', '28_11_12f.txt', '1037.ann', '516.txt', '298.txt', '090.ann', '1148.txt', '264.ann', '347.txt', '09_01_13c.txt', 'last_39.txt', '368.ann', '138.ann', '268.ann', '548.ann', '185.txt', 'blokhin.ann', '04_12_12d.ann', 'last_02.txt', '388.txt', '166.txt', '112.ann', '1168.ann', '25_12_12c.txt', '20_11_12d.ann', 'last_40.ann', '09_01_13e.txt', '379.ann', '1146.txt', '397.txt', '395.txt', '437.txt', '512.ann', '1003.ann', '628.txt', '1112.ann', '013.txt', '15_01_13e.ann', '420.txt', '2041.ann', '536.txt', '362.txt', '1166.ann', '100.txt', '085.txt', '020.ann', '064.ann', '347.ann', '454.txt', '429.txt', '1037.txt', '146.txt', 'last_30_new.txt', '209.txt', '001.ann', '556.ann', '393.txt', '239.txt', '629.txt', '559.ann', '1107.txt', '540.ann', 'last_30_new.ann', '1012.ann', '142.ann', '1156.txt', '139.ann', '1120.txt', '500.ann', '1018.ann', '069.txt', '070.txt', '583.txt', '513.ann', '470.ann', '1198.txt', '1116.txt', '339.txt', '004.txt', '149.ann', '341.ann', '460.ann', '561.ann', '2018.txt', '162.ann', '274.ann', '001.txt', '22_11_12d.ann', '599.ann', '095.ann', '478.ann', '611.txt', '076.ann', '1167.txt', '1020.txt', '1042.txt', '04_12_12h_corr.txt', '500.txt', '021.txt', 'last_19.txt', '514.ann', '460.txt', '521.txt', '600.ann', '509.txt', '28_11_12g.txt', 'last_24.txt', '449.ann', 'last_13.ann', '537.txt', '463.txt', '042.txt', '253.txt', '1171.txt', '1038.txt', 'maykl dzhekson.ann', '057.ann', '1187.txt', '10_01_13d.txt', 'lenoblast.txt', '403.txt', '04_12_12f.txt', '2047.ann', '543.txt', '632.txt', '401.txt', '113.ann', '484.txt', '455.txt', '1112.txt', 'last_41.txt', '207.ann', 'last_38.txt', 'last_44.txt', '1013.txt', '1155.ann', '313.ann', '351.ann', '29_11_12a.txt', '193.txt', 'last_38.ann', '1022.ann', '23_11_12b.ann', '510.txt', '595.ann', '544.txt', '306.ann', '578.ann', '194.ann', '10_01_13i.txt', '1000.txt', '394.ann', '377.txt', '1191.ann', '222.ann', '26_11_12e.txt', '1111.txt', '107.txt', '313.txt', '281.ann', '531.txt', '222.txt', 'last_75.txt', '071.txt', '095.txt', '435.ann', '256.txt', '021.ann', '162.txt', '611.ann', '295.txt', '230.ann', '329.ann', '141.ann', '367.txt', '361.txt', '239.ann', '016.txt', '487.txt', '227.ann', '244.ann', 'uchitel.txt', '385.txt', '416.txt', '22_11_12c.ann', '2031.txt', '1005.txt', '099.ann', '160.txt', '425.ann', '385.ann', '395.ann', '078.ann', 'last_15.txt', '1001.txt', '349.txt', '262.txt', 'last_49.txt', '11_01_13e.txt', '289.ann', '148.ann', 'last_72.txt', '423.ann', '173.txt', 'last_52.txt', 'last_17.txt', '390.txt', '147.ann', 'last_48.txt', '348.ann', '503.txt', '1125.txt', '1149.ann', '09_01_13.ann', '1026.ann', 'chaves.txt', '212.ann', '1172.ann', '1040.txt', '150.ann', '508.ann', '085.ann', 'semenenko.ann', '1104.ann', '30_11_12h.ann', '589.ann', '365.txt', '25_12_12d.txt', '179.ann', '187.ann', 'rosobrnadzor.txt', '315.txt', '404.ann', 'last_56.ann', '1046.ann', '411.txt', '525.txt', '122.ann', '053.ann', '438.txt', '077.ann', '212.txt', '475.ann', '263.txt', '224.ann', '491.ann', '561.txt', '27_11_12e.txt', '1121.ann', '2011.txt', '574.ann', '2021.txt', '1152.ann', 'last_16.txt', '1181.ann', '2007.txt', '29_11_12b.ann', '366.ann', '271.txt', 'last_47.ann', '294.ann', '2005.ann', '005.txt', '245.ann', '1101.txt', '104.txt', '19_11_12h.txt', '115.ann', 'last_10.ann', '626.ann', '521.ann', '517.txt', '1122.txt', '22_11_12j.txt', 'kamchatka.ann', '247.txt', '065.txt', '1162.txt', '20_11_12i.txt', 'mvd.ann', '389.ann', 'last_27.txt', '259.ann', '387.txt', '042.ann', '618.txt', '1176.txt', '434.ann', 'last_71.ann', '412.txt', '226.txt', '1035.ann', '180.txt', '064.txt', '200.ann', 'last_31.txt', '035.txt', '369.txt', '443.ann', '361.ann', '1184.ann', '003.ann', '283.txt', '454.ann', '479.ann', '328.ann', '04_03_13a_sorokin.ann', '006.txt', '23_11_12f.txt', '628.ann', '161.txt', '2035.txt', '2046.txt', '380.ann', '21_11_12i.txt', '2017.txt', '304.txt', '1033.txt', '1132.txt', '375.txt', '294.txt', '418.ann', '1028.ann', '269.txt', '1116.ann', '1104.txt', '049.txt', '335.ann', '516.ann', '098.ann', '483.txt', 'last_74.ann', 'last_51.txt', '171.ann', '189.txt', '058.txt', '184.txt', '281.txt', 'last_03.txt', '28_11_12h.ann', '214.ann', '15_01_13e.txt', '108.ann', '523.txt', '205.txt', '083.ann', '1132.ann', '614.ann', '075.ann', '282.txt', 'last_68.txt', '346.ann', '106.txt', '307.ann', '053.txt', '505.txt', '2012.txt', '15_01_13a.txt', '2021.ann', '26_11_12f.txt', 'maykl dzhekson.txt', 'last_55.ann', '089.txt', '25_12_12c.ann', '584 (!).ann', 'last_45.txt', 'last_35.ann', '270.txt', '378.txt', '372.ann', '182.txt', '057.txt', '1046.txt', '2037.txt', '20_11_12c.txt', '393.ann', '306.txt', '144.txt', '111.txt', '082.ann', '2016.txt', '2028.ann', '26_11_12b.txt', '519.txt', 'last_28.ann', '529.ann', '616.ann', '180.ann', '151.ann', '1161.ann', '2019.ann', '181.txt', '569.txt', 'last_43.ann', '252.ann', '443.txt', '27_11_12j.ann', '146.ann', 'last_01.txt', '248.txt', '172.txt', '1009.txt', '1050.txt', '1014.ann', '231.ann', '269.ann', 'last_36.ann', '1042.ann', '1102.ann', '192.txt', '2014.txt', '1186.ann', '512.txt', 'last_34.ann', 'artjakov.txt', '280.txt', '059.txt', '515.ann', '586.ann', '233.ann', '623.ann', '358.ann', '2044.ann', '410.txt', '321.ann', '017.txt', '585.ann', '1123.ann', '504.txt', '1194.ann', '077.txt', '382.txt', '322.ann', '414.txt', '1196.ann', '1183.txt', '1032.ann', '178.ann', '506.txt', '232.txt', 'last_66.ann', '551.txt', 'last_40.txt', '292.txt', '570.txt', '433.ann', 'shojgu3.ann', '1024.ann', '225.ann', '2003.ann', '326.ann', '370.txt', '21_11_12j.ann', '304.ann', 'last_12.txt', '109.ann', '255.ann', '237.ann', '201.ann', '529.txt', '047.txt', '04_12_12d.txt', '133.ann', '437.ann', '27_11_12j.txt', '1188.ann', '400.txt', '508.txt', '515.txt', '03_12_12h.txt', '425.txt', 'last_02.ann', '522.ann', '1141.txt', '23_11_12a.txt', '346.txt', '2024.txt', '029.ann', '1198.ann', '164.txt', '175.ann', '1180.ann', '060.txt', '04_02_13a_abdulatipov.txt', '1185.ann', '292.ann', '28_11_12h.txt', '342.ann', '408.ann', '229.txt', '492.txt', '332.ann', '1195.txt', '006.ann', '2002.txt', 'sobjanin2.txt', '291.txt', '305.txt', '1015.txt', '1136.txt', '30_11_12b.txt', '159.txt', '495.ann', '359.ann', '199.ann', '340.txt', '349.ann', '424.txt', 'sobjanin2.ann', '018.ann', '360.ann', 'shojgu4.txt', '027.ann', '497.ann', '610.txt', '547.ann', '178.txt', '427.txt', '1123.txt', '037.ann', '530.ann', '534.ann', '136.txt', '118.ann', '063.ann', '22_11_12h.txt', '1021.ann', '488.ann', '052.txt', '120.txt', '622.txt', '1194.txt', '550.ann', '510.ann', '055.ann', '2006.txt', '262.ann', '1130.ann', 'last_29.ann', '03_12_12d.txt', '476.ann', '120.ann', '581.txt', '04_12_12g.txt', '485.ann', '602.ann', '1149.txt', '374.txt', '399.txt', '392.txt', 'last_18.txt', '1034.ann', '427.ann', '1158.txt', '541.txt', '1008.txt', '618.ann', '578.txt', 'last_73.txt', '061.txt', 'si_tzjanpin.txt', '052.ann', 'last_06.txt', '235.ann', '446.txt', '140.txt', '267.txt', '10_01_13a.ann', '405.ann', '2008.txt', '363.ann', '025.txt', 'last_43.txt', '1142.txt', '457.ann', '049.ann', '480.ann', '04_12_12g.ann', '338.ann', '1157.ann', '04_12_12h_corr.ann', '562.ann', '404.txt', 'last_37.txt', '129.txt', '205.ann', 'last_50.ann', '536.ann', '1150.ann', '20_11_12b.txt', '481.txt', '1027.ann', '622.ann', '342.txt', '1137.ann', '254.ann', '074.ann', '26_11_12b.ann', '216.ann', '28_11_12a.ann', '1106.txt', '467.txt', '1160.ann', '379.txt', '1012.txt', '540.txt', '2036.ann', '094.ann', '216.txt', '2025.ann', '002.ann', 'last_46.txt', '157.txt', '1144.ann', 'last_57.ann', '1033.ann', '1050.ann', '518.txt', '552.ann', '093.ann', '352.txt', '550.txt', '1101.ann', '1119.ann', '484.ann', '030.ann', '167.txt', '389.txt', '2026.ann', '1169.txt', '203.ann', '188.ann', '576.ann', '080.ann', '09_01_13c.ann', '565.ann', '220.txt', '22_11_12c.txt', '1038.ann', '092.txt', '065.ann', '274.txt', 'last_67.ann', 'lenoblast.ann', '337.txt', '204.txt', '213.ann', '1035.txt', '620.ann', '082.txt', 'last_19.ann', '610.ann', '275.ann', '439.txt', '019.ann', '325.ann', '625.ann', '134.ann', '15_01_13f.ann', '038.ann', '278.ann', '328.txt', '079.txt', '211.txt', '2043.txt', 'last_74.txt', 'last_35.txt', '131.ann', '028.ann', '084.ann', '143.txt', '2025.txt', '351.txt', '1115.ann', '446.ann', '119.ann', '548.txt', '009.ann', '447.txt', '170.txt', '100.ann', '155.ann', '350.txt', '545.txt', 'last_32.txt', '11_01_13b.txt', '034.txt', '2029.txt', '103.txt', '620.txt', '387.ann', '1122.ann', '086.ann', '124.ann', '539.ann', '09_01_13.txt', '402.txt', '097.ann', '1103.txt', '011.ann', '330.txt', 'chaves.ann', '103.ann', '372.txt', '234.txt', 'last_63.ann', '558.txt', '602.txt', '344.txt', 'last_31.ann', '154.txt', '044.txt', '554.ann', 'artjakov.ann', '1140.ann', '597.ann', '377.ann', '147.txt', 'si_tzjanpin.ann', '1107.ann', '495.txt', '301.txt', '470.txt', '469.ann', '154.ann', '1015.ann', 'Avtovaz.txt', '106.ann', '101.txt', '268.txt', '2044.txt', '145.txt', '569.ann', '517.ann', '2037.ann', '381.txt', '289.txt', '2032.ann', '27_11_12c.ann', '581.ann', '1030.ann', '451.ann', '382.ann', '497.txt', '068.ann', '09_01_13e.ann', '474.txt', '336.ann', '1159.ann', '1137.txt', '102.txt', '466.ann', '579.ann', '1169.ann', '1138.txt', '617.txt', '068.txt', '2030.ann', '1119.txt', '2046.ann', '549.txt', '1196.txt', '546.txt', '096.ann', '318.ann', '519.ann', '1019.ann', '621.ann', '1188.txt', '1176.ann', '054.txt', '2034.txt', '1021.txt', '2014.ann', '355.ann', '169.txt', '29_11_12b.txt', '236.ann', '2028.txt', '320.txt', '142.txt', '09_01_13h.txt', '436.txt', '612.txt', '170.ann', '1044.ann', '090.txt', '630.txt', '1020.ann', '572.txt', '048.ann', '419.txt', '062.txt', '1029.txt', '535.txt', '444.ann', '627.txt', '1108.txt', '612.ann', '127.ann', '051.ann', '2034.ann', '1118.ann', '553.ann', '621.txt', '09_01_13i.ann', '189.ann', '373.txt', 'last_65.txt', '126.ann', 'last_13.txt', '598 (!).txt', '008.ann', '121.ann', 'last_47.txt', '1125.ann', '2030.txt', '113.txt', 'last_26.txt', '2029.ann', '630.ann', '312.ann', '266.ann', '574.txt', '453.ann', 'last_33.ann', '145.ann', '04_12_12b.txt', '114.ann', '22_11_12i.txt', '557.ann', '601.ann', '116.ann', '112.txt', '250.txt', 'kuleshov.ann', '150.txt', '503.ann', '23_11_12e.ann', '1147.ann', '426.ann', '449.txt', '365.ann', 'last_09.txt', '190.txt', '284.txt', '453.txt', '2040.ann', '588.ann', '25_12_12d.ann', '247.ann', '2009.ann', '14_01_13g.ann', '475.txt', '09_01_13i.txt', '25_12_12a.txt', '1017.ann', 'last_69.ann', '215.ann', '1160.txt', '436.ann', 'last_24.ann', '059.ann', '432.txt', '2045.ann', '010.txt', '1189.txt', '2009.txt', '2022.ann', '2026.txt', 'semenenko.txt', '022.txt', '185.ann', '1002.ann', '04_03_13a_sorokin.txt', '078.txt', '520.ann', '1031.ann', '383.ann', '261.ann', '584 (!).txt', 'last_54.ann', 'turkmenija.txt', '23_11_12b.txt', '445.txt', 'last_07_new.ann', '314.ann', '132.txt', '591.txt', '417.txt', '27_11_12a.ann', '1171.ann', '2020.ann', '528.txt', '014.ann', '471.txt', '210.txt', 'last_25.ann', '1143.txt', '392.ann', '435.txt', '1163.txt', 'last_22.txt', '285.txt', '376.ann', '390.ann', 'last_63.txt', '575.txt', 'last_11.ann', '501.txt', '23_11_12a.ann', '219.ann', '1190.ann', '1131.ann', '050.txt', '617.ann', '557.txt', '1126.txt', '1113.ann', '09_01_13d.txt', '249.ann', '593.ann', '491.txt', '431.txt', '066.txt', '148.txt', '2012.ann', '183.ann', '489.txt', '421.txt', '1191.txt', '301.ann', '040.ann', '1144.txt', '03_12_12g.ann', '619.ann', '290.txt', '253.ann', '1167.ann', '633.ann', '195.txt', '499.txt', '129.ann', '27_11_12a.txt', '345.ann', '1151.ann', '322.txt', '406.txt', '518.ann', '415.ann', '2032.txt', '2019.txt', '04_12_12f.ann', '444.txt', '047.ann', '09_01_13d.ann', 'turkmenija.ann', '28_11_12j.txt', '509.ann', '26_11_12f.ann', '415.txt', '038.txt', '406.ann', 'last_33.txt', '482.txt', 'last_17.ann', '381.ann', '012.ann', '552.txt', '2035.ann', '160.ann', '535.ann', '345.txt', '533 (!).txt', '472.ann', '09_01_13h.ann', '461.ann', 'last_23.ann', '123.ann', 'last_46.ann', '317.ann', '1039.txt', '1025.ann', '1022.txt', '067.ann', '498.txt', '060.ann', '28_11_12g.ann', '400.ann', '22_11_12a.ann', '380.txt', '314.txt', '20_11_12i.ann', '527.txt', 'last_71.txt', 'last_42.ann', 'last_23.txt', '588.txt', '595.txt', '248.ann', '526.txt', '1143.ann', '1106.ann', '087.ann', '398.txt', '592.txt', '088.ann', '27_11_12c.txt', '2023.txt', 'last_08.txt', '410.ann', 'last_09.ann', '2010.txt', '413.ann', '091.txt', 'last_27.ann', '1192.ann', '1039.ann', '459.txt', '246.txt', '462.txt', '564.txt', '616.txt', '442.txt', '1014.txt', '1186.txt', '2001.ann', '499.ann', '2004.ann', '046.txt', '30_11_12b.ann', '122.txt', '276.txt', 'last_64.txt', '2007.ann', 'last_52.ann', '1147.txt', '099.txt', '259.txt', '422.ann', '14_01_13i.txt', '016.ann', '598 (!).ann', 'last_66.txt', '371.ann', '242.txt', '1199.txt', '291.ann', '137.txt', '558.ann', '1178.txt', '615.txt', '21_11_12c.ann', 'last_72.ann', '402.ann', '022.ann', '204.ann', '159.ann', '1193.ann', 'last_08.ann', '03_12_12h.ann', '1023.txt', '191.ann', '056.txt', '188.txt', '357.txt', '231.txt', '576.txt', '03_12_12a.ann', '1133.ann', '348.txt', '2045.txt', '592.ann', '368.txt', '554.txt', '473.txt', '036.txt', '1109.txt', 'last_50.txt', 'last_70.ann', '1034.txt', '273.ann', 'last_36.txt', '263.ann', 'last_53.ann', 'last_67.txt', '19_11_12d.txt', '386.txt', '1115.txt', '407.txt', '302.ann', '462.ann', '1145.txt', '1003.txt', '244.txt', 'last_42.txt', '357.ann', '25_12_12a.ann', '1159.txt', '031.txt', '240.ann', '208.txt', '520.txt', '312.txt', '383.txt', '560.txt', '182.ann', '563.txt', '571.ann', '362.ann', '1177.ann', '20_11_12b.ann', '091.ann', '03_12_12b.txt', 'chirkunov.ann', '123.txt', '318.txt', '299.txt', '221.ann', '202.ann', '251.ann', '023.ann', '124.txt', '1146.ann', 'mvd2.txt', '168.ann', '419.ann', '334.txt', '633.txt', '118.txt', '03_12_12a.txt', 'last_60.txt', '468.ann', '032.ann', '177.txt', '1036.txt', '027.txt', '1011.ann', '1047.ann', 'last_14.ann', '493.txt', '11_01_13b.ann', '21_11_12c.txt', '409.ann', '058.ann', '542.ann', '1011.txt', '597.txt', '1002.txt', '396.txt', '532.ann', '353.txt', '251.txt', '511.txt', '203.txt', '224.txt', '23_11_12d.txt', '14_01_13g.txt', '1139.ann', '03_12_12c.txt', '319.txt', '1179.txt', '590.ann', 'last_39.ann', '1164.ann', '549.ann', '176.ann', '624.txt', '102.ann', 'last_73.ann', '1135.txt', '157.ann', '1103.ann', '1166.txt', '10_01_13i.ann', '1153.txt', '459.ann', 'abdulatipov.ann', '310.txt', '273.txt', '137.ann', '360.txt', '2008.ann', '479.txt', '464.txt', '1154.ann', '613.txt', '1135.ann', '366.txt', '28_11_12f.ann', '1036.ann', '2015.txt', '276.ann', '430.txt', 'ryadovoy chelah.txt', '138.txt', '22_11_12j.ann', '073.ann', '534.txt', '069.ann', '582.txt', '572.ann', '27_11_12e.ann', '272.txt', '613.ann', '316.ann', '317.txt', 'last_58.txt', '240.txt', '266.txt', '002.txt', '467.ann', '485.txt', '163.txt', '210.ann', '277.txt', 'last_75.ann', '565.txt', '074.txt', '109.txt', '26_11_12c.ann', '116.txt', '108.txt', '033.txt', '087.txt', '2013.txt', '1200.ann', '048.txt', '202.txt', '030.txt', 'kuleshov.txt', '451.txt', '1005.ann', '354.ann', '287.ann', '496.txt', '1048.txt', '165.txt', '1155.txt', '025.ann', '288.txt', '164.ann', '1136.ann', '09_01_13a.ann', '051.txt', '1120.ann', '2015.ann', '1185.txt', '514.txt', '496.ann', '350.ann', '2018.ann', '2005.txt', '396.ann', '409.txt', '161.ann', '494.txt', '1040.ann', '201.txt', '494.ann', '298.ann', '30_11_12h.txt', '279.ann', '111.ann', '040.txt', '260.txt', '445.ann', '583.ann', '215.txt', '238.txt', '242.ann', '168.txt', '1151.txt', '397.ann', '261.txt', '466.txt', '506.ann', '408.txt', '03_12_12d.ann', '1049.ann', '128.ann', 'Avtovaz.ann', '356.txt', '375.ann', '28_11_12j.ann', '416.ann', '1148.ann', '136.ann', '223.txt', '219.txt', '081.ann', '1195.ann', '481.ann', '560.ann', '005.ann', '1142.ann', '034.ann', '363.txt', '166.ann', '567.txt', 'last_15.ann', 'last_20.txt', '338.txt', '1175.ann', '498.ann', 'last_14.txt', '2048.ann', '370.ann', '2022.txt', '417.ann', '309.ann', '15_01_13b.txt', '072.txt', '458.ann', '358.txt', '03_12_12c.ann', '450.txt', '355.txt', '296.ann', '344.ann', '225.txt', '295.ann', '321.txt', 'last_59.txt', '577.txt', '1114.txt', '076.txt', '03_12_12g.txt', 'last_61.ann', '089.ann', '04_12_12b.ann', '1153.ann', '356.ann', '22_11_12g.ann', '2001.txt', '028.txt', '149.txt', '199.txt', '015 (!).txt', '228.ann', 'last_20.ann', 'last_34.txt', '1041.ann', '430.ann', '163.ann', '1030.txt', '104.ann', 'last_56.txt', 'last_10.txt', '577.ann', 'shojgu3.txt', '119.txt', '195.ann', '117.txt', '073.txt', '486.txt', '559.txt', '131.txt', '153.ann', '158.txt', '591.ann', '490.ann', '172.ann', '1006.ann', '364.txt', '2023.ann', 'last_45.ann', '101.ann', '093.txt', '079.ann', '388.ann', '296.txt', '420.ann', '217.ann', '186.txt', 'klinton.ann', '2038.txt', '399.ann', '098.txt', '522.txt', '429.ann', '1173.ann', '1134.txt', '326.txt', '27_11_12d.ann', '440.ann', '1175.txt', '551.ann', '045.txt', '493.ann', '066.ann', '309.txt', 'chirkunov.txt', '286.ann', '367.ann', '278.txt', '465.ann', '235.txt', '026.txt', '343.txt', '511.ann', '579.txt', '197.txt', '483.ann', 'last_58.ann', 'last_69.txt', '542.txt', '340.ann', '1004.ann', '568.ann', '256.ann', '107.ann', '158.ann', '279.txt', '373.ann', '308.ann', '011.txt', '173.ann', '1019.txt', '469.txt', '1049.txt', 'abdulatipov.txt', '023.txt', '054.ann', '1165.ann', '2004.txt', '083.txt', '337.ann', '458.txt', '585.txt', '260.ann', '2027.txt', '447.ann', '10_01_13a.txt', '207.txt', '226.ann', '386.ann', '265.ann', '213.txt', '391.ann', '2040.txt', 'last_03.ann', '513.txt', 'last_59.ann', '450.ann', '601.txt', '10_01_13d.ann', '401.ann', 'blokhin.txt', '169.ann', '2042.ann', '012.txt', '270.ann', '343.ann', '541.ann', '625.txt', '23_11_12c.ann', '424.ann', '477.ann', '28_11_12i.txt', '020.txt', '045.ann', '562.txt', '27_11_12d.txt', '1105.txt', '186.ann', '236.txt', '184.ann', '489.ann', '1161.txt', '587.ann', '179.txt', '384.txt', '249.txt', '1158.ann', 'last_60.ann', '310.ann', '623.txt', '03_12_12b.ann', '272.ann', '463.ann', '600.txt', '017.ann', '037.txt', '615.ann', '545.ann', '110.ann', '2047.txt', '227.txt', '1043.txt', '2043.ann', '1032.txt', '165.ann', '473.ann', '1023.ann', '440.txt', '428.ann', '492.ann', '1156.ann', '587.txt', '14_01_13c.ann', '029.txt', '531.ann', '1006.txt', '354.txt', '546.ann', '214.txt', '151.txt', 'mvd.txt', '1134.ann', 'last_41.ann', '265.txt', 'shojgu4.ann', '1118.txt', '524.txt', '206.ann', '139.txt', '086.txt', 'shojgu1.txt', '1152.txt', '1114.ann', '134.txt', '133.txt', '156.ann', '2036.txt', '110.txt', '264.txt', '632.ann', 'mvd2.ann', '1157.txt', '1027.txt', '167.ann', '1121.txt', '461.txt', '421.ann', '571.txt', '300.ann', '570.ann', 'last_18.ann', '553.txt', '319.ann', 'last_53.txt', '538.txt', '537.ann', '23_11_12f.ann', '032.txt', '252.txt', '277.ann', '075.txt', '130.txt', '044.ann', '031.ann', '359.txt', '418.txt', '1113.txt', '586.txt', '1162.ann', '026.ann', 'ryadovoy chelah.ann', '480.txt', '144.ann', '130.ann', '1131.txt', '196.ann', '330.ann', '080.txt', 'shojgu6.ann', '1190.txt', '407.ann', '29_11_12a.ann', '141.txt', '1045.ann', '1127.ann', '1105.ann', '1010.txt', '010.ann', '135.txt', '1189.ann', '2049.ann', '007.txt', '472.txt', '125.ann', '1200.txt', 'last_21.txt', '369.ann', '194.txt', '1018.txt', '1150.txt', '258.ann', '2048.txt', '490.txt', '258.txt', 'last_04.ann', '20_11_12a.ann', '287.txt', '2024.ann', '457.txt', '563.ann', '465.txt', '525.ann', '434.txt', '221.txt', '376.txt', 'last_64.ann', '175.txt', '1179.ann', '171.txt', '036.ann', 'uchitel.ann', '1139.txt', '533 (!).ann', '105.ann', '250.ann', '1016.txt', '2020.txt', '442.ann', '599.txt', '007.ann', 'last_48.ann', 'last_01.ann', '22_11_12g.txt', '071.ann', '339.ann', '282.ann', '243.ann', '1164.txt', '2017.ann', '21_11_12i.ann', 'last_61.txt', '2049.txt', '1045.txt', '20_11_12d.txt', '128.txt', '257.ann', '590.txt', '229.ann', '1048.ann', 'last_62.ann', '614.txt', '594.ann', '26_11_12e.ann', '428.txt', '305.ann', '593.txt', '050.ann', '1013.ann', '414.ann', 'last_06.ann', '567.ann', '135.ann', '009.txt', '526.ann', '152.ann', '257.txt', '555 (!).txt', '1197.txt', '176.txt', '061.ann', '1163.ann', 'last_65.ann', '280.ann', '254.txt', '096.txt', '1170.ann', '468.txt', '094.txt', '283.ann', '1008.ann', '22_11_12d.txt', '323.ann', '441.ann', '285.ann', '062.ann', '237.txt', '132.ann', '333.ann', '1044.txt', '014.txt', '1177.txt', '183.txt', '15_01_13a.ann', '568.txt', '097.txt', '003.txt', '271.ann', '055.txt', '255.txt', '297.txt', 'last_11.txt', '311.txt', '1178.ann', '243.txt', '290.ann', '20_11_12a.txt', '341.txt', '21_11_12h.ann', '2011.ann', '331.txt', '23_11_12c.txt', '28_11_12i.ann', '197.ann', 'last_70.txt', '23_11_12e.txt', 'shojgu1.ann', '626.txt', '422.txt', 'last_68.ann', '394.txt', '11_01_13e.ann', '1174.txt', '1187.ann', '041.ann', '327.txt', '015 (!).ann', '1199.ann', '631.ann', '1000.ann', '431.ann', '530.txt', '1028.txt', 'last_51.ann', '438.ann', '286.txt', '555 (!).ann', '004.ann', '378.ann', '398.ann', '019.txt', '1001.ann', 'last_54.txt', '391.txt', '155.txt', 'last_05.txt', '22_11_12i.ann', '174.ann', '527.ann', '2042.txt', '181.ann', '486.ann', '039.ann', '624.ann', '288.ann', '300.txt', '323.txt', '543.ann', '246.ann', '232.ann', '1110.txt', '333.txt', '127.txt', '1168.txt', '25_12_12e.txt', '2039.ann', '411.ann', '324.txt', '403.ann', '439.ann', '035.ann', '311.ann', 'last_25.txt', '2002.ann', 'klinton.txt', '115.txt', '433.txt', '223.ann', 'last_55.txt', '589.txt', '1026.txt', '2027.ann', '528.ann', '2006.ann', '018.txt', '043.ann', '413.txt', '23_11_12d.ann', '1128.ann', '143.ann', '547.txt', '556.txt', '307.txt', '299.ann', '488.txt', '596.ann', '448.txt', '432.ann', 'shojgu6.txt', '1108.ann', '2010.ann', 'last_49.ann', '426.txt', '1126.ann', '452.ann', '196.txt', '2041.txt', '28_11_12a.txt', '1182.txt', '2039.txt', '477.txt', '043.txt', '594.txt', 'last_44.ann', '629.ann', '331.ann', '2050.ann', '070.ann', '582.ann', '504.ann', '1197.ann', '19_11_12h.ann', '412.ann', 'last_57.txt', '22_11_12a.txt', '1029.ann', '374.ann', '1182.ann', 'last_28.txt', '1193.txt', 'last_16.ann', 'last_05.ann', '21_11_12h.txt', '332.txt', '441.txt', '208.ann', '2016.ann', '316.txt', '230.txt', '233.txt', '084.txt', '627.ann', '067.txt', '471.ann', '1009.ann', '371.txt', '423.txt', '19_11_12d.ann', '1004.txt', '1017.txt', 'last_04.txt', '523.ann', '293.txt', 'rosobrnadzor.ann', '22_11_12h.ann', '482.ann', '1109.ann', '297.ann', '2050.txt', '15_01_13f.txt', '325.txt', '320.ann', '191.txt', '033.ann', '464.ann', '275.txt', '008.txt', 'last_32.ann', '174.txt', '1154.txt', '209.ann', '041.txt', 'last_22.ann', 'kamchatka.txt', '1174.ann', '2038.ann', '1043.ann', '303.ann', '476.txt', '1133.txt', '192.ann', 'last_12.ann', '505.ann', '1173.txt', '1130.txt', '1172.txt', '1138.ann', '072.ann', '1024.txt', '198.ann', '364.ann', '324.ann', '217.txt', '14_01_13i.ann', '20_11_12c.ann', '206.txt', '455.ann', '353.ann', '335.txt', '234.ann', '2003.txt', '046.ann', '619.txt', '156.txt', 'last_29.txt', '1141.ann', '152.txt', '211.ann', '1031.txt', '596.txt', '1102.txt', '245.txt', '177.ann', 'last_07_new.txt', '153.txt', '218.ann', '193.ann', '114.txt', '575.ann', '1170.txt', '1181.txt', '2031.ann', '1047.txt', '1117.txt', '267.ann', 'last_26.ann', '1025.txt', '1117.ann', '315.ann', '448.ann', '478.txt', '1128.txt', '1007.txt', '507.ann', '1111.ann', 'last_37.ann', '125.txt', '507.txt', '081.txt', '190.ann', '487.ann', '09_01_13a.txt', '218.txt', 'last_62.txt', '302.txt', '1184.txt', '039.txt', '013.ann', '474.ann', '063.txt', '30_11_12i.txt', '502.txt', '1140.txt', '329.txt', '228.txt', '241.ann', '308.txt', '1110.ann', '14_01_13c.txt', '501.ann', '1124.txt', '105.txt', '631.txt', '1010.ann', '1127.txt', '1007.ann', '2013.ann', '564.ann', '336.txt', '1180.txt', '303.txt', '1124.ann', '1041.txt', '532.txt', '452.txt', '26_11_12c.txt', '1192.txt', '117.ann', '241.txt', '1100.ann', '200.txt', '198.txt', '187.txt', '502.ann', '405.txt', '1165.txt', 'last_21.ann', '352.ann']\n"
     ]
    }
   ],
   "source": [
    "print(\"Содержимое папки Collection5:\", os.listdir(\"Collection5/Collection5\"))"
   ]
  },
  {
   "cell_type": "code",
   "execution_count": 10,
   "metadata": {
    "colab": {
     "base_uri": "https://localhost:8080/"
    },
    "execution": {
     "iopub.execute_input": "2025-04-16T12:47:56.491622Z",
     "iopub.status.busy": "2025-04-16T12:47:56.491365Z",
     "iopub.status.idle": "2025-04-16T12:47:56.506860Z",
     "shell.execute_reply": "2025-04-16T12:47:56.506192Z",
     "shell.execute_reply.started": "2025-04-16T12:47:56.491595Z"
    },
    "id": "62qr1ma2SAeu",
    "outputId": "6d8003fa-8408-4a72-bedd-17871261c4b1",
    "trusted": true
   },
   "outputs": [
    {
     "name": "stdout",
     "output_type": "stream",
     "text": [
      "\n",
      "Текст документа: Сын бывшего главы ФСБ занял руководящий пост в \"Зарубежнефти\"\n",
      "\n",
      "Младший сын бывшего руководителя ФС ...\n",
      "\n",
      "Примеры spans: [Ne5Span(index='T1', type='ORG', start=18, stop=21, text='ФСБ'), Ne5Span(index='T2', type='ORG', start=48, stop=60, text='Зарубежнефти')]\n"
     ]
    }
   ],
   "source": [
    "first_record = records[0]\n",
    "print(\"\\nТекст документа:\", first_record.text[:100], \"...\")\n",
    "print(\"\\nПримеры spans:\", first_record.spans[:2])"
   ]
  },
  {
   "cell_type": "code",
   "execution_count": 11,
   "metadata": {
    "colab": {
     "base_uri": "https://localhost:8080/",
     "height": 256,
     "referenced_widgets": [
      "61f1fd33ad4149928ef34673c93cb3fc",
      "57153dcd776745edb0c73e49ca5fac03",
      "92395bc950594b1fb199e9bc0b9ce0ce",
      "55ad6de309de421798fd24daca635f81",
      "66acd41d00ff4e6a88c5d8e48d59c3b3",
      "e6f61bdaacaf4ac98a56e45b78c90cc3",
      "8138533ea7d5414f85e3188773865bd1",
      "a09b0be82e054188bcbf840dec7e4cbd",
      "a4e98e3cb49e4acfbeb3f908482afc9e",
      "20e0fad34fba4e468c7e18195cf61269",
      "15ebb58473254b2fb9f0dcaefef9ccf6",
      "ed8d3fdf2c32491ba1a8df2e261e54c3",
      "db8d83e29e8d40599eaffc120e7fd20f",
      "7d47f25b8726465081bfa3df02a592a4",
      "94c1c95dafb14c28bdb881b5a6b0a95e",
      "51cedb9fbee7445f871c529dacbfbae5",
      "bda6c4fa9c62434aa3eb4c099695700f",
      "8b6e6643564f474097f6d72b0be6bc82",
      "3187b2c87ca84ffcb9b9f83a6f4dc4e8",
      "d4503597a4ca4e78ac2dc792180e7129",
      "31a05249fcee44079420a0b1d4f72bbb",
      "9ce5c7f458fd4efa8deede4375fe40ec",
      "cb61347f82f849d686a55e190e5c419b",
      "258c78ab87d14d42ab0b1d31f6f7c8f2",
      "29f458a9aded493b9fe42c287f0592dc",
      "53d936d441a446aba92c6efb84fe001a",
      "1b2d2b902fb24b05beabe55579d438bb",
      "9b7788cabd704493856631039d53d52d",
      "349546d50fe34760ae40190a51fd7603",
      "bc344d707ac14b10bcd62525e3c8ad5b",
      "92bea217ed014eeab7fa8c52650aa675",
      "43f99bab16d34c158e99f5dc15ef864a",
      "178c73b99d614d30944f2af83deb9b4b",
      "37c41d8784394fddb1a3413c7389826f",
      "03cb2d6ddab64b76a8d3fba1b885a2be",
      "27bdbf65090c492d8fad8b5b0c47c04b",
      "3c31b6e263ba464d8e091bd636752d13",
      "5ac4f2c4d66c419d9836bf2360275109",
      "db707579533342a0879eabd6075d4ed6",
      "f366226c463c4e5987130194cb1a79db",
      "fc52279ace36455d8ae498e967f4a0c1",
      "3031716ed80645cb924b607810ce5a3e",
      "019062a715ae4fb799d620c10577e37c",
      "b72dcc7410c0451e937830949137b42b"
     ]
    },
    "execution": {
     "iopub.execute_input": "2025-04-16T12:47:56.507985Z",
     "iopub.status.busy": "2025-04-16T12:47:56.507752Z",
     "iopub.status.idle": "2025-04-16T12:47:58.393726Z",
     "shell.execute_reply": "2025-04-16T12:47:58.393178Z",
     "shell.execute_reply.started": "2025-04-16T12:47:56.507969Z"
    },
    "id": "T5Uetd4tO1md",
    "outputId": "d7ebfac6-a69f-4883-cbec-5f18b888f674",
    "trusted": true
   },
   "outputs": [
    {
     "name": "stderr",
     "output_type": "stream",
     "text": [
      "/home/rmx2n/hw_4/deeppavlov/deeppavlov-venv/lib/python3.10/site-packages/huggingface_hub/file_download.py:896: FutureWarning: `resume_download` is deprecated and will be removed in version 1.0.0. Downloads always resume when possible. If you want to force a new download, use `force_download=True`.\n",
      "  warnings.warn(\n"
     ]
    }
   ],
   "source": [
    "tokenizer = AutoTokenizer.from_pretrained(\"cointegrated/rubert-tiny2\")"
   ]
  },
  {
   "cell_type": "code",
   "execution_count": 12,
   "metadata": {
    "execution": {
     "iopub.execute_input": "2025-04-16T12:47:58.394844Z",
     "iopub.status.busy": "2025-04-16T12:47:58.394551Z",
     "iopub.status.idle": "2025-04-16T12:47:58.400739Z",
     "shell.execute_reply": "2025-04-16T12:47:58.400122Z",
     "shell.execute_reply.started": "2025-04-16T12:47:58.394815Z"
    },
    "id": "2k6yVBQaLh26",
    "trusted": true
   },
   "outputs": [],
   "source": [
    "def convert_to_iob(record):\n",
    "    text = record.text\n",
    "    spans = record.spans\n",
    "\n",
    "    words = text.split()\n",
    "    labels = ['O'] * len(words)\n",
    "\n",
    "    current_pos = 0\n",
    "    for i, word in enumerate(words):\n",
    "        start = text.find(word, current_pos)\n",
    "        end = start + len(word)\n",
    "        current_pos = end\n",
    "\n",
    "        for span in spans:\n",
    "            word_in_entity = (\n",
    "                start >= span.start and\n",
    "                end <= span.stop\n",
    "            )\n",
    "\n",
    "            if word_in_entity:\n",
    "                if i == 0 or labels[i-1] != f\"I-{span.type}\":\n",
    "                    labels[i] = f\"B-{span.type}\"\n",
    "                else:\n",
    "                    labels[i] = f\"I-{span.type}\"\n",
    "                break\n",
    "\n",
    "    return {'tokens': words, 'ner_tags': labels}"
   ]
  },
  {
   "cell_type": "code",
   "execution_count": 13,
   "metadata": {
    "execution": {
     "iopub.execute_input": "2025-04-16T12:47:58.401734Z",
     "iopub.status.busy": "2025-04-16T12:47:58.401471Z",
     "iopub.status.idle": "2025-04-16T12:47:58.837438Z",
     "shell.execute_reply": "2025-04-16T12:47:58.836734Z",
     "shell.execute_reply.started": "2025-04-16T12:47:58.401711Z"
    },
    "id": "ENh-EheNLjqW",
    "trusted": true
   },
   "outputs": [],
   "source": [
    "data = [convert_to_iob(record) for record in records]"
   ]
  },
  {
   "cell_type": "code",
   "execution_count": 14,
   "metadata": {
    "colab": {
     "base_uri": "https://localhost:8080/"
    },
    "execution": {
     "iopub.execute_input": "2025-04-16T12:47:58.840541Z",
     "iopub.status.busy": "2025-04-16T12:47:58.840320Z",
     "iopub.status.idle": "2025-04-16T12:47:58.845040Z",
     "shell.execute_reply": "2025-04-16T12:47:58.844468Z",
     "shell.execute_reply.started": "2025-04-16T12:47:58.840526Z"
    },
    "id": "MjLrSqqtLz4f",
    "outputId": "a6bae9de-9558-4806-f4c1-0b31473fcf73",
    "trusted": true
   },
   "outputs": [
    {
     "name": "stdout",
     "output_type": "stream",
     "text": [
      "Пример разметки:\n",
      "Сын             -> O\n",
      "бывшего         -> O\n",
      "главы           -> O\n",
      "ФСБ             -> B-ORG\n",
      "занял           -> O\n",
      "руководящий     -> O\n",
      "пост            -> O\n",
      "в               -> O\n",
      "\"Зарубежнефти\"  -> O\n",
      "Младший         -> O\n"
     ]
    }
   ],
   "source": [
    "print(\"Пример разметки:\")\n",
    "for token, tag in zip(data[0]['tokens'][:10], data[0]['ner_tags'][:10]):\n",
    "    print(f\"{token:15} -> {tag}\")"
   ]
  },
  {
   "cell_type": "markdown",
   "metadata": {
    "id": "ujtpJX9mUXWp"
   },
   "source": [
    "## Разделение данных на train/test"
   ]
  },
  {
   "cell_type": "code",
   "execution_count": 15,
   "metadata": {
    "execution": {
     "iopub.execute_input": "2025-04-16T12:47:58.846365Z",
     "iopub.status.busy": "2025-04-16T12:47:58.845893Z",
     "iopub.status.idle": "2025-04-16T12:47:58.870701Z",
     "shell.execute_reply": "2025-04-16T12:47:58.870162Z",
     "shell.execute_reply.started": "2025-04-16T12:47:58.846343Z"
    },
    "id": "Bp9-C_lSUY4K",
    "trusted": true
   },
   "outputs": [],
   "source": [
    "train_data, test_data = train_test_split(\n",
    "    data,\n",
    "    test_size=0.2,\n",
    "    random_state=42\n",
    ")"
   ]
  },
  {
   "cell_type": "markdown",
   "metadata": {
    "id": "EBWqVhvVUfUd"
   },
   "source": [
    "## Токенизация и выравнивание меток"
   ]
  },
  {
   "cell_type": "code",
   "execution_count": 16,
   "metadata": {
    "execution": {
     "iopub.execute_input": "2025-04-16T12:47:58.871573Z",
     "iopub.status.busy": "2025-04-16T12:47:58.871301Z",
     "iopub.status.idle": "2025-04-16T12:47:59.028950Z",
     "shell.execute_reply": "2025-04-16T12:47:59.028193Z",
     "shell.execute_reply.started": "2025-04-16T12:47:58.871557Z"
    },
    "id": "pfqhRKGMUh6k",
    "trusted": true
   },
   "outputs": [],
   "source": [
    "train_dataset = Dataset.from_dict({\n",
    "    'tokens': [x['tokens'] for x in train_data],\n",
    "    'ner_tags': [x['ner_tags'] for x in train_data]\n",
    "})\n",
    "\n",
    "test_dataset = Dataset.from_dict({\n",
    "    'tokens': [x['tokens'] for x in test_data],\n",
    "    'ner_tags': [x['ner_tags'] for x in test_data]\n",
    "})"
   ]
  },
  {
   "cell_type": "code",
   "execution_count": 17,
   "metadata": {
    "execution": {
     "iopub.execute_input": "2025-04-16T12:47:59.030412Z",
     "iopub.status.busy": "2025-04-16T12:47:59.029849Z",
     "iopub.status.idle": "2025-04-16T12:47:59.042372Z",
     "shell.execute_reply": "2025-04-16T12:47:59.041724Z",
     "shell.execute_reply.started": "2025-04-16T12:47:59.030386Z"
    },
    "id": "m2cuCgnwo4OA",
    "trusted": true
   },
   "outputs": [],
   "source": [
    "all_tags = sorted(list(set(tag for item in data for tag in item['ner_tags'])))\n",
    "tags = ['O'] + [tag for tag in all_tags if tag != 'O']"
   ]
  },
  {
   "cell_type": "code",
   "execution_count": 18,
   "metadata": {
    "colab": {
     "base_uri": "https://localhost:8080/"
    },
    "execution": {
     "iopub.execute_input": "2025-04-16T12:47:59.043430Z",
     "iopub.status.busy": "2025-04-16T12:47:59.043159Z",
     "iopub.status.idle": "2025-04-16T12:47:59.079049Z",
     "shell.execute_reply": "2025-04-16T12:47:59.078354Z",
     "shell.execute_reply.started": "2025-04-16T12:47:59.043414Z"
    },
    "id": "N2zwh-WFwOuz",
    "outputId": "a3b659f1-4449-425f-8c40-06e675696ed4",
    "trusted": true
   },
   "outputs": [
    {
     "name": "stdout",
     "output_type": "stream",
     "text": [
      "Counter({'O': 191125, 'B-PER': 13233, 'B-ORG': 8921, 'B-LOC': 3241, 'B-GEOPOLIT': 3070, 'B-MEDIA': 1201})\n"
     ]
    }
   ],
   "source": [
    "from collections import Counter\n",
    "tag_counts = Counter(tag for item in data for tag in item['ner_tags'])\n",
    "print(tag_counts)"
   ]
  },
  {
   "cell_type": "code",
   "execution_count": 19,
   "metadata": {
    "execution": {
     "iopub.execute_input": "2025-04-16T12:47:59.079934Z",
     "iopub.status.busy": "2025-04-16T12:47:59.079680Z",
     "iopub.status.idle": "2025-04-16T12:47:59.091438Z",
     "shell.execute_reply": "2025-04-16T12:47:59.090911Z",
     "shell.execute_reply.started": "2025-04-16T12:47:59.079912Z"
    },
    "id": "T-D73DFvo6A4",
    "trusted": true
   },
   "outputs": [],
   "source": [
    "id2label = {i: tag for i, tag in enumerate(tags)}\n",
    "label2id = {tag: i for i, tag in enumerate(tags)}"
   ]
  },
  {
   "cell_type": "code",
   "execution_count": 151,
   "metadata": {
    "execution": {
     "iopub.execute_input": "2025-04-16T12:47:59.092366Z",
     "iopub.status.busy": "2025-04-16T12:47:59.092157Z",
     "iopub.status.idle": "2025-04-16T12:47:59.130983Z",
     "shell.execute_reply": "2025-04-16T12:47:59.130358Z",
     "shell.execute_reply.started": "2025-04-16T12:47:59.092351Z"
    },
    "id": "_bjR8m0aUk83",
    "trusted": true
   },
   "outputs": [],
   "source": [
    "def tokenize_and_align_labels(examples):\n",
    "    tokenized_inputs = tokenizer(\n",
    "        examples[\"tokens\"],\n",
    "        truncation=True,\n",
    "        padding='max_length',\n",
    "        max_length=128,\n",
    "        is_split_into_words=True\n",
    "    )\n",
    "\n",
    "    labels = []\n",
    "    for i, label in enumerate(examples[\"ner_tags\"]):\n",
    "        word_ids = tokenized_inputs.word_ids(batch_index=i)\n",
    "        label_ids = []\n",
    "        previous_word_idx = None\n",
    "\n",
    "        for word_idx in word_ids:\n",
    "            if word_idx is None:\n",
    "                label_ids.append(-100)\n",
    "            elif word_idx != previous_word_idx:\n",
    "                label_ids.append(label2id[label[word_idx]])\n",
    "            else:\n",
    "                label_ids.append(-100)\n",
    "            previous_word_idx = word_idx\n",
    "\n",
    "        label_ids += [-100] * (128 - len(label_ids))\n",
    "\n",
    "        labels.append(label_ids)\n",
    "\n",
    "    tokenized_inputs[\"labels\"] = labels\n",
    "    return tokenized_inputs"
   ]
  },
  {
   "cell_type": "code",
   "execution_count": 21,
   "metadata": {
    "colab": {
     "base_uri": "https://localhost:8080/",
     "height": 81,
     "referenced_widgets": [
      "6e87cb464e174c8ea919cabe08feb530",
      "bcea29d400064ce4926c6f9f3be64cfa",
      "40de1e97a26542bcb8de346c30790fc3",
      "17d140d11c344e77be2fb8f0e80d8250",
      "635b3c5d19f340078553b07192ae1830",
      "5bbb2617c4a748b0b98d52d7e83d00a6",
      "5caf224ae452478eb2b66c5bc27bbd06",
      "7927102b51da42919ed9036dbf8fda5c",
      "3a722a81748b451881d9072fcd416569",
      "977132206750468590af452e6a92fa44",
      "6cdb0311313f4492b71de6b25e06f800",
      "65f36a0837504b309aa71b8e008e426f",
      "69815738d37f457cafb482a37d574938",
      "62b362359c89458c9bc9684db4cf22d7",
      "75ba1c50d5764e9eb8483beccca71704",
      "fd6945376c95446499c780df1ceae767",
      "db69f524e12542a0b1a653b9a217a3a3",
      "9c00bd4c6f9e44aa86307b16420a3426",
      "46cf135db03d47f2b66499e227367f7b",
      "fae0e286b3094441bbc634a0bc6e6a92",
      "81d2e4fdb0ce4a8e89aab9a1b3998911",
      "ff08f23fced940819b887b14c9d03dee"
     ]
    },
    "execution": {
     "iopub.execute_input": "2025-04-16T12:47:59.131962Z",
     "iopub.status.busy": "2025-04-16T12:47:59.131779Z",
     "iopub.status.idle": "2025-04-16T12:48:00.701287Z",
     "shell.execute_reply": "2025-04-16T12:48:00.700639Z",
     "shell.execute_reply.started": "2025-04-16T12:47:59.131948Z"
    },
    "id": "M5IIEXOiUmn1",
    "outputId": "5ff21689-4969-4267-fe2c-c8fa71644166",
    "trusted": true
   },
   "outputs": [
    {
     "name": "stderr",
     "output_type": "stream",
     "text": [
      "Map: 100%|██████████| 800/800 [00:00<00:00, 1604.40 examples/s]\n",
      "Map: 100%|██████████| 200/200 [00:00<00:00, 1727.92 examples/s]\n"
     ]
    }
   ],
   "source": [
    "tokenized_train = train_dataset.map(tokenize_and_align_labels, batched=True)\n",
    "tokenized_test = test_dataset.map(tokenize_and_align_labels, batched=True)"
   ]
  },
  {
   "cell_type": "markdown",
   "metadata": {
    "id": "RwwCA8EIqMcB"
   },
   "source": [
    "## Настройка модели"
   ]
  },
  {
   "cell_type": "code",
   "execution_count": 22,
   "metadata": {
    "execution": {
     "iopub.execute_input": "2025-04-16T12:48:00.702314Z",
     "iopub.status.busy": "2025-04-16T12:48:00.702069Z",
     "iopub.status.idle": "2025-04-16T12:48:00.706588Z",
     "shell.execute_reply": "2025-04-16T12:48:00.705826Z",
     "shell.execute_reply.started": "2025-04-16T12:48:00.702296Z"
    },
    "id": "YbG440osxWlO",
    "trusted": true
   },
   "outputs": [],
   "source": [
    "device = torch.device(\"cuda\" if torch.cuda.is_available() else \"cpu\")"
   ]
  },
  {
   "cell_type": "code",
   "execution_count": 18,
   "metadata": {
    "colab": {
     "base_uri": "https://localhost:8080/",
     "height": 175,
     "referenced_widgets": [
      "ece5aefb48ac4e44983e873ea3de2864",
      "d607f6b225aa42d696376949d6b71280",
      "569035b415d941caba8a807b9b50efce",
      "8260f411b59d4ce5a14a813c3325d9ba",
      "dbc60bcfb7364148907efab94f559f12",
      "67cdca5760e2437ca62dce53bab529f4",
      "1f67ddbf73d14a2f85495b8d781082a4",
      "04db730cda1c4eb897681aacebaa6011",
      "c271f5ca798e41c190fac749074f2f0f",
      "c6dd7d65ccc647279f7bc7d6068518ff",
      "b46ff2f5e28a47ea8ec31d5d48437856",
      "87033229f47f47eaa4fc83b1fdd39164",
      "b5db682d094e47ee82570b223a8ed06d",
      "8dcc024baa8245a78850d670fbfc1331",
      "06918dd787f84e89ab080a63bf741ace",
      "9ee6bc90e0574d8f83ce140df4b0bd75",
      "888afbe245d54498a5b53dfd90c5d07b",
      "7e4b76f574964fd08b86c1a4aa184fce",
      "3bd310cf2cdd4b7aa7d0bf8ef38557fe",
      "46ada61886d64c48a42c51a3944f37ea",
      "25555cfea12a4b31a3baa3b694b1917b",
      "0c52ccdb69e246ea8f6333e6ca8849e4"
     ]
    },
    "execution": {
     "iopub.execute_input": "2025-04-16T12:48:00.707803Z",
     "iopub.status.busy": "2025-04-16T12:48:00.707424Z",
     "iopub.status.idle": "2025-04-16T12:48:02.264293Z",
     "shell.execute_reply": "2025-04-16T12:48:02.263577Z",
     "shell.execute_reply.started": "2025-04-16T12:48:00.707774Z"
    },
    "id": "DXjW0ftYqNKT",
    "outputId": "0855115c-85dd-4d53-c42f-25a681b8c992",
    "trusted": true
   },
   "outputs": [
    {
     "name": "stderr",
     "output_type": "stream",
     "text": [
      "Some weights of BertForTokenClassification were not initialized from the model checkpoint at cointegrated/rubert-tiny2 and are newly initialized: ['classifier.bias', 'classifier.weight']\n",
      "You should probably TRAIN this model on a down-stream task to be able to use it for predictions and inference.\n"
     ]
    }
   ],
   "source": [
    "model = AutoModelForTokenClassification.from_pretrained(\n",
    "    \"cointegrated/rubert-tiny2\",\n",
    "    num_labels=len(tags),\n",
    "    id2label=id2label,\n",
    "    label2id=label2id\n",
    ")"
   ]
  },
  {
   "cell_type": "code",
   "execution_count": 19,
   "metadata": {
    "execution": {
     "iopub.execute_input": "2025-04-16T12:48:02.265485Z",
     "iopub.status.busy": "2025-04-16T12:48:02.265217Z",
     "iopub.status.idle": "2025-04-16T12:48:02.519091Z",
     "shell.execute_reply": "2025-04-16T12:48:02.518323Z",
     "shell.execute_reply.started": "2025-04-16T12:48:02.265464Z"
    },
    "id": "aVjPKbw1z3jD",
    "trusted": true
   },
   "outputs": [],
   "source": [
    "model = model.to(device)"
   ]
  },
  {
   "cell_type": "markdown",
   "metadata": {
    "id": "DzMUzMHJqZCT"
   },
   "source": [
    "## Настройка обучения"
   ]
  },
  {
   "cell_type": "code",
   "execution_count": 23,
   "metadata": {
    "colab": {
     "base_uri": "https://localhost:8080/",
     "height": 49,
     "referenced_widgets": [
      "977aafe7332547a09a93d59eda427526",
      "486df1c635c444a6862750e2dbbb5eb6",
      "8bb1742228a64f89aa31b79cdc150683",
      "27e14ee578544546a2c62bf9f0deedd7",
      "fb1df176d7414af0b85b8cfd06c4c4c7",
      "245bcbcd4af84436a3984278e382778b",
      "e53e5ceee58a4b7688f1c7e4e9d74534",
      "71c3eb4f7ba54162a461302e873793a6",
      "fa69953be13f410cb896746941831498",
      "f564f295f95346a69e6d6cbe9efbeaa1",
      "a329c6b7b2cf46f39d4d77437e942720"
     ]
    },
    "execution": {
     "iopub.execute_input": "2025-04-16T12:48:02.520254Z",
     "iopub.status.busy": "2025-04-16T12:48:02.519927Z",
     "iopub.status.idle": "2025-04-16T12:48:03.076913Z",
     "shell.execute_reply": "2025-04-16T12:48:03.076134Z",
     "shell.execute_reply.started": "2025-04-16T12:48:02.520228Z"
    },
    "id": "IqQcHGjiqdG2",
    "outputId": "3f0c7254-22ff-4c72-919b-a79dd911f8a4",
    "trusted": true
   },
   "outputs": [],
   "source": [
    "seqeval = evaluate.load(\"seqeval\")"
   ]
  },
  {
   "cell_type": "code",
   "execution_count": 21,
   "metadata": {
    "execution": {
     "iopub.execute_input": "2025-04-16T12:48:03.078083Z",
     "iopub.status.busy": "2025-04-16T12:48:03.077819Z",
     "iopub.status.idle": "2025-04-16T12:48:03.115754Z",
     "shell.execute_reply": "2025-04-16T12:48:03.115017Z",
     "shell.execute_reply.started": "2025-04-16T12:48:03.078063Z"
    },
    "id": "FKyZ9Wcoqei9",
    "trusted": true
   },
   "outputs": [],
   "source": [
    "training_args = TrainingArguments(\n",
    "    output_dir=\"ner_model\",\n",
    "    eval_strategy=\"epoch\",\n",
    "    learning_rate=3e-5,\n",
    "    per_device_train_batch_size=16,\n",
    "    per_device_eval_batch_size=16,\n",
    "    num_train_epochs=10,\n",
    "    weight_decay=0.01,\n",
    "    save_strategy=\"epoch\",\n",
    "    load_best_model_at_end=True,\n",
    "    metric_for_best_model=\"f1\",\n",
    "    greater_is_better=True,\n",
    "    seed=42,\n",
    "    report_to=\"none\",\n",
    "    fp16=True,\n",
    "    gradient_accumulation_steps=2\n",
    ")"
   ]
  },
  {
   "cell_type": "code",
   "execution_count": 24,
   "metadata": {
    "execution": {
     "iopub.execute_input": "2025-04-16T12:48:03.117125Z",
     "iopub.status.busy": "2025-04-16T12:48:03.116814Z",
     "iopub.status.idle": "2025-04-16T12:48:03.122765Z",
     "shell.execute_reply": "2025-04-16T12:48:03.122212Z",
     "shell.execute_reply.started": "2025-04-16T12:48:03.117099Z"
    },
    "id": "iaECjNQlrBVh",
    "trusted": true
   },
   "outputs": [],
   "source": [
    "def compute_metrics(p):\n",
    "    predictions, labels = p\n",
    "    predictions = np.argmax(predictions, axis=2)\n",
    "\n",
    "    true_predictions = [\n",
    "        [tags[p] for (p, l) in zip(prediction, label) if l != -100]\n",
    "        for prediction, label in zip(predictions, labels)\n",
    "    ]\n",
    "\n",
    "    true_labels = [\n",
    "        [tags[l] for (p, l) in zip(prediction, label) if l != -100]\n",
    "        for prediction, label in zip(predictions, labels)\n",
    "    ]\n",
    "\n",
    "    results = seqeval.compute(\n",
    "        predictions=true_predictions,\n",
    "        references=true_labels\n",
    "    )\n",
    "\n",
    "    return {\n",
    "        \"precision\": results[\"overall_precision\"],\n",
    "        \"recall\": results[\"overall_recall\"],\n",
    "        \"f1\": results[\"overall_f1\"],\n",
    "        \"accuracy\": results[\"overall_accuracy\"]\n",
    "    }"
   ]
  },
  {
   "cell_type": "code",
   "execution_count": 23,
   "metadata": {
    "execution": {
     "iopub.execute_input": "2025-04-16T12:48:03.123935Z",
     "iopub.status.busy": "2025-04-16T12:48:03.123671Z",
     "iopub.status.idle": "2025-04-16T12:48:03.143525Z",
     "shell.execute_reply": "2025-04-16T12:48:03.142928Z",
     "shell.execute_reply.started": "2025-04-16T12:48:03.123912Z"
    },
    "id": "J7cwAqkmum2_",
    "trusted": true
   },
   "outputs": [],
   "source": [
    "data_collator = DataCollatorForTokenClassification(\n",
    "    tokenizer=tokenizer,\n",
    "    padding=True,\n",
    "    max_length=128,\n",
    "    label_pad_token_id=-100\n",
    ")"
   ]
  },
  {
   "cell_type": "code",
   "execution_count": 24,
   "metadata": {
    "colab": {
     "base_uri": "https://localhost:8080/"
    },
    "execution": {
     "iopub.execute_input": "2025-04-16T12:48:03.144552Z",
     "iopub.status.busy": "2025-04-16T12:48:03.144337Z",
     "iopub.status.idle": "2025-04-16T12:48:03.191864Z",
     "shell.execute_reply": "2025-04-16T12:48:03.191034Z",
     "shell.execute_reply.started": "2025-04-16T12:48:03.144537Z"
    },
    "id": "wmHnlA9ErEco",
    "outputId": "b55d9493-2622-4071-8cd3-7a119d5fab09",
    "trusted": true
   },
   "outputs": [
    {
     "name": "stderr",
     "output_type": "stream",
     "text": [
      "/tmp/ipykernel_7379/387083795.py:1: FutureWarning: `tokenizer` is deprecated and will be removed in version 5.0.0 for `Trainer.__init__`. Use `processing_class` instead.\n",
      "  trainer = Trainer(\n"
     ]
    }
   ],
   "source": [
    "trainer = Trainer(\n",
    "    model=model,\n",
    "    args=training_args,\n",
    "    train_dataset=tokenized_train,\n",
    "    eval_dataset=tokenized_test,\n",
    "    tokenizer=tokenizer,\n",
    "    data_collator=data_collator,\n",
    "    compute_metrics=compute_metrics\n",
    ")"
   ]
  },
  {
   "cell_type": "code",
   "execution_count": 25,
   "metadata": {
    "colab": {
     "base_uri": "https://localhost:8080/"
    },
    "execution": {
     "iopub.execute_input": "2025-04-16T12:48:03.192867Z",
     "iopub.status.busy": "2025-04-16T12:48:03.192669Z",
     "iopub.status.idle": "2025-04-16T12:48:03.741767Z",
     "shell.execute_reply": "2025-04-16T12:48:03.741141Z",
     "shell.execute_reply.started": "2025-04-16T12:48:03.192852Z"
    },
    "id": "gcLUoDvLuqqe",
    "outputId": "a986c4b2-0291-46e5-80fe-6358399dca90",
    "trusted": true
   },
   "outputs": [
    {
     "name": "stdout",
     "output_type": "stream",
     "text": [
      "Длина входных ID: 128\n",
      "Длина меток: 128\n",
      "Максимальная длина в наборе: 128\n"
     ]
    }
   ],
   "source": [
    "sample = tokenized_train[0]\n",
    "print(\"Длина входных ID:\", len(sample['input_ids']))\n",
    "print(\"Длина меток:\", len(sample['labels']))\n",
    "print(\"Максимальная длина в наборе:\", max(len(x['input_ids']) for x in tokenized_train))"
   ]
  },
  {
   "cell_type": "markdown",
   "metadata": {
    "id": "G55rH6O4rH_O"
   },
   "source": [
    "## Обучение и оценка"
   ]
  },
  {
   "cell_type": "code",
   "execution_count": 26,
   "metadata": {
    "colab": {
     "base_uri": "https://localhost:8080/",
     "height": 278
    },
    "execution": {
     "iopub.execute_input": "2025-04-16T12:48:03.742805Z",
     "iopub.status.busy": "2025-04-16T12:48:03.742540Z",
     "iopub.status.idle": "2025-04-16T12:48:05.904754Z",
     "shell.execute_reply": "2025-04-16T12:48:05.904089Z",
     "shell.execute_reply.started": "2025-04-16T12:48:03.742787Z"
    },
    "id": "OIgP88a42lbA",
    "outputId": "6d940d5d-6722-4a48-afc6-6caa03046704",
    "trusted": true
   },
   "outputs": [
    {
     "name": "stdout",
     "output_type": "stream",
     "text": [
      "Оценка до обучения:\n"
     ]
    },
    {
     "name": "stderr",
     "output_type": "stream",
     "text": [
      "/home/rmx2n/hw_4/.venv/lib/python3.12/site-packages/transformers/tokenization_utils_base.py:2718: UserWarning: `max_length` is ignored when `padding`=`True` and there is no truncation strategy. To pad to max length, use `padding='max_length'`.\n",
      "  warnings.warn(\n"
     ]
    },
    {
     "data": {
      "text/html": [
       "\n",
       "    <div>\n",
       "      \n",
       "      <progress value='26' max='13' style='width:300px; height:20px; vertical-align: middle;'></progress>\n",
       "      [13/13 00:08]\n",
       "    </div>\n",
       "    "
      ],
      "text/plain": [
       "<IPython.core.display.HTML object>"
      ]
     },
     "metadata": {},
     "output_type": "display_data"
    },
    {
     "data": {
      "text/plain": [
       "{'eval_loss': 1.7781246900558472,\n",
       " 'eval_model_preparation_time': 0.0016,\n",
       " 'eval_precision': 0.03732342007434944,\n",
       " 'eval_recall': 0.15677701436602123,\n",
       " 'eval_f1': 0.060293057890944024,\n",
       " 'eval_accuracy': 0.19735509285312325,\n",
       " 'eval_runtime': 7.0795,\n",
       " 'eval_samples_per_second': 28.25,\n",
       " 'eval_steps_per_second': 1.836}"
      ]
     },
     "execution_count": 26,
     "metadata": {},
     "output_type": "execute_result"
    }
   ],
   "source": [
    "print(\"Оценка до обучения:\")\n",
    "trainer.evaluate()"
   ]
  },
  {
   "cell_type": "code",
   "execution_count": 27,
   "metadata": {
    "colab": {
     "base_uri": "https://localhost:8080/",
     "height": 982
    },
    "execution": {
     "iopub.execute_input": "2025-04-16T12:48:05.909389Z",
     "iopub.status.busy": "2025-04-16T12:48:05.909170Z",
     "iopub.status.idle": "2025-04-16T12:48:31.820796Z",
     "shell.execute_reply": "2025-04-16T12:48:31.819924Z",
     "shell.execute_reply.started": "2025-04-16T12:48:05.909374Z"
    },
    "id": "Y4pneJHfrIyy",
    "outputId": "8b86dfc3-156d-4811-c153-fc92a04662f7",
    "trusted": true
   },
   "outputs": [
    {
     "data": {
      "text/html": [
       "\n",
       "    <div>\n",
       "      \n",
       "      <progress value='250' max='250' style='width:300px; height:20px; vertical-align: middle;'></progress>\n",
       "      [250/250 00:53, Epoch 10/10]\n",
       "    </div>\n",
       "    <table border=\"1\" class=\"dataframe\">\n",
       "  <thead>\n",
       " <tr style=\"text-align: left;\">\n",
       "      <th>Epoch</th>\n",
       "      <th>Training Loss</th>\n",
       "      <th>Validation Loss</th>\n",
       "      <th>Model Preparation Time</th>\n",
       "      <th>Precision</th>\n",
       "      <th>Recall</th>\n",
       "      <th>F1</th>\n",
       "      <th>Accuracy</th>\n",
       "    </tr>\n",
       "  </thead>\n",
       "  <tbody>\n",
       "    <tr>\n",
       "      <td>1</td>\n",
       "      <td>No log</td>\n",
       "      <td>0.666608</td>\n",
       "      <td>0.001600</td>\n",
       "      <td>0.000000</td>\n",
       "      <td>0.000000</td>\n",
       "      <td>0.000000</td>\n",
       "      <td>0.819809</td>\n",
       "    </tr>\n",
       "    <tr>\n",
       "      <td>2</td>\n",
       "      <td>No log</td>\n",
       "      <td>0.468438</td>\n",
       "      <td>0.001600</td>\n",
       "      <td>0.677976</td>\n",
       "      <td>0.355715</td>\n",
       "      <td>0.466612</td>\n",
       "      <td>0.861958</td>\n",
       "    </tr>\n",
       "    <tr>\n",
       "      <td>3</td>\n",
       "      <td>No log</td>\n",
       "      <td>0.384012</td>\n",
       "      <td>0.001600</td>\n",
       "      <td>0.589799</td>\n",
       "      <td>0.422548</td>\n",
       "      <td>0.492358</td>\n",
       "      <td>0.867923</td>\n",
       "    </tr>\n",
       "    <tr>\n",
       "      <td>4</td>\n",
       "      <td>No log</td>\n",
       "      <td>0.330818</td>\n",
       "      <td>0.001600</td>\n",
       "      <td>0.637452</td>\n",
       "      <td>0.515615</td>\n",
       "      <td>0.570097</td>\n",
       "      <td>0.882217</td>\n",
       "    </tr>\n",
       "    <tr>\n",
       "      <td>5</td>\n",
       "      <td>No log</td>\n",
       "      <td>0.291994</td>\n",
       "      <td>0.001600</td>\n",
       "      <td>0.684383</td>\n",
       "      <td>0.651468</td>\n",
       "      <td>0.667520</td>\n",
       "      <td>0.902307</td>\n",
       "    </tr>\n",
       "    <tr>\n",
       "      <td>6</td>\n",
       "      <td>No log</td>\n",
       "      <td>0.264383</td>\n",
       "      <td>0.001600</td>\n",
       "      <td>0.708589</td>\n",
       "      <td>0.721424</td>\n",
       "      <td>0.714949</td>\n",
       "      <td>0.911986</td>\n",
       "    </tr>\n",
       "    <tr>\n",
       "      <td>7</td>\n",
       "      <td>No log</td>\n",
       "      <td>0.244883</td>\n",
       "      <td>0.001600</td>\n",
       "      <td>0.726806</td>\n",
       "      <td>0.751093</td>\n",
       "      <td>0.738750</td>\n",
       "      <td>0.917895</td>\n",
       "    </tr>\n",
       "    <tr>\n",
       "      <td>8</td>\n",
       "      <td>No log</td>\n",
       "      <td>0.235008</td>\n",
       "      <td>0.001600</td>\n",
       "      <td>0.732978</td>\n",
       "      <td>0.773267</td>\n",
       "      <td>0.752584</td>\n",
       "      <td>0.921384</td>\n",
       "    </tr>\n",
       "    <tr>\n",
       "      <td>9</td>\n",
       "      <td>No log</td>\n",
       "      <td>0.228919</td>\n",
       "      <td>0.001600</td>\n",
       "      <td>0.731516</td>\n",
       "      <td>0.787945</td>\n",
       "      <td>0.758683</td>\n",
       "      <td>0.922566</td>\n",
       "    </tr>\n",
       "    <tr>\n",
       "      <td>10</td>\n",
       "      <td>No log</td>\n",
       "      <td>0.226126</td>\n",
       "      <td>0.001600</td>\n",
       "      <td>0.737288</td>\n",
       "      <td>0.787945</td>\n",
       "      <td>0.761775</td>\n",
       "      <td>0.923635</td>\n",
       "    </tr>\n",
       "  </tbody>\n",
       "</table><p>"
      ],
      "text/plain": [
       "<IPython.core.display.HTML object>"
      ]
     },
     "metadata": {},
     "output_type": "display_data"
    },
    {
     "name": "stderr",
     "output_type": "stream",
     "text": [
      "/home/rmx2n/hw_4/.venv/lib/python3.12/site-packages/seqeval/metrics/v1.py:57: UndefinedMetricWarning: Precision and F-score are ill-defined and being set to 0.0 in labels with no predicted samples. Use `zero_division` parameter to control this behavior.\n",
      "  _warn_prf(average, modifier, msg_start, len(result))\n",
      "/home/rmx2n/hw_4/.venv/lib/python3.12/site-packages/seqeval/metrics/v1.py:57: UndefinedMetricWarning: Precision and F-score are ill-defined and being set to 0.0 due to no predicted samples. Use `zero_division` parameter to control this behavior.\n",
      "  _warn_prf(average, modifier, msg_start, len(result))\n",
      "/home/rmx2n/hw_4/.venv/lib/python3.12/site-packages/transformers/tokenization_utils_base.py:2718: UserWarning: `max_length` is ignored when `padding`=`True` and there is no truncation strategy. To pad to max length, use `padding='max_length'`.\n",
      "  warnings.warn(\n",
      "/home/rmx2n/hw_4/.venv/lib/python3.12/site-packages/seqeval/metrics/v1.py:57: UndefinedMetricWarning: Precision and F-score are ill-defined and being set to 0.0 in labels with no predicted samples. Use `zero_division` parameter to control this behavior.\n",
      "  _warn_prf(average, modifier, msg_start, len(result))\n",
      "/home/rmx2n/hw_4/.venv/lib/python3.12/site-packages/transformers/tokenization_utils_base.py:2718: UserWarning: `max_length` is ignored when `padding`=`True` and there is no truncation strategy. To pad to max length, use `padding='max_length'`.\n",
      "  warnings.warn(\n",
      "/home/rmx2n/hw_4/.venv/lib/python3.12/site-packages/seqeval/metrics/v1.py:57: UndefinedMetricWarning: Precision and F-score are ill-defined and being set to 0.0 in labels with no predicted samples. Use `zero_division` parameter to control this behavior.\n",
      "  _warn_prf(average, modifier, msg_start, len(result))\n",
      "/home/rmx2n/hw_4/.venv/lib/python3.12/site-packages/transformers/tokenization_utils_base.py:2718: UserWarning: `max_length` is ignored when `padding`=`True` and there is no truncation strategy. To pad to max length, use `padding='max_length'`.\n",
      "  warnings.warn(\n",
      "/home/rmx2n/hw_4/.venv/lib/python3.12/site-packages/seqeval/metrics/v1.py:57: UndefinedMetricWarning: Precision and F-score are ill-defined and being set to 0.0 in labels with no predicted samples. Use `zero_division` parameter to control this behavior.\n",
      "  _warn_prf(average, modifier, msg_start, len(result))\n",
      "/home/rmx2n/hw_4/.venv/lib/python3.12/site-packages/transformers/tokenization_utils_base.py:2718: UserWarning: `max_length` is ignored when `padding`=`True` and there is no truncation strategy. To pad to max length, use `padding='max_length'`.\n",
      "  warnings.warn(\n",
      "/home/rmx2n/hw_4/.venv/lib/python3.12/site-packages/seqeval/metrics/v1.py:57: UndefinedMetricWarning: Precision and F-score are ill-defined and being set to 0.0 in labels with no predicted samples. Use `zero_division` parameter to control this behavior.\n",
      "  _warn_prf(average, modifier, msg_start, len(result))\n",
      "/home/rmx2n/hw_4/.venv/lib/python3.12/site-packages/transformers/tokenization_utils_base.py:2718: UserWarning: `max_length` is ignored when `padding`=`True` and there is no truncation strategy. To pad to max length, use `padding='max_length'`.\n",
      "  warnings.warn(\n",
      "/home/rmx2n/hw_4/.venv/lib/python3.12/site-packages/transformers/tokenization_utils_base.py:2718: UserWarning: `max_length` is ignored when `padding`=`True` and there is no truncation strategy. To pad to max length, use `padding='max_length'`.\n",
      "  warnings.warn(\n",
      "/home/rmx2n/hw_4/.venv/lib/python3.12/site-packages/transformers/tokenization_utils_base.py:2718: UserWarning: `max_length` is ignored when `padding`=`True` and there is no truncation strategy. To pad to max length, use `padding='max_length'`.\n",
      "  warnings.warn(\n",
      "/home/rmx2n/hw_4/.venv/lib/python3.12/site-packages/transformers/tokenization_utils_base.py:2718: UserWarning: `max_length` is ignored when `padding`=`True` and there is no truncation strategy. To pad to max length, use `padding='max_length'`.\n",
      "  warnings.warn(\n",
      "/home/rmx2n/hw_4/.venv/lib/python3.12/site-packages/transformers/tokenization_utils_base.py:2718: UserWarning: `max_length` is ignored when `padding`=`True` and there is no truncation strategy. To pad to max length, use `padding='max_length'`.\n",
      "  warnings.warn(\n"
     ]
    },
    {
     "data": {
      "text/plain": [
       "TrainOutput(global_step=250, training_loss=0.3942828369140625, metrics={'train_runtime': 59.4986, 'train_samples_per_second': 134.457, 'train_steps_per_second': 4.202, 'total_flos': 14156107776000.0, 'train_loss': 0.3942828369140625, 'epoch': 10.0})"
      ]
     },
     "execution_count": 27,
     "metadata": {},
     "output_type": "execute_result"
    }
   ],
   "source": [
    "trainer.train()"
   ]
  },
  {
   "cell_type": "code",
   "execution_count": 28,
   "metadata": {
    "colab": {
     "base_uri": "https://localhost:8080/",
     "height": 315
    },
    "execution": {
     "iopub.execute_input": "2025-04-16T12:48:31.821921Z",
     "iopub.status.busy": "2025-04-16T12:48:31.821669Z",
     "iopub.status.idle": "2025-04-16T12:48:32.208881Z",
     "shell.execute_reply": "2025-04-16T12:48:32.208278Z",
     "shell.execute_reply.started": "2025-04-16T12:48:31.821893Z"
    },
    "id": "WxdfO8sDv_wU",
    "outputId": "a9366580-884b-4607-88bc-fd5c4f218590",
    "trusted": true
   },
   "outputs": [
    {
     "name": "stdout",
     "output_type": "stream",
     "text": [
      "\n",
      "Оценка после обучения:\n"
     ]
    },
    {
     "name": "stderr",
     "output_type": "stream",
     "text": [
      "/home/rmx2n/hw_4/.venv/lib/python3.12/site-packages/transformers/tokenization_utils_base.py:2718: UserWarning: `max_length` is ignored when `padding`=`True` and there is no truncation strategy. To pad to max length, use `padding='max_length'`.\n",
      "  warnings.warn(\n"
     ]
    },
    {
     "data": {
      "text/html": [
       "\n",
       "    <div>\n",
       "      \n",
       "      <progress value='13' max='13' style='width:300px; height:20px; vertical-align: middle;'></progress>\n",
       "      [13/13 00:00]\n",
       "    </div>\n",
       "    "
      ],
      "text/plain": [
       "<IPython.core.display.HTML object>"
      ]
     },
     "metadata": {},
     "output_type": "display_data"
    },
    {
     "data": {
      "text/plain": [
       "{'eval_loss': 0.22612637281417847,\n",
       " 'eval_model_preparation_time': 0.0016,\n",
       " 'eval_precision': 0.7372881355932204,\n",
       " 'eval_recall': 0.787945034353529,\n",
       " 'eval_f1': 0.7617753623188406,\n",
       " 'eval_accuracy': 0.9236353404614519,\n",
       " 'eval_runtime': 0.283,\n",
       " 'eval_samples_per_second': 706.795,\n",
       " 'eval_steps_per_second': 45.942,\n",
       " 'epoch': 10.0}"
      ]
     },
     "execution_count": 28,
     "metadata": {},
     "output_type": "execute_result"
    }
   ],
   "source": [
    "print(\"\\nОценка после обучения:\")\n",
    "trainer.evaluate()"
   ]
  },
  {
   "cell_type": "code",
   "execution_count": 29,
   "metadata": {
    "colab": {
     "base_uri": "https://localhost:8080/"
    },
    "execution": {
     "iopub.execute_input": "2025-04-16T12:48:32.209795Z",
     "iopub.status.busy": "2025-04-16T12:48:32.209583Z",
     "iopub.status.idle": "2025-04-16T12:48:32.560759Z",
     "shell.execute_reply": "2025-04-16T12:48:32.559896Z",
     "shell.execute_reply.started": "2025-04-16T12:48:32.209769Z"
    },
    "id": "uoqmUyLN2geH",
    "outputId": "b2f525ed-2d8b-4ea8-995c-fc6710060031",
    "trusted": true
   },
   "outputs": [
    {
     "data": {
      "text/plain": [
       "('ner_model/tokenizer_config.json',\n",
       " 'ner_model/special_tokens_map.json',\n",
       " 'ner_model/vocab.txt',\n",
       " 'ner_model/added_tokens.json',\n",
       " 'ner_model/tokenizer.json')"
      ]
     },
     "execution_count": 29,
     "metadata": {},
     "output_type": "execute_result"
    }
   ],
   "source": [
    "model.save_pretrained(\"ner_model\")\n",
    "tokenizer.save_pretrained(\"ner_model\")"
   ]
  },
  {
   "cell_type": "markdown",
   "metadata": {
    "id": "hNlkXrHO4LRt"
   },
   "source": [
    "# Улучшение качества модели"
   ]
  },
  {
   "cell_type": "markdown",
   "metadata": {
    "id": "SSbh_BQB3Ur_"
   },
   "source": [
    "## Дообучение в MLM-режиме"
   ]
  },
  {
   "cell_type": "markdown",
   "metadata": {
    "id": "hAEDzV3J3XNU"
   },
   "source": [
    "### Подготовка данных для MLM"
   ]
  },
  {
   "cell_type": "code",
   "execution_count": 30,
   "metadata": {
    "execution": {
     "iopub.execute_input": "2025-04-16T12:48:32.562454Z",
     "iopub.status.busy": "2025-04-16T12:48:32.561651Z",
     "iopub.status.idle": "2025-04-16T12:48:32.740873Z",
     "shell.execute_reply": "2025-04-16T12:48:32.740235Z",
     "shell.execute_reply.started": "2025-04-16T12:48:32.562429Z"
    },
    "id": "AdRMw-Hv3WAg",
    "trusted": true
   },
   "outputs": [],
   "source": [
    "tokenizer = AutoTokenizer.from_pretrained(\"cointegrated/rubert-tiny2\")"
   ]
  },
  {
   "cell_type": "code",
   "execution_count": 31,
   "metadata": {
    "execution": {
     "iopub.execute_input": "2025-04-16T12:48:32.741819Z",
     "iopub.status.busy": "2025-04-16T12:48:32.741609Z",
     "iopub.status.idle": "2025-04-16T12:48:32.745613Z",
     "shell.execute_reply": "2025-04-16T12:48:32.745089Z",
     "shell.execute_reply.started": "2025-04-16T12:48:32.741803Z"
    },
    "id": "u6kMwAuv3beK",
    "trusted": true
   },
   "outputs": [],
   "source": [
    "def tokenize_mlm(examples):\n",
    "    return tokenizer(\n",
    "        examples[\"text\"],\n",
    "        truncation=True,\n",
    "        padding='max_length',\n",
    "        max_length=128,\n",
    "        return_special_tokens_mask=True\n",
    "    )"
   ]
  },
  {
   "cell_type": "code",
   "execution_count": 33,
   "metadata": {
    "execution": {
     "iopub.execute_input": "2025-04-16T12:48:32.746630Z",
     "iopub.status.busy": "2025-04-16T12:48:32.746373Z",
     "iopub.status.idle": "2025-04-16T12:48:32.763203Z",
     "shell.execute_reply": "2025-04-16T12:48:32.762485Z",
     "shell.execute_reply.started": "2025-04-16T12:48:32.746606Z"
    },
    "id": "qtTvKq9m3dg4",
    "trusted": true
   },
   "outputs": [],
   "source": [
    "# mlm_dataset = Dataset.from_dict({\n",
    "#     'tokens': [x['tokens'] for x in train_data],\n",
    "#     'ner_tags': [x['ner_tags'] for x in train_data]\n",
    "# })"
   ]
  },
  {
   "cell_type": "code",
   "execution_count": 34,
   "metadata": {
    "execution": {
     "iopub.execute_input": "2025-04-16T12:48:32.764332Z",
     "iopub.status.busy": "2025-04-16T12:48:32.764073Z",
     "iopub.status.idle": "2025-04-16T12:48:32.813230Z",
     "shell.execute_reply": "2025-04-16T12:48:32.812662Z",
     "shell.execute_reply.started": "2025-04-16T12:48:32.764310Z"
    },
    "id": "t4H8IX9XI28P",
    "trusted": true
   },
   "outputs": [],
   "source": [
    "mlm_dataset = Dataset.from_dict({\n",
    "    'text': [\" \".join(x['tokens']) for x in train_data] \n",
    "})"
   ]
  },
  {
   "cell_type": "code",
   "execution_count": 35,
   "metadata": {
    "colab": {
     "base_uri": "https://localhost:8080/",
     "height": 49,
     "referenced_widgets": [
      "383be20319aa4d009372b303b965aa2f",
      "7f819f48144f49cc821fe11af1aee7d5",
      "da7fff87de754ad5a61a0372e2330baf",
      "a0f22a5850654e629d3f0378f4e06ff7",
      "f18d588895454e09841d6b4c4b75c1c3",
      "3ced318d5048473f921d14015a53cb82",
      "170cd54e701c4636bd0294904cfb4771",
      "8a66f58a1cd64ac4a98331b3a50c9a1e",
      "892ce69c50a84be4aa5a17816840816e",
      "53ef8d7dcd6e45aa8dcbed9afb558512",
      "8215ee4c7ce94d7bbdb747b078827557"
     ]
    },
    "execution": {
     "iopub.execute_input": "2025-04-16T12:48:32.814168Z",
     "iopub.status.busy": "2025-04-16T12:48:32.813900Z",
     "iopub.status.idle": "2025-04-16T12:48:33.320050Z",
     "shell.execute_reply": "2025-04-16T12:48:33.319153Z",
     "shell.execute_reply.started": "2025-04-16T12:48:32.814143Z"
    },
    "id": "vT83VZUu5QbE",
    "outputId": "364dcde0-82ff-4e39-eb8f-8f78b2bd8764",
    "trusted": true
   },
   "outputs": [
    {
     "name": "stderr",
     "output_type": "stream",
     "text": [
      "Map: 100%|██████████| 800/800 [00:00<00:00, 4351.63 examples/s]\n"
     ]
    }
   ],
   "source": [
    "tokenized_mlm = mlm_dataset.map(\n",
    "    tokenize_mlm,\n",
    "    batched=True,\n",
    "    remove_columns=['text']\n",
    ")"
   ]
  },
  {
   "cell_type": "code",
   "execution_count": 36,
   "metadata": {
    "execution": {
     "iopub.execute_input": "2025-04-16T12:48:33.321426Z",
     "iopub.status.busy": "2025-04-16T12:48:33.321101Z",
     "iopub.status.idle": "2025-04-16T12:48:33.325574Z",
     "shell.execute_reply": "2025-04-16T12:48:33.324885Z",
     "shell.execute_reply.started": "2025-04-16T12:48:33.321391Z"
    },
    "id": "k-u25h003fOH",
    "trusted": true
   },
   "outputs": [],
   "source": [
    "data_collator = DataCollatorForLanguageModeling(\n",
    "    tokenizer=tokenizer,\n",
    "    mlm_probability=0.15\n",
    ")"
   ]
  },
  {
   "cell_type": "markdown",
   "metadata": {
    "id": "JqtwzmFi3hIr"
   },
   "source": [
    "### MLM-дообучение"
   ]
  },
  {
   "cell_type": "code",
   "execution_count": 37,
   "metadata": {
    "execution": {
     "iopub.execute_input": "2025-04-16T12:48:33.326502Z",
     "iopub.status.busy": "2025-04-16T12:48:33.326303Z",
     "iopub.status.idle": "2025-04-16T12:48:33.456625Z",
     "shell.execute_reply": "2025-04-16T12:48:33.452903Z",
     "shell.execute_reply.started": "2025-04-16T12:48:33.326487Z"
    },
    "id": "WqzbA4QI3hwt",
    "trusted": true
   },
   "outputs": [],
   "source": [
    "mlm_model = AutoModelForMaskedLM.from_pretrained(\"cointegrated/rubert-tiny2\")"
   ]
  },
  {
   "cell_type": "code",
   "execution_count": 38,
   "metadata": {
    "execution": {
     "iopub.execute_input": "2025-04-16T12:48:33.457489Z",
     "iopub.status.busy": "2025-04-16T12:48:33.457232Z",
     "iopub.status.idle": "2025-04-16T12:48:33.467970Z",
     "shell.execute_reply": "2025-04-16T12:48:33.467293Z",
     "shell.execute_reply.started": "2025-04-16T12:48:33.457467Z"
    },
    "id": "7etQYxOOGY2t",
    "trusted": true
   },
   "outputs": [],
   "source": [
    "mlm_dataset = tokenized_mlm.train_test_split(test_size=0.1, seed=42)"
   ]
  },
  {
   "cell_type": "code",
   "execution_count": 39,
   "metadata": {
    "execution": {
     "iopub.execute_input": "2025-04-16T12:48:33.469017Z",
     "iopub.status.busy": "2025-04-16T12:48:33.468760Z",
     "iopub.status.idle": "2025-04-16T12:48:33.513662Z",
     "shell.execute_reply": "2025-04-16T12:48:33.513040Z",
     "shell.execute_reply.started": "2025-04-16T12:48:33.468979Z"
    },
    "id": "d9kxjbVP3i-n",
    "trusted": true
   },
   "outputs": [],
   "source": [
    "mlm_args = TrainingArguments(\n",
    "    output_dir=\"mlm_model\",\n",
    "    num_train_epochs=4,\n",
    "    per_device_train_batch_size=16,\n",
    "    learning_rate=5e-5,\n",
    "    warmup_ratio=0.1,\n",
    "    eval_strategy=\"epoch\",\n",
    "    save_strategy=\"epoch\",\n",
    "    seed=42,\n",
    "    report_to=\"none\",\n",
    "    fp16=True,\n",
    "    remove_unused_columns=False\n",
    ")"
   ]
  },
  {
   "cell_type": "code",
   "execution_count": 40,
   "metadata": {
    "execution": {
     "iopub.execute_input": "2025-04-16T12:48:33.514724Z",
     "iopub.status.busy": "2025-04-16T12:48:33.514466Z",
     "iopub.status.idle": "2025-04-16T12:48:33.584148Z",
     "shell.execute_reply": "2025-04-16T12:48:33.583403Z",
     "shell.execute_reply.started": "2025-04-16T12:48:33.514703Z"
    },
    "id": "qMSizj8o3lHx",
    "trusted": true
   },
   "outputs": [],
   "source": [
    "mlm_trainer = Trainer(\n",
    "    model=mlm_model,\n",
    "    args=mlm_args,\n",
    "    train_dataset=mlm_dataset[\"train\"],\n",
    "    eval_dataset=mlm_dataset[\"test\"],\n",
    "    data_collator=data_collator\n",
    ")"
   ]
  },
  {
   "cell_type": "code",
   "execution_count": 41,
   "metadata": {
    "colab": {
     "base_uri": "https://localhost:8080/",
     "height": 148
    },
    "execution": {
     "iopub.execute_input": "2025-04-16T12:48:33.585203Z",
     "iopub.status.busy": "2025-04-16T12:48:33.584920Z",
     "iopub.status.idle": "2025-04-16T12:48:34.065116Z",
     "shell.execute_reply": "2025-04-16T12:48:34.064300Z",
     "shell.execute_reply.started": "2025-04-16T12:48:33.585182Z"
    },
    "id": "AvgHi9NzBM8O",
    "outputId": "f4eb8927-4974-4b63-cc98-7f49cc7ea397",
    "trusted": true
   },
   "outputs": [
    {
     "name": "stdout",
     "output_type": "stream",
     "text": [
      "Оценка до обучения:\n"
     ]
    },
    {
     "data": {
      "text/html": [
       "\n",
       "    <div>\n",
       "      \n",
       "      <progress value='20' max='10' style='width:300px; height:20px; vertical-align: middle;'></progress>\n",
       "      [10/10 00:06]\n",
       "    </div>\n",
       "    "
      ],
      "text/plain": [
       "<IPython.core.display.HTML object>"
      ]
     },
     "metadata": {},
     "output_type": "display_data"
    },
    {
     "data": {
      "text/plain": [
       "{'eval_loss': 3.041212797164917,\n",
       " 'eval_model_preparation_time': 0.0011,\n",
       " 'eval_runtime': 0.4508,\n",
       " 'eval_samples_per_second': 177.482,\n",
       " 'eval_steps_per_second': 22.185}"
      ]
     },
     "execution_count": 41,
     "metadata": {},
     "output_type": "execute_result"
    }
   ],
   "source": [
    "print(\"Оценка до обучения:\")\n",
    "mlm_trainer.evaluate()"
   ]
  },
  {
   "cell_type": "code",
   "execution_count": 42,
   "metadata": {
    "colab": {
     "base_uri": "https://localhost:8080/",
     "height": 258
    },
    "execution": {
     "iopub.execute_input": "2025-04-16T12:48:34.066288Z",
     "iopub.status.busy": "2025-04-16T12:48:34.066022Z",
     "iopub.status.idle": "2025-04-16T12:49:00.773411Z",
     "shell.execute_reply": "2025-04-16T12:49:00.772704Z",
     "shell.execute_reply.started": "2025-04-16T12:48:34.066268Z"
    },
    "id": "AW53AjNJBM8P",
    "outputId": "8aa0edc3-1f51-4ed6-b187-36dc7ddbd864",
    "trusted": true
   },
   "outputs": [
    {
     "data": {
      "text/html": [
       "\n",
       "    <div>\n",
       "      \n",
       "      <progress value='180' max='180' style='width:300px; height:20px; vertical-align: middle;'></progress>\n",
       "      [180/180 00:19, Epoch 4/4]\n",
       "    </div>\n",
       "    <table border=\"1\" class=\"dataframe\">\n",
       "  <thead>\n",
       " <tr style=\"text-align: left;\">\n",
       "      <th>Epoch</th>\n",
       "      <th>Training Loss</th>\n",
       "      <th>Validation Loss</th>\n",
       "      <th>Model Preparation Time</th>\n",
       "    </tr>\n",
       "  </thead>\n",
       "  <tbody>\n",
       "    <tr>\n",
       "      <td>1</td>\n",
       "      <td>No log</td>\n",
       "      <td>2.931897</td>\n",
       "      <td>0.001100</td>\n",
       "    </tr>\n",
       "    <tr>\n",
       "      <td>2</td>\n",
       "      <td>No log</td>\n",
       "      <td>2.876945</td>\n",
       "      <td>0.001100</td>\n",
       "    </tr>\n",
       "    <tr>\n",
       "      <td>3</td>\n",
       "      <td>No log</td>\n",
       "      <td>2.877490</td>\n",
       "      <td>0.001100</td>\n",
       "    </tr>\n",
       "    <tr>\n",
       "      <td>4</td>\n",
       "      <td>No log</td>\n",
       "      <td>2.851192</td>\n",
       "      <td>0.001100</td>\n",
       "    </tr>\n",
       "  </tbody>\n",
       "</table><p>"
      ],
      "text/plain": [
       "<IPython.core.display.HTML object>"
      ]
     },
     "metadata": {},
     "output_type": "display_data"
    },
    {
     "data": {
      "text/plain": [
       "TrainOutput(global_step=180, training_loss=3.148079766167535, metrics={'train_runtime': 19.3939, 'train_samples_per_second': 148.5, 'train_steps_per_second': 9.281, 'total_flos': 5494838722560.0, 'train_loss': 3.148079766167535, 'epoch': 4.0})"
      ]
     },
     "execution_count": 42,
     "metadata": {},
     "output_type": "execute_result"
    }
   ],
   "source": [
    "mlm_trainer.train()"
   ]
  },
  {
   "cell_type": "code",
   "execution_count": 43,
   "metadata": {
    "colab": {
     "base_uri": "https://localhost:8080/",
     "height": 185
    },
    "execution": {
     "iopub.execute_input": "2025-04-16T12:49:00.774465Z",
     "iopub.status.busy": "2025-04-16T12:49:00.774235Z",
     "iopub.status.idle": "2025-04-16T12:49:01.184732Z",
     "shell.execute_reply": "2025-04-16T12:49:01.184129Z",
     "shell.execute_reply.started": "2025-04-16T12:49:00.774447Z"
    },
    "id": "oPXNRxJ_BM8P",
    "outputId": "aa33cc62-2f82-4b3b-cd05-55120b23b90c",
    "trusted": true
   },
   "outputs": [
    {
     "name": "stdout",
     "output_type": "stream",
     "text": [
      "\n",
      "Оценка после обучения:\n"
     ]
    },
    {
     "data": {
      "text/html": [
       "\n",
       "    <div>\n",
       "      \n",
       "      <progress value='10' max='10' style='width:300px; height:20px; vertical-align: middle;'></progress>\n",
       "      [10/10 00:00]\n",
       "    </div>\n",
       "    "
      ],
      "text/plain": [
       "<IPython.core.display.HTML object>"
      ]
     },
     "metadata": {},
     "output_type": "display_data"
    },
    {
     "data": {
      "text/plain": [
       "{'eval_loss': 2.9015727043151855,\n",
       " 'eval_model_preparation_time': 0.0011,\n",
       " 'eval_runtime': 0.2602,\n",
       " 'eval_samples_per_second': 307.447,\n",
       " 'eval_steps_per_second': 38.431,\n",
       " 'epoch': 4.0}"
      ]
     },
     "execution_count": 43,
     "metadata": {},
     "output_type": "execute_result"
    }
   ],
   "source": [
    "print(\"\\nОценка после обучения:\")\n",
    "mlm_trainer.evaluate()"
   ]
  },
  {
   "cell_type": "code",
   "execution_count": 44,
   "metadata": {
    "execution": {
     "iopub.execute_input": "2025-04-16T12:49:01.185683Z",
     "iopub.status.busy": "2025-04-16T12:49:01.185467Z",
     "iopub.status.idle": "2025-04-16T12:49:02.839831Z",
     "shell.execute_reply": "2025-04-16T12:49:02.839068Z",
     "shell.execute_reply.started": "2025-04-16T12:49:01.185667Z"
    },
    "id": "lru3wwm7BM8Q",
    "trusted": true
   },
   "outputs": [],
   "source": [
    "mlm_model.save_pretrained(\"mlm_rubert_tiny2\")"
   ]
  },
  {
   "cell_type": "markdown",
   "metadata": {
    "id": "X0sh18y03njF"
   },
   "source": [
    "### Дообучение на NER с MLM-инициализации"
   ]
  },
  {
   "cell_type": "code",
   "execution_count": 45,
   "metadata": {
    "colab": {
     "base_uri": "https://localhost:8080/"
    },
    "execution": {
     "iopub.execute_input": "2025-04-16T12:49:02.841238Z",
     "iopub.status.busy": "2025-04-16T12:49:02.840705Z",
     "iopub.status.idle": "2025-04-16T12:49:02.868520Z",
     "shell.execute_reply": "2025-04-16T12:49:02.867960Z",
     "shell.execute_reply.started": "2025-04-16T12:49:02.841213Z"
    },
    "id": "v2vK3a5C3o-0",
    "outputId": "fac0a02b-3a13-45f6-b4a7-9a8bded89cfc",
    "trusted": true
   },
   "outputs": [
    {
     "name": "stderr",
     "output_type": "stream",
     "text": [
      "Some weights of BertForTokenClassification were not initialized from the model checkpoint at mlm_rubert_tiny2 and are newly initialized: ['classifier.bias', 'classifier.weight']\n",
      "You should probably TRAIN this model on a down-stream task to be able to use it for predictions and inference.\n"
     ]
    }
   ],
   "source": [
    "model_ner_mlm = AutoModelForTokenClassification.from_pretrained(\n",
    "    \"mlm_rubert_tiny2\",\n",
    "    num_labels=len(tags),\n",
    "    id2label=id2label,\n",
    "    label2id=label2id\n",
    ")"
   ]
  },
  {
   "cell_type": "code",
   "execution_count": 46,
   "metadata": {
    "execution": {
     "iopub.execute_input": "2025-04-16T12:49:02.869326Z",
     "iopub.status.busy": "2025-04-16T12:49:02.869110Z",
     "iopub.status.idle": "2025-04-16T12:49:02.872737Z",
     "shell.execute_reply": "2025-04-16T12:49:02.871959Z",
     "shell.execute_reply.started": "2025-04-16T12:49:02.869310Z"
    },
    "id": "YTHoVCf6FGkc",
    "trusted": true
   },
   "outputs": [],
   "source": [
    "ner_data_collator = DataCollatorForTokenClassification(\n",
    "    tokenizer=tokenizer,\n",
    "    padding=True,\n",
    "    max_length=128,\n",
    "    label_pad_token_id=-100\n",
    ")"
   ]
  },
  {
   "cell_type": "code",
   "execution_count": 47,
   "metadata": {
    "execution": {
     "iopub.execute_input": "2025-04-16T12:49:02.873699Z",
     "iopub.status.busy": "2025-04-16T12:49:02.873516Z",
     "iopub.status.idle": "2025-04-16T12:49:02.936166Z",
     "shell.execute_reply": "2025-04-16T12:49:02.935450Z",
     "shell.execute_reply.started": "2025-04-16T12:49:02.873686Z"
    },
    "id": "h5-x32wA3qu1",
    "trusted": true
   },
   "outputs": [],
   "source": [
    "trainer_ner_mlm = Trainer(\n",
    "    model=model_ner_mlm,\n",
    "    args=training_args,\n",
    "    train_dataset=tokenized_train,\n",
    "    eval_dataset=tokenized_test,\n",
    "    data_collator=ner_data_collator,\n",
    "    compute_metrics=compute_metrics\n",
    ")"
   ]
  },
  {
   "cell_type": "code",
   "execution_count": 48,
   "metadata": {
    "colab": {
     "base_uri": "https://localhost:8080/",
     "height": 278
    },
    "execution": {
     "iopub.execute_input": "2025-04-16T12:49:02.937184Z",
     "iopub.status.busy": "2025-04-16T12:49:02.936925Z",
     "iopub.status.idle": "2025-04-16T12:49:03.393806Z",
     "shell.execute_reply": "2025-04-16T12:49:03.393046Z",
     "shell.execute_reply.started": "2025-04-16T12:49:02.937165Z"
    },
    "id": "0UfycqPpCGTx",
    "outputId": "c83a07f8-bdd2-4446-8ae4-6223bc8aec62",
    "trusted": true
   },
   "outputs": [
    {
     "name": "stdout",
     "output_type": "stream",
     "text": [
      "Оценка до обучения:\n"
     ]
    },
    {
     "name": "stderr",
     "output_type": "stream",
     "text": [
      "/home/rmx2n/hw_4/.venv/lib/python3.12/site-packages/transformers/tokenization_utils_base.py:2718: UserWarning: `max_length` is ignored when `padding`=`True` and there is no truncation strategy. To pad to max length, use `padding='max_length'`.\n",
      "  warnings.warn(\n"
     ]
    },
    {
     "data": {
      "text/html": [
       "\n",
       "    <div>\n",
       "      \n",
       "      <progress value='26' max='13' style='width:300px; height:20px; vertical-align: middle;'></progress>\n",
       "      [13/13 00:04]\n",
       "    </div>\n",
       "    "
      ],
      "text/plain": [
       "<IPython.core.display.HTML object>"
      ]
     },
     "metadata": {},
     "output_type": "display_data"
    },
    {
     "data": {
      "text/plain": [
       "{'eval_loss': 1.985571026802063,\n",
       " 'eval_model_preparation_time': 0.0008,\n",
       " 'eval_precision': 0.02839910996603818,\n",
       " 'eval_recall': 0.1514678326046221,\n",
       " 'eval_f1': 0.047830374753451685,\n",
       " 'eval_accuracy': 0.06117051209904333,\n",
       " 'eval_runtime': 0.6777,\n",
       " 'eval_samples_per_second': 295.117,\n",
       " 'eval_steps_per_second': 19.183}"
      ]
     },
     "execution_count": 48,
     "metadata": {},
     "output_type": "execute_result"
    }
   ],
   "source": [
    "print(\"Оценка до обучения:\")\n",
    "trainer_ner_mlm.evaluate()"
   ]
  },
  {
   "cell_type": "code",
   "execution_count": 49,
   "metadata": {
    "colab": {
     "base_uri": "https://localhost:8080/",
     "height": 1000
    },
    "execution": {
     "iopub.execute_input": "2025-04-16T12:49:03.394779Z",
     "iopub.status.busy": "2025-04-16T12:49:03.394600Z",
     "iopub.status.idle": "2025-04-16T12:49:31.798778Z",
     "shell.execute_reply": "2025-04-16T12:49:31.797950Z",
     "shell.execute_reply.started": "2025-04-16T12:49:03.394765Z"
    },
    "id": "Frz5TuPq3sY1",
    "outputId": "a13efbe5-4b20-4d87-d8b8-6a612ab62f39",
    "trusted": true
   },
   "outputs": [
    {
     "data": {
      "text/html": [
       "\n",
       "    <div>\n",
       "      \n",
       "      <progress value='250' max='250' style='width:300px; height:20px; vertical-align: middle;'></progress>\n",
       "      [250/250 00:26, Epoch 10/10]\n",
       "    </div>\n",
       "    <table border=\"1\" class=\"dataframe\">\n",
       "  <thead>\n",
       " <tr style=\"text-align: left;\">\n",
       "      <th>Epoch</th>\n",
       "      <th>Training Loss</th>\n",
       "      <th>Validation Loss</th>\n",
       "      <th>Model Preparation Time</th>\n",
       "      <th>Precision</th>\n",
       "      <th>Recall</th>\n",
       "      <th>F1</th>\n",
       "      <th>Accuracy</th>\n",
       "    </tr>\n",
       "  </thead>\n",
       "  <tbody>\n",
       "    <tr>\n",
       "      <td>1</td>\n",
       "      <td>No log</td>\n",
       "      <td>0.703858</td>\n",
       "      <td>0.000800</td>\n",
       "      <td>0.000000</td>\n",
       "      <td>0.000000</td>\n",
       "      <td>0.000000</td>\n",
       "      <td>0.819809</td>\n",
       "    </tr>\n",
       "    <tr>\n",
       "      <td>2</td>\n",
       "      <td>No log</td>\n",
       "      <td>0.492690</td>\n",
       "      <td>0.000800</td>\n",
       "      <td>0.708647</td>\n",
       "      <td>0.235478</td>\n",
       "      <td>0.353493</td>\n",
       "      <td>0.847552</td>\n",
       "    </tr>\n",
       "    <tr>\n",
       "      <td>3</td>\n",
       "      <td>No log</td>\n",
       "      <td>0.374012</td>\n",
       "      <td>0.000800</td>\n",
       "      <td>0.694764</td>\n",
       "      <td>0.414428</td>\n",
       "      <td>0.519171</td>\n",
       "      <td>0.870850</td>\n",
       "    </tr>\n",
       "    <tr>\n",
       "      <td>4</td>\n",
       "      <td>No log</td>\n",
       "      <td>0.310748</td>\n",
       "      <td>0.000800</td>\n",
       "      <td>0.686461</td>\n",
       "      <td>0.541537</td>\n",
       "      <td>0.605447</td>\n",
       "      <td>0.889195</td>\n",
       "    </tr>\n",
       "    <tr>\n",
       "      <td>5</td>\n",
       "      <td>No log</td>\n",
       "      <td>0.269025</td>\n",
       "      <td>0.000800</td>\n",
       "      <td>0.722167</td>\n",
       "      <td>0.678638</td>\n",
       "      <td>0.699726</td>\n",
       "      <td>0.911480</td>\n",
       "    </tr>\n",
       "    <tr>\n",
       "      <td>6</td>\n",
       "      <td>No log</td>\n",
       "      <td>0.238387</td>\n",
       "      <td>0.000800</td>\n",
       "      <td>0.752681</td>\n",
       "      <td>0.745159</td>\n",
       "      <td>0.748901</td>\n",
       "      <td>0.925492</td>\n",
       "    </tr>\n",
       "    <tr>\n",
       "      <td>7</td>\n",
       "      <td>No log</td>\n",
       "      <td>0.215889</td>\n",
       "      <td>0.000800</td>\n",
       "      <td>0.784450</td>\n",
       "      <td>0.775141</td>\n",
       "      <td>0.779768</td>\n",
       "      <td>0.935509</td>\n",
       "    </tr>\n",
       "    <tr>\n",
       "      <td>8</td>\n",
       "      <td>No log</td>\n",
       "      <td>0.201953</td>\n",
       "      <td>0.000800</td>\n",
       "      <td>0.799123</td>\n",
       "      <td>0.796377</td>\n",
       "      <td>0.797748</td>\n",
       "      <td>0.940968</td>\n",
       "    </tr>\n",
       "    <tr>\n",
       "      <td>9</td>\n",
       "      <td>No log</td>\n",
       "      <td>0.193629</td>\n",
       "      <td>0.000800</td>\n",
       "      <td>0.814826</td>\n",
       "      <td>0.806683</td>\n",
       "      <td>0.810734</td>\n",
       "      <td>0.945076</td>\n",
       "    </tr>\n",
       "    <tr>\n",
       "      <td>10</td>\n",
       "      <td>No log</td>\n",
       "      <td>0.191010</td>\n",
       "      <td>0.000800</td>\n",
       "      <td>0.817350</td>\n",
       "      <td>0.809182</td>\n",
       "      <td>0.813245</td>\n",
       "      <td>0.945751</td>\n",
       "    </tr>\n",
       "  </tbody>\n",
       "</table><p>"
      ],
      "text/plain": [
       "<IPython.core.display.HTML object>"
      ]
     },
     "metadata": {},
     "output_type": "display_data"
    },
    {
     "name": "stderr",
     "output_type": "stream",
     "text": [
      "/home/rmx2n/hw_4/.venv/lib/python3.12/site-packages/seqeval/metrics/v1.py:57: UndefinedMetricWarning: Precision and F-score are ill-defined and being set to 0.0 in labels with no predicted samples. Use `zero_division` parameter to control this behavior.\n",
      "  _warn_prf(average, modifier, msg_start, len(result))\n",
      "/home/rmx2n/hw_4/.venv/lib/python3.12/site-packages/seqeval/metrics/v1.py:57: UndefinedMetricWarning: Precision and F-score are ill-defined and being set to 0.0 due to no predicted samples. Use `zero_division` parameter to control this behavior.\n",
      "  _warn_prf(average, modifier, msg_start, len(result))\n",
      "/home/rmx2n/hw_4/.venv/lib/python3.12/site-packages/transformers/tokenization_utils_base.py:2718: UserWarning: `max_length` is ignored when `padding`=`True` and there is no truncation strategy. To pad to max length, use `padding='max_length'`.\n",
      "  warnings.warn(\n",
      "/home/rmx2n/hw_4/.venv/lib/python3.12/site-packages/seqeval/metrics/v1.py:57: UndefinedMetricWarning: Precision and F-score are ill-defined and being set to 0.0 in labels with no predicted samples. Use `zero_division` parameter to control this behavior.\n",
      "  _warn_prf(average, modifier, msg_start, len(result))\n",
      "/home/rmx2n/hw_4/.venv/lib/python3.12/site-packages/transformers/tokenization_utils_base.py:2718: UserWarning: `max_length` is ignored when `padding`=`True` and there is no truncation strategy. To pad to max length, use `padding='max_length'`.\n",
      "  warnings.warn(\n",
      "/home/rmx2n/hw_4/.venv/lib/python3.12/site-packages/seqeval/metrics/v1.py:57: UndefinedMetricWarning: Precision and F-score are ill-defined and being set to 0.0 in labels with no predicted samples. Use `zero_division` parameter to control this behavior.\n",
      "  _warn_prf(average, modifier, msg_start, len(result))\n",
      "/home/rmx2n/hw_4/.venv/lib/python3.12/site-packages/transformers/tokenization_utils_base.py:2718: UserWarning: `max_length` is ignored when `padding`=`True` and there is no truncation strategy. To pad to max length, use `padding='max_length'`.\n",
      "  warnings.warn(\n",
      "/home/rmx2n/hw_4/.venv/lib/python3.12/site-packages/transformers/tokenization_utils_base.py:2718: UserWarning: `max_length` is ignored when `padding`=`True` and there is no truncation strategy. To pad to max length, use `padding='max_length'`.\n",
      "  warnings.warn(\n",
      "/home/rmx2n/hw_4/.venv/lib/python3.12/site-packages/transformers/tokenization_utils_base.py:2718: UserWarning: `max_length` is ignored when `padding`=`True` and there is no truncation strategy. To pad to max length, use `padding='max_length'`.\n",
      "  warnings.warn(\n",
      "/home/rmx2n/hw_4/.venv/lib/python3.12/site-packages/transformers/tokenization_utils_base.py:2718: UserWarning: `max_length` is ignored when `padding`=`True` and there is no truncation strategy. To pad to max length, use `padding='max_length'`.\n",
      "  warnings.warn(\n",
      "/home/rmx2n/hw_4/.venv/lib/python3.12/site-packages/transformers/tokenization_utils_base.py:2718: UserWarning: `max_length` is ignored when `padding`=`True` and there is no truncation strategy. To pad to max length, use `padding='max_length'`.\n",
      "  warnings.warn(\n",
      "/home/rmx2n/hw_4/.venv/lib/python3.12/site-packages/transformers/tokenization_utils_base.py:2718: UserWarning: `max_length` is ignored when `padding`=`True` and there is no truncation strategy. To pad to max length, use `padding='max_length'`.\n",
      "  warnings.warn(\n",
      "/home/rmx2n/hw_4/.venv/lib/python3.12/site-packages/transformers/tokenization_utils_base.py:2718: UserWarning: `max_length` is ignored when `padding`=`True` and there is no truncation strategy. To pad to max length, use `padding='max_length'`.\n",
      "  warnings.warn(\n"
     ]
    },
    {
     "data": {
      "text/plain": [
       "TrainOutput(global_step=250, training_loss=0.40011834716796874, metrics={'train_runtime': 27.0902, 'train_samples_per_second': 295.309, 'train_steps_per_second': 9.228, 'total_flos': 14156107776000.0, 'train_loss': 0.40011834716796874, 'epoch': 10.0})"
      ]
     },
     "execution_count": 49,
     "metadata": {},
     "output_type": "execute_result"
    }
   ],
   "source": [
    "trainer_ner_mlm.train()"
   ]
  },
  {
   "cell_type": "code",
   "execution_count": 50,
   "metadata": {
    "colab": {
     "base_uri": "https://localhost:8080/",
     "height": 315
    },
    "execution": {
     "iopub.execute_input": "2025-04-16T12:49:31.800180Z",
     "iopub.status.busy": "2025-04-16T12:49:31.799669Z",
     "iopub.status.idle": "2025-04-16T12:49:32.202636Z",
     "shell.execute_reply": "2025-04-16T12:49:32.201944Z",
     "shell.execute_reply.started": "2025-04-16T12:49:31.800154Z"
    },
    "id": "B7KHiOBdCGTy",
    "outputId": "9098223d-6d7c-4b68-f1ee-4fdaa4af1d77",
    "trusted": true
   },
   "outputs": [
    {
     "name": "stdout",
     "output_type": "stream",
     "text": [
      "\n",
      "Оценка после обучения:\n"
     ]
    },
    {
     "name": "stderr",
     "output_type": "stream",
     "text": [
      "/home/rmx2n/hw_4/.venv/lib/python3.12/site-packages/transformers/tokenization_utils_base.py:2718: UserWarning: `max_length` is ignored when `padding`=`True` and there is no truncation strategy. To pad to max length, use `padding='max_length'`.\n",
      "  warnings.warn(\n"
     ]
    },
    {
     "data": {
      "text/html": [
       "\n",
       "    <div>\n",
       "      \n",
       "      <progress value='13' max='13' style='width:300px; height:20px; vertical-align: middle;'></progress>\n",
       "      [13/13 00:00]\n",
       "    </div>\n",
       "    "
      ],
      "text/plain": [
       "<IPython.core.display.HTML object>"
      ]
     },
     "metadata": {},
     "output_type": "display_data"
    },
    {
     "data": {
      "text/plain": [
       "{'eval_loss': 0.1910102516412735,\n",
       " 'eval_model_preparation_time': 0.0008,\n",
       " 'eval_precision': 0.8173501577287067,\n",
       " 'eval_recall': 0.8091817613991256,\n",
       " 'eval_f1': 0.8132454488386692,\n",
       " 'eval_accuracy': 0.9457512661789533,\n",
       " 'eval_runtime': 0.2537,\n",
       " 'eval_samples_per_second': 788.384,\n",
       " 'eval_steps_per_second': 51.245,\n",
       " 'epoch': 10.0}"
      ]
     },
     "execution_count": 50,
     "metadata": {},
     "output_type": "execute_result"
    }
   ],
   "source": [
    "print(\"\\nОценка после обучения:\")\n",
    "trainer_ner_mlm.evaluate()"
   ]
  },
  {
   "cell_type": "code",
   "execution_count": 51,
   "metadata": {
    "colab": {
     "base_uri": "https://localhost:8080/",
     "height": 49,
     "referenced_widgets": [
      "1f6d966c28914390a0f495c43c4f36ed",
      "4716770b346c418ab1e501c60525530c",
      "80b92fca7ba44737bcf39dba856e53a0",
      "e542ffa8247e4433b9760f5c2764d8ac",
      "7dea3f18798a4805848874c1712aeff0",
      "7ef07703d60743f3be8d5d85be02568b",
      "40cecc4899ec491f8c3245ae3c272b1a",
      "6fc5d2942c6d44029cfa1fec8944340c",
      "33a5ea26081d41d1bb81e711789d1743",
      "4c9f4d065c7e449387b2d71e045d9eea",
      "e5eddb2d38f04bce8261318395c34aaf"
     ]
    },
    "execution": {
     "iopub.execute_input": "2025-04-16T12:49:32.203457Z",
     "iopub.status.busy": "2025-04-16T12:49:32.203267Z",
     "iopub.status.idle": "2025-04-16T12:49:32.573988Z",
     "shell.execute_reply": "2025-04-16T12:49:32.573228Z",
     "shell.execute_reply.started": "2025-04-16T12:49:32.203443Z"
    },
    "id": "-x5vnw8nCGTz",
    "outputId": "832e2e97-8ae4-4958-b766-d247069f56cf",
    "trusted": true
   },
   "outputs": [
    {
     "name": "stderr",
     "output_type": "stream",
     "text": [
      "Saving the dataset (1/1 shards): 100%|██████████| 800/800 [00:00<00:00, 35532.53 examples/s]\n"
     ]
    }
   ],
   "source": [
    "model_ner_mlm.save_pretrained(\"ner_model_mlm\")\n",
    "\n",
    "tokenizer.save_pretrained(\"ner_model_mlm\")\n",
    "\n",
    "tokenized_mlm.save_to_disk(\"mlm_dataset\")"
   ]
  },
  {
   "cell_type": "markdown",
   "metadata": {
    "id": "5TzejZj-4XM9"
   },
   "source": [
    "##  Генерация синтетических данных"
   ]
  },
  {
   "cell_type": "markdown",
   "metadata": {
    "id": "MGdE5joC4cx0"
   },
   "source": [
    "### Загрузка новостного корпуса + Генерация разметки с помощью SOTA модели"
   ]
  },
  {
   "cell_type": "markdown",
   "metadata": {},
   "source": [
    "deeppavlov/run.sh\n",
    "\n",
    "```\n",
    "python3.10 -m venv deeppavlov-venv\n",
    "deeppavlov-venv/bin/pip install -q deeppavlov corus\n",
    "file=lenta-ru-news.csv.gz\n",
    "if [ -e \"$file\" ]; then\n",
    "    echo \"lenta-ru-news exists\"\n",
    "else \n",
    "    wget https://github.com/yutkin/Lenta.Ru-News-Dataset/releases/download/v1.0/lenta-ru-news.csv.gz\n",
    "fi \n",
    "deeppavlov-venv/bin/python3 main.py\n",
    "```\n",
    "\n",
    "\n",
    "deeppavlov/main.py\n",
    "\n",
    "```\n",
    "from deeppavlov import build_model\n",
    "from corus import load_lenta\n",
    "import pickle\n",
    "import logging\n",
    "from tqdm import tqdm\n",
    "\n",
    "logging.basicConfig(level=logging.INFO)\n",
    "\n",
    "def main():\n",
    "    logging.info('Loading lenta-ru-news...')\n",
    "    records = load_lenta('lenta-ru-news.csv.gz')\n",
    "\n",
    "    logging.info('Building ner_collection3_bert...')\n",
    "    model = build_model('ner_collection3_bert', download=True, install=True)\n",
    "    \n",
    "    texts = [record.title for record in records][:10_000] # берем title так как надо ужаться в max_tokens_len = 512\n",
    "    tokens, tags = [], []\n",
    "    batch_size = 100\n",
    "    for start, end in tqdm(zip(range(0, len(texts), batch_size), range(batch_size, len(texts), batch_size)), total=len(texts)//batch_size, unit='batches', desc='Predicting'): \n",
    "        batch = texts[start:end]\n",
    "        try:\n",
    "            batch_tokens, batch_tags = model(batch)\n",
    "            tokens.extend(batch_tokens)\n",
    "            tags.extend(batch_tags)\n",
    "        except RuntimeError:\n",
    "            logging.warning(f'RuntimeError at {start}')\n",
    "            continue\n",
    "\n",
    "    \n",
    "    with open('ner.pkl', 'wb') as f:\n",
    "        pickle.dump((tokens, tags), f)\n",
    "    logging.info('Done!')\n",
    "\n",
    "if __name__ == '__main__':\n",
    "    main()\n",
    "```"
   ]
  },
  {
   "cell_type": "code",
   "execution_count": 1,
   "metadata": {},
   "outputs": [
    {
     "name": "stdout",
     "output_type": "stream",
     "text": [
      "\u001b[33mWARNING: There was an error checking the latest version of pip.\u001b[0m\u001b[33m\n",
      "\u001b[0mlenta-ru-news exists\n",
      "INFO:root:Loading lenta-ru-news...\n",
      "INFO:root:Building ner_collection3_bert...\n",
      "Collecting protobuf<=3.20\n",
      "  Downloading protobuf-3.20.0-cp310-cp310-manylinux_2_12_x86_64.manylinux2010_x86_64.whl (1.1 MB)\n",
      "\u001b[2K     \u001b[90m━━━━━━━━━━━━━━━━━━━━━━━━━━━━━━━━━━━━━━━━\u001b[0m \u001b[32m1.1/1.1 MB\u001b[0m \u001b[31m5.6 MB/s\u001b[0m eta \u001b[36m0:00:00\u001b[0ma \u001b[36m0:00:01\u001b[0m0m\n",
      "\u001b[?25hInstalling collected packages: protobuf\n",
      "Successfully installed protobuf-3.20.0\n",
      "\u001b[33mWARNING: There was an error checking the latest version of pip.\u001b[0m\u001b[33m\n",
      "\u001b[0mCollecting torch<1.14.0,>=1.6.0\n",
      "  Downloading torch-1.13.1-cp310-cp310-manylinux1_x86_64.whl (887.5 MB)\n",
      "\u001b[2K     \u001b[90m━━━━━━━━━━━━━━━━━━━━━━━━━━━━━━━━━━━━━\u001b[0m \u001b[32m887.5/887.5 MB\u001b[0m \u001b[31m547.0 kB/s\u001b[0m eta \u001b[36m0:00:00\u001b[0m00:01\u001b[0m00:28\u001b[0m\n",
      "\u001b[?25hCollecting nvidia-cudnn-cu11==8.5.0.96\n",
      "  Downloading nvidia_cudnn_cu11-8.5.0.96-2-py3-none-manylinux1_x86_64.whl (557.1 MB)\n",
      "\u001b[2K     \u001b[90m━━━━━━━━━━━━━━━━━━━━━━━━━━━━━━━━━━━━━\u001b[0m \u001b[32m557.1/557.1 MB\u001b[0m \u001b[31m827.9 kB/s\u001b[0m eta \u001b[36m0:00:00\u001b[0m00:01\u001b[0m00:11\u001b[0m\n",
      "\u001b[?25h\u001b[33mWARNING: Retrying (Retry(total=4, connect=None, read=None, redirect=None, status=None)) after connection broken by 'ReadTimeoutError(\"HTTPSConnectionPool(host='pypi.org', port=443): Read timed out. (read timeout=15)\")': /simple/nvidia-cublas-cu11/\u001b[0m\u001b[33m\n",
      "\u001b[0mCollecting nvidia-cublas-cu11==11.10.3.66\n",
      "  Downloading nvidia_cublas_cu11-11.10.3.66-py3-none-manylinux1_x86_64.whl (317.1 MB)\n",
      "\u001b[2K     \u001b[90m━━━━━━━━━━━━━━━━━━━━━━━━━━━━━━━━━━━━━━━\u001b[0m \u001b[32m317.1/317.1 MB\u001b[0m \u001b[31m1.1 MB/s\u001b[0m eta \u001b[36m0:00:00\u001b[0m00:01\u001b[0m00:07\u001b[0m\n",
      "\u001b[?25hRequirement already satisfied: typing-extensions in ./deeppavlov-venv/lib/python3.10/site-packages (from torch<1.14.0,>=1.6.0) (4.13.2)\n",
      "Collecting nvidia-cuda-nvrtc-cu11==11.7.99\n",
      "  Downloading nvidia_cuda_nvrtc_cu11-11.7.99-2-py3-none-manylinux1_x86_64.whl (21.0 MB)\n",
      "\u001b[2K     \u001b[90m━━━━━━━━━━━━━━━━━━━━━━━━━━━━━━━━━━━━━━━━\u001b[0m \u001b[32m21.0/21.0 MB\u001b[0m \u001b[31m1.4 MB/s\u001b[0m eta \u001b[36m0:00:00\u001b[0m00:01\u001b[0m00:01\u001b[0m\n",
      "\u001b[?25hCollecting nvidia-cuda-runtime-cu11==11.7.99\n",
      "  Downloading nvidia_cuda_runtime_cu11-11.7.99-py3-none-manylinux1_x86_64.whl (849 kB)\n",
      "\u001b[2K     \u001b[90m━━━━━━━━━━━━━━━━━━━━━━━━━━━━━━━━━━━━━\u001b[0m \u001b[32m849.3/849.3 kB\u001b[0m \u001b[31m986.7 kB/s\u001b[0m eta \u001b[36m0:00:00\u001b[0m00:01\u001b[0m00:01\u001b[0m\n",
      "\u001b[?25hRequirement already satisfied: setuptools in ./deeppavlov-venv/lib/python3.10/site-packages (from nvidia-cublas-cu11==11.10.3.66->torch<1.14.0,>=1.6.0) (65.5.0)\n",
      "Requirement already satisfied: wheel in ./deeppavlov-venv/lib/python3.10/site-packages (from nvidia-cublas-cu11==11.10.3.66->torch<1.14.0,>=1.6.0) (0.45.1)\n",
      "Installing collected packages: nvidia-cuda-runtime-cu11, nvidia-cuda-nvrtc-cu11, nvidia-cublas-cu11, nvidia-cudnn-cu11, torch\n",
      "Successfully installed nvidia-cublas-cu11-11.10.3.66 nvidia-cuda-nvrtc-cu11-11.7.99 nvidia-cuda-runtime-cu11-11.7.99 nvidia-cudnn-cu11-8.5.0.96 torch-1.13.1\n",
      "\u001b[33mWARNING: There was an error checking the latest version of pip.\u001b[0m\u001b[33m\n",
      "\u001b[0mCollecting sentencepiece==0.2.0\n",
      "  Downloading sentencepiece-0.2.0-cp310-cp310-manylinux_2_17_x86_64.manylinux2014_x86_64.whl (1.3 MB)\n",
      "\u001b[2K     \u001b[90m━━━━━━━━━━━━━━━━━━━━━━━━━━━━━━━━━━━━━━━━\u001b[0m \u001b[32m1.3/1.3 MB\u001b[0m \u001b[31m5.4 MB/s\u001b[0m eta \u001b[36m0:00:00\u001b[0m00:01\u001b[0m00:01\u001b[0m\n",
      "\u001b[?25hInstalling collected packages: sentencepiece\n",
      "Successfully installed sentencepiece-0.2.0\n",
      "\u001b[33mWARNING: There was an error checking the latest version of pip.\u001b[0m\u001b[33m\n",
      "\u001b[0mCollecting pytorch-crf==0.7.*\n",
      "  Downloading pytorch_crf-0.7.2-py3-none-any.whl (9.5 kB)\n",
      "Installing collected packages: pytorch-crf\n",
      "Successfully installed pytorch-crf-0.7.2\n",
      "\u001b[33mWARNING: There was an error checking the latest version of pip.\u001b[0m\u001b[33m\n",
      "\u001b[0mIgnoring transformers: markers 'python_version < \"3.8\"' don't match your environment\n",
      "\u001b[33mWARNING: There was an error checking the latest version of pip.\u001b[0m\u001b[33m\n",
      "\u001b[0mCollecting transformers==4.30.0\n",
      "  Downloading transformers-4.30.0-py3-none-any.whl (7.2 MB)\n",
      "\u001b[2K     \u001b[90m━━━━━━━━━━━━━━━━━━━━━━━━━━━━━━━━━━━━━━━━\u001b[0m \u001b[32m7.2/7.2 MB\u001b[0m \u001b[31m2.5 MB/s\u001b[0m eta \u001b[36m0:00:00\u001b[0m00:01\u001b[0m00:01\u001b[0m\n",
      "\u001b[?25hCollecting packaging>=20.0\n",
      "  Downloading packaging-24.2-py3-none-any.whl (65 kB)\n",
      "\u001b[2K     \u001b[90m━━━━━━━━━━━━━━━━━━━━━━━━━━━━━━━━━━━━━━━━\u001b[0m \u001b[32m65.5/65.5 kB\u001b[0m \u001b[31m1.3 MB/s\u001b[0m eta \u001b[36m0:00:00\u001b[0ma \u001b[36m0:00:01\u001b[0m\n",
      "\u001b[?25hRequirement already satisfied: filelock in ./deeppavlov-venv/lib/python3.10/site-packages (from transformers==4.30.0) (3.9.1)\n",
      "Requirement already satisfied: numpy>=1.17 in ./deeppavlov-venv/lib/python3.10/site-packages (from transformers==4.30.0) (1.23.5)\n",
      "Requirement already satisfied: regex!=2019.12.17 in ./deeppavlov-venv/lib/python3.10/site-packages (from transformers==4.30.0) (2024.11.6)\n",
      "Collecting pyyaml>=5.1\n",
      "  Downloading PyYAML-6.0.2-cp310-cp310-manylinux_2_17_x86_64.manylinux2014_x86_64.whl (751 kB)\n",
      "\u001b[2K     \u001b[90m━━━━━━━━━━━━━━━━━━━━━━━━━━━━━━━━━━━━━━━\u001b[0m \u001b[32m751.2/751.2 kB\u001b[0m \u001b[31m1.5 MB/s\u001b[0m eta \u001b[36m0:00:00\u001b[0ma \u001b[36m0:00:01\u001b[0m\n",
      "\u001b[?25hCollecting tokenizers!=0.11.3,<0.14,>=0.11.1\n",
      "  Downloading tokenizers-0.13.3-cp310-cp310-manylinux_2_17_x86_64.manylinux2014_x86_64.whl (7.8 MB)\n",
      "\u001b[2K     \u001b[90m━━━━━━━━━━━━━━━━━━━━━━━━━━━━━━━━━━━━━━━━\u001b[0m \u001b[32m7.8/7.8 MB\u001b[0m \u001b[31m1.6 MB/s\u001b[0m eta \u001b[36m0:00:00\u001b[0m00:01\u001b[0m00:01\u001b[0m\n",
      "\u001b[?25hRequirement already satisfied: tqdm>=4.27 in ./deeppavlov-venv/lib/python3.10/site-packages (from transformers==4.30.0) (4.64.1)\n",
      "Requirement already satisfied: requests in ./deeppavlov-venv/lib/python3.10/site-packages (from transformers==4.30.0) (2.32.3)\n",
      "Collecting huggingface-hub<1.0,>=0.14.1\n",
      "  Downloading huggingface_hub-0.30.2-py3-none-any.whl (481 kB)\n",
      "\u001b[2K     \u001b[90m━━━━━━━━━━━━━━━━━━━━━━━━━━━━━━━━━━━━━━━\u001b[0m \u001b[32m481.4/481.4 kB\u001b[0m \u001b[31m1.0 MB/s\u001b[0m eta \u001b[36m0:00:00\u001b[0m00:01\u001b[0m00:01\u001b[0m\n",
      "\u001b[?25hCollecting safetensors>=0.3.1\n",
      "  Downloading safetensors-0.5.3-cp38-abi3-manylinux_2_17_x86_64.manylinux2014_x86_64.whl (471 kB)\n",
      "\u001b[2K     \u001b[90m━━━━━━━━━━━━━━━━━━━━━━━━━━━━━━━━━━━━━\u001b[0m \u001b[32m471.6/471.6 kB\u001b[0m \u001b[31m800.2 kB/s\u001b[0m eta \u001b[36m0:00:00\u001b[0ma \u001b[36m0:00:01\u001b[0m\n",
      "\u001b[?25hRequirement already satisfied: typing-extensions>=3.7.4.3 in ./deeppavlov-venv/lib/python3.10/site-packages (from huggingface-hub<1.0,>=0.14.1->transformers==4.30.0) (4.13.2)\n",
      "Collecting fsspec>=2023.5.0\n",
      "  Downloading fsspec-2025.3.2-py3-none-any.whl (194 kB)\n",
      "\u001b[2K     \u001b[90m━━━━━━━━━━━━━━━━━━━━━━━━━━━━━━━━━━━━━━━\u001b[0m \u001b[32m194.4/194.4 kB\u001b[0m \u001b[31m1.0 MB/s\u001b[0m eta \u001b[36m0:00:00\u001b[0ma \u001b[36m0:00:01\u001b[0m\n",
      "\u001b[?25hRequirement already satisfied: idna<4,>=2.5 in ./deeppavlov-venv/lib/python3.10/site-packages (from requests->transformers==4.30.0) (3.10)\n",
      "Requirement already satisfied: certifi>=2017.4.17 in ./deeppavlov-venv/lib/python3.10/site-packages (from requests->transformers==4.30.0) (2025.1.31)\n",
      "Requirement already satisfied: urllib3<3,>=1.21.1 in ./deeppavlov-venv/lib/python3.10/site-packages (from requests->transformers==4.30.0) (2.4.0)\n",
      "Requirement already satisfied: charset-normalizer<4,>=2 in ./deeppavlov-venv/lib/python3.10/site-packages (from requests->transformers==4.30.0) (3.4.1)\n",
      "Installing collected packages: tokenizers, safetensors, pyyaml, packaging, fsspec, huggingface-hub, transformers\n",
      "Successfully installed fsspec-2025.3.2 huggingface-hub-0.30.2 packaging-24.2 pyyaml-6.0.2 safetensors-0.5.3 tokenizers-0.13.3 transformers-4.30.0\n",
      "\u001b[33mWARNING: There was an error checking the latest version of pip.\u001b[0m\u001b[33m\n",
      "\u001b[0m2025-04-16 17:33:38.745 INFO in 'deeppavlov.core.data.utils'['utils'] at line 97: Downloading from http://files.deeppavlov.ai/v1/ner/ner_rus_bert_coll3_torch.tar.gz to /home/rmx2n/.deeppavlov/models/ner_rus_bert_coll3_torch.tar.gz\n",
      "INFO:deeppavlov.core.data.utils:Downloading from http://files.deeppavlov.ai/v1/ner/ner_rus_bert_coll3_torch.tar.gz to /home/rmx2n/.deeppavlov/models/ner_rus_bert_coll3_torch.tar.gz\n",
      "100%|██████████████████████████████████████| 1.44G/1.44G [02:06<00:00, 11.3MB/s]\n",
      "2025-04-16 17:35:45.683 INFO in 'deeppavlov.core.data.utils'['utils'] at line 284: Extracting /home/rmx2n/.deeppavlov/models/ner_rus_bert_coll3_torch.tar.gz archive into /home/rmx2n/.deeppavlov/models/ner_rus_bert_coll3_torch\n",
      "INFO:deeppavlov.core.data.utils:Extracting /home/rmx2n/.deeppavlov/models/ner_rus_bert_coll3_torch.tar.gz archive into /home/rmx2n/.deeppavlov/models/ner_rus_bert_coll3_torch\n",
      "/home/rmx2n/hw_4/deeppavlov/deeppavlov-venv/lib/python3.10/site-packages/huggingface_hub/file_download.py:896: FutureWarning: `resume_download` is deprecated and will be removed in version 1.0.0. Downloads always resume when possible. If you want to force a new download, use `force_download=True`.\n",
      "  warnings.warn(\n",
      "tokenizer_config.json: 100%|█████████████████| 24.0/24.0 [00:00<00:00, 67.9kB/s]\n",
      "config.json: 100%|█████████████████████████████| 642/642 [00:00<00:00, 7.99MB/s]\n",
      "vocab.txt: 100%|███████████████████████████| 1.65M/1.65M [00:00<00:00, 3.29MB/s]\n",
      "special_tokens_map.json: 100%|██████████████████| 112/112 [00:00<00:00, 748kB/s]\n",
      "pytorch_model.bin: 100%|█████████████████████| 714M/714M [01:02<00:00, 11.5MB/s]\n",
      "Some weights of the model checkpoint at DeepPavlov/rubert-base-cased were not used when initializing BertForTokenClassification: ['cls.predictions.transform.LayerNorm.bias', 'cls.seq_relationship.weight', 'cls.predictions.bias', 'cls.predictions.transform.dense.bias', 'cls.seq_relationship.bias', 'cls.predictions.decoder.bias', 'cls.predictions.transform.LayerNorm.weight', 'cls.predictions.decoder.weight', 'cls.predictions.transform.dense.weight']\n",
      "- This IS expected if you are initializing BertForTokenClassification from the checkpoint of a model trained on another task or with another architecture (e.g. initializing a BertForSequenceClassification model from a BertForPreTraining model).\n",
      "- This IS NOT expected if you are initializing BertForTokenClassification from the checkpoint of a model that you expect to be exactly identical (initializing a BertForSequenceClassification model from a BertForSequenceClassification model).\n",
      "Some weights of BertForTokenClassification were not initialized from the model checkpoint at DeepPavlov/rubert-base-cased and are newly initialized: ['classifier.weight', 'classifier.bias']\n",
      "You should probably TRAIN this model on a down-stream task to be able to use it for predictions and inference.\n",
      "Predicting:  99%|████████████████████████▊| 99/100 [00:17<00:00,  5.75batches/s]\n",
      "INFO:root:Done!\n"
     ]
    }
   ],
   "source": [
    "!cd deeppavlov && bash run.sh"
   ]
  },
  {
   "cell_type": "code",
   "execution_count": 131,
   "metadata": {},
   "outputs": [],
   "source": [
    "import pickle\n",
    "from datasets import Dataset"
   ]
  },
  {
   "cell_type": "code",
   "execution_count": 132,
   "metadata": {
    "execution": {
     "execution_failed": "2025-04-16T13:25:41.910Z"
    },
    "id": "ng14w2KA4lSR",
    "trusted": true
   },
   "outputs": [],
   "source": [
    "ag_tokens, ag_tags = pickle.load(open('deeppavlov/ner.pkl', 'rb'))"
   ]
  },
  {
   "cell_type": "code",
   "execution_count": 136,
   "metadata": {
    "execution": {
     "iopub.status.busy": "2025-04-16T12:53:25.878088Z",
     "iopub.status.idle": "2025-04-16T12:53:25.878357Z",
     "shell.execute_reply": "2025-04-16T12:53:25.878230Z",
     "shell.execute_reply.started": "2025-04-16T12:53:25.878216Z"
    },
    "id": "JUhsRyV94pby",
    "trusted": true
   },
   "outputs": [],
   "source": [
    "synthetic_data = [\n",
    "    {'tokens': tokens, 'ner_tags': tags} \n",
    "    for tokens, tags in zip(ag_tokens, ag_tags)\n",
    "]"
   ]
  },
  {
   "cell_type": "markdown",
   "metadata": {
    "id": "1Wnu2O8n4rIZ"
   },
   "source": [
    "### Объединение данных"
   ]
  },
  {
   "cell_type": "code",
   "execution_count": 137,
   "metadata": {},
   "outputs": [],
   "source": [
    "all_tags = set()\n",
    "\n",
    "for item in train_data:\n",
    "    all_tags.update(item['ner_tags'])\n",
    "\n",
    "for item in synthetic_data:\n",
    "    all_tags.update(item['ner_tags'])"
   ]
  },
  {
   "cell_type": "code",
   "execution_count": 138,
   "metadata": {},
   "outputs": [],
   "source": [
    "item['ner_tags'] = [tag.split('-')[-1] if tag != 'O' else tag for tag in item['ner_tags']]"
   ]
  },
  {
   "cell_type": "code",
   "execution_count": 133,
   "metadata": {},
   "outputs": [
    {
     "name": "stdout",
     "output_type": "stream",
     "text": [
      "0.8840 :O\n",
      "0.0449 :S-LOC\n",
      "0.0179 :S-ORG\n",
      "0.0273 :S-PER\n",
      "0.0027 :B-LOC\n",
      "0.0028 :E-LOC\n",
      "0.0033 :B-ORG\n",
      "0.0005 :I-ORG\n",
      "0.0033 :E-ORG\n",
      "0.0064 :B-PER\n",
      "0.0066 :E-PER\n",
      "0.0001 :I-LOC\n",
      "0.0002 :I-PER\n"
     ]
    }
   ],
   "source": [
    "ag_tags_cnt = Counter()\n",
    "for t in ag_tags:\n",
    "    ag_tags_cnt.update(t)\n",
    "_total = sum(ag_tags_cnt.values())\n",
    "for tag, count in ag_tags_cnt.items():\n",
    "    print(f'{count / _total:.4f} :{tag}')"
   ]
  },
  {
   "cell_type": "code",
   "execution_count": null,
   "metadata": {},
   "outputs": [],
   "source": [
    "deeppavlov2collections_ner_tags = {\n",
    "    'O': 'O',\n",
    "    'S-LOC': 'B-LOC', 'E-LOC': 'I-LOC', 'B-LOC': 'B-LOC', 'I-LOC': 'I-LOC',\n",
    "    'S-PER': 'B-PER', 'E-PER': 'I-PER', 'B-PER': 'B-PER', 'I-PER': 'I-PER',\n",
    "    'S-ORG': 'B-ORG', 'E-ORG': 'I-ORG', 'B-ORG': 'B-ORG', 'I-ORG': 'I-ORG',\n",
    "    \n",
    "    'B-GEOPOLIT': 'B-LOC',  \n",
    "    'B-MEDIA': 'B-ORG'       \n",
    "}"
   ]
  },
  {
   "cell_type": "code",
   "execution_count": 139,
   "metadata": {},
   "outputs": [],
   "source": [
    "tags = ['O', 'B-PER', 'I-PER', 'B-LOC', 'I-LOC', 'B-ORG', 'I-ORG']\n",
    "id2label = {i: tag for i, tag in enumerate(tags)}\n",
    "label2id = {tag: i for i, tag in enumerate(tags)}"
   ]
  },
  {
   "cell_type": "code",
   "execution_count": null,
   "metadata": {},
   "outputs": [],
   "source": [
    "def convert_tags(tags):\n",
    "    return [deeppavlov2collections_ner_tags.get(tag, 'O') for tag in tags]\n",
    "\n",
    "for item in train_data:\n",
    "    item['ner_tags'] = convert_tags(item['ner_tags'])\n",
    "    \n",
    "valid_synthetic = []\n",
    "for item in synthetic_data:\n",
    "    if len(item['tokens']) != len(item['ner_tags']):\n",
    "        continue\n",
    "    converted_tags = convert_tags(item['ner_tags'])\n",
    "    if any(tag not in tags for tag in converted_tags):\n",
    "        continue \n",
    "    valid_synthetic.append({'tokens': item['tokens'], 'ner_tags': converted_tags})"
   ]
  },
  {
   "cell_type": "code",
   "execution_count": null,
   "metadata": {},
   "outputs": [
    {
     "name": "stdout",
     "output_type": "stream",
     "text": [
      "\n",
      "Распределение тегов в исходных данных:\n",
      "O: 155099\n",
      "B-PER: 10562\n",
      "B-ORG: 8010\n",
      "B-LOC: 5056\n",
      "\n",
      "Распределение тегов в синтетических данных:\n",
      "O: 77769\n",
      "B-LOC: 4187\n",
      "B-PER: 2966\n",
      "B-ORG: 1866\n",
      "I-PER: 603\n",
      "I-ORG: 334\n",
      "I-LOC: 248\n"
     ]
    }
   ],
   "source": [
    "def print_tag_distribution(data, name):\n",
    "    counter = Counter()\n",
    "    for item in data:\n",
    "        counter.update(item['ner_tags'])\n",
    "    print(f\"\\nРаспределение тегов в {name}:\")\n",
    "    for tag, count in counter.most_common():\n",
    "        print(f\"{tag}: {count}\")\n",
    "\n",
    "print_tag_distribution(train_data, \"исходных данных\")\n",
    "print_tag_distribution(valid_synthetic, \"синтетических данных\")"
   ]
  },
  {
   "cell_type": "code",
   "execution_count": null,
   "metadata": {},
   "outputs": [],
   "source": [
    "combined_data = train_data + valid_synthetic\n",
    "\n",
    "for item in combined_data:\n",
    "    for tag in item['ner_tags']:\n",
    "        assert tag in tags, f\"Обнаружен недопустимый тег: {tag}\"\n",
    "\n",
    "combined_dataset = Dataset.from_dict({\n",
    "    'tokens': [x['tokens'] for x in combined_data],\n",
    "    'ner_tags': [x['ner_tags'] for x in combined_data]\n",
    "})"
   ]
  },
  {
   "cell_type": "code",
   "execution_count": 152,
   "metadata": {},
   "outputs": [
    {
     "name": "stderr",
     "output_type": "stream",
     "text": [
      "Map: 100%|██████████| 10700/10700 [00:02<00:00, 4739.63 examples/s]\n"
     ]
    }
   ],
   "source": [
    "tokenized_combined = combined_dataset.map(\n",
    "    tokenize_and_align_labels,\n",
    "    batched=True,\n",
    "    batch_size=32\n",
    ")"
   ]
  },
  {
   "cell_type": "markdown",
   "metadata": {
    "id": "OlkXRljQ4xAK"
   },
   "source": [
    "### Обучение на объединённых данных"
   ]
  },
  {
   "cell_type": "code",
   "execution_count": 153,
   "metadata": {
    "execution": {
     "iopub.status.busy": "2025-04-16T12:53:25.884061Z",
     "iopub.status.idle": "2025-04-16T12:53:25.884352Z",
     "shell.execute_reply": "2025-04-16T12:53:25.884228Z",
     "shell.execute_reply.started": "2025-04-16T12:53:25.884214Z"
    },
    "id": "-1L52ext4yM5",
    "trusted": true
   },
   "outputs": [
    {
     "name": "stderr",
     "output_type": "stream",
     "text": [
      "/home/rmx2n/hw_4/deeppavlov/deeppavlov-venv/lib/python3.10/site-packages/huggingface_hub/file_download.py:896: FutureWarning: `resume_download` is deprecated and will be removed in version 1.0.0. Downloads always resume when possible. If you want to force a new download, use `force_download=True`.\n",
      "  warnings.warn(\n",
      "Some weights of the model checkpoint at cointegrated/rubert-tiny2 were not used when initializing BertForTokenClassification: ['cls.seq_relationship.weight', 'cls.predictions.transform.dense.weight', 'cls.predictions.transform.LayerNorm.bias', 'cls.predictions.transform.dense.bias', 'cls.seq_relationship.bias', 'cls.predictions.transform.LayerNorm.weight', 'cls.predictions.bias']\n",
      "- This IS expected if you are initializing BertForTokenClassification from the checkpoint of a model trained on another task or with another architecture (e.g. initializing a BertForSequenceClassification model from a BertForPreTraining model).\n",
      "- This IS NOT expected if you are initializing BertForTokenClassification from the checkpoint of a model that you expect to be exactly identical (initializing a BertForSequenceClassification model from a BertForSequenceClassification model).\n",
      "Some weights of BertForTokenClassification were not initialized from the model checkpoint at cointegrated/rubert-tiny2 and are newly initialized: ['classifier.bias', 'classifier.weight']\n",
      "You should probably TRAIN this model on a down-stream task to be able to use it for predictions and inference.\n"
     ]
    }
   ],
   "source": [
    "model_ner_ontonotes_bert  = AutoModelForTokenClassification.from_pretrained(\n",
    "    \"cointegrated/rubert-tiny2\",\n",
    "    num_labels=len(tags),\n",
    "    id2label=id2label,\n",
    "    label2id=label2id\n",
    ")"
   ]
  },
  {
   "cell_type": "code",
   "execution_count": 154,
   "metadata": {},
   "outputs": [],
   "source": [
    "training_args = TrainingArguments(\n",
    "    output_dir=\"ner_ontonotes_bert\",\n",
    "    evaluation_strategy=\"epoch\",\n",
    "    learning_rate=3e-5,\n",
    "    per_device_train_batch_size=16,\n",
    "    per_device_eval_batch_size=16,\n",
    "    num_train_epochs=10,\n",
    "    weight_decay=0.01,\n",
    "    save_strategy=\"epoch\",\n",
    "    load_best_model_at_end=True,\n",
    "    metric_for_best_model=\"f1\",\n",
    "    seed=42\n",
    ")"
   ]
  },
  {
   "cell_type": "code",
   "execution_count": 155,
   "metadata": {},
   "outputs": [],
   "source": [
    "data_collator = DataCollatorForTokenClassification(\n",
    "    tokenizer=tokenizer,\n",
    "    padding=True,\n",
    "    max_length=128,\n",
    "    label_pad_token_id=-100 \n",
    ")"
   ]
  },
  {
   "cell_type": "code",
   "execution_count": 157,
   "metadata": {
    "execution": {
     "iopub.status.busy": "2025-04-16T12:53:25.885872Z",
     "iopub.status.idle": "2025-04-16T12:53:25.886143Z",
     "shell.execute_reply": "2025-04-16T12:53:25.886023Z",
     "shell.execute_reply.started": "2025-04-16T12:53:25.885991Z"
    },
    "id": "Nu0VhbX44zYY",
    "trusted": true
   },
   "outputs": [],
   "source": [
    "trainer = Trainer(\n",
    "    model=model_ner_ontonotes_bert,\n",
    "    args=training_args,\n",
    "    train_dataset=tokenized_combined,\n",
    "    eval_dataset=tokenized_test,\n",
    "    data_collator=data_collator,\n",
    "    compute_metrics=compute_metrics\n",
    ")\n"
   ]
  },
  {
   "cell_type": "code",
   "execution_count": 158,
   "metadata": {
    "execution": {
     "iopub.status.busy": "2025-04-16T12:53:25.886856Z",
     "iopub.status.idle": "2025-04-16T12:53:25.887184Z",
     "shell.execute_reply": "2025-04-16T12:53:25.887031Z",
     "shell.execute_reply.started": "2025-04-16T12:53:25.887016Z"
    },
    "id": "CmE0MJb840vJ",
    "trusted": true
   },
   "outputs": [
    {
     "name": "stdout",
     "output_type": "stream",
     "text": [
      "Оценка до обучения:\n"
     ]
    },
    {
     "name": "stderr",
     "output_type": "stream",
     "text": [
      "/home/rmx2n/hw_4/deeppavlov/deeppavlov-venv/lib/python3.10/site-packages/transformers/tokenization_utils_base.py:2395: UserWarning: `max_length` is ignored when `padding`=`True` and there is no truncation strategy. To pad to max length, use `padding='max_length'`.\n",
      "  warnings.warn(\n"
     ]
    },
    {
     "data": {
      "text/html": [
       "\n",
       "    <div>\n",
       "      \n",
       "      <progress value='26' max='13' style='width:300px; height:20px; vertical-align: middle;'></progress>\n",
       "      [13/13 00:26]\n",
       "    </div>\n",
       "    "
      ],
      "text/plain": [
       "<IPython.core.display.HTML object>"
      ]
     },
     "metadata": {},
     "output_type": "display_data"
    },
    {
     "data": {
      "text/plain": [
       "{'eval_loss': 2.030855178833008,\n",
       " 'eval_precision': 0.021872803935347858,\n",
       " 'eval_recall': 0.09406875708349074,\n",
       " 'eval_f1': 0.03549283728886038,\n",
       " 'eval_accuracy': 0.0795160382667417,\n",
       " 'eval_runtime': 0.6321,\n",
       " 'eval_samples_per_second': 316.428,\n",
       " 'eval_steps_per_second': 20.568}"
      ]
     },
     "execution_count": 158,
     "metadata": {},
     "output_type": "execute_result"
    }
   ],
   "source": [
    "print(\"Оценка до обучения:\")\n",
    "trainer.evaluate()"
   ]
  },
  {
   "cell_type": "code",
   "execution_count": 159,
   "metadata": {},
   "outputs": [
    {
     "name": "stderr",
     "output_type": "stream",
     "text": [
      "/home/rmx2n/hw_4/deeppavlov/deeppavlov-venv/lib/python3.10/site-packages/transformers/optimization.py:411: FutureWarning: This implementation of AdamW is deprecated and will be removed in a future version. Use the PyTorch implementation torch.optim.AdamW instead, or set `no_deprecation_warning=True` to disable this warning\n",
      "  warnings.warn(\n"
     ]
    },
    {
     "data": {
      "text/html": [
       "\n",
       "    <div>\n",
       "      \n",
       "      <progress value='6690' max='6690' style='width:300px; height:20px; vertical-align: middle;'></progress>\n",
       "      [6690/6690 03:41, Epoch 10/10]\n",
       "    </div>\n",
       "    <table border=\"1\" class=\"dataframe\">\n",
       "  <thead>\n",
       " <tr style=\"text-align: left;\">\n",
       "      <th>Epoch</th>\n",
       "      <th>Training Loss</th>\n",
       "      <th>Validation Loss</th>\n",
       "      <th>Precision</th>\n",
       "      <th>Recall</th>\n",
       "      <th>F1</th>\n",
       "      <th>Accuracy</th>\n",
       "    </tr>\n",
       "  </thead>\n",
       "  <tbody>\n",
       "    <tr>\n",
       "      <td>1</td>\n",
       "      <td>0.303300</td>\n",
       "      <td>0.964029</td>\n",
       "      <td>0.009907</td>\n",
       "      <td>0.012845</td>\n",
       "      <td>0.011186</td>\n",
       "      <td>0.796961</td>\n",
       "    </tr>\n",
       "    <tr>\n",
       "      <td>2</td>\n",
       "      <td>0.110000</td>\n",
       "      <td>1.112526</td>\n",
       "      <td>0.007005</td>\n",
       "      <td>0.009067</td>\n",
       "      <td>0.007904</td>\n",
       "      <td>0.801069</td>\n",
       "    </tr>\n",
       "    <tr>\n",
       "      <td>3</td>\n",
       "      <td>0.061200</td>\n",
       "      <td>1.216410</td>\n",
       "      <td>0.007476</td>\n",
       "      <td>0.009445</td>\n",
       "      <td>0.008346</td>\n",
       "      <td>0.806021</td>\n",
       "    </tr>\n",
       "    <tr>\n",
       "      <td>4</td>\n",
       "      <td>0.046000</td>\n",
       "      <td>1.313577</td>\n",
       "      <td>0.006173</td>\n",
       "      <td>0.007556</td>\n",
       "      <td>0.006795</td>\n",
       "      <td>0.810355</td>\n",
       "    </tr>\n",
       "    <tr>\n",
       "      <td>5</td>\n",
       "      <td>0.039700</td>\n",
       "      <td>1.361821</td>\n",
       "      <td>0.006554</td>\n",
       "      <td>0.007934</td>\n",
       "      <td>0.007178</td>\n",
       "      <td>0.812155</td>\n",
       "    </tr>\n",
       "    <tr>\n",
       "      <td>6</td>\n",
       "      <td>0.029500</td>\n",
       "      <td>1.432135</td>\n",
       "      <td>0.005956</td>\n",
       "      <td>0.007178</td>\n",
       "      <td>0.006510</td>\n",
       "      <td>0.812606</td>\n",
       "    </tr>\n",
       "    <tr>\n",
       "      <td>7</td>\n",
       "      <td>0.024900</td>\n",
       "      <td>1.460983</td>\n",
       "      <td>0.005545</td>\n",
       "      <td>0.006800</td>\n",
       "      <td>0.006109</td>\n",
       "      <td>0.811255</td>\n",
       "    </tr>\n",
       "    <tr>\n",
       "      <td>8</td>\n",
       "      <td>0.022100</td>\n",
       "      <td>1.495569</td>\n",
       "      <td>0.005544</td>\n",
       "      <td>0.006800</td>\n",
       "      <td>0.006108</td>\n",
       "      <td>0.811480</td>\n",
       "    </tr>\n",
       "    <tr>\n",
       "      <td>9</td>\n",
       "      <td>0.019500</td>\n",
       "      <td>1.505103</td>\n",
       "      <td>0.005864</td>\n",
       "      <td>0.007178</td>\n",
       "      <td>0.006455</td>\n",
       "      <td>0.811874</td>\n",
       "    </tr>\n",
       "    <tr>\n",
       "      <td>10</td>\n",
       "      <td>0.018200</td>\n",
       "      <td>1.516502</td>\n",
       "      <td>0.005588</td>\n",
       "      <td>0.006800</td>\n",
       "      <td>0.006135</td>\n",
       "      <td>0.812324</td>\n",
       "    </tr>\n",
       "  </tbody>\n",
       "</table><p>"
      ],
      "text/plain": [
       "<IPython.core.display.HTML object>"
      ]
     },
     "metadata": {},
     "output_type": "display_data"
    },
    {
     "name": "stderr",
     "output_type": "stream",
     "text": [
      "/home/rmx2n/hw_4/deeppavlov/deeppavlov-venv/lib/python3.10/site-packages/transformers/tokenization_utils_base.py:2395: UserWarning: `max_length` is ignored when `padding`=`True` and there is no truncation strategy. To pad to max length, use `padding='max_length'`.\n",
      "  warnings.warn(\n",
      "/home/rmx2n/hw_4/deeppavlov/deeppavlov-venv/lib/python3.10/site-packages/transformers/tokenization_utils_base.py:2395: UserWarning: `max_length` is ignored when `padding`=`True` and there is no truncation strategy. To pad to max length, use `padding='max_length'`.\n",
      "  warnings.warn(\n",
      "/home/rmx2n/hw_4/deeppavlov/deeppavlov-venv/lib/python3.10/site-packages/transformers/tokenization_utils_base.py:2395: UserWarning: `max_length` is ignored when `padding`=`True` and there is no truncation strategy. To pad to max length, use `padding='max_length'`.\n",
      "  warnings.warn(\n",
      "/home/rmx2n/hw_4/deeppavlov/deeppavlov-venv/lib/python3.10/site-packages/transformers/tokenization_utils_base.py:2395: UserWarning: `max_length` is ignored when `padding`=`True` and there is no truncation strategy. To pad to max length, use `padding='max_length'`.\n",
      "  warnings.warn(\n",
      "/home/rmx2n/hw_4/deeppavlov/deeppavlov-venv/lib/python3.10/site-packages/transformers/tokenization_utils_base.py:2395: UserWarning: `max_length` is ignored when `padding`=`True` and there is no truncation strategy. To pad to max length, use `padding='max_length'`.\n",
      "  warnings.warn(\n",
      "/home/rmx2n/hw_4/deeppavlov/deeppavlov-venv/lib/python3.10/site-packages/transformers/tokenization_utils_base.py:2395: UserWarning: `max_length` is ignored when `padding`=`True` and there is no truncation strategy. To pad to max length, use `padding='max_length'`.\n",
      "  warnings.warn(\n",
      "/home/rmx2n/hw_4/deeppavlov/deeppavlov-venv/lib/python3.10/site-packages/transformers/tokenization_utils_base.py:2395: UserWarning: `max_length` is ignored when `padding`=`True` and there is no truncation strategy. To pad to max length, use `padding='max_length'`.\n",
      "  warnings.warn(\n",
      "/home/rmx2n/hw_4/deeppavlov/deeppavlov-venv/lib/python3.10/site-packages/transformers/tokenization_utils_base.py:2395: UserWarning: `max_length` is ignored when `padding`=`True` and there is no truncation strategy. To pad to max length, use `padding='max_length'`.\n",
      "  warnings.warn(\n",
      "/home/rmx2n/hw_4/deeppavlov/deeppavlov-venv/lib/python3.10/site-packages/transformers/tokenization_utils_base.py:2395: UserWarning: `max_length` is ignored when `padding`=`True` and there is no truncation strategy. To pad to max length, use `padding='max_length'`.\n",
      "  warnings.warn(\n"
     ]
    },
    {
     "data": {
      "text/plain": [
       "TrainOutput(global_step=6690, training_loss=0.060446675618489584, metrics={'train_runtime': 221.4358, 'train_samples_per_second': 483.21, 'train_steps_per_second': 30.212, 'total_flos': 189363662592000.0, 'train_loss': 0.060446675618489584, 'epoch': 10.0})"
      ]
     },
     "execution_count": 159,
     "metadata": {},
     "output_type": "execute_result"
    }
   ],
   "source": [
    "trainer.train()"
   ]
  },
  {
   "cell_type": "code",
   "execution_count": 160,
   "metadata": {},
   "outputs": [
    {
     "name": "stdout",
     "output_type": "stream",
     "text": [
      "\n",
      "Оценка после обучения:\n"
     ]
    },
    {
     "name": "stderr",
     "output_type": "stream",
     "text": [
      "/home/rmx2n/hw_4/deeppavlov/deeppavlov-venv/lib/python3.10/site-packages/transformers/tokenization_utils_base.py:2395: UserWarning: `max_length` is ignored when `padding`=`True` and there is no truncation strategy. To pad to max length, use `padding='max_length'`.\n",
      "  warnings.warn(\n"
     ]
    },
    {
     "data": {
      "text/html": [
       "\n",
       "    <div>\n",
       "      \n",
       "      <progress value='13' max='13' style='width:300px; height:20px; vertical-align: middle;'></progress>\n",
       "      [13/13 00:00]\n",
       "    </div>\n",
       "    "
      ],
      "text/plain": [
       "<IPython.core.display.HTML object>"
      ]
     },
     "metadata": {},
     "output_type": "display_data"
    },
    {
     "data": {
      "text/plain": [
       "{'eval_loss': 0.9640293717384338,\n",
       " 'eval_precision': 0.009906759906759906,\n",
       " 'eval_recall': 0.012844729882886286,\n",
       " 'eval_f1': 0.011186050337226519,\n",
       " 'eval_accuracy': 0.796961170512099,\n",
       " 'eval_runtime': 0.3071,\n",
       " 'eval_samples_per_second': 651.357,\n",
       " 'eval_steps_per_second': 42.338,\n",
       " 'epoch': 10.0}"
      ]
     },
     "execution_count": 160,
     "metadata": {},
     "output_type": "execute_result"
    }
   ],
   "source": [
    "print(\"\\nОценка после обучения:\")\n",
    "trainer.evaluate()"
   ]
  },
  {
   "cell_type": "code",
   "execution_count": 161,
   "metadata": {},
   "outputs": [
    {
     "data": {
      "text/plain": [
       "('ner_ontonotes_bert/tokenizer_config.json',\n",
       " 'ner_ontonotes_bert/special_tokens_map.json',\n",
       " 'ner_ontonotes_bert/vocab.txt',\n",
       " 'ner_ontonotes_bert/added_tokens.json',\n",
       " 'ner_ontonotes_bert/tokenizer.json')"
      ]
     },
     "execution_count": 161,
     "metadata": {},
     "output_type": "execute_result"
    }
   ],
   "source": [
    "trainer.save_model(\"ner_ontonotes_bert\")\n",
    "tokenizer.save_pretrained(\"ner_ontonotes_bert\")"
   ]
  },
  {
   "cell_type": "markdown",
   "metadata": {},
   "source": [
    "# Сравнение результатов различных подходов"
   ]
  },
  {
   "cell_type": "markdown",
   "metadata": {},
   "source": [
    "## Базовое дообучение на Collection5"
   ]
  },
  {
   "cell_type": "code",
   "execution_count": null,
   "metadata": {},
   "outputs": [
    {
     "name": "stdout",
     "output_type": "stream",
     "text": [
      "\n",
      "Оценка после обучения:\n"
     ]
    },
    {
     "name": "stderr",
     "output_type": "stream",
     "text": [
      "/home/rmx2n/hw_4/.venv/lib/python3.12/site-packages/transformers/tokenization_utils_base.py:2718: UserWarning: `max_length` is ignored when `padding`=`True` and there is no truncation strategy. To pad to max length, use `padding='max_length'`.\n",
      "  warnings.warn(\n"
     ]
    },
    {
     "data": {
      "text/html": [
       "\n",
       "    <div>\n",
       "      \n",
       "      <progress value='13' max='13' style='width:300px; height:20px; vertical-align: middle;'></progress>\n",
       "      [13/13 00:00]\n",
       "    </div>\n",
       "    "
      ],
      "text/plain": [
       "<IPython.core.display.HTML object>"
      ]
     },
     "metadata": {},
     "output_type": "display_data"
    },
    {
     "data": {
      "text/plain": [
       "{'eval_loss': 0.22612637281417847,\n",
       " 'eval_model_preparation_time': 0.0016,\n",
       " 'eval_precision': 0.7372881355932204,\n",
       " 'eval_recall': 0.787945034353529,\n",
       " 'eval_f1': 0.7617753623188406,\n",
       " 'eval_accuracy': 0.9236353404614519,\n",
       " 'eval_runtime': 0.283,\n",
       " 'eval_samples_per_second': 706.795,\n",
       " 'eval_steps_per_second': 45.942,\n",
       " 'epoch': 10.0}"
      ]
     },
     "metadata": {},
     "output_type": "display_data"
    }
   ],
   "source": [
    "print(\"\\nОценка после обучения:\")\n",
    "trainer.evaluate()"
   ]
  },
  {
   "cell_type": "markdown",
   "metadata": {},
   "source": [
    "## MLM дообучение + NER дообучение"
   ]
  },
  {
   "cell_type": "code",
   "execution_count": null,
   "metadata": {},
   "outputs": [
    {
     "name": "stdout",
     "output_type": "stream",
     "text": [
      "\n",
      "Оценка после обучения:\n"
     ]
    },
    {
     "name": "stderr",
     "output_type": "stream",
     "text": [
      "/home/rmx2n/hw_4/.venv/lib/python3.12/site-packages/transformers/tokenization_utils_base.py:2718: UserWarning: `max_length` is ignored when `padding`=`True` and there is no truncation strategy. To pad to max length, use `padding='max_length'`.\n",
      "  warnings.warn(\n"
     ]
    },
    {
     "data": {
      "text/html": [
       "\n",
       "    <div>\n",
       "      \n",
       "      <progress value='13' max='13' style='width:300px; height:20px; vertical-align: middle;'></progress>\n",
       "      [13/13 00:00]\n",
       "    </div>\n",
       "    "
      ],
      "text/plain": [
       "<IPython.core.display.HTML object>"
      ]
     },
     "metadata": {},
     "output_type": "display_data"
    },
    {
     "data": {
      "text/plain": [
       "{'eval_loss': 0.1910102516412735,\n",
       " 'eval_model_preparation_time': 0.0008,\n",
       " 'eval_precision': 0.8173501577287067,\n",
       " 'eval_recall': 0.8091817613991256,\n",
       " 'eval_f1': 0.8132454488386692,\n",
       " 'eval_accuracy': 0.9457512661789533,\n",
       " 'eval_runtime': 0.2537,\n",
       " 'eval_samples_per_second': 788.384,\n",
       " 'eval_steps_per_second': 51.245,\n",
       " 'epoch': 10.0}"
      ]
     },
     "metadata": {},
     "output_type": "display_data"
    }
   ],
   "source": [
    "print(\"\\nОценка после обучения:\")\n",
    "trainer_ner_mlm.evaluate()"
   ]
  },
  {
   "cell_type": "markdown",
   "metadata": {},
   "source": [
    "## Синтетические данные + NER дообучение"
   ]
  },
  {
   "cell_type": "code",
   "execution_count": null,
   "metadata": {},
   "outputs": [
    {
     "name": "stdout",
     "output_type": "stream",
     "text": [
      "\n",
      "Оценка после обучения:\n"
     ]
    },
    {
     "name": "stderr",
     "output_type": "stream",
     "text": [
      "/home/rmx2n/hw_4/deeppavlov/deeppavlov-venv/lib/python3.10/site-packages/transformers/tokenization_utils_base.py:2395: UserWarning: `max_length` is ignored when `padding`=`True` and there is no truncation strategy. To pad to max length, use `padding='max_length'`.\n",
      "  warnings.warn(\n"
     ]
    },
    {
     "data": {
      "text/html": [
       "\n",
       "    <div>\n",
       "      \n",
       "      <progress value='13' max='13' style='width:300px; height:20px; vertical-align: middle;'></progress>\n",
       "      [13/13 00:00]\n",
       "    </div>\n",
       "    "
      ],
      "text/plain": [
       "<IPython.core.display.HTML object>"
      ]
     },
     "metadata": {},
     "output_type": "display_data"
    },
    {
     "data": {
      "text/plain": [
       "{'eval_loss': 0.9640293717384338,\n",
       " 'eval_precision': 0.009906759906759906,\n",
       " 'eval_recall': 0.012844729882886286,\n",
       " 'eval_f1': 0.011186050337226519,\n",
       " 'eval_accuracy': 0.796961170512099,\n",
       " 'eval_runtime': 0.3071,\n",
       " 'eval_samples_per_second': 651.357,\n",
       " 'eval_steps_per_second': 42.338,\n",
       " 'epoch': 10.0}"
      ]
     },
     "metadata": {},
     "output_type": "display_data"
    }
   ],
   "source": [
    "print(\"\\nОценка после обучения:\")\n",
    "trainer.evaluate()"
   ]
  },
  {
   "cell_type": "markdown",
   "metadata": {},
   "source": [
    "## Вывод"
   ]
  },
  {
   "cell_type": "markdown",
   "metadata": {},
   "source": [
    "**Базовое дообучение модели на оригинальных данных Collection5** позволило достичь **F1-меры 76.2%**, что подтверждает способность rubert-tiny2 адаптироваться к задаче NER даже на небольшом датасете. При этом **precision (73.7%)** и **recall (78.8%)** находятся в приемлемом балансе, а **accuracy 92.4%** отражает хорошее общее соответствие предсказаний.\n",
    "\n",
    "Использование предварительного **MLM-дообучения** значительно улучшило качество: **F1 вырос до 81.3%, точность до 81.7%, а accuracy достигла 94.6%**. Это свидетельствует, что адаптация языковой модели к домену через восстановление маскированных токенов помогает модели лучше улавливать контекстные зависимости в текстах, что критически важно для распознавания именованных сущностей. **Уменьшение loss с 0.226 до 0.191** подтверждает более успешную оптимизацию.\n",
    "\n",
    "Однако **подход с синтетическими данными** показал катастрофически **низкое качество (F1=1.1%, precision=0.99%)**, что требует глубокого анализа. Возможные причины:\n",
    "\n",
    "- Некорректная конвертация тегов из формата DeepPavlov в целевой BIO-схеме\n",
    "- Преобладание шумных аннотаций в синтетических данных\n",
    "- Конфликт между распределениями оригинальных и синтетических примеров\n",
    "- Неучтённые особенности токенизации при объединении датасетов.\n",
    "\n",
    "Комбинация MLM-дообучения с целевым NER-тюнингом демонстрирует наилучший результат, в то время как качество синтетических данных оказалось недостаточным для улучшения модели без дополнительной обработки."
   ]
  }
 ],
 "metadata": {
  "accelerator": "GPU",
  "colab": {
   "gpuType": "T4",
   "provenance": [],
   "toc_visible": true
  },
  "kaggle": {
   "accelerator": "nvidiaTeslaT4",
   "dataSources": [],
   "dockerImageVersionId": 31011,
   "isGpuEnabled": true,
   "isInternetEnabled": true,
   "language": "python",
   "sourceType": "notebook"
  },
  "kernelspec": {
   "display_name": "deeppavlov-venv",
   "language": "python",
   "name": "python3"
  },
  "language_info": {
   "codemirror_mode": {
    "name": "ipython",
    "version": 3
   },
   "file_extension": ".py",
   "mimetype": "text/x-python",
   "name": "python",
   "nbconvert_exporter": "python",
   "pygments_lexer": "ipython3",
   "version": "3.10.16"
  },
  "widgets": {
   "application/vnd.jupyter.widget-state+json": {
    "019062a715ae4fb799d620c10577e37c": {
     "model_module": "@jupyter-widgets/base",
     "model_module_version": "1.2.0",
     "model_name": "LayoutModel",
     "state": {
      "_model_module": "@jupyter-widgets/base",
      "_model_module_version": "1.2.0",
      "_model_name": "LayoutModel",
      "_view_count": null,
      "_view_module": "@jupyter-widgets/base",
      "_view_module_version": "1.2.0",
      "_view_name": "LayoutView",
      "align_content": null,
      "align_items": null,
      "align_self": null,
      "border": null,
      "bottom": null,
      "display": null,
      "flex": null,
      "flex_flow": null,
      "grid_area": null,
      "grid_auto_columns": null,
      "grid_auto_flow": null,
      "grid_auto_rows": null,
      "grid_column": null,
      "grid_gap": null,
      "grid_row": null,
      "grid_template_areas": null,
      "grid_template_columns": null,
      "grid_template_rows": null,
      "height": null,
      "justify_content": null,
      "justify_items": null,
      "left": null,
      "margin": null,
      "max_height": null,
      "max_width": null,
      "min_height": null,
      "min_width": null,
      "object_fit": null,
      "object_position": null,
      "order": null,
      "overflow": null,
      "overflow_x": null,
      "overflow_y": null,
      "padding": null,
      "right": null,
      "top": null,
      "visibility": null,
      "width": null
     }
    },
    "03cb2d6ddab64b76a8d3fba1b885a2be": {
     "model_module": "@jupyter-widgets/controls",
     "model_module_version": "1.5.0",
     "model_name": "HTMLModel",
     "state": {
      "_dom_classes": [],
      "_model_module": "@jupyter-widgets/controls",
      "_model_module_version": "1.5.0",
      "_model_name": "HTMLModel",
      "_view_count": null,
      "_view_module": "@jupyter-widgets/controls",
      "_view_module_version": "1.5.0",
      "_view_name": "HTMLView",
      "description": "",
      "description_tooltip": null,
      "layout": "IPY_MODEL_db707579533342a0879eabd6075d4ed6",
      "placeholder": "​",
      "style": "IPY_MODEL_f366226c463c4e5987130194cb1a79db",
      "value": "special_tokens_map.json: 100%"
     }
    },
    "04db730cda1c4eb897681aacebaa6011": {
     "model_module": "@jupyter-widgets/base",
     "model_module_version": "1.2.0",
     "model_name": "LayoutModel",
     "state": {
      "_model_module": "@jupyter-widgets/base",
      "_model_module_version": "1.2.0",
      "_model_name": "LayoutModel",
      "_view_count": null,
      "_view_module": "@jupyter-widgets/base",
      "_view_module_version": "1.2.0",
      "_view_name": "LayoutView",
      "align_content": null,
      "align_items": null,
      "align_self": null,
      "border": null,
      "bottom": null,
      "display": null,
      "flex": null,
      "flex_flow": null,
      "grid_area": null,
      "grid_auto_columns": null,
      "grid_auto_flow": null,
      "grid_auto_rows": null,
      "grid_column": null,
      "grid_gap": null,
      "grid_row": null,
      "grid_template_areas": null,
      "grid_template_columns": null,
      "grid_template_rows": null,
      "height": null,
      "justify_content": null,
      "justify_items": null,
      "left": null,
      "margin": null,
      "max_height": null,
      "max_width": null,
      "min_height": null,
      "min_width": null,
      "object_fit": null,
      "object_position": null,
      "order": null,
      "overflow": null,
      "overflow_x": null,
      "overflow_y": null,
      "padding": null,
      "right": null,
      "top": null,
      "visibility": null,
      "width": null
     }
    },
    "06918dd787f84e89ab080a63bf741ace": {
     "model_module": "@jupyter-widgets/controls",
     "model_module_version": "1.5.0",
     "model_name": "HTMLModel",
     "state": {
      "_dom_classes": [],
      "_model_module": "@jupyter-widgets/controls",
      "_model_module_version": "1.5.0",
      "_model_name": "HTMLModel",
      "_view_count": null,
      "_view_module": "@jupyter-widgets/controls",
      "_view_module_version": "1.5.0",
      "_view_name": "HTMLView",
      "description": "",
      "description_tooltip": null,
      "layout": "IPY_MODEL_25555cfea12a4b31a3baa3b694b1917b",
      "placeholder": "​",
      "style": "IPY_MODEL_0c52ccdb69e246ea8f6333e6ca8849e4",
      "value": " 118M/118M [00:00&lt;00:00, 262MB/s]"
     }
    },
    "0c52ccdb69e246ea8f6333e6ca8849e4": {
     "model_module": "@jupyter-widgets/controls",
     "model_module_version": "1.5.0",
     "model_name": "DescriptionStyleModel",
     "state": {
      "_model_module": "@jupyter-widgets/controls",
      "_model_module_version": "1.5.0",
      "_model_name": "DescriptionStyleModel",
      "_view_count": null,
      "_view_module": "@jupyter-widgets/base",
      "_view_module_version": "1.2.0",
      "_view_name": "StyleView",
      "description_width": ""
     }
    },
    "15ebb58473254b2fb9f0dcaefef9ccf6": {
     "model_module": "@jupyter-widgets/controls",
     "model_module_version": "1.5.0",
     "model_name": "DescriptionStyleModel",
     "state": {
      "_model_module": "@jupyter-widgets/controls",
      "_model_module_version": "1.5.0",
      "_model_name": "DescriptionStyleModel",
      "_view_count": null,
      "_view_module": "@jupyter-widgets/base",
      "_view_module_version": "1.2.0",
      "_view_name": "StyleView",
      "description_width": ""
     }
    },
    "170cd54e701c4636bd0294904cfb4771": {
     "model_module": "@jupyter-widgets/controls",
     "model_module_version": "1.5.0",
     "model_name": "DescriptionStyleModel",
     "state": {
      "_model_module": "@jupyter-widgets/controls",
      "_model_module_version": "1.5.0",
      "_model_name": "DescriptionStyleModel",
      "_view_count": null,
      "_view_module": "@jupyter-widgets/base",
      "_view_module_version": "1.2.0",
      "_view_name": "StyleView",
      "description_width": ""
     }
    },
    "178c73b99d614d30944f2af83deb9b4b": {
     "model_module": "@jupyter-widgets/controls",
     "model_module_version": "1.5.0",
     "model_name": "DescriptionStyleModel",
     "state": {
      "_model_module": "@jupyter-widgets/controls",
      "_model_module_version": "1.5.0",
      "_model_name": "DescriptionStyleModel",
      "_view_count": null,
      "_view_module": "@jupyter-widgets/base",
      "_view_module_version": "1.2.0",
      "_view_name": "StyleView",
      "description_width": ""
     }
    },
    "17d140d11c344e77be2fb8f0e80d8250": {
     "model_module": "@jupyter-widgets/controls",
     "model_module_version": "1.5.0",
     "model_name": "HTMLModel",
     "state": {
      "_dom_classes": [],
      "_model_module": "@jupyter-widgets/controls",
      "_model_module_version": "1.5.0",
      "_model_name": "HTMLModel",
      "_view_count": null,
      "_view_module": "@jupyter-widgets/controls",
      "_view_module_version": "1.5.0",
      "_view_name": "HTMLView",
      "description": "",
      "description_tooltip": null,
      "layout": "IPY_MODEL_977132206750468590af452e6a92fa44",
      "placeholder": "​",
      "style": "IPY_MODEL_6cdb0311313f4492b71de6b25e06f800",
      "value": " 800/800 [00:01&lt;00:00, 471.38 examples/s]"
     }
    },
    "1b2d2b902fb24b05beabe55579d438bb": {
     "model_module": "@jupyter-widgets/base",
     "model_module_version": "1.2.0",
     "model_name": "LayoutModel",
     "state": {
      "_model_module": "@jupyter-widgets/base",
      "_model_module_version": "1.2.0",
      "_model_name": "LayoutModel",
      "_view_count": null,
      "_view_module": "@jupyter-widgets/base",
      "_view_module_version": "1.2.0",
      "_view_name": "LayoutView",
      "align_content": null,
      "align_items": null,
      "align_self": null,
      "border": null,
      "bottom": null,
      "display": null,
      "flex": null,
      "flex_flow": null,
      "grid_area": null,
      "grid_auto_columns": null,
      "grid_auto_flow": null,
      "grid_auto_rows": null,
      "grid_column": null,
      "grid_gap": null,
      "grid_row": null,
      "grid_template_areas": null,
      "grid_template_columns": null,
      "grid_template_rows": null,
      "height": null,
      "justify_content": null,
      "justify_items": null,
      "left": null,
      "margin": null,
      "max_height": null,
      "max_width": null,
      "min_height": null,
      "min_width": null,
      "object_fit": null,
      "object_position": null,
      "order": null,
      "overflow": null,
      "overflow_x": null,
      "overflow_y": null,
      "padding": null,
      "right": null,
      "top": null,
      "visibility": null,
      "width": null
     }
    },
    "1f67ddbf73d14a2f85495b8d781082a4": {
     "model_module": "@jupyter-widgets/controls",
     "model_module_version": "1.5.0",
     "model_name": "DescriptionStyleModel",
     "state": {
      "_model_module": "@jupyter-widgets/controls",
      "_model_module_version": "1.5.0",
      "_model_name": "DescriptionStyleModel",
      "_view_count": null,
      "_view_module": "@jupyter-widgets/base",
      "_view_module_version": "1.2.0",
      "_view_name": "StyleView",
      "description_width": ""
     }
    },
    "1f6d966c28914390a0f495c43c4f36ed": {
     "model_module": "@jupyter-widgets/controls",
     "model_module_version": "1.5.0",
     "model_name": "HBoxModel",
     "state": {
      "_dom_classes": [],
      "_model_module": "@jupyter-widgets/controls",
      "_model_module_version": "1.5.0",
      "_model_name": "HBoxModel",
      "_view_count": null,
      "_view_module": "@jupyter-widgets/controls",
      "_view_module_version": "1.5.0",
      "_view_name": "HBoxView",
      "box_style": "",
      "children": [
       "IPY_MODEL_4716770b346c418ab1e501c60525530c",
       "IPY_MODEL_80b92fca7ba44737bcf39dba856e53a0",
       "IPY_MODEL_e542ffa8247e4433b9760f5c2764d8ac"
      ],
      "layout": "IPY_MODEL_7dea3f18798a4805848874c1712aeff0"
     }
    },
    "20e0fad34fba4e468c7e18195cf61269": {
     "model_module": "@jupyter-widgets/base",
     "model_module_version": "1.2.0",
     "model_name": "LayoutModel",
     "state": {
      "_model_module": "@jupyter-widgets/base",
      "_model_module_version": "1.2.0",
      "_model_name": "LayoutModel",
      "_view_count": null,
      "_view_module": "@jupyter-widgets/base",
      "_view_module_version": "1.2.0",
      "_view_name": "LayoutView",
      "align_content": null,
      "align_items": null,
      "align_self": null,
      "border": null,
      "bottom": null,
      "display": null,
      "flex": null,
      "flex_flow": null,
      "grid_area": null,
      "grid_auto_columns": null,
      "grid_auto_flow": null,
      "grid_auto_rows": null,
      "grid_column": null,
      "grid_gap": null,
      "grid_row": null,
      "grid_template_areas": null,
      "grid_template_columns": null,
      "grid_template_rows": null,
      "height": null,
      "justify_content": null,
      "justify_items": null,
      "left": null,
      "margin": null,
      "max_height": null,
      "max_width": null,
      "min_height": null,
      "min_width": null,
      "object_fit": null,
      "object_position": null,
      "order": null,
      "overflow": null,
      "overflow_x": null,
      "overflow_y": null,
      "padding": null,
      "right": null,
      "top": null,
      "visibility": null,
      "width": null
     }
    },
    "245bcbcd4af84436a3984278e382778b": {
     "model_module": "@jupyter-widgets/base",
     "model_module_version": "1.2.0",
     "model_name": "LayoutModel",
     "state": {
      "_model_module": "@jupyter-widgets/base",
      "_model_module_version": "1.2.0",
      "_model_name": "LayoutModel",
      "_view_count": null,
      "_view_module": "@jupyter-widgets/base",
      "_view_module_version": "1.2.0",
      "_view_name": "LayoutView",
      "align_content": null,
      "align_items": null,
      "align_self": null,
      "border": null,
      "bottom": null,
      "display": null,
      "flex": null,
      "flex_flow": null,
      "grid_area": null,
      "grid_auto_columns": null,
      "grid_auto_flow": null,
      "grid_auto_rows": null,
      "grid_column": null,
      "grid_gap": null,
      "grid_row": null,
      "grid_template_areas": null,
      "grid_template_columns": null,
      "grid_template_rows": null,
      "height": null,
      "justify_content": null,
      "justify_items": null,
      "left": null,
      "margin": null,
      "max_height": null,
      "max_width": null,
      "min_height": null,
      "min_width": null,
      "object_fit": null,
      "object_position": null,
      "order": null,
      "overflow": null,
      "overflow_x": null,
      "overflow_y": null,
      "padding": null,
      "right": null,
      "top": null,
      "visibility": null,
      "width": null
     }
    },
    "25555cfea12a4b31a3baa3b694b1917b": {
     "model_module": "@jupyter-widgets/base",
     "model_module_version": "1.2.0",
     "model_name": "LayoutModel",
     "state": {
      "_model_module": "@jupyter-widgets/base",
      "_model_module_version": "1.2.0",
      "_model_name": "LayoutModel",
      "_view_count": null,
      "_view_module": "@jupyter-widgets/base",
      "_view_module_version": "1.2.0",
      "_view_name": "LayoutView",
      "align_content": null,
      "align_items": null,
      "align_self": null,
      "border": null,
      "bottom": null,
      "display": null,
      "flex": null,
      "flex_flow": null,
      "grid_area": null,
      "grid_auto_columns": null,
      "grid_auto_flow": null,
      "grid_auto_rows": null,
      "grid_column": null,
      "grid_gap": null,
      "grid_row": null,
      "grid_template_areas": null,
      "grid_template_columns": null,
      "grid_template_rows": null,
      "height": null,
      "justify_content": null,
      "justify_items": null,
      "left": null,
      "margin": null,
      "max_height": null,
      "max_width": null,
      "min_height": null,
      "min_width": null,
      "object_fit": null,
      "object_position": null,
      "order": null,
      "overflow": null,
      "overflow_x": null,
      "overflow_y": null,
      "padding": null,
      "right": null,
      "top": null,
      "visibility": null,
      "width": null
     }
    },
    "258c78ab87d14d42ab0b1d31f6f7c8f2": {
     "model_module": "@jupyter-widgets/controls",
     "model_module_version": "1.5.0",
     "model_name": "HTMLModel",
     "state": {
      "_dom_classes": [],
      "_model_module": "@jupyter-widgets/controls",
      "_model_module_version": "1.5.0",
      "_model_name": "HTMLModel",
      "_view_count": null,
      "_view_module": "@jupyter-widgets/controls",
      "_view_module_version": "1.5.0",
      "_view_name": "HTMLView",
      "description": "",
      "description_tooltip": null,
      "layout": "IPY_MODEL_9b7788cabd704493856631039d53d52d",
      "placeholder": "​",
      "style": "IPY_MODEL_349546d50fe34760ae40190a51fd7603",
      "value": "tokenizer.json: 100%"
     }
    },
    "27bdbf65090c492d8fad8b5b0c47c04b": {
     "model_module": "@jupyter-widgets/controls",
     "model_module_version": "1.5.0",
     "model_name": "FloatProgressModel",
     "state": {
      "_dom_classes": [],
      "_model_module": "@jupyter-widgets/controls",
      "_model_module_version": "1.5.0",
      "_model_name": "FloatProgressModel",
      "_view_count": null,
      "_view_module": "@jupyter-widgets/controls",
      "_view_module_version": "1.5.0",
      "_view_name": "ProgressView",
      "bar_style": "success",
      "description": "",
      "description_tooltip": null,
      "layout": "IPY_MODEL_fc52279ace36455d8ae498e967f4a0c1",
      "max": 112,
      "min": 0,
      "orientation": "horizontal",
      "style": "IPY_MODEL_3031716ed80645cb924b607810ce5a3e",
      "value": 112
     }
    },
    "27e14ee578544546a2c62bf9f0deedd7": {
     "model_module": "@jupyter-widgets/controls",
     "model_module_version": "1.5.0",
     "model_name": "HTMLModel",
     "state": {
      "_dom_classes": [],
      "_model_module": "@jupyter-widgets/controls",
      "_model_module_version": "1.5.0",
      "_model_name": "HTMLModel",
      "_view_count": null,
      "_view_module": "@jupyter-widgets/controls",
      "_view_module_version": "1.5.0",
      "_view_name": "HTMLView",
      "description": "",
      "description_tooltip": null,
      "layout": "IPY_MODEL_f564f295f95346a69e6d6cbe9efbeaa1",
      "placeholder": "​",
      "style": "IPY_MODEL_a329c6b7b2cf46f39d4d77437e942720",
      "value": " 6.34k/6.34k [00:00&lt;00:00, 585kB/s]"
     }
    },
    "29f458a9aded493b9fe42c287f0592dc": {
     "model_module": "@jupyter-widgets/controls",
     "model_module_version": "1.5.0",
     "model_name": "FloatProgressModel",
     "state": {
      "_dom_classes": [],
      "_model_module": "@jupyter-widgets/controls",
      "_model_module_version": "1.5.0",
      "_model_name": "FloatProgressModel",
      "_view_count": null,
      "_view_module": "@jupyter-widgets/controls",
      "_view_module_version": "1.5.0",
      "_view_name": "ProgressView",
      "bar_style": "success",
      "description": "",
      "description_tooltip": null,
      "layout": "IPY_MODEL_bc344d707ac14b10bcd62525e3c8ad5b",
      "max": 1741842,
      "min": 0,
      "orientation": "horizontal",
      "style": "IPY_MODEL_92bea217ed014eeab7fa8c52650aa675",
      "value": 1741842
     }
    },
    "3031716ed80645cb924b607810ce5a3e": {
     "model_module": "@jupyter-widgets/controls",
     "model_module_version": "1.5.0",
     "model_name": "ProgressStyleModel",
     "state": {
      "_model_module": "@jupyter-widgets/controls",
      "_model_module_version": "1.5.0",
      "_model_name": "ProgressStyleModel",
      "_view_count": null,
      "_view_module": "@jupyter-widgets/base",
      "_view_module_version": "1.2.0",
      "_view_name": "StyleView",
      "bar_color": null,
      "description_width": ""
     }
    },
    "3187b2c87ca84ffcb9b9f83a6f4dc4e8": {
     "model_module": "@jupyter-widgets/base",
     "model_module_version": "1.2.0",
     "model_name": "LayoutModel",
     "state": {
      "_model_module": "@jupyter-widgets/base",
      "_model_module_version": "1.2.0",
      "_model_name": "LayoutModel",
      "_view_count": null,
      "_view_module": "@jupyter-widgets/base",
      "_view_module_version": "1.2.0",
      "_view_name": "LayoutView",
      "align_content": null,
      "align_items": null,
      "align_self": null,
      "border": null,
      "bottom": null,
      "display": null,
      "flex": null,
      "flex_flow": null,
      "grid_area": null,
      "grid_auto_columns": null,
      "grid_auto_flow": null,
      "grid_auto_rows": null,
      "grid_column": null,
      "grid_gap": null,
      "grid_row": null,
      "grid_template_areas": null,
      "grid_template_columns": null,
      "grid_template_rows": null,
      "height": null,
      "justify_content": null,
      "justify_items": null,
      "left": null,
      "margin": null,
      "max_height": null,
      "max_width": null,
      "min_height": null,
      "min_width": null,
      "object_fit": null,
      "object_position": null,
      "order": null,
      "overflow": null,
      "overflow_x": null,
      "overflow_y": null,
      "padding": null,
      "right": null,
      "top": null,
      "visibility": null,
      "width": null
     }
    },
    "31a05249fcee44079420a0b1d4f72bbb": {
     "model_module": "@jupyter-widgets/base",
     "model_module_version": "1.2.0",
     "model_name": "LayoutModel",
     "state": {
      "_model_module": "@jupyter-widgets/base",
      "_model_module_version": "1.2.0",
      "_model_name": "LayoutModel",
      "_view_count": null,
      "_view_module": "@jupyter-widgets/base",
      "_view_module_version": "1.2.0",
      "_view_name": "LayoutView",
      "align_content": null,
      "align_items": null,
      "align_self": null,
      "border": null,
      "bottom": null,
      "display": null,
      "flex": null,
      "flex_flow": null,
      "grid_area": null,
      "grid_auto_columns": null,
      "grid_auto_flow": null,
      "grid_auto_rows": null,
      "grid_column": null,
      "grid_gap": null,
      "grid_row": null,
      "grid_template_areas": null,
      "grid_template_columns": null,
      "grid_template_rows": null,
      "height": null,
      "justify_content": null,
      "justify_items": null,
      "left": null,
      "margin": null,
      "max_height": null,
      "max_width": null,
      "min_height": null,
      "min_width": null,
      "object_fit": null,
      "object_position": null,
      "order": null,
      "overflow": null,
      "overflow_x": null,
      "overflow_y": null,
      "padding": null,
      "right": null,
      "top": null,
      "visibility": null,
      "width": null
     }
    },
    "33a5ea26081d41d1bb81e711789d1743": {
     "model_module": "@jupyter-widgets/controls",
     "model_module_version": "1.5.0",
     "model_name": "ProgressStyleModel",
     "state": {
      "_model_module": "@jupyter-widgets/controls",
      "_model_module_version": "1.5.0",
      "_model_name": "ProgressStyleModel",
      "_view_count": null,
      "_view_module": "@jupyter-widgets/base",
      "_view_module_version": "1.2.0",
      "_view_name": "StyleView",
      "bar_color": null,
      "description_width": ""
     }
    },
    "349546d50fe34760ae40190a51fd7603": {
     "model_module": "@jupyter-widgets/controls",
     "model_module_version": "1.5.0",
     "model_name": "DescriptionStyleModel",
     "state": {
      "_model_module": "@jupyter-widgets/controls",
      "_model_module_version": "1.5.0",
      "_model_name": "DescriptionStyleModel",
      "_view_count": null,
      "_view_module": "@jupyter-widgets/base",
      "_view_module_version": "1.2.0",
      "_view_name": "StyleView",
      "description_width": ""
     }
    },
    "37c41d8784394fddb1a3413c7389826f": {
     "model_module": "@jupyter-widgets/controls",
     "model_module_version": "1.5.0",
     "model_name": "HBoxModel",
     "state": {
      "_dom_classes": [],
      "_model_module": "@jupyter-widgets/controls",
      "_model_module_version": "1.5.0",
      "_model_name": "HBoxModel",
      "_view_count": null,
      "_view_module": "@jupyter-widgets/controls",
      "_view_module_version": "1.5.0",
      "_view_name": "HBoxView",
      "box_style": "",
      "children": [
       "IPY_MODEL_03cb2d6ddab64b76a8d3fba1b885a2be",
       "IPY_MODEL_27bdbf65090c492d8fad8b5b0c47c04b",
       "IPY_MODEL_3c31b6e263ba464d8e091bd636752d13"
      ],
      "layout": "IPY_MODEL_5ac4f2c4d66c419d9836bf2360275109"
     }
    },
    "383be20319aa4d009372b303b965aa2f": {
     "model_module": "@jupyter-widgets/controls",
     "model_module_version": "1.5.0",
     "model_name": "HBoxModel",
     "state": {
      "_dom_classes": [],
      "_model_module": "@jupyter-widgets/controls",
      "_model_module_version": "1.5.0",
      "_model_name": "HBoxModel",
      "_view_count": null,
      "_view_module": "@jupyter-widgets/controls",
      "_view_module_version": "1.5.0",
      "_view_name": "HBoxView",
      "box_style": "",
      "children": [
       "IPY_MODEL_7f819f48144f49cc821fe11af1aee7d5",
       "IPY_MODEL_da7fff87de754ad5a61a0372e2330baf",
       "IPY_MODEL_a0f22a5850654e629d3f0378f4e06ff7"
      ],
      "layout": "IPY_MODEL_f18d588895454e09841d6b4c4b75c1c3"
     }
    },
    "3a722a81748b451881d9072fcd416569": {
     "model_module": "@jupyter-widgets/controls",
     "model_module_version": "1.5.0",
     "model_name": "ProgressStyleModel",
     "state": {
      "_model_module": "@jupyter-widgets/controls",
      "_model_module_version": "1.5.0",
      "_model_name": "ProgressStyleModel",
      "_view_count": null,
      "_view_module": "@jupyter-widgets/base",
      "_view_module_version": "1.2.0",
      "_view_name": "StyleView",
      "bar_color": null,
      "description_width": ""
     }
    },
    "3bd310cf2cdd4b7aa7d0bf8ef38557fe": {
     "model_module": "@jupyter-widgets/base",
     "model_module_version": "1.2.0",
     "model_name": "LayoutModel",
     "state": {
      "_model_module": "@jupyter-widgets/base",
      "_model_module_version": "1.2.0",
      "_model_name": "LayoutModel",
      "_view_count": null,
      "_view_module": "@jupyter-widgets/base",
      "_view_module_version": "1.2.0",
      "_view_name": "LayoutView",
      "align_content": null,
      "align_items": null,
      "align_self": null,
      "border": null,
      "bottom": null,
      "display": null,
      "flex": null,
      "flex_flow": null,
      "grid_area": null,
      "grid_auto_columns": null,
      "grid_auto_flow": null,
      "grid_auto_rows": null,
      "grid_column": null,
      "grid_gap": null,
      "grid_row": null,
      "grid_template_areas": null,
      "grid_template_columns": null,
      "grid_template_rows": null,
      "height": null,
      "justify_content": null,
      "justify_items": null,
      "left": null,
      "margin": null,
      "max_height": null,
      "max_width": null,
      "min_height": null,
      "min_width": null,
      "object_fit": null,
      "object_position": null,
      "order": null,
      "overflow": null,
      "overflow_x": null,
      "overflow_y": null,
      "padding": null,
      "right": null,
      "top": null,
      "visibility": null,
      "width": null
     }
    },
    "3c31b6e263ba464d8e091bd636752d13": {
     "model_module": "@jupyter-widgets/controls",
     "model_module_version": "1.5.0",
     "model_name": "HTMLModel",
     "state": {
      "_dom_classes": [],
      "_model_module": "@jupyter-widgets/controls",
      "_model_module_version": "1.5.0",
      "_model_name": "HTMLModel",
      "_view_count": null,
      "_view_module": "@jupyter-widgets/controls",
      "_view_module_version": "1.5.0",
      "_view_name": "HTMLView",
      "description": "",
      "description_tooltip": null,
      "layout": "IPY_MODEL_019062a715ae4fb799d620c10577e37c",
      "placeholder": "​",
      "style": "IPY_MODEL_b72dcc7410c0451e937830949137b42b",
      "value": " 112/112 [00:00&lt;00:00, 10.1kB/s]"
     }
    },
    "3ced318d5048473f921d14015a53cb82": {
     "model_module": "@jupyter-widgets/base",
     "model_module_version": "1.2.0",
     "model_name": "LayoutModel",
     "state": {
      "_model_module": "@jupyter-widgets/base",
      "_model_module_version": "1.2.0",
      "_model_name": "LayoutModel",
      "_view_count": null,
      "_view_module": "@jupyter-widgets/base",
      "_view_module_version": "1.2.0",
      "_view_name": "LayoutView",
      "align_content": null,
      "align_items": null,
      "align_self": null,
      "border": null,
      "bottom": null,
      "display": null,
      "flex": null,
      "flex_flow": null,
      "grid_area": null,
      "grid_auto_columns": null,
      "grid_auto_flow": null,
      "grid_auto_rows": null,
      "grid_column": null,
      "grid_gap": null,
      "grid_row": null,
      "grid_template_areas": null,
      "grid_template_columns": null,
      "grid_template_rows": null,
      "height": null,
      "justify_content": null,
      "justify_items": null,
      "left": null,
      "margin": null,
      "max_height": null,
      "max_width": null,
      "min_height": null,
      "min_width": null,
      "object_fit": null,
      "object_position": null,
      "order": null,
      "overflow": null,
      "overflow_x": null,
      "overflow_y": null,
      "padding": null,
      "right": null,
      "top": null,
      "visibility": null,
      "width": null
     }
    },
    "40cecc4899ec491f8c3245ae3c272b1a": {
     "model_module": "@jupyter-widgets/controls",
     "model_module_version": "1.5.0",
     "model_name": "DescriptionStyleModel",
     "state": {
      "_model_module": "@jupyter-widgets/controls",
      "_model_module_version": "1.5.0",
      "_model_name": "DescriptionStyleModel",
      "_view_count": null,
      "_view_module": "@jupyter-widgets/base",
      "_view_module_version": "1.2.0",
      "_view_name": "StyleView",
      "description_width": ""
     }
    },
    "40de1e97a26542bcb8de346c30790fc3": {
     "model_module": "@jupyter-widgets/controls",
     "model_module_version": "1.5.0",
     "model_name": "FloatProgressModel",
     "state": {
      "_dom_classes": [],
      "_model_module": "@jupyter-widgets/controls",
      "_model_module_version": "1.5.0",
      "_model_name": "FloatProgressModel",
      "_view_count": null,
      "_view_module": "@jupyter-widgets/controls",
      "_view_module_version": "1.5.0",
      "_view_name": "ProgressView",
      "bar_style": "success",
      "description": "",
      "description_tooltip": null,
      "layout": "IPY_MODEL_7927102b51da42919ed9036dbf8fda5c",
      "max": 800,
      "min": 0,
      "orientation": "horizontal",
      "style": "IPY_MODEL_3a722a81748b451881d9072fcd416569",
      "value": 800
     }
    },
    "43f99bab16d34c158e99f5dc15ef864a": {
     "model_module": "@jupyter-widgets/base",
     "model_module_version": "1.2.0",
     "model_name": "LayoutModel",
     "state": {
      "_model_module": "@jupyter-widgets/base",
      "_model_module_version": "1.2.0",
      "_model_name": "LayoutModel",
      "_view_count": null,
      "_view_module": "@jupyter-widgets/base",
      "_view_module_version": "1.2.0",
      "_view_name": "LayoutView",
      "align_content": null,
      "align_items": null,
      "align_self": null,
      "border": null,
      "bottom": null,
      "display": null,
      "flex": null,
      "flex_flow": null,
      "grid_area": null,
      "grid_auto_columns": null,
      "grid_auto_flow": null,
      "grid_auto_rows": null,
      "grid_column": null,
      "grid_gap": null,
      "grid_row": null,
      "grid_template_areas": null,
      "grid_template_columns": null,
      "grid_template_rows": null,
      "height": null,
      "justify_content": null,
      "justify_items": null,
      "left": null,
      "margin": null,
      "max_height": null,
      "max_width": null,
      "min_height": null,
      "min_width": null,
      "object_fit": null,
      "object_position": null,
      "order": null,
      "overflow": null,
      "overflow_x": null,
      "overflow_y": null,
      "padding": null,
      "right": null,
      "top": null,
      "visibility": null,
      "width": null
     }
    },
    "46ada61886d64c48a42c51a3944f37ea": {
     "model_module": "@jupyter-widgets/controls",
     "model_module_version": "1.5.0",
     "model_name": "ProgressStyleModel",
     "state": {
      "_model_module": "@jupyter-widgets/controls",
      "_model_module_version": "1.5.0",
      "_model_name": "ProgressStyleModel",
      "_view_count": null,
      "_view_module": "@jupyter-widgets/base",
      "_view_module_version": "1.2.0",
      "_view_name": "StyleView",
      "bar_color": null,
      "description_width": ""
     }
    },
    "46cf135db03d47f2b66499e227367f7b": {
     "model_module": "@jupyter-widgets/base",
     "model_module_version": "1.2.0",
     "model_name": "LayoutModel",
     "state": {
      "_model_module": "@jupyter-widgets/base",
      "_model_module_version": "1.2.0",
      "_model_name": "LayoutModel",
      "_view_count": null,
      "_view_module": "@jupyter-widgets/base",
      "_view_module_version": "1.2.0",
      "_view_name": "LayoutView",
      "align_content": null,
      "align_items": null,
      "align_self": null,
      "border": null,
      "bottom": null,
      "display": null,
      "flex": null,
      "flex_flow": null,
      "grid_area": null,
      "grid_auto_columns": null,
      "grid_auto_flow": null,
      "grid_auto_rows": null,
      "grid_column": null,
      "grid_gap": null,
      "grid_row": null,
      "grid_template_areas": null,
      "grid_template_columns": null,
      "grid_template_rows": null,
      "height": null,
      "justify_content": null,
      "justify_items": null,
      "left": null,
      "margin": null,
      "max_height": null,
      "max_width": null,
      "min_height": null,
      "min_width": null,
      "object_fit": null,
      "object_position": null,
      "order": null,
      "overflow": null,
      "overflow_x": null,
      "overflow_y": null,
      "padding": null,
      "right": null,
      "top": null,
      "visibility": null,
      "width": null
     }
    },
    "4716770b346c418ab1e501c60525530c": {
     "model_module": "@jupyter-widgets/controls",
     "model_module_version": "1.5.0",
     "model_name": "HTMLModel",
     "state": {
      "_dom_classes": [],
      "_model_module": "@jupyter-widgets/controls",
      "_model_module_version": "1.5.0",
      "_model_name": "HTMLModel",
      "_view_count": null,
      "_view_module": "@jupyter-widgets/controls",
      "_view_module_version": "1.5.0",
      "_view_name": "HTMLView",
      "description": "",
      "description_tooltip": null,
      "layout": "IPY_MODEL_7ef07703d60743f3be8d5d85be02568b",
      "placeholder": "​",
      "style": "IPY_MODEL_40cecc4899ec491f8c3245ae3c272b1a",
      "value": "Saving the dataset (1/1 shards): 100%"
     }
    },
    "486df1c635c444a6862750e2dbbb5eb6": {
     "model_module": "@jupyter-widgets/controls",
     "model_module_version": "1.5.0",
     "model_name": "HTMLModel",
     "state": {
      "_dom_classes": [],
      "_model_module": "@jupyter-widgets/controls",
      "_model_module_version": "1.5.0",
      "_model_name": "HTMLModel",
      "_view_count": null,
      "_view_module": "@jupyter-widgets/controls",
      "_view_module_version": "1.5.0",
      "_view_name": "HTMLView",
      "description": "",
      "description_tooltip": null,
      "layout": "IPY_MODEL_245bcbcd4af84436a3984278e382778b",
      "placeholder": "​",
      "style": "IPY_MODEL_e53e5ceee58a4b7688f1c7e4e9d74534",
      "value": "Downloading builder script: 100%"
     }
    },
    "4c9f4d065c7e449387b2d71e045d9eea": {
     "model_module": "@jupyter-widgets/base",
     "model_module_version": "1.2.0",
     "model_name": "LayoutModel",
     "state": {
      "_model_module": "@jupyter-widgets/base",
      "_model_module_version": "1.2.0",
      "_model_name": "LayoutModel",
      "_view_count": null,
      "_view_module": "@jupyter-widgets/base",
      "_view_module_version": "1.2.0",
      "_view_name": "LayoutView",
      "align_content": null,
      "align_items": null,
      "align_self": null,
      "border": null,
      "bottom": null,
      "display": null,
      "flex": null,
      "flex_flow": null,
      "grid_area": null,
      "grid_auto_columns": null,
      "grid_auto_flow": null,
      "grid_auto_rows": null,
      "grid_column": null,
      "grid_gap": null,
      "grid_row": null,
      "grid_template_areas": null,
      "grid_template_columns": null,
      "grid_template_rows": null,
      "height": null,
      "justify_content": null,
      "justify_items": null,
      "left": null,
      "margin": null,
      "max_height": null,
      "max_width": null,
      "min_height": null,
      "min_width": null,
      "object_fit": null,
      "object_position": null,
      "order": null,
      "overflow": null,
      "overflow_x": null,
      "overflow_y": null,
      "padding": null,
      "right": null,
      "top": null,
      "visibility": null,
      "width": null
     }
    },
    "51cedb9fbee7445f871c529dacbfbae5": {
     "model_module": "@jupyter-widgets/base",
     "model_module_version": "1.2.0",
     "model_name": "LayoutModel",
     "state": {
      "_model_module": "@jupyter-widgets/base",
      "_model_module_version": "1.2.0",
      "_model_name": "LayoutModel",
      "_view_count": null,
      "_view_module": "@jupyter-widgets/base",
      "_view_module_version": "1.2.0",
      "_view_name": "LayoutView",
      "align_content": null,
      "align_items": null,
      "align_self": null,
      "border": null,
      "bottom": null,
      "display": null,
      "flex": null,
      "flex_flow": null,
      "grid_area": null,
      "grid_auto_columns": null,
      "grid_auto_flow": null,
      "grid_auto_rows": null,
      "grid_column": null,
      "grid_gap": null,
      "grid_row": null,
      "grid_template_areas": null,
      "grid_template_columns": null,
      "grid_template_rows": null,
      "height": null,
      "justify_content": null,
      "justify_items": null,
      "left": null,
      "margin": null,
      "max_height": null,
      "max_width": null,
      "min_height": null,
      "min_width": null,
      "object_fit": null,
      "object_position": null,
      "order": null,
      "overflow": null,
      "overflow_x": null,
      "overflow_y": null,
      "padding": null,
      "right": null,
      "top": null,
      "visibility": null,
      "width": null
     }
    },
    "53d936d441a446aba92c6efb84fe001a": {
     "model_module": "@jupyter-widgets/controls",
     "model_module_version": "1.5.0",
     "model_name": "HTMLModel",
     "state": {
      "_dom_classes": [],
      "_model_module": "@jupyter-widgets/controls",
      "_model_module_version": "1.5.0",
      "_model_name": "HTMLModel",
      "_view_count": null,
      "_view_module": "@jupyter-widgets/controls",
      "_view_module_version": "1.5.0",
      "_view_name": "HTMLView",
      "description": "",
      "description_tooltip": null,
      "layout": "IPY_MODEL_43f99bab16d34c158e99f5dc15ef864a",
      "placeholder": "​",
      "style": "IPY_MODEL_178c73b99d614d30944f2af83deb9b4b",
      "value": " 1.74M/1.74M [00:00&lt;00:00, 5.26MB/s]"
     }
    },
    "53ef8d7dcd6e45aa8dcbed9afb558512": {
     "model_module": "@jupyter-widgets/base",
     "model_module_version": "1.2.0",
     "model_name": "LayoutModel",
     "state": {
      "_model_module": "@jupyter-widgets/base",
      "_model_module_version": "1.2.0",
      "_model_name": "LayoutModel",
      "_view_count": null,
      "_view_module": "@jupyter-widgets/base",
      "_view_module_version": "1.2.0",
      "_view_name": "LayoutView",
      "align_content": null,
      "align_items": null,
      "align_self": null,
      "border": null,
      "bottom": null,
      "display": null,
      "flex": null,
      "flex_flow": null,
      "grid_area": null,
      "grid_auto_columns": null,
      "grid_auto_flow": null,
      "grid_auto_rows": null,
      "grid_column": null,
      "grid_gap": null,
      "grid_row": null,
      "grid_template_areas": null,
      "grid_template_columns": null,
      "grid_template_rows": null,
      "height": null,
      "justify_content": null,
      "justify_items": null,
      "left": null,
      "margin": null,
      "max_height": null,
      "max_width": null,
      "min_height": null,
      "min_width": null,
      "object_fit": null,
      "object_position": null,
      "order": null,
      "overflow": null,
      "overflow_x": null,
      "overflow_y": null,
      "padding": null,
      "right": null,
      "top": null,
      "visibility": null,
      "width": null
     }
    },
    "55ad6de309de421798fd24daca635f81": {
     "model_module": "@jupyter-widgets/controls",
     "model_module_version": "1.5.0",
     "model_name": "HTMLModel",
     "state": {
      "_dom_classes": [],
      "_model_module": "@jupyter-widgets/controls",
      "_model_module_version": "1.5.0",
      "_model_name": "HTMLModel",
      "_view_count": null,
      "_view_module": "@jupyter-widgets/controls",
      "_view_module_version": "1.5.0",
      "_view_name": "HTMLView",
      "description": "",
      "description_tooltip": null,
      "layout": "IPY_MODEL_20e0fad34fba4e468c7e18195cf61269",
      "placeholder": "​",
      "style": "IPY_MODEL_15ebb58473254b2fb9f0dcaefef9ccf6",
      "value": " 401/401 [00:00&lt;00:00, 36.9kB/s]"
     }
    },
    "569035b415d941caba8a807b9b50efce": {
     "model_module": "@jupyter-widgets/controls",
     "model_module_version": "1.5.0",
     "model_name": "FloatProgressModel",
     "state": {
      "_dom_classes": [],
      "_model_module": "@jupyter-widgets/controls",
      "_model_module_version": "1.5.0",
      "_model_name": "FloatProgressModel",
      "_view_count": null,
      "_view_module": "@jupyter-widgets/controls",
      "_view_module_version": "1.5.0",
      "_view_name": "ProgressView",
      "bar_style": "success",
      "description": "",
      "description_tooltip": null,
      "layout": "IPY_MODEL_04db730cda1c4eb897681aacebaa6011",
      "max": 693,
      "min": 0,
      "orientation": "horizontal",
      "style": "IPY_MODEL_c271f5ca798e41c190fac749074f2f0f",
      "value": 693
     }
    },
    "57153dcd776745edb0c73e49ca5fac03": {
     "model_module": "@jupyter-widgets/controls",
     "model_module_version": "1.5.0",
     "model_name": "HTMLModel",
     "state": {
      "_dom_classes": [],
      "_model_module": "@jupyter-widgets/controls",
      "_model_module_version": "1.5.0",
      "_model_name": "HTMLModel",
      "_view_count": null,
      "_view_module": "@jupyter-widgets/controls",
      "_view_module_version": "1.5.0",
      "_view_name": "HTMLView",
      "description": "",
      "description_tooltip": null,
      "layout": "IPY_MODEL_e6f61bdaacaf4ac98a56e45b78c90cc3",
      "placeholder": "​",
      "style": "IPY_MODEL_8138533ea7d5414f85e3188773865bd1",
      "value": "tokenizer_config.json: 100%"
     }
    },
    "5ac4f2c4d66c419d9836bf2360275109": {
     "model_module": "@jupyter-widgets/base",
     "model_module_version": "1.2.0",
     "model_name": "LayoutModel",
     "state": {
      "_model_module": "@jupyter-widgets/base",
      "_model_module_version": "1.2.0",
      "_model_name": "LayoutModel",
      "_view_count": null,
      "_view_module": "@jupyter-widgets/base",
      "_view_module_version": "1.2.0",
      "_view_name": "LayoutView",
      "align_content": null,
      "align_items": null,
      "align_self": null,
      "border": null,
      "bottom": null,
      "display": null,
      "flex": null,
      "flex_flow": null,
      "grid_area": null,
      "grid_auto_columns": null,
      "grid_auto_flow": null,
      "grid_auto_rows": null,
      "grid_column": null,
      "grid_gap": null,
      "grid_row": null,
      "grid_template_areas": null,
      "grid_template_columns": null,
      "grid_template_rows": null,
      "height": null,
      "justify_content": null,
      "justify_items": null,
      "left": null,
      "margin": null,
      "max_height": null,
      "max_width": null,
      "min_height": null,
      "min_width": null,
      "object_fit": null,
      "object_position": null,
      "order": null,
      "overflow": null,
      "overflow_x": null,
      "overflow_y": null,
      "padding": null,
      "right": null,
      "top": null,
      "visibility": null,
      "width": null
     }
    },
    "5bbb2617c4a748b0b98d52d7e83d00a6": {
     "model_module": "@jupyter-widgets/base",
     "model_module_version": "1.2.0",
     "model_name": "LayoutModel",
     "state": {
      "_model_module": "@jupyter-widgets/base",
      "_model_module_version": "1.2.0",
      "_model_name": "LayoutModel",
      "_view_count": null,
      "_view_module": "@jupyter-widgets/base",
      "_view_module_version": "1.2.0",
      "_view_name": "LayoutView",
      "align_content": null,
      "align_items": null,
      "align_self": null,
      "border": null,
      "bottom": null,
      "display": null,
      "flex": null,
      "flex_flow": null,
      "grid_area": null,
      "grid_auto_columns": null,
      "grid_auto_flow": null,
      "grid_auto_rows": null,
      "grid_column": null,
      "grid_gap": null,
      "grid_row": null,
      "grid_template_areas": null,
      "grid_template_columns": null,
      "grid_template_rows": null,
      "height": null,
      "justify_content": null,
      "justify_items": null,
      "left": null,
      "margin": null,
      "max_height": null,
      "max_width": null,
      "min_height": null,
      "min_width": null,
      "object_fit": null,
      "object_position": null,
      "order": null,
      "overflow": null,
      "overflow_x": null,
      "overflow_y": null,
      "padding": null,
      "right": null,
      "top": null,
      "visibility": null,
      "width": null
     }
    },
    "5caf224ae452478eb2b66c5bc27bbd06": {
     "model_module": "@jupyter-widgets/controls",
     "model_module_version": "1.5.0",
     "model_name": "DescriptionStyleModel",
     "state": {
      "_model_module": "@jupyter-widgets/controls",
      "_model_module_version": "1.5.0",
      "_model_name": "DescriptionStyleModel",
      "_view_count": null,
      "_view_module": "@jupyter-widgets/base",
      "_view_module_version": "1.2.0",
      "_view_name": "StyleView",
      "description_width": ""
     }
    },
    "61f1fd33ad4149928ef34673c93cb3fc": {
     "model_module": "@jupyter-widgets/controls",
     "model_module_version": "1.5.0",
     "model_name": "HBoxModel",
     "state": {
      "_dom_classes": [],
      "_model_module": "@jupyter-widgets/controls",
      "_model_module_version": "1.5.0",
      "_model_name": "HBoxModel",
      "_view_count": null,
      "_view_module": "@jupyter-widgets/controls",
      "_view_module_version": "1.5.0",
      "_view_name": "HBoxView",
      "box_style": "",
      "children": [
       "IPY_MODEL_57153dcd776745edb0c73e49ca5fac03",
       "IPY_MODEL_92395bc950594b1fb199e9bc0b9ce0ce",
       "IPY_MODEL_55ad6de309de421798fd24daca635f81"
      ],
      "layout": "IPY_MODEL_66acd41d00ff4e6a88c5d8e48d59c3b3"
     }
    },
    "62b362359c89458c9bc9684db4cf22d7": {
     "model_module": "@jupyter-widgets/controls",
     "model_module_version": "1.5.0",
     "model_name": "FloatProgressModel",
     "state": {
      "_dom_classes": [],
      "_model_module": "@jupyter-widgets/controls",
      "_model_module_version": "1.5.0",
      "_model_name": "FloatProgressModel",
      "_view_count": null,
      "_view_module": "@jupyter-widgets/controls",
      "_view_module_version": "1.5.0",
      "_view_name": "ProgressView",
      "bar_style": "success",
      "description": "",
      "description_tooltip": null,
      "layout": "IPY_MODEL_46cf135db03d47f2b66499e227367f7b",
      "max": 200,
      "min": 0,
      "orientation": "horizontal",
      "style": "IPY_MODEL_fae0e286b3094441bbc634a0bc6e6a92",
      "value": 200
     }
    },
    "635b3c5d19f340078553b07192ae1830": {
     "model_module": "@jupyter-widgets/base",
     "model_module_version": "1.2.0",
     "model_name": "LayoutModel",
     "state": {
      "_model_module": "@jupyter-widgets/base",
      "_model_module_version": "1.2.0",
      "_model_name": "LayoutModel",
      "_view_count": null,
      "_view_module": "@jupyter-widgets/base",
      "_view_module_version": "1.2.0",
      "_view_name": "LayoutView",
      "align_content": null,
      "align_items": null,
      "align_self": null,
      "border": null,
      "bottom": null,
      "display": null,
      "flex": null,
      "flex_flow": null,
      "grid_area": null,
      "grid_auto_columns": null,
      "grid_auto_flow": null,
      "grid_auto_rows": null,
      "grid_column": null,
      "grid_gap": null,
      "grid_row": null,
      "grid_template_areas": null,
      "grid_template_columns": null,
      "grid_template_rows": null,
      "height": null,
      "justify_content": null,
      "justify_items": null,
      "left": null,
      "margin": null,
      "max_height": null,
      "max_width": null,
      "min_height": null,
      "min_width": null,
      "object_fit": null,
      "object_position": null,
      "order": null,
      "overflow": null,
      "overflow_x": null,
      "overflow_y": null,
      "padding": null,
      "right": null,
      "top": null,
      "visibility": null,
      "width": null
     }
    },
    "65f36a0837504b309aa71b8e008e426f": {
     "model_module": "@jupyter-widgets/controls",
     "model_module_version": "1.5.0",
     "model_name": "HBoxModel",
     "state": {
      "_dom_classes": [],
      "_model_module": "@jupyter-widgets/controls",
      "_model_module_version": "1.5.0",
      "_model_name": "HBoxModel",
      "_view_count": null,
      "_view_module": "@jupyter-widgets/controls",
      "_view_module_version": "1.5.0",
      "_view_name": "HBoxView",
      "box_style": "",
      "children": [
       "IPY_MODEL_69815738d37f457cafb482a37d574938",
       "IPY_MODEL_62b362359c89458c9bc9684db4cf22d7",
       "IPY_MODEL_75ba1c50d5764e9eb8483beccca71704"
      ],
      "layout": "IPY_MODEL_fd6945376c95446499c780df1ceae767"
     }
    },
    "66acd41d00ff4e6a88c5d8e48d59c3b3": {
     "model_module": "@jupyter-widgets/base",
     "model_module_version": "1.2.0",
     "model_name": "LayoutModel",
     "state": {
      "_model_module": "@jupyter-widgets/base",
      "_model_module_version": "1.2.0",
      "_model_name": "LayoutModel",
      "_view_count": null,
      "_view_module": "@jupyter-widgets/base",
      "_view_module_version": "1.2.0",
      "_view_name": "LayoutView",
      "align_content": null,
      "align_items": null,
      "align_self": null,
      "border": null,
      "bottom": null,
      "display": null,
      "flex": null,
      "flex_flow": null,
      "grid_area": null,
      "grid_auto_columns": null,
      "grid_auto_flow": null,
      "grid_auto_rows": null,
      "grid_column": null,
      "grid_gap": null,
      "grid_row": null,
      "grid_template_areas": null,
      "grid_template_columns": null,
      "grid_template_rows": null,
      "height": null,
      "justify_content": null,
      "justify_items": null,
      "left": null,
      "margin": null,
      "max_height": null,
      "max_width": null,
      "min_height": null,
      "min_width": null,
      "object_fit": null,
      "object_position": null,
      "order": null,
      "overflow": null,
      "overflow_x": null,
      "overflow_y": null,
      "padding": null,
      "right": null,
      "top": null,
      "visibility": null,
      "width": null
     }
    },
    "67cdca5760e2437ca62dce53bab529f4": {
     "model_module": "@jupyter-widgets/base",
     "model_module_version": "1.2.0",
     "model_name": "LayoutModel",
     "state": {
      "_model_module": "@jupyter-widgets/base",
      "_model_module_version": "1.2.0",
      "_model_name": "LayoutModel",
      "_view_count": null,
      "_view_module": "@jupyter-widgets/base",
      "_view_module_version": "1.2.0",
      "_view_name": "LayoutView",
      "align_content": null,
      "align_items": null,
      "align_self": null,
      "border": null,
      "bottom": null,
      "display": null,
      "flex": null,
      "flex_flow": null,
      "grid_area": null,
      "grid_auto_columns": null,
      "grid_auto_flow": null,
      "grid_auto_rows": null,
      "grid_column": null,
      "grid_gap": null,
      "grid_row": null,
      "grid_template_areas": null,
      "grid_template_columns": null,
      "grid_template_rows": null,
      "height": null,
      "justify_content": null,
      "justify_items": null,
      "left": null,
      "margin": null,
      "max_height": null,
      "max_width": null,
      "min_height": null,
      "min_width": null,
      "object_fit": null,
      "object_position": null,
      "order": null,
      "overflow": null,
      "overflow_x": null,
      "overflow_y": null,
      "padding": null,
      "right": null,
      "top": null,
      "visibility": null,
      "width": null
     }
    },
    "69815738d37f457cafb482a37d574938": {
     "model_module": "@jupyter-widgets/controls",
     "model_module_version": "1.5.0",
     "model_name": "HTMLModel",
     "state": {
      "_dom_classes": [],
      "_model_module": "@jupyter-widgets/controls",
      "_model_module_version": "1.5.0",
      "_model_name": "HTMLModel",
      "_view_count": null,
      "_view_module": "@jupyter-widgets/controls",
      "_view_module_version": "1.5.0",
      "_view_name": "HTMLView",
      "description": "",
      "description_tooltip": null,
      "layout": "IPY_MODEL_db69f524e12542a0b1a653b9a217a3a3",
      "placeholder": "​",
      "style": "IPY_MODEL_9c00bd4c6f9e44aa86307b16420a3426",
      "value": "Map: 100%"
     }
    },
    "6cdb0311313f4492b71de6b25e06f800": {
     "model_module": "@jupyter-widgets/controls",
     "model_module_version": "1.5.0",
     "model_name": "DescriptionStyleModel",
     "state": {
      "_model_module": "@jupyter-widgets/controls",
      "_model_module_version": "1.5.0",
      "_model_name": "DescriptionStyleModel",
      "_view_count": null,
      "_view_module": "@jupyter-widgets/base",
      "_view_module_version": "1.2.0",
      "_view_name": "StyleView",
      "description_width": ""
     }
    },
    "6e87cb464e174c8ea919cabe08feb530": {
     "model_module": "@jupyter-widgets/controls",
     "model_module_version": "1.5.0",
     "model_name": "HBoxModel",
     "state": {
      "_dom_classes": [],
      "_model_module": "@jupyter-widgets/controls",
      "_model_module_version": "1.5.0",
      "_model_name": "HBoxModel",
      "_view_count": null,
      "_view_module": "@jupyter-widgets/controls",
      "_view_module_version": "1.5.0",
      "_view_name": "HBoxView",
      "box_style": "",
      "children": [
       "IPY_MODEL_bcea29d400064ce4926c6f9f3be64cfa",
       "IPY_MODEL_40de1e97a26542bcb8de346c30790fc3",
       "IPY_MODEL_17d140d11c344e77be2fb8f0e80d8250"
      ],
      "layout": "IPY_MODEL_635b3c5d19f340078553b07192ae1830"
     }
    },
    "6fc5d2942c6d44029cfa1fec8944340c": {
     "model_module": "@jupyter-widgets/base",
     "model_module_version": "1.2.0",
     "model_name": "LayoutModel",
     "state": {
      "_model_module": "@jupyter-widgets/base",
      "_model_module_version": "1.2.0",
      "_model_name": "LayoutModel",
      "_view_count": null,
      "_view_module": "@jupyter-widgets/base",
      "_view_module_version": "1.2.0",
      "_view_name": "LayoutView",
      "align_content": null,
      "align_items": null,
      "align_self": null,
      "border": null,
      "bottom": null,
      "display": null,
      "flex": null,
      "flex_flow": null,
      "grid_area": null,
      "grid_auto_columns": null,
      "grid_auto_flow": null,
      "grid_auto_rows": null,
      "grid_column": null,
      "grid_gap": null,
      "grid_row": null,
      "grid_template_areas": null,
      "grid_template_columns": null,
      "grid_template_rows": null,
      "height": null,
      "justify_content": null,
      "justify_items": null,
      "left": null,
      "margin": null,
      "max_height": null,
      "max_width": null,
      "min_height": null,
      "min_width": null,
      "object_fit": null,
      "object_position": null,
      "order": null,
      "overflow": null,
      "overflow_x": null,
      "overflow_y": null,
      "padding": null,
      "right": null,
      "top": null,
      "visibility": null,
      "width": null
     }
    },
    "71c3eb4f7ba54162a461302e873793a6": {
     "model_module": "@jupyter-widgets/base",
     "model_module_version": "1.2.0",
     "model_name": "LayoutModel",
     "state": {
      "_model_module": "@jupyter-widgets/base",
      "_model_module_version": "1.2.0",
      "_model_name": "LayoutModel",
      "_view_count": null,
      "_view_module": "@jupyter-widgets/base",
      "_view_module_version": "1.2.0",
      "_view_name": "LayoutView",
      "align_content": null,
      "align_items": null,
      "align_self": null,
      "border": null,
      "bottom": null,
      "display": null,
      "flex": null,
      "flex_flow": null,
      "grid_area": null,
      "grid_auto_columns": null,
      "grid_auto_flow": null,
      "grid_auto_rows": null,
      "grid_column": null,
      "grid_gap": null,
      "grid_row": null,
      "grid_template_areas": null,
      "grid_template_columns": null,
      "grid_template_rows": null,
      "height": null,
      "justify_content": null,
      "justify_items": null,
      "left": null,
      "margin": null,
      "max_height": null,
      "max_width": null,
      "min_height": null,
      "min_width": null,
      "object_fit": null,
      "object_position": null,
      "order": null,
      "overflow": null,
      "overflow_x": null,
      "overflow_y": null,
      "padding": null,
      "right": null,
      "top": null,
      "visibility": null,
      "width": null
     }
    },
    "75ba1c50d5764e9eb8483beccca71704": {
     "model_module": "@jupyter-widgets/controls",
     "model_module_version": "1.5.0",
     "model_name": "HTMLModel",
     "state": {
      "_dom_classes": [],
      "_model_module": "@jupyter-widgets/controls",
      "_model_module_version": "1.5.0",
      "_model_name": "HTMLModel",
      "_view_count": null,
      "_view_module": "@jupyter-widgets/controls",
      "_view_module_version": "1.5.0",
      "_view_name": "HTMLView",
      "description": "",
      "description_tooltip": null,
      "layout": "IPY_MODEL_81d2e4fdb0ce4a8e89aab9a1b3998911",
      "placeholder": "​",
      "style": "IPY_MODEL_ff08f23fced940819b887b14c9d03dee",
      "value": " 200/200 [00:00&lt;00:00, 508.62 examples/s]"
     }
    },
    "7927102b51da42919ed9036dbf8fda5c": {
     "model_module": "@jupyter-widgets/base",
     "model_module_version": "1.2.0",
     "model_name": "LayoutModel",
     "state": {
      "_model_module": "@jupyter-widgets/base",
      "_model_module_version": "1.2.0",
      "_model_name": "LayoutModel",
      "_view_count": null,
      "_view_module": "@jupyter-widgets/base",
      "_view_module_version": "1.2.0",
      "_view_name": "LayoutView",
      "align_content": null,
      "align_items": null,
      "align_self": null,
      "border": null,
      "bottom": null,
      "display": null,
      "flex": null,
      "flex_flow": null,
      "grid_area": null,
      "grid_auto_columns": null,
      "grid_auto_flow": null,
      "grid_auto_rows": null,
      "grid_column": null,
      "grid_gap": null,
      "grid_row": null,
      "grid_template_areas": null,
      "grid_template_columns": null,
      "grid_template_rows": null,
      "height": null,
      "justify_content": null,
      "justify_items": null,
      "left": null,
      "margin": null,
      "max_height": null,
      "max_width": null,
      "min_height": null,
      "min_width": null,
      "object_fit": null,
      "object_position": null,
      "order": null,
      "overflow": null,
      "overflow_x": null,
      "overflow_y": null,
      "padding": null,
      "right": null,
      "top": null,
      "visibility": null,
      "width": null
     }
    },
    "7d47f25b8726465081bfa3df02a592a4": {
     "model_module": "@jupyter-widgets/controls",
     "model_module_version": "1.5.0",
     "model_name": "FloatProgressModel",
     "state": {
      "_dom_classes": [],
      "_model_module": "@jupyter-widgets/controls",
      "_model_module_version": "1.5.0",
      "_model_name": "FloatProgressModel",
      "_view_count": null,
      "_view_module": "@jupyter-widgets/controls",
      "_view_module_version": "1.5.0",
      "_view_name": "ProgressView",
      "bar_style": "success",
      "description": "",
      "description_tooltip": null,
      "layout": "IPY_MODEL_3187b2c87ca84ffcb9b9f83a6f4dc4e8",
      "max": 1080667,
      "min": 0,
      "orientation": "horizontal",
      "style": "IPY_MODEL_d4503597a4ca4e78ac2dc792180e7129",
      "value": 1080667
     }
    },
    "7dea3f18798a4805848874c1712aeff0": {
     "model_module": "@jupyter-widgets/base",
     "model_module_version": "1.2.0",
     "model_name": "LayoutModel",
     "state": {
      "_model_module": "@jupyter-widgets/base",
      "_model_module_version": "1.2.0",
      "_model_name": "LayoutModel",
      "_view_count": null,
      "_view_module": "@jupyter-widgets/base",
      "_view_module_version": "1.2.0",
      "_view_name": "LayoutView",
      "align_content": null,
      "align_items": null,
      "align_self": null,
      "border": null,
      "bottom": null,
      "display": null,
      "flex": null,
      "flex_flow": null,
      "grid_area": null,
      "grid_auto_columns": null,
      "grid_auto_flow": null,
      "grid_auto_rows": null,
      "grid_column": null,
      "grid_gap": null,
      "grid_row": null,
      "grid_template_areas": null,
      "grid_template_columns": null,
      "grid_template_rows": null,
      "height": null,
      "justify_content": null,
      "justify_items": null,
      "left": null,
      "margin": null,
      "max_height": null,
      "max_width": null,
      "min_height": null,
      "min_width": null,
      "object_fit": null,
      "object_position": null,
      "order": null,
      "overflow": null,
      "overflow_x": null,
      "overflow_y": null,
      "padding": null,
      "right": null,
      "top": null,
      "visibility": null,
      "width": null
     }
    },
    "7e4b76f574964fd08b86c1a4aa184fce": {
     "model_module": "@jupyter-widgets/controls",
     "model_module_version": "1.5.0",
     "model_name": "DescriptionStyleModel",
     "state": {
      "_model_module": "@jupyter-widgets/controls",
      "_model_module_version": "1.5.0",
      "_model_name": "DescriptionStyleModel",
      "_view_count": null,
      "_view_module": "@jupyter-widgets/base",
      "_view_module_version": "1.2.0",
      "_view_name": "StyleView",
      "description_width": ""
     }
    },
    "7ef07703d60743f3be8d5d85be02568b": {
     "model_module": "@jupyter-widgets/base",
     "model_module_version": "1.2.0",
     "model_name": "LayoutModel",
     "state": {
      "_model_module": "@jupyter-widgets/base",
      "_model_module_version": "1.2.0",
      "_model_name": "LayoutModel",
      "_view_count": null,
      "_view_module": "@jupyter-widgets/base",
      "_view_module_version": "1.2.0",
      "_view_name": "LayoutView",
      "align_content": null,
      "align_items": null,
      "align_self": null,
      "border": null,
      "bottom": null,
      "display": null,
      "flex": null,
      "flex_flow": null,
      "grid_area": null,
      "grid_auto_columns": null,
      "grid_auto_flow": null,
      "grid_auto_rows": null,
      "grid_column": null,
      "grid_gap": null,
      "grid_row": null,
      "grid_template_areas": null,
      "grid_template_columns": null,
      "grid_template_rows": null,
      "height": null,
      "justify_content": null,
      "justify_items": null,
      "left": null,
      "margin": null,
      "max_height": null,
      "max_width": null,
      "min_height": null,
      "min_width": null,
      "object_fit": null,
      "object_position": null,
      "order": null,
      "overflow": null,
      "overflow_x": null,
      "overflow_y": null,
      "padding": null,
      "right": null,
      "top": null,
      "visibility": null,
      "width": null
     }
    },
    "7f819f48144f49cc821fe11af1aee7d5": {
     "model_module": "@jupyter-widgets/controls",
     "model_module_version": "1.5.0",
     "model_name": "HTMLModel",
     "state": {
      "_dom_classes": [],
      "_model_module": "@jupyter-widgets/controls",
      "_model_module_version": "1.5.0",
      "_model_name": "HTMLModel",
      "_view_count": null,
      "_view_module": "@jupyter-widgets/controls",
      "_view_module_version": "1.5.0",
      "_view_name": "HTMLView",
      "description": "",
      "description_tooltip": null,
      "layout": "IPY_MODEL_3ced318d5048473f921d14015a53cb82",
      "placeholder": "​",
      "style": "IPY_MODEL_170cd54e701c4636bd0294904cfb4771",
      "value": "Map: 100%"
     }
    },
    "80b92fca7ba44737bcf39dba856e53a0": {
     "model_module": "@jupyter-widgets/controls",
     "model_module_version": "1.5.0",
     "model_name": "FloatProgressModel",
     "state": {
      "_dom_classes": [],
      "_model_module": "@jupyter-widgets/controls",
      "_model_module_version": "1.5.0",
      "_model_name": "FloatProgressModel",
      "_view_count": null,
      "_view_module": "@jupyter-widgets/controls",
      "_view_module_version": "1.5.0",
      "_view_name": "ProgressView",
      "bar_style": "success",
      "description": "",
      "description_tooltip": null,
      "layout": "IPY_MODEL_6fc5d2942c6d44029cfa1fec8944340c",
      "max": 800,
      "min": 0,
      "orientation": "horizontal",
      "style": "IPY_MODEL_33a5ea26081d41d1bb81e711789d1743",
      "value": 800
     }
    },
    "8138533ea7d5414f85e3188773865bd1": {
     "model_module": "@jupyter-widgets/controls",
     "model_module_version": "1.5.0",
     "model_name": "DescriptionStyleModel",
     "state": {
      "_model_module": "@jupyter-widgets/controls",
      "_model_module_version": "1.5.0",
      "_model_name": "DescriptionStyleModel",
      "_view_count": null,
      "_view_module": "@jupyter-widgets/base",
      "_view_module_version": "1.2.0",
      "_view_name": "StyleView",
      "description_width": ""
     }
    },
    "81d2e4fdb0ce4a8e89aab9a1b3998911": {
     "model_module": "@jupyter-widgets/base",
     "model_module_version": "1.2.0",
     "model_name": "LayoutModel",
     "state": {
      "_model_module": "@jupyter-widgets/base",
      "_model_module_version": "1.2.0",
      "_model_name": "LayoutModel",
      "_view_count": null,
      "_view_module": "@jupyter-widgets/base",
      "_view_module_version": "1.2.0",
      "_view_name": "LayoutView",
      "align_content": null,
      "align_items": null,
      "align_self": null,
      "border": null,
      "bottom": null,
      "display": null,
      "flex": null,
      "flex_flow": null,
      "grid_area": null,
      "grid_auto_columns": null,
      "grid_auto_flow": null,
      "grid_auto_rows": null,
      "grid_column": null,
      "grid_gap": null,
      "grid_row": null,
      "grid_template_areas": null,
      "grid_template_columns": null,
      "grid_template_rows": null,
      "height": null,
      "justify_content": null,
      "justify_items": null,
      "left": null,
      "margin": null,
      "max_height": null,
      "max_width": null,
      "min_height": null,
      "min_width": null,
      "object_fit": null,
      "object_position": null,
      "order": null,
      "overflow": null,
      "overflow_x": null,
      "overflow_y": null,
      "padding": null,
      "right": null,
      "top": null,
      "visibility": null,
      "width": null
     }
    },
    "8215ee4c7ce94d7bbdb747b078827557": {
     "model_module": "@jupyter-widgets/controls",
     "model_module_version": "1.5.0",
     "model_name": "DescriptionStyleModel",
     "state": {
      "_model_module": "@jupyter-widgets/controls",
      "_model_module_version": "1.5.0",
      "_model_name": "DescriptionStyleModel",
      "_view_count": null,
      "_view_module": "@jupyter-widgets/base",
      "_view_module_version": "1.2.0",
      "_view_name": "StyleView",
      "description_width": ""
     }
    },
    "8260f411b59d4ce5a14a813c3325d9ba": {
     "model_module": "@jupyter-widgets/controls",
     "model_module_version": "1.5.0",
     "model_name": "HTMLModel",
     "state": {
      "_dom_classes": [],
      "_model_module": "@jupyter-widgets/controls",
      "_model_module_version": "1.5.0",
      "_model_name": "HTMLModel",
      "_view_count": null,
      "_view_module": "@jupyter-widgets/controls",
      "_view_module_version": "1.5.0",
      "_view_name": "HTMLView",
      "description": "",
      "description_tooltip": null,
      "layout": "IPY_MODEL_c6dd7d65ccc647279f7bc7d6068518ff",
      "placeholder": "​",
      "style": "IPY_MODEL_b46ff2f5e28a47ea8ec31d5d48437856",
      "value": " 693/693 [00:00&lt;00:00, 41.0kB/s]"
     }
    },
    "87033229f47f47eaa4fc83b1fdd39164": {
     "model_module": "@jupyter-widgets/controls",
     "model_module_version": "1.5.0",
     "model_name": "HBoxModel",
     "state": {
      "_dom_classes": [],
      "_model_module": "@jupyter-widgets/controls",
      "_model_module_version": "1.5.0",
      "_model_name": "HBoxModel",
      "_view_count": null,
      "_view_module": "@jupyter-widgets/controls",
      "_view_module_version": "1.5.0",
      "_view_name": "HBoxView",
      "box_style": "",
      "children": [
       "IPY_MODEL_b5db682d094e47ee82570b223a8ed06d",
       "IPY_MODEL_8dcc024baa8245a78850d670fbfc1331",
       "IPY_MODEL_06918dd787f84e89ab080a63bf741ace"
      ],
      "layout": "IPY_MODEL_9ee6bc90e0574d8f83ce140df4b0bd75"
     }
    },
    "888afbe245d54498a5b53dfd90c5d07b": {
     "model_module": "@jupyter-widgets/base",
     "model_module_version": "1.2.0",
     "model_name": "LayoutModel",
     "state": {
      "_model_module": "@jupyter-widgets/base",
      "_model_module_version": "1.2.0",
      "_model_name": "LayoutModel",
      "_view_count": null,
      "_view_module": "@jupyter-widgets/base",
      "_view_module_version": "1.2.0",
      "_view_name": "LayoutView",
      "align_content": null,
      "align_items": null,
      "align_self": null,
      "border": null,
      "bottom": null,
      "display": null,
      "flex": null,
      "flex_flow": null,
      "grid_area": null,
      "grid_auto_columns": null,
      "grid_auto_flow": null,
      "grid_auto_rows": null,
      "grid_column": null,
      "grid_gap": null,
      "grid_row": null,
      "grid_template_areas": null,
      "grid_template_columns": null,
      "grid_template_rows": null,
      "height": null,
      "justify_content": null,
      "justify_items": null,
      "left": null,
      "margin": null,
      "max_height": null,
      "max_width": null,
      "min_height": null,
      "min_width": null,
      "object_fit": null,
      "object_position": null,
      "order": null,
      "overflow": null,
      "overflow_x": null,
      "overflow_y": null,
      "padding": null,
      "right": null,
      "top": null,
      "visibility": null,
      "width": null
     }
    },
    "892ce69c50a84be4aa5a17816840816e": {
     "model_module": "@jupyter-widgets/controls",
     "model_module_version": "1.5.0",
     "model_name": "ProgressStyleModel",
     "state": {
      "_model_module": "@jupyter-widgets/controls",
      "_model_module_version": "1.5.0",
      "_model_name": "ProgressStyleModel",
      "_view_count": null,
      "_view_module": "@jupyter-widgets/base",
      "_view_module_version": "1.2.0",
      "_view_name": "StyleView",
      "bar_color": null,
      "description_width": ""
     }
    },
    "8a66f58a1cd64ac4a98331b3a50c9a1e": {
     "model_module": "@jupyter-widgets/base",
     "model_module_version": "1.2.0",
     "model_name": "LayoutModel",
     "state": {
      "_model_module": "@jupyter-widgets/base",
      "_model_module_version": "1.2.0",
      "_model_name": "LayoutModel",
      "_view_count": null,
      "_view_module": "@jupyter-widgets/base",
      "_view_module_version": "1.2.0",
      "_view_name": "LayoutView",
      "align_content": null,
      "align_items": null,
      "align_self": null,
      "border": null,
      "bottom": null,
      "display": null,
      "flex": null,
      "flex_flow": null,
      "grid_area": null,
      "grid_auto_columns": null,
      "grid_auto_flow": null,
      "grid_auto_rows": null,
      "grid_column": null,
      "grid_gap": null,
      "grid_row": null,
      "grid_template_areas": null,
      "grid_template_columns": null,
      "grid_template_rows": null,
      "height": null,
      "justify_content": null,
      "justify_items": null,
      "left": null,
      "margin": null,
      "max_height": null,
      "max_width": null,
      "min_height": null,
      "min_width": null,
      "object_fit": null,
      "object_position": null,
      "order": null,
      "overflow": null,
      "overflow_x": null,
      "overflow_y": null,
      "padding": null,
      "right": null,
      "top": null,
      "visibility": null,
      "width": null
     }
    },
    "8b6e6643564f474097f6d72b0be6bc82": {
     "model_module": "@jupyter-widgets/controls",
     "model_module_version": "1.5.0",
     "model_name": "DescriptionStyleModel",
     "state": {
      "_model_module": "@jupyter-widgets/controls",
      "_model_module_version": "1.5.0",
      "_model_name": "DescriptionStyleModel",
      "_view_count": null,
      "_view_module": "@jupyter-widgets/base",
      "_view_module_version": "1.2.0",
      "_view_name": "StyleView",
      "description_width": ""
     }
    },
    "8bb1742228a64f89aa31b79cdc150683": {
     "model_module": "@jupyter-widgets/controls",
     "model_module_version": "1.5.0",
     "model_name": "FloatProgressModel",
     "state": {
      "_dom_classes": [],
      "_model_module": "@jupyter-widgets/controls",
      "_model_module_version": "1.5.0",
      "_model_name": "FloatProgressModel",
      "_view_count": null,
      "_view_module": "@jupyter-widgets/controls",
      "_view_module_version": "1.5.0",
      "_view_name": "ProgressView",
      "bar_style": "success",
      "description": "",
      "description_tooltip": null,
      "layout": "IPY_MODEL_71c3eb4f7ba54162a461302e873793a6",
      "max": 6338,
      "min": 0,
      "orientation": "horizontal",
      "style": "IPY_MODEL_fa69953be13f410cb896746941831498",
      "value": 6338
     }
    },
    "8dcc024baa8245a78850d670fbfc1331": {
     "model_module": "@jupyter-widgets/controls",
     "model_module_version": "1.5.0",
     "model_name": "FloatProgressModel",
     "state": {
      "_dom_classes": [],
      "_model_module": "@jupyter-widgets/controls",
      "_model_module_version": "1.5.0",
      "_model_name": "FloatProgressModel",
      "_view_count": null,
      "_view_module": "@jupyter-widgets/controls",
      "_view_module_version": "1.5.0",
      "_view_name": "ProgressView",
      "bar_style": "success",
      "description": "",
      "description_tooltip": null,
      "layout": "IPY_MODEL_3bd310cf2cdd4b7aa7d0bf8ef38557fe",
      "max": 117529600,
      "min": 0,
      "orientation": "horizontal",
      "style": "IPY_MODEL_46ada61886d64c48a42c51a3944f37ea",
      "value": 117529600
     }
    },
    "92395bc950594b1fb199e9bc0b9ce0ce": {
     "model_module": "@jupyter-widgets/controls",
     "model_module_version": "1.5.0",
     "model_name": "FloatProgressModel",
     "state": {
      "_dom_classes": [],
      "_model_module": "@jupyter-widgets/controls",
      "_model_module_version": "1.5.0",
      "_model_name": "FloatProgressModel",
      "_view_count": null,
      "_view_module": "@jupyter-widgets/controls",
      "_view_module_version": "1.5.0",
      "_view_name": "ProgressView",
      "bar_style": "success",
      "description": "",
      "description_tooltip": null,
      "layout": "IPY_MODEL_a09b0be82e054188bcbf840dec7e4cbd",
      "max": 401,
      "min": 0,
      "orientation": "horizontal",
      "style": "IPY_MODEL_a4e98e3cb49e4acfbeb3f908482afc9e",
      "value": 401
     }
    },
    "92bea217ed014eeab7fa8c52650aa675": {
     "model_module": "@jupyter-widgets/controls",
     "model_module_version": "1.5.0",
     "model_name": "ProgressStyleModel",
     "state": {
      "_model_module": "@jupyter-widgets/controls",
      "_model_module_version": "1.5.0",
      "_model_name": "ProgressStyleModel",
      "_view_count": null,
      "_view_module": "@jupyter-widgets/base",
      "_view_module_version": "1.2.0",
      "_view_name": "StyleView",
      "bar_color": null,
      "description_width": ""
     }
    },
    "94c1c95dafb14c28bdb881b5a6b0a95e": {
     "model_module": "@jupyter-widgets/controls",
     "model_module_version": "1.5.0",
     "model_name": "HTMLModel",
     "state": {
      "_dom_classes": [],
      "_model_module": "@jupyter-widgets/controls",
      "_model_module_version": "1.5.0",
      "_model_name": "HTMLModel",
      "_view_count": null,
      "_view_module": "@jupyter-widgets/controls",
      "_view_module_version": "1.5.0",
      "_view_name": "HTMLView",
      "description": "",
      "description_tooltip": null,
      "layout": "IPY_MODEL_31a05249fcee44079420a0b1d4f72bbb",
      "placeholder": "​",
      "style": "IPY_MODEL_9ce5c7f458fd4efa8deede4375fe40ec",
      "value": " 1.08M/1.08M [00:00&lt;00:00, 3.32MB/s]"
     }
    },
    "977132206750468590af452e6a92fa44": {
     "model_module": "@jupyter-widgets/base",
     "model_module_version": "1.2.0",
     "model_name": "LayoutModel",
     "state": {
      "_model_module": "@jupyter-widgets/base",
      "_model_module_version": "1.2.0",
      "_model_name": "LayoutModel",
      "_view_count": null,
      "_view_module": "@jupyter-widgets/base",
      "_view_module_version": "1.2.0",
      "_view_name": "LayoutView",
      "align_content": null,
      "align_items": null,
      "align_self": null,
      "border": null,
      "bottom": null,
      "display": null,
      "flex": null,
      "flex_flow": null,
      "grid_area": null,
      "grid_auto_columns": null,
      "grid_auto_flow": null,
      "grid_auto_rows": null,
      "grid_column": null,
      "grid_gap": null,
      "grid_row": null,
      "grid_template_areas": null,
      "grid_template_columns": null,
      "grid_template_rows": null,
      "height": null,
      "justify_content": null,
      "justify_items": null,
      "left": null,
      "margin": null,
      "max_height": null,
      "max_width": null,
      "min_height": null,
      "min_width": null,
      "object_fit": null,
      "object_position": null,
      "order": null,
      "overflow": null,
      "overflow_x": null,
      "overflow_y": null,
      "padding": null,
      "right": null,
      "top": null,
      "visibility": null,
      "width": null
     }
    },
    "977aafe7332547a09a93d59eda427526": {
     "model_module": "@jupyter-widgets/controls",
     "model_module_version": "1.5.0",
     "model_name": "HBoxModel",
     "state": {
      "_dom_classes": [],
      "_model_module": "@jupyter-widgets/controls",
      "_model_module_version": "1.5.0",
      "_model_name": "HBoxModel",
      "_view_count": null,
      "_view_module": "@jupyter-widgets/controls",
      "_view_module_version": "1.5.0",
      "_view_name": "HBoxView",
      "box_style": "",
      "children": [
       "IPY_MODEL_486df1c635c444a6862750e2dbbb5eb6",
       "IPY_MODEL_8bb1742228a64f89aa31b79cdc150683",
       "IPY_MODEL_27e14ee578544546a2c62bf9f0deedd7"
      ],
      "layout": "IPY_MODEL_fb1df176d7414af0b85b8cfd06c4c4c7"
     }
    },
    "9b7788cabd704493856631039d53d52d": {
     "model_module": "@jupyter-widgets/base",
     "model_module_version": "1.2.0",
     "model_name": "LayoutModel",
     "state": {
      "_model_module": "@jupyter-widgets/base",
      "_model_module_version": "1.2.0",
      "_model_name": "LayoutModel",
      "_view_count": null,
      "_view_module": "@jupyter-widgets/base",
      "_view_module_version": "1.2.0",
      "_view_name": "LayoutView",
      "align_content": null,
      "align_items": null,
      "align_self": null,
      "border": null,
      "bottom": null,
      "display": null,
      "flex": null,
      "flex_flow": null,
      "grid_area": null,
      "grid_auto_columns": null,
      "grid_auto_flow": null,
      "grid_auto_rows": null,
      "grid_column": null,
      "grid_gap": null,
      "grid_row": null,
      "grid_template_areas": null,
      "grid_template_columns": null,
      "grid_template_rows": null,
      "height": null,
      "justify_content": null,
      "justify_items": null,
      "left": null,
      "margin": null,
      "max_height": null,
      "max_width": null,
      "min_height": null,
      "min_width": null,
      "object_fit": null,
      "object_position": null,
      "order": null,
      "overflow": null,
      "overflow_x": null,
      "overflow_y": null,
      "padding": null,
      "right": null,
      "top": null,
      "visibility": null,
      "width": null
     }
    },
    "9c00bd4c6f9e44aa86307b16420a3426": {
     "model_module": "@jupyter-widgets/controls",
     "model_module_version": "1.5.0",
     "model_name": "DescriptionStyleModel",
     "state": {
      "_model_module": "@jupyter-widgets/controls",
      "_model_module_version": "1.5.0",
      "_model_name": "DescriptionStyleModel",
      "_view_count": null,
      "_view_module": "@jupyter-widgets/base",
      "_view_module_version": "1.2.0",
      "_view_name": "StyleView",
      "description_width": ""
     }
    },
    "9ce5c7f458fd4efa8deede4375fe40ec": {
     "model_module": "@jupyter-widgets/controls",
     "model_module_version": "1.5.0",
     "model_name": "DescriptionStyleModel",
     "state": {
      "_model_module": "@jupyter-widgets/controls",
      "_model_module_version": "1.5.0",
      "_model_name": "DescriptionStyleModel",
      "_view_count": null,
      "_view_module": "@jupyter-widgets/base",
      "_view_module_version": "1.2.0",
      "_view_name": "StyleView",
      "description_width": ""
     }
    },
    "9ee6bc90e0574d8f83ce140df4b0bd75": {
     "model_module": "@jupyter-widgets/base",
     "model_module_version": "1.2.0",
     "model_name": "LayoutModel",
     "state": {
      "_model_module": "@jupyter-widgets/base",
      "_model_module_version": "1.2.0",
      "_model_name": "LayoutModel",
      "_view_count": null,
      "_view_module": "@jupyter-widgets/base",
      "_view_module_version": "1.2.0",
      "_view_name": "LayoutView",
      "align_content": null,
      "align_items": null,
      "align_self": null,
      "border": null,
      "bottom": null,
      "display": null,
      "flex": null,
      "flex_flow": null,
      "grid_area": null,
      "grid_auto_columns": null,
      "grid_auto_flow": null,
      "grid_auto_rows": null,
      "grid_column": null,
      "grid_gap": null,
      "grid_row": null,
      "grid_template_areas": null,
      "grid_template_columns": null,
      "grid_template_rows": null,
      "height": null,
      "justify_content": null,
      "justify_items": null,
      "left": null,
      "margin": null,
      "max_height": null,
      "max_width": null,
      "min_height": null,
      "min_width": null,
      "object_fit": null,
      "object_position": null,
      "order": null,
      "overflow": null,
      "overflow_x": null,
      "overflow_y": null,
      "padding": null,
      "right": null,
      "top": null,
      "visibility": null,
      "width": null
     }
    },
    "a09b0be82e054188bcbf840dec7e4cbd": {
     "model_module": "@jupyter-widgets/base",
     "model_module_version": "1.2.0",
     "model_name": "LayoutModel",
     "state": {
      "_model_module": "@jupyter-widgets/base",
      "_model_module_version": "1.2.0",
      "_model_name": "LayoutModel",
      "_view_count": null,
      "_view_module": "@jupyter-widgets/base",
      "_view_module_version": "1.2.0",
      "_view_name": "LayoutView",
      "align_content": null,
      "align_items": null,
      "align_self": null,
      "border": null,
      "bottom": null,
      "display": null,
      "flex": null,
      "flex_flow": null,
      "grid_area": null,
      "grid_auto_columns": null,
      "grid_auto_flow": null,
      "grid_auto_rows": null,
      "grid_column": null,
      "grid_gap": null,
      "grid_row": null,
      "grid_template_areas": null,
      "grid_template_columns": null,
      "grid_template_rows": null,
      "height": null,
      "justify_content": null,
      "justify_items": null,
      "left": null,
      "margin": null,
      "max_height": null,
      "max_width": null,
      "min_height": null,
      "min_width": null,
      "object_fit": null,
      "object_position": null,
      "order": null,
      "overflow": null,
      "overflow_x": null,
      "overflow_y": null,
      "padding": null,
      "right": null,
      "top": null,
      "visibility": null,
      "width": null
     }
    },
    "a0f22a5850654e629d3f0378f4e06ff7": {
     "model_module": "@jupyter-widgets/controls",
     "model_module_version": "1.5.0",
     "model_name": "HTMLModel",
     "state": {
      "_dom_classes": [],
      "_model_module": "@jupyter-widgets/controls",
      "_model_module_version": "1.5.0",
      "_model_name": "HTMLModel",
      "_view_count": null,
      "_view_module": "@jupyter-widgets/controls",
      "_view_module_version": "1.5.0",
      "_view_name": "HTMLView",
      "description": "",
      "description_tooltip": null,
      "layout": "IPY_MODEL_53ef8d7dcd6e45aa8dcbed9afb558512",
      "placeholder": "​",
      "style": "IPY_MODEL_8215ee4c7ce94d7bbdb747b078827557",
      "value": " 800/800 [00:01&lt;00:00, 700.14 examples/s]"
     }
    },
    "a329c6b7b2cf46f39d4d77437e942720": {
     "model_module": "@jupyter-widgets/controls",
     "model_module_version": "1.5.0",
     "model_name": "DescriptionStyleModel",
     "state": {
      "_model_module": "@jupyter-widgets/controls",
      "_model_module_version": "1.5.0",
      "_model_name": "DescriptionStyleModel",
      "_view_count": null,
      "_view_module": "@jupyter-widgets/base",
      "_view_module_version": "1.2.0",
      "_view_name": "StyleView",
      "description_width": ""
     }
    },
    "a4e98e3cb49e4acfbeb3f908482afc9e": {
     "model_module": "@jupyter-widgets/controls",
     "model_module_version": "1.5.0",
     "model_name": "ProgressStyleModel",
     "state": {
      "_model_module": "@jupyter-widgets/controls",
      "_model_module_version": "1.5.0",
      "_model_name": "ProgressStyleModel",
      "_view_count": null,
      "_view_module": "@jupyter-widgets/base",
      "_view_module_version": "1.2.0",
      "_view_name": "StyleView",
      "bar_color": null,
      "description_width": ""
     }
    },
    "b46ff2f5e28a47ea8ec31d5d48437856": {
     "model_module": "@jupyter-widgets/controls",
     "model_module_version": "1.5.0",
     "model_name": "DescriptionStyleModel",
     "state": {
      "_model_module": "@jupyter-widgets/controls",
      "_model_module_version": "1.5.0",
      "_model_name": "DescriptionStyleModel",
      "_view_count": null,
      "_view_module": "@jupyter-widgets/base",
      "_view_module_version": "1.2.0",
      "_view_name": "StyleView",
      "description_width": ""
     }
    },
    "b5db682d094e47ee82570b223a8ed06d": {
     "model_module": "@jupyter-widgets/controls",
     "model_module_version": "1.5.0",
     "model_name": "HTMLModel",
     "state": {
      "_dom_classes": [],
      "_model_module": "@jupyter-widgets/controls",
      "_model_module_version": "1.5.0",
      "_model_name": "HTMLModel",
      "_view_count": null,
      "_view_module": "@jupyter-widgets/controls",
      "_view_module_version": "1.5.0",
      "_view_name": "HTMLView",
      "description": "",
      "description_tooltip": null,
      "layout": "IPY_MODEL_888afbe245d54498a5b53dfd90c5d07b",
      "placeholder": "​",
      "style": "IPY_MODEL_7e4b76f574964fd08b86c1a4aa184fce",
      "value": "model.safetensors: 100%"
     }
    },
    "b72dcc7410c0451e937830949137b42b": {
     "model_module": "@jupyter-widgets/controls",
     "model_module_version": "1.5.0",
     "model_name": "DescriptionStyleModel",
     "state": {
      "_model_module": "@jupyter-widgets/controls",
      "_model_module_version": "1.5.0",
      "_model_name": "DescriptionStyleModel",
      "_view_count": null,
      "_view_module": "@jupyter-widgets/base",
      "_view_module_version": "1.2.0",
      "_view_name": "StyleView",
      "description_width": ""
     }
    },
    "bc344d707ac14b10bcd62525e3c8ad5b": {
     "model_module": "@jupyter-widgets/base",
     "model_module_version": "1.2.0",
     "model_name": "LayoutModel",
     "state": {
      "_model_module": "@jupyter-widgets/base",
      "_model_module_version": "1.2.0",
      "_model_name": "LayoutModel",
      "_view_count": null,
      "_view_module": "@jupyter-widgets/base",
      "_view_module_version": "1.2.0",
      "_view_name": "LayoutView",
      "align_content": null,
      "align_items": null,
      "align_self": null,
      "border": null,
      "bottom": null,
      "display": null,
      "flex": null,
      "flex_flow": null,
      "grid_area": null,
      "grid_auto_columns": null,
      "grid_auto_flow": null,
      "grid_auto_rows": null,
      "grid_column": null,
      "grid_gap": null,
      "grid_row": null,
      "grid_template_areas": null,
      "grid_template_columns": null,
      "grid_template_rows": null,
      "height": null,
      "justify_content": null,
      "justify_items": null,
      "left": null,
      "margin": null,
      "max_height": null,
      "max_width": null,
      "min_height": null,
      "min_width": null,
      "object_fit": null,
      "object_position": null,
      "order": null,
      "overflow": null,
      "overflow_x": null,
      "overflow_y": null,
      "padding": null,
      "right": null,
      "top": null,
      "visibility": null,
      "width": null
     }
    },
    "bcea29d400064ce4926c6f9f3be64cfa": {
     "model_module": "@jupyter-widgets/controls",
     "model_module_version": "1.5.0",
     "model_name": "HTMLModel",
     "state": {
      "_dom_classes": [],
      "_model_module": "@jupyter-widgets/controls",
      "_model_module_version": "1.5.0",
      "_model_name": "HTMLModel",
      "_view_count": null,
      "_view_module": "@jupyter-widgets/controls",
      "_view_module_version": "1.5.0",
      "_view_name": "HTMLView",
      "description": "",
      "description_tooltip": null,
      "layout": "IPY_MODEL_5bbb2617c4a748b0b98d52d7e83d00a6",
      "placeholder": "​",
      "style": "IPY_MODEL_5caf224ae452478eb2b66c5bc27bbd06",
      "value": "Map: 100%"
     }
    },
    "bda6c4fa9c62434aa3eb4c099695700f": {
     "model_module": "@jupyter-widgets/base",
     "model_module_version": "1.2.0",
     "model_name": "LayoutModel",
     "state": {
      "_model_module": "@jupyter-widgets/base",
      "_model_module_version": "1.2.0",
      "_model_name": "LayoutModel",
      "_view_count": null,
      "_view_module": "@jupyter-widgets/base",
      "_view_module_version": "1.2.0",
      "_view_name": "LayoutView",
      "align_content": null,
      "align_items": null,
      "align_self": null,
      "border": null,
      "bottom": null,
      "display": null,
      "flex": null,
      "flex_flow": null,
      "grid_area": null,
      "grid_auto_columns": null,
      "grid_auto_flow": null,
      "grid_auto_rows": null,
      "grid_column": null,
      "grid_gap": null,
      "grid_row": null,
      "grid_template_areas": null,
      "grid_template_columns": null,
      "grid_template_rows": null,
      "height": null,
      "justify_content": null,
      "justify_items": null,
      "left": null,
      "margin": null,
      "max_height": null,
      "max_width": null,
      "min_height": null,
      "min_width": null,
      "object_fit": null,
      "object_position": null,
      "order": null,
      "overflow": null,
      "overflow_x": null,
      "overflow_y": null,
      "padding": null,
      "right": null,
      "top": null,
      "visibility": null,
      "width": null
     }
    },
    "c271f5ca798e41c190fac749074f2f0f": {
     "model_module": "@jupyter-widgets/controls",
     "model_module_version": "1.5.0",
     "model_name": "ProgressStyleModel",
     "state": {
      "_model_module": "@jupyter-widgets/controls",
      "_model_module_version": "1.5.0",
      "_model_name": "ProgressStyleModel",
      "_view_count": null,
      "_view_module": "@jupyter-widgets/base",
      "_view_module_version": "1.2.0",
      "_view_name": "StyleView",
      "bar_color": null,
      "description_width": ""
     }
    },
    "c6dd7d65ccc647279f7bc7d6068518ff": {
     "model_module": "@jupyter-widgets/base",
     "model_module_version": "1.2.0",
     "model_name": "LayoutModel",
     "state": {
      "_model_module": "@jupyter-widgets/base",
      "_model_module_version": "1.2.0",
      "_model_name": "LayoutModel",
      "_view_count": null,
      "_view_module": "@jupyter-widgets/base",
      "_view_module_version": "1.2.0",
      "_view_name": "LayoutView",
      "align_content": null,
      "align_items": null,
      "align_self": null,
      "border": null,
      "bottom": null,
      "display": null,
      "flex": null,
      "flex_flow": null,
      "grid_area": null,
      "grid_auto_columns": null,
      "grid_auto_flow": null,
      "grid_auto_rows": null,
      "grid_column": null,
      "grid_gap": null,
      "grid_row": null,
      "grid_template_areas": null,
      "grid_template_columns": null,
      "grid_template_rows": null,
      "height": null,
      "justify_content": null,
      "justify_items": null,
      "left": null,
      "margin": null,
      "max_height": null,
      "max_width": null,
      "min_height": null,
      "min_width": null,
      "object_fit": null,
      "object_position": null,
      "order": null,
      "overflow": null,
      "overflow_x": null,
      "overflow_y": null,
      "padding": null,
      "right": null,
      "top": null,
      "visibility": null,
      "width": null
     }
    },
    "cb61347f82f849d686a55e190e5c419b": {
     "model_module": "@jupyter-widgets/controls",
     "model_module_version": "1.5.0",
     "model_name": "HBoxModel",
     "state": {
      "_dom_classes": [],
      "_model_module": "@jupyter-widgets/controls",
      "_model_module_version": "1.5.0",
      "_model_name": "HBoxModel",
      "_view_count": null,
      "_view_module": "@jupyter-widgets/controls",
      "_view_module_version": "1.5.0",
      "_view_name": "HBoxView",
      "box_style": "",
      "children": [
       "IPY_MODEL_258c78ab87d14d42ab0b1d31f6f7c8f2",
       "IPY_MODEL_29f458a9aded493b9fe42c287f0592dc",
       "IPY_MODEL_53d936d441a446aba92c6efb84fe001a"
      ],
      "layout": "IPY_MODEL_1b2d2b902fb24b05beabe55579d438bb"
     }
    },
    "d4503597a4ca4e78ac2dc792180e7129": {
     "model_module": "@jupyter-widgets/controls",
     "model_module_version": "1.5.0",
     "model_name": "ProgressStyleModel",
     "state": {
      "_model_module": "@jupyter-widgets/controls",
      "_model_module_version": "1.5.0",
      "_model_name": "ProgressStyleModel",
      "_view_count": null,
      "_view_module": "@jupyter-widgets/base",
      "_view_module_version": "1.2.0",
      "_view_name": "StyleView",
      "bar_color": null,
      "description_width": ""
     }
    },
    "d607f6b225aa42d696376949d6b71280": {
     "model_module": "@jupyter-widgets/controls",
     "model_module_version": "1.5.0",
     "model_name": "HTMLModel",
     "state": {
      "_dom_classes": [],
      "_model_module": "@jupyter-widgets/controls",
      "_model_module_version": "1.5.0",
      "_model_name": "HTMLModel",
      "_view_count": null,
      "_view_module": "@jupyter-widgets/controls",
      "_view_module_version": "1.5.0",
      "_view_name": "HTMLView",
      "description": "",
      "description_tooltip": null,
      "layout": "IPY_MODEL_67cdca5760e2437ca62dce53bab529f4",
      "placeholder": "​",
      "style": "IPY_MODEL_1f67ddbf73d14a2f85495b8d781082a4",
      "value": "config.json: 100%"
     }
    },
    "da7fff87de754ad5a61a0372e2330baf": {
     "model_module": "@jupyter-widgets/controls",
     "model_module_version": "1.5.0",
     "model_name": "FloatProgressModel",
     "state": {
      "_dom_classes": [],
      "_model_module": "@jupyter-widgets/controls",
      "_model_module_version": "1.5.0",
      "_model_name": "FloatProgressModel",
      "_view_count": null,
      "_view_module": "@jupyter-widgets/controls",
      "_view_module_version": "1.5.0",
      "_view_name": "ProgressView",
      "bar_style": "success",
      "description": "",
      "description_tooltip": null,
      "layout": "IPY_MODEL_8a66f58a1cd64ac4a98331b3a50c9a1e",
      "max": 800,
      "min": 0,
      "orientation": "horizontal",
      "style": "IPY_MODEL_892ce69c50a84be4aa5a17816840816e",
      "value": 800
     }
    },
    "db69f524e12542a0b1a653b9a217a3a3": {
     "model_module": "@jupyter-widgets/base",
     "model_module_version": "1.2.0",
     "model_name": "LayoutModel",
     "state": {
      "_model_module": "@jupyter-widgets/base",
      "_model_module_version": "1.2.0",
      "_model_name": "LayoutModel",
      "_view_count": null,
      "_view_module": "@jupyter-widgets/base",
      "_view_module_version": "1.2.0",
      "_view_name": "LayoutView",
      "align_content": null,
      "align_items": null,
      "align_self": null,
      "border": null,
      "bottom": null,
      "display": null,
      "flex": null,
      "flex_flow": null,
      "grid_area": null,
      "grid_auto_columns": null,
      "grid_auto_flow": null,
      "grid_auto_rows": null,
      "grid_column": null,
      "grid_gap": null,
      "grid_row": null,
      "grid_template_areas": null,
      "grid_template_columns": null,
      "grid_template_rows": null,
      "height": null,
      "justify_content": null,
      "justify_items": null,
      "left": null,
      "margin": null,
      "max_height": null,
      "max_width": null,
      "min_height": null,
      "min_width": null,
      "object_fit": null,
      "object_position": null,
      "order": null,
      "overflow": null,
      "overflow_x": null,
      "overflow_y": null,
      "padding": null,
      "right": null,
      "top": null,
      "visibility": null,
      "width": null
     }
    },
    "db707579533342a0879eabd6075d4ed6": {
     "model_module": "@jupyter-widgets/base",
     "model_module_version": "1.2.0",
     "model_name": "LayoutModel",
     "state": {
      "_model_module": "@jupyter-widgets/base",
      "_model_module_version": "1.2.0",
      "_model_name": "LayoutModel",
      "_view_count": null,
      "_view_module": "@jupyter-widgets/base",
      "_view_module_version": "1.2.0",
      "_view_name": "LayoutView",
      "align_content": null,
      "align_items": null,
      "align_self": null,
      "border": null,
      "bottom": null,
      "display": null,
      "flex": null,
      "flex_flow": null,
      "grid_area": null,
      "grid_auto_columns": null,
      "grid_auto_flow": null,
      "grid_auto_rows": null,
      "grid_column": null,
      "grid_gap": null,
      "grid_row": null,
      "grid_template_areas": null,
      "grid_template_columns": null,
      "grid_template_rows": null,
      "height": null,
      "justify_content": null,
      "justify_items": null,
      "left": null,
      "margin": null,
      "max_height": null,
      "max_width": null,
      "min_height": null,
      "min_width": null,
      "object_fit": null,
      "object_position": null,
      "order": null,
      "overflow": null,
      "overflow_x": null,
      "overflow_y": null,
      "padding": null,
      "right": null,
      "top": null,
      "visibility": null,
      "width": null
     }
    },
    "db8d83e29e8d40599eaffc120e7fd20f": {
     "model_module": "@jupyter-widgets/controls",
     "model_module_version": "1.5.0",
     "model_name": "HTMLModel",
     "state": {
      "_dom_classes": [],
      "_model_module": "@jupyter-widgets/controls",
      "_model_module_version": "1.5.0",
      "_model_name": "HTMLModel",
      "_view_count": null,
      "_view_module": "@jupyter-widgets/controls",
      "_view_module_version": "1.5.0",
      "_view_name": "HTMLView",
      "description": "",
      "description_tooltip": null,
      "layout": "IPY_MODEL_bda6c4fa9c62434aa3eb4c099695700f",
      "placeholder": "​",
      "style": "IPY_MODEL_8b6e6643564f474097f6d72b0be6bc82",
      "value": "vocab.txt: 100%"
     }
    },
    "dbc60bcfb7364148907efab94f559f12": {
     "model_module": "@jupyter-widgets/base",
     "model_module_version": "1.2.0",
     "model_name": "LayoutModel",
     "state": {
      "_model_module": "@jupyter-widgets/base",
      "_model_module_version": "1.2.0",
      "_model_name": "LayoutModel",
      "_view_count": null,
      "_view_module": "@jupyter-widgets/base",
      "_view_module_version": "1.2.0",
      "_view_name": "LayoutView",
      "align_content": null,
      "align_items": null,
      "align_self": null,
      "border": null,
      "bottom": null,
      "display": null,
      "flex": null,
      "flex_flow": null,
      "grid_area": null,
      "grid_auto_columns": null,
      "grid_auto_flow": null,
      "grid_auto_rows": null,
      "grid_column": null,
      "grid_gap": null,
      "grid_row": null,
      "grid_template_areas": null,
      "grid_template_columns": null,
      "grid_template_rows": null,
      "height": null,
      "justify_content": null,
      "justify_items": null,
      "left": null,
      "margin": null,
      "max_height": null,
      "max_width": null,
      "min_height": null,
      "min_width": null,
      "object_fit": null,
      "object_position": null,
      "order": null,
      "overflow": null,
      "overflow_x": null,
      "overflow_y": null,
      "padding": null,
      "right": null,
      "top": null,
      "visibility": null,
      "width": null
     }
    },
    "e53e5ceee58a4b7688f1c7e4e9d74534": {
     "model_module": "@jupyter-widgets/controls",
     "model_module_version": "1.5.0",
     "model_name": "DescriptionStyleModel",
     "state": {
      "_model_module": "@jupyter-widgets/controls",
      "_model_module_version": "1.5.0",
      "_model_name": "DescriptionStyleModel",
      "_view_count": null,
      "_view_module": "@jupyter-widgets/base",
      "_view_module_version": "1.2.0",
      "_view_name": "StyleView",
      "description_width": ""
     }
    },
    "e542ffa8247e4433b9760f5c2764d8ac": {
     "model_module": "@jupyter-widgets/controls",
     "model_module_version": "1.5.0",
     "model_name": "HTMLModel",
     "state": {
      "_dom_classes": [],
      "_model_module": "@jupyter-widgets/controls",
      "_model_module_version": "1.5.0",
      "_model_name": "HTMLModel",
      "_view_count": null,
      "_view_module": "@jupyter-widgets/controls",
      "_view_module_version": "1.5.0",
      "_view_name": "HTMLView",
      "description": "",
      "description_tooltip": null,
      "layout": "IPY_MODEL_4c9f4d065c7e449387b2d71e045d9eea",
      "placeholder": "​",
      "style": "IPY_MODEL_e5eddb2d38f04bce8261318395c34aaf",
      "value": " 800/800 [00:00&lt;00:00, 17022.51 examples/s]"
     }
    },
    "e5eddb2d38f04bce8261318395c34aaf": {
     "model_module": "@jupyter-widgets/controls",
     "model_module_version": "1.5.0",
     "model_name": "DescriptionStyleModel",
     "state": {
      "_model_module": "@jupyter-widgets/controls",
      "_model_module_version": "1.5.0",
      "_model_name": "DescriptionStyleModel",
      "_view_count": null,
      "_view_module": "@jupyter-widgets/base",
      "_view_module_version": "1.2.0",
      "_view_name": "StyleView",
      "description_width": ""
     }
    },
    "e6f61bdaacaf4ac98a56e45b78c90cc3": {
     "model_module": "@jupyter-widgets/base",
     "model_module_version": "1.2.0",
     "model_name": "LayoutModel",
     "state": {
      "_model_module": "@jupyter-widgets/base",
      "_model_module_version": "1.2.0",
      "_model_name": "LayoutModel",
      "_view_count": null,
      "_view_module": "@jupyter-widgets/base",
      "_view_module_version": "1.2.0",
      "_view_name": "LayoutView",
      "align_content": null,
      "align_items": null,
      "align_self": null,
      "border": null,
      "bottom": null,
      "display": null,
      "flex": null,
      "flex_flow": null,
      "grid_area": null,
      "grid_auto_columns": null,
      "grid_auto_flow": null,
      "grid_auto_rows": null,
      "grid_column": null,
      "grid_gap": null,
      "grid_row": null,
      "grid_template_areas": null,
      "grid_template_columns": null,
      "grid_template_rows": null,
      "height": null,
      "justify_content": null,
      "justify_items": null,
      "left": null,
      "margin": null,
      "max_height": null,
      "max_width": null,
      "min_height": null,
      "min_width": null,
      "object_fit": null,
      "object_position": null,
      "order": null,
      "overflow": null,
      "overflow_x": null,
      "overflow_y": null,
      "padding": null,
      "right": null,
      "top": null,
      "visibility": null,
      "width": null
     }
    },
    "ece5aefb48ac4e44983e873ea3de2864": {
     "model_module": "@jupyter-widgets/controls",
     "model_module_version": "1.5.0",
     "model_name": "HBoxModel",
     "state": {
      "_dom_classes": [],
      "_model_module": "@jupyter-widgets/controls",
      "_model_module_version": "1.5.0",
      "_model_name": "HBoxModel",
      "_view_count": null,
      "_view_module": "@jupyter-widgets/controls",
      "_view_module_version": "1.5.0",
      "_view_name": "HBoxView",
      "box_style": "",
      "children": [
       "IPY_MODEL_d607f6b225aa42d696376949d6b71280",
       "IPY_MODEL_569035b415d941caba8a807b9b50efce",
       "IPY_MODEL_8260f411b59d4ce5a14a813c3325d9ba"
      ],
      "layout": "IPY_MODEL_dbc60bcfb7364148907efab94f559f12"
     }
    },
    "ed8d3fdf2c32491ba1a8df2e261e54c3": {
     "model_module": "@jupyter-widgets/controls",
     "model_module_version": "1.5.0",
     "model_name": "HBoxModel",
     "state": {
      "_dom_classes": [],
      "_model_module": "@jupyter-widgets/controls",
      "_model_module_version": "1.5.0",
      "_model_name": "HBoxModel",
      "_view_count": null,
      "_view_module": "@jupyter-widgets/controls",
      "_view_module_version": "1.5.0",
      "_view_name": "HBoxView",
      "box_style": "",
      "children": [
       "IPY_MODEL_db8d83e29e8d40599eaffc120e7fd20f",
       "IPY_MODEL_7d47f25b8726465081bfa3df02a592a4",
       "IPY_MODEL_94c1c95dafb14c28bdb881b5a6b0a95e"
      ],
      "layout": "IPY_MODEL_51cedb9fbee7445f871c529dacbfbae5"
     }
    },
    "f18d588895454e09841d6b4c4b75c1c3": {
     "model_module": "@jupyter-widgets/base",
     "model_module_version": "1.2.0",
     "model_name": "LayoutModel",
     "state": {
      "_model_module": "@jupyter-widgets/base",
      "_model_module_version": "1.2.0",
      "_model_name": "LayoutModel",
      "_view_count": null,
      "_view_module": "@jupyter-widgets/base",
      "_view_module_version": "1.2.0",
      "_view_name": "LayoutView",
      "align_content": null,
      "align_items": null,
      "align_self": null,
      "border": null,
      "bottom": null,
      "display": null,
      "flex": null,
      "flex_flow": null,
      "grid_area": null,
      "grid_auto_columns": null,
      "grid_auto_flow": null,
      "grid_auto_rows": null,
      "grid_column": null,
      "grid_gap": null,
      "grid_row": null,
      "grid_template_areas": null,
      "grid_template_columns": null,
      "grid_template_rows": null,
      "height": null,
      "justify_content": null,
      "justify_items": null,
      "left": null,
      "margin": null,
      "max_height": null,
      "max_width": null,
      "min_height": null,
      "min_width": null,
      "object_fit": null,
      "object_position": null,
      "order": null,
      "overflow": null,
      "overflow_x": null,
      "overflow_y": null,
      "padding": null,
      "right": null,
      "top": null,
      "visibility": null,
      "width": null
     }
    },
    "f366226c463c4e5987130194cb1a79db": {
     "model_module": "@jupyter-widgets/controls",
     "model_module_version": "1.5.0",
     "model_name": "DescriptionStyleModel",
     "state": {
      "_model_module": "@jupyter-widgets/controls",
      "_model_module_version": "1.5.0",
      "_model_name": "DescriptionStyleModel",
      "_view_count": null,
      "_view_module": "@jupyter-widgets/base",
      "_view_module_version": "1.2.0",
      "_view_name": "StyleView",
      "description_width": ""
     }
    },
    "f564f295f95346a69e6d6cbe9efbeaa1": {
     "model_module": "@jupyter-widgets/base",
     "model_module_version": "1.2.0",
     "model_name": "LayoutModel",
     "state": {
      "_model_module": "@jupyter-widgets/base",
      "_model_module_version": "1.2.0",
      "_model_name": "LayoutModel",
      "_view_count": null,
      "_view_module": "@jupyter-widgets/base",
      "_view_module_version": "1.2.0",
      "_view_name": "LayoutView",
      "align_content": null,
      "align_items": null,
      "align_self": null,
      "border": null,
      "bottom": null,
      "display": null,
      "flex": null,
      "flex_flow": null,
      "grid_area": null,
      "grid_auto_columns": null,
      "grid_auto_flow": null,
      "grid_auto_rows": null,
      "grid_column": null,
      "grid_gap": null,
      "grid_row": null,
      "grid_template_areas": null,
      "grid_template_columns": null,
      "grid_template_rows": null,
      "height": null,
      "justify_content": null,
      "justify_items": null,
      "left": null,
      "margin": null,
      "max_height": null,
      "max_width": null,
      "min_height": null,
      "min_width": null,
      "object_fit": null,
      "object_position": null,
      "order": null,
      "overflow": null,
      "overflow_x": null,
      "overflow_y": null,
      "padding": null,
      "right": null,
      "top": null,
      "visibility": null,
      "width": null
     }
    },
    "fa69953be13f410cb896746941831498": {
     "model_module": "@jupyter-widgets/controls",
     "model_module_version": "1.5.0",
     "model_name": "ProgressStyleModel",
     "state": {
      "_model_module": "@jupyter-widgets/controls",
      "_model_module_version": "1.5.0",
      "_model_name": "ProgressStyleModel",
      "_view_count": null,
      "_view_module": "@jupyter-widgets/base",
      "_view_module_version": "1.2.0",
      "_view_name": "StyleView",
      "bar_color": null,
      "description_width": ""
     }
    },
    "fae0e286b3094441bbc634a0bc6e6a92": {
     "model_module": "@jupyter-widgets/controls",
     "model_module_version": "1.5.0",
     "model_name": "ProgressStyleModel",
     "state": {
      "_model_module": "@jupyter-widgets/controls",
      "_model_module_version": "1.5.0",
      "_model_name": "ProgressStyleModel",
      "_view_count": null,
      "_view_module": "@jupyter-widgets/base",
      "_view_module_version": "1.2.0",
      "_view_name": "StyleView",
      "bar_color": null,
      "description_width": ""
     }
    },
    "fb1df176d7414af0b85b8cfd06c4c4c7": {
     "model_module": "@jupyter-widgets/base",
     "model_module_version": "1.2.0",
     "model_name": "LayoutModel",
     "state": {
      "_model_module": "@jupyter-widgets/base",
      "_model_module_version": "1.2.0",
      "_model_name": "LayoutModel",
      "_view_count": null,
      "_view_module": "@jupyter-widgets/base",
      "_view_module_version": "1.2.0",
      "_view_name": "LayoutView",
      "align_content": null,
      "align_items": null,
      "align_self": null,
      "border": null,
      "bottom": null,
      "display": null,
      "flex": null,
      "flex_flow": null,
      "grid_area": null,
      "grid_auto_columns": null,
      "grid_auto_flow": null,
      "grid_auto_rows": null,
      "grid_column": null,
      "grid_gap": null,
      "grid_row": null,
      "grid_template_areas": null,
      "grid_template_columns": null,
      "grid_template_rows": null,
      "height": null,
      "justify_content": null,
      "justify_items": null,
      "left": null,
      "margin": null,
      "max_height": null,
      "max_width": null,
      "min_height": null,
      "min_width": null,
      "object_fit": null,
      "object_position": null,
      "order": null,
      "overflow": null,
      "overflow_x": null,
      "overflow_y": null,
      "padding": null,
      "right": null,
      "top": null,
      "visibility": null,
      "width": null
     }
    },
    "fc52279ace36455d8ae498e967f4a0c1": {
     "model_module": "@jupyter-widgets/base",
     "model_module_version": "1.2.0",
     "model_name": "LayoutModel",
     "state": {
      "_model_module": "@jupyter-widgets/base",
      "_model_module_version": "1.2.0",
      "_model_name": "LayoutModel",
      "_view_count": null,
      "_view_module": "@jupyter-widgets/base",
      "_view_module_version": "1.2.0",
      "_view_name": "LayoutView",
      "align_content": null,
      "align_items": null,
      "align_self": null,
      "border": null,
      "bottom": null,
      "display": null,
      "flex": null,
      "flex_flow": null,
      "grid_area": null,
      "grid_auto_columns": null,
      "grid_auto_flow": null,
      "grid_auto_rows": null,
      "grid_column": null,
      "grid_gap": null,
      "grid_row": null,
      "grid_template_areas": null,
      "grid_template_columns": null,
      "grid_template_rows": null,
      "height": null,
      "justify_content": null,
      "justify_items": null,
      "left": null,
      "margin": null,
      "max_height": null,
      "max_width": null,
      "min_height": null,
      "min_width": null,
      "object_fit": null,
      "object_position": null,
      "order": null,
      "overflow": null,
      "overflow_x": null,
      "overflow_y": null,
      "padding": null,
      "right": null,
      "top": null,
      "visibility": null,
      "width": null
     }
    },
    "fd6945376c95446499c780df1ceae767": {
     "model_module": "@jupyter-widgets/base",
     "model_module_version": "1.2.0",
     "model_name": "LayoutModel",
     "state": {
      "_model_module": "@jupyter-widgets/base",
      "_model_module_version": "1.2.0",
      "_model_name": "LayoutModel",
      "_view_count": null,
      "_view_module": "@jupyter-widgets/base",
      "_view_module_version": "1.2.0",
      "_view_name": "LayoutView",
      "align_content": null,
      "align_items": null,
      "align_self": null,
      "border": null,
      "bottom": null,
      "display": null,
      "flex": null,
      "flex_flow": null,
      "grid_area": null,
      "grid_auto_columns": null,
      "grid_auto_flow": null,
      "grid_auto_rows": null,
      "grid_column": null,
      "grid_gap": null,
      "grid_row": null,
      "grid_template_areas": null,
      "grid_template_columns": null,
      "grid_template_rows": null,
      "height": null,
      "justify_content": null,
      "justify_items": null,
      "left": null,
      "margin": null,
      "max_height": null,
      "max_width": null,
      "min_height": null,
      "min_width": null,
      "object_fit": null,
      "object_position": null,
      "order": null,
      "overflow": null,
      "overflow_x": null,
      "overflow_y": null,
      "padding": null,
      "right": null,
      "top": null,
      "visibility": null,
      "width": null
     }
    },
    "ff08f23fced940819b887b14c9d03dee": {
     "model_module": "@jupyter-widgets/controls",
     "model_module_version": "1.5.0",
     "model_name": "DescriptionStyleModel",
     "state": {
      "_model_module": "@jupyter-widgets/controls",
      "_model_module_version": "1.5.0",
      "_model_name": "DescriptionStyleModel",
      "_view_count": null,
      "_view_module": "@jupyter-widgets/base",
      "_view_module_version": "1.2.0",
      "_view_name": "StyleView",
      "description_width": ""
     }
    }
   }
  }
 },
 "nbformat": 4,
 "nbformat_minor": 4
}
