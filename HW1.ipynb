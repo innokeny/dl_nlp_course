{
  "cells": [
    {
      "cell_type": "markdown",
      "metadata": {
        "id": "VRFzuiE712Mz"
      },
      "source": [
        "# Библиотеки"
      ]
    },
    {
      "cell_type": "code",
      "execution_count": null,
      "metadata": {
        "id": "RHtGD7ts12M1"
      },
      "outputs": [],
      "source": [
        "%%capture\n",
        "!pip install corus pandas nltk pymorphy3 scikit-learn nltk"
      ]
    },
    {
      "cell_type": "code",
      "execution_count": null,
      "metadata": {
        "colab": {
          "base_uri": "https://localhost:8080/"
        },
        "id": "3DIpsSWI12M3",
        "outputId": "caad223f-ee8e-4b61-90a6-16fc0809b2f6"
      },
      "outputs": [
        {
          "name": "stderr",
          "output_type": "stream",
          "text": [
            "[nltk_data] Downloading package stopwords to /root/nltk_data...\n",
            "[nltk_data]   Package stopwords is already up-to-date!\n"
          ]
        }
      ],
      "source": [
        "from corus import load_lenta\n",
        "import pandas as pd\n",
        "import matplotlib.pyplot as plt\n",
        "import seaborn as sns\n",
        "import pymorphy3\n",
        "import re\n",
        "import nltk\n",
        "from nltk.corpus import stopwords\n",
        "nltk.download('stopwords')\n",
        "from sklearn.model_selection import train_test_split\n",
        "from sklearn.dummy import DummyClassifier\n",
        "from sklearn.feature_extraction.text import CountVectorizer, TfidfVectorizer\n",
        "from sklearn.linear_model import LogisticRegression\n",
        "from sklearn.pipeline import Pipeline\n",
        "from sklearn.metrics import classification_report\n",
        "from sklearn.model_selection import RandomizedSearchCV, GridSearchCV\n",
        "import functools\n",
        "from itertools import chain\n",
        "from collections import Counter"
      ]
    },
    {
      "cell_type": "markdown",
      "metadata": {
        "id": "-kn1GSxh12M3"
      },
      "source": [
        "# Получение репрезентативной части датасета"
      ]
    },
    {
      "cell_type": "markdown",
      "metadata": {
        "id": "VYoVlx6Bixzi"
      },
      "source": [
        "**Размер:** 100000 текстов в датафрейме"
      ]
    },
    {
      "cell_type": "code",
      "execution_count": null,
      "metadata": {
        "collapsed": true,
        "id": "gYgWkpob12M4"
      },
      "outputs": [],
      "source": [
        "!wget https://github.com/yutkin/Lenta.Ru-News-Dataset/releases/download/v1.0/lenta-ru-news.csv.gz"
      ]
    },
    {
      "cell_type": "code",
      "execution_count": null,
      "metadata": {
        "id": "aDZSJRCy12M4"
      },
      "outputs": [],
      "source": [
        "path = 'lenta-ru-news.csv.gz'\n",
        "records = load_lenta(path)"
      ]
    },
    {
      "cell_type": "code",
      "execution_count": null,
      "metadata": {
        "id": "t1BBDSSt8jn2"
      },
      "outputs": [],
      "source": [
        "data = []\n",
        "for record in records:\n",
        "    data.append({\n",
        "        'title': record.title,\n",
        "        'text': record.text,\n",
        "        'topic': record.topic\n",
        "    })\n",
        "\n",
        "df = pd.DataFrame(data)"
      ]
    },
    {
      "cell_type": "code",
      "execution_count": null,
      "metadata": {
        "colab": {
          "base_uri": "https://localhost:8080/",
          "height": 206
        },
        "id": "QPZkoix92fxt",
        "outputId": "c4f7f7ef-ddae-4f0a-90d5-7b4e9cecb161"
      },
      "outputs": [
        {
          "data": {
            "application/vnd.google.colaboratory.intrinsic+json": {
              "type": "dataframe",
              "variable_name": "df"
            },
            "text/html": [
              "\n",
              "  <div id=\"df-79d4bffd-7130-4e2f-b2e7-302c13dc8b15\" class=\"colab-df-container\">\n",
              "    <div>\n",
              "<style scoped>\n",
              "    .dataframe tbody tr th:only-of-type {\n",
              "        vertical-align: middle;\n",
              "    }\n",
              "\n",
              "    .dataframe tbody tr th {\n",
              "        vertical-align: top;\n",
              "    }\n",
              "\n",
              "    .dataframe thead th {\n",
              "        text-align: right;\n",
              "    }\n",
              "</style>\n",
              "<table border=\"1\" class=\"dataframe\">\n",
              "  <thead>\n",
              "    <tr style=\"text-align: right;\">\n",
              "      <th></th>\n",
              "      <th>title</th>\n",
              "      <th>text</th>\n",
              "      <th>topic</th>\n",
              "    </tr>\n",
              "  </thead>\n",
              "  <tbody>\n",
              "    <tr>\n",
              "      <th>0</th>\n",
              "      <td>Названы регионы России с самой высокой смертно...</td>\n",
              "      <td>Вице-премьер по социальным вопросам Татьяна Го...</td>\n",
              "      <td>Россия</td>\n",
              "    </tr>\n",
              "    <tr>\n",
              "      <th>1</th>\n",
              "      <td>Австрия не представила доказательств вины росс...</td>\n",
              "      <td>Австрийские правоохранительные органы не предс...</td>\n",
              "      <td>Спорт</td>\n",
              "    </tr>\n",
              "    <tr>\n",
              "      <th>2</th>\n",
              "      <td>Обнаружено самое счастливое место на планете</td>\n",
              "      <td>Сотрудники социальной сети Instagram проанализ...</td>\n",
              "      <td>Путешествия</td>\n",
              "    </tr>\n",
              "    <tr>\n",
              "      <th>3</th>\n",
              "      <td>В США раскрыли сумму расходов на расследование...</td>\n",
              "      <td>С начала расследования российского вмешательст...</td>\n",
              "      <td>Мир</td>\n",
              "    </tr>\n",
              "    <tr>\n",
              "      <th>4</th>\n",
              "      <td>Хакеры рассказали о планах Великобритании зами...</td>\n",
              "      <td>Хакерская группировка Anonymous опубликовала н...</td>\n",
              "      <td>Мир</td>\n",
              "    </tr>\n",
              "  </tbody>\n",
              "</table>\n",
              "</div>\n",
              "    <div class=\"colab-df-buttons\">\n",
              "\n",
              "  <div class=\"colab-df-container\">\n",
              "    <button class=\"colab-df-convert\" onclick=\"convertToInteractive('df-79d4bffd-7130-4e2f-b2e7-302c13dc8b15')\"\n",
              "            title=\"Convert this dataframe to an interactive table.\"\n",
              "            style=\"display:none;\">\n",
              "\n",
              "  <svg xmlns=\"http://www.w3.org/2000/svg\" height=\"24px\" viewBox=\"0 -960 960 960\">\n",
              "    <path d=\"M120-120v-720h720v720H120Zm60-500h600v-160H180v160Zm220 220h160v-160H400v160Zm0 220h160v-160H400v160ZM180-400h160v-160H180v160Zm440 0h160v-160H620v160ZM180-180h160v-160H180v160Zm440 0h160v-160H620v160Z\"/>\n",
              "  </svg>\n",
              "    </button>\n",
              "\n",
              "  <style>\n",
              "    .colab-df-container {\n",
              "      display:flex;\n",
              "      gap: 12px;\n",
              "    }\n",
              "\n",
              "    .colab-df-convert {\n",
              "      background-color: #E8F0FE;\n",
              "      border: none;\n",
              "      border-radius: 50%;\n",
              "      cursor: pointer;\n",
              "      display: none;\n",
              "      fill: #1967D2;\n",
              "      height: 32px;\n",
              "      padding: 0 0 0 0;\n",
              "      width: 32px;\n",
              "    }\n",
              "\n",
              "    .colab-df-convert:hover {\n",
              "      background-color: #E2EBFA;\n",
              "      box-shadow: 0px 1px 2px rgba(60, 64, 67, 0.3), 0px 1px 3px 1px rgba(60, 64, 67, 0.15);\n",
              "      fill: #174EA6;\n",
              "    }\n",
              "\n",
              "    .colab-df-buttons div {\n",
              "      margin-bottom: 4px;\n",
              "    }\n",
              "\n",
              "    [theme=dark] .colab-df-convert {\n",
              "      background-color: #3B4455;\n",
              "      fill: #D2E3FC;\n",
              "    }\n",
              "\n",
              "    [theme=dark] .colab-df-convert:hover {\n",
              "      background-color: #434B5C;\n",
              "      box-shadow: 0px 1px 3px 1px rgba(0, 0, 0, 0.15);\n",
              "      filter: drop-shadow(0px 1px 2px rgba(0, 0, 0, 0.3));\n",
              "      fill: #FFFFFF;\n",
              "    }\n",
              "  </style>\n",
              "\n",
              "    <script>\n",
              "      const buttonEl =\n",
              "        document.querySelector('#df-79d4bffd-7130-4e2f-b2e7-302c13dc8b15 button.colab-df-convert');\n",
              "      buttonEl.style.display =\n",
              "        google.colab.kernel.accessAllowed ? 'block' : 'none';\n",
              "\n",
              "      async function convertToInteractive(key) {\n",
              "        const element = document.querySelector('#df-79d4bffd-7130-4e2f-b2e7-302c13dc8b15');\n",
              "        const dataTable =\n",
              "          await google.colab.kernel.invokeFunction('convertToInteractive',\n",
              "                                                    [key], {});\n",
              "        if (!dataTable) return;\n",
              "\n",
              "        const docLinkHtml = 'Like what you see? Visit the ' +\n",
              "          '<a target=\"_blank\" href=https://colab.research.google.com/notebooks/data_table.ipynb>data table notebook</a>'\n",
              "          + ' to learn more about interactive tables.';\n",
              "        element.innerHTML = '';\n",
              "        dataTable['output_type'] = 'display_data';\n",
              "        await google.colab.output.renderOutput(dataTable, element);\n",
              "        const docLink = document.createElement('div');\n",
              "        docLink.innerHTML = docLinkHtml;\n",
              "        element.appendChild(docLink);\n",
              "      }\n",
              "    </script>\n",
              "  </div>\n",
              "\n",
              "\n",
              "<div id=\"df-62f54989-4437-4c57-87b8-654b324b8f58\">\n",
              "  <button class=\"colab-df-quickchart\" onclick=\"quickchart('df-62f54989-4437-4c57-87b8-654b324b8f58')\"\n",
              "            title=\"Suggest charts\"\n",
              "            style=\"display:none;\">\n",
              "\n",
              "<svg xmlns=\"http://www.w3.org/2000/svg\" height=\"24px\"viewBox=\"0 0 24 24\"\n",
              "     width=\"24px\">\n",
              "    <g>\n",
              "        <path d=\"M19 3H5c-1.1 0-2 .9-2 2v14c0 1.1.9 2 2 2h14c1.1 0 2-.9 2-2V5c0-1.1-.9-2-2-2zM9 17H7v-7h2v7zm4 0h-2V7h2v10zm4 0h-2v-4h2v4z\"/>\n",
              "    </g>\n",
              "</svg>\n",
              "  </button>\n",
              "\n",
              "<style>\n",
              "  .colab-df-quickchart {\n",
              "      --bg-color: #E8F0FE;\n",
              "      --fill-color: #1967D2;\n",
              "      --hover-bg-color: #E2EBFA;\n",
              "      --hover-fill-color: #174EA6;\n",
              "      --disabled-fill-color: #AAA;\n",
              "      --disabled-bg-color: #DDD;\n",
              "  }\n",
              "\n",
              "  [theme=dark] .colab-df-quickchart {\n",
              "      --bg-color: #3B4455;\n",
              "      --fill-color: #D2E3FC;\n",
              "      --hover-bg-color: #434B5C;\n",
              "      --hover-fill-color: #FFFFFF;\n",
              "      --disabled-bg-color: #3B4455;\n",
              "      --disabled-fill-color: #666;\n",
              "  }\n",
              "\n",
              "  .colab-df-quickchart {\n",
              "    background-color: var(--bg-color);\n",
              "    border: none;\n",
              "    border-radius: 50%;\n",
              "    cursor: pointer;\n",
              "    display: none;\n",
              "    fill: var(--fill-color);\n",
              "    height: 32px;\n",
              "    padding: 0;\n",
              "    width: 32px;\n",
              "  }\n",
              "\n",
              "  .colab-df-quickchart:hover {\n",
              "    background-color: var(--hover-bg-color);\n",
              "    box-shadow: 0 1px 2px rgba(60, 64, 67, 0.3), 0 1px 3px 1px rgba(60, 64, 67, 0.15);\n",
              "    fill: var(--button-hover-fill-color);\n",
              "  }\n",
              "\n",
              "  .colab-df-quickchart-complete:disabled,\n",
              "  .colab-df-quickchart-complete:disabled:hover {\n",
              "    background-color: var(--disabled-bg-color);\n",
              "    fill: var(--disabled-fill-color);\n",
              "    box-shadow: none;\n",
              "  }\n",
              "\n",
              "  .colab-df-spinner {\n",
              "    border: 2px solid var(--fill-color);\n",
              "    border-color: transparent;\n",
              "    border-bottom-color: var(--fill-color);\n",
              "    animation:\n",
              "      spin 1s steps(1) infinite;\n",
              "  }\n",
              "\n",
              "  @keyframes spin {\n",
              "    0% {\n",
              "      border-color: transparent;\n",
              "      border-bottom-color: var(--fill-color);\n",
              "      border-left-color: var(--fill-color);\n",
              "    }\n",
              "    20% {\n",
              "      border-color: transparent;\n",
              "      border-left-color: var(--fill-color);\n",
              "      border-top-color: var(--fill-color);\n",
              "    }\n",
              "    30% {\n",
              "      border-color: transparent;\n",
              "      border-left-color: var(--fill-color);\n",
              "      border-top-color: var(--fill-color);\n",
              "      border-right-color: var(--fill-color);\n",
              "    }\n",
              "    40% {\n",
              "      border-color: transparent;\n",
              "      border-right-color: var(--fill-color);\n",
              "      border-top-color: var(--fill-color);\n",
              "    }\n",
              "    60% {\n",
              "      border-color: transparent;\n",
              "      border-right-color: var(--fill-color);\n",
              "    }\n",
              "    80% {\n",
              "      border-color: transparent;\n",
              "      border-right-color: var(--fill-color);\n",
              "      border-bottom-color: var(--fill-color);\n",
              "    }\n",
              "    90% {\n",
              "      border-color: transparent;\n",
              "      border-bottom-color: var(--fill-color);\n",
              "    }\n",
              "  }\n",
              "</style>\n",
              "\n",
              "  <script>\n",
              "    async function quickchart(key) {\n",
              "      const quickchartButtonEl =\n",
              "        document.querySelector('#' + key + ' button');\n",
              "      quickchartButtonEl.disabled = true;  // To prevent multiple clicks.\n",
              "      quickchartButtonEl.classList.add('colab-df-spinner');\n",
              "      try {\n",
              "        const charts = await google.colab.kernel.invokeFunction(\n",
              "            'suggestCharts', [key], {});\n",
              "      } catch (error) {\n",
              "        console.error('Error during call to suggestCharts:', error);\n",
              "      }\n",
              "      quickchartButtonEl.classList.remove('colab-df-spinner');\n",
              "      quickchartButtonEl.classList.add('colab-df-quickchart-complete');\n",
              "    }\n",
              "    (() => {\n",
              "      let quickchartButtonEl =\n",
              "        document.querySelector('#df-62f54989-4437-4c57-87b8-654b324b8f58 button');\n",
              "      quickchartButtonEl.style.display =\n",
              "        google.colab.kernel.accessAllowed ? 'block' : 'none';\n",
              "    })();\n",
              "  </script>\n",
              "</div>\n",
              "    </div>\n",
              "  </div>\n"
            ],
            "text/plain": [
              "                                               title  \\\n",
              "0  Названы регионы России с самой высокой смертно...   \n",
              "1  Австрия не представила доказательств вины росс...   \n",
              "2       Обнаружено самое счастливое место на планете   \n",
              "3  В США раскрыли сумму расходов на расследование...   \n",
              "4  Хакеры рассказали о планах Великобритании зами...   \n",
              "\n",
              "                                                text        topic  \n",
              "0  Вице-премьер по социальным вопросам Татьяна Го...       Россия  \n",
              "1  Австрийские правоохранительные органы не предс...        Спорт  \n",
              "2  Сотрудники социальной сети Instagram проанализ...  Путешествия  \n",
              "3  С начала расследования российского вмешательст...          Мир  \n",
              "4  Хакерская группировка Anonymous опубликовала н...          Мир  "
            ]
          },
          "execution_count": 6,
          "metadata": {},
          "output_type": "execute_result"
        }
      ],
      "source": [
        "df.head()"
      ]
    },
    {
      "cell_type": "code",
      "execution_count": null,
      "metadata": {
        "colab": {
          "base_uri": "https://localhost:8080/"
        },
        "id": "AAbG-VyT4k2E",
        "outputId": "fe64e05f-77ba-4bd1-d746-1078190883ba"
      },
      "outputs": [
        {
          "data": {
            "text/plain": [
              "(739351, 3)"
            ]
          },
          "execution_count": 7,
          "metadata": {},
          "output_type": "execute_result"
        }
      ],
      "source": [
        "df.shape"
      ]
    },
    {
      "cell_type": "code",
      "execution_count": null,
      "metadata": {
        "colab": {
          "base_uri": "https://localhost:8080/",
          "height": 822
        },
        "id": "yn9lV6hL4m96",
        "outputId": "5ded101f-ba66-44b8-a9bd-015d0965f277"
      },
      "outputs": [
        {
          "name": "stderr",
          "output_type": "stream",
          "text": [
            "<ipython-input-8-1be13f182f84>:4: FutureWarning: \n",
            "\n",
            "Passing `palette` without assigning `hue` is deprecated and will be removed in v0.14.0. Assign the `y` variable to `hue` and set `legend=False` for the same effect.\n",
            "\n",
            "  sns.barplot(x=topic_counts.values, y=topic_counts.index, palette=\"viridis\")\n"
          ]
        },
        {
          "data": {
            "image/png": "[encoded data removed]",
            "text/plain": [
              "<Figure size 1200x800 with 1 Axes>"
            ]
          },
          "metadata": {},
          "output_type": "display_data"
        }
      ],
      "source": [
        "sns.set(style=\"whitegrid\")\n",
        "topic_counts = df['topic'].value_counts()\n",
        "plt.figure(figsize=(12, 8))\n",
        "sns.barplot(x=topic_counts.values, y=topic_counts.index, palette=\"viridis\")\n",
        "plt.title('Распределение топиков в датасете', fontsize=16)\n",
        "plt.xlabel('Количество записей', fontsize=14)\n",
        "plt.ylabel('Топик', fontsize=14)\n",
        "plt.show()"
      ]
    },
    {
      "cell_type": "code",
      "execution_count": null,
      "metadata": {
        "colab": {
          "base_uri": "https://localhost:8080/",
          "height": 868
        },
        "id": "5VmPX9CGCPRh",
        "outputId": "4793efd1-f76b-40f8-b03e-f00d19950b2f"
      },
      "outputs": [
        {
          "data": {
            "text/html": [
              "<div>\n",
              "<style scoped>\n",
              "    .dataframe tbody tr th:only-of-type {\n",
              "        vertical-align: middle;\n",
              "    }\n",
              "\n",
              "    .dataframe tbody tr th {\n",
              "        vertical-align: top;\n",
              "    }\n",
              "\n",
              "    .dataframe thead th {\n",
              "        text-align: right;\n",
              "    }\n",
              "</style>\n",
              "<table border=\"1\" class=\"dataframe\">\n",
              "  <thead>\n",
              "    <tr style=\"text-align: right;\">\n",
              "      <th></th>\n",
              "      <th>count</th>\n",
              "    </tr>\n",
              "    <tr>\n",
              "      <th>topic</th>\n",
              "      <th></th>\n",
              "    </tr>\n",
              "  </thead>\n",
              "  <tbody>\n",
              "    <tr>\n",
              "      <th>Россия</th>\n",
              "      <td>160519</td>\n",
              "    </tr>\n",
              "    <tr>\n",
              "      <th>Мир</th>\n",
              "      <td>136680</td>\n",
              "    </tr>\n",
              "    <tr>\n",
              "      <th>Экономика</th>\n",
              "      <td>79538</td>\n",
              "    </tr>\n",
              "    <tr>\n",
              "      <th>Спорт</th>\n",
              "      <td>64421</td>\n",
              "    </tr>\n",
              "    <tr>\n",
              "      <th>Культура</th>\n",
              "      <td>53803</td>\n",
              "    </tr>\n",
              "    <tr>\n",
              "      <th>Бывший СССР</th>\n",
              "      <td>53402</td>\n",
              "    </tr>\n",
              "    <tr>\n",
              "      <th>Наука и техника</th>\n",
              "      <td>53136</td>\n",
              "    </tr>\n",
              "    <tr>\n",
              "      <th>Интернет и СМИ</th>\n",
              "      <td>44675</td>\n",
              "    </tr>\n",
              "    <tr>\n",
              "      <th>Из жизни</th>\n",
              "      <td>27611</td>\n",
              "    </tr>\n",
              "    <tr>\n",
              "      <th>Дом</th>\n",
              "      <td>21734</td>\n",
              "    </tr>\n",
              "    <tr>\n",
              "      <th>Силовые структуры</th>\n",
              "      <td>19596</td>\n",
              "    </tr>\n",
              "    <tr>\n",
              "      <th>Ценности</th>\n",
              "      <td>7766</td>\n",
              "    </tr>\n",
              "    <tr>\n",
              "      <th>Бизнес</th>\n",
              "      <td>7399</td>\n",
              "    </tr>\n",
              "    <tr>\n",
              "      <th>Путешествия</th>\n",
              "      <td>6408</td>\n",
              "    </tr>\n",
              "    <tr>\n",
              "      <th>69-я параллель</th>\n",
              "      <td>1268</td>\n",
              "    </tr>\n",
              "    <tr>\n",
              "      <th>Крым</th>\n",
              "      <td>666</td>\n",
              "    </tr>\n",
              "    <tr>\n",
              "      <th>Культпросвет</th>\n",
              "      <td>340</td>\n",
              "    </tr>\n",
              "    <tr>\n",
              "      <th></th>\n",
              "      <td>203</td>\n",
              "    </tr>\n",
              "    <tr>\n",
              "      <th>Легпром</th>\n",
              "      <td>114</td>\n",
              "    </tr>\n",
              "    <tr>\n",
              "      <th>Библиотека</th>\n",
              "      <td>65</td>\n",
              "    </tr>\n",
              "    <tr>\n",
              "      <th>Оружие</th>\n",
              "      <td>3</td>\n",
              "    </tr>\n",
              "    <tr>\n",
              "      <th>ЧМ-2014</th>\n",
              "      <td>2</td>\n",
              "    </tr>\n",
              "    <tr>\n",
              "      <th>МедНовости</th>\n",
              "      <td>1</td>\n",
              "    </tr>\n",
              "    <tr>\n",
              "      <th>Сочи</th>\n",
              "      <td>1</td>\n",
              "    </tr>\n",
              "  </tbody>\n",
              "</table>\n",
              "</div><br><label><b>dtype:</b> int64</label>"
            ],
            "text/plain": [
              "topic\n",
              "Россия               160519\n",
              "Мир                  136680\n",
              "Экономика             79538\n",
              "Спорт                 64421\n",
              "Культура              53803\n",
              "Бывший СССР           53402\n",
              "Наука и техника       53136\n",
              "Интернет и СМИ        44675\n",
              "Из жизни              27611\n",
              "Дом                   21734\n",
              "Силовые структуры     19596\n",
              "Ценности               7766\n",
              "Бизнес                 7399\n",
              "Путешествия            6408\n",
              "69-я параллель         1268\n",
              "Крым                    666\n",
              "Культпросвет            340\n",
              "                        203\n",
              "Легпром                 114\n",
              "Библиотека               65\n",
              "Оружие                    3\n",
              "ЧМ-2014                   2\n",
              "МедНовости                1\n",
              "Сочи                      1\n",
              "Name: count, dtype: int64"
            ]
          },
          "execution_count": 9,
          "metadata": {},
          "output_type": "execute_result"
        }
      ],
      "source": [
        "topic_counts"
      ]
    },
    {
      "cell_type": "markdown",
      "metadata": {
        "id": "StEqGW3AjQHQ"
      },
      "source": [
        "> Функция `find_optimal_base_class` определяет базовый класс, чтобы вошло максимальное кол-во топиков в датасет при ограничении в 100 тыс. текстов.\n",
        "\n"
      ]
    },
    {
      "cell_type": "code",
      "execution_count": null,
      "metadata": {
        "id": "6fThi-ksDBfB"
      },
      "outputs": [],
      "source": [
        "def find_optimal_base_class(topic_counts, max_samples=100000):\n",
        "    best = {}\n",
        "    sorted_topics = topic_counts.sort_values(ascending=False)\n",
        "\n",
        "    for topic, count in sorted_topics.items():\n",
        "        eligible = sorted_topics[sorted_topics >= count]\n",
        "        base_size = len(eligible) * count\n",
        "\n",
        "        if base_size > max_samples:\n",
        "            continue\n",
        "\n",
        "        remaining = max_samples - base_size\n",
        "        extra_per_class = remaining // len(eligible) if len(eligible) > 0 else 0\n",
        "        extra_total = sum((eligible - count).clip(upper=extra_per_class))\n",
        "        total = base_size + extra_total\n",
        "\n",
        "        score = len(eligible) * 1000 + total\n",
        "\n",
        "        if score > best.get('score', 0):\n",
        "            best = {\n",
        "                'base_class': topic,\n",
        "                'base_count': count,\n",
        "                'num_classes': len(eligible),\n",
        "                'total_samples': total,\n",
        "                'score': score\n",
        "            }\n",
        "\n",
        "    return best"
      ]
    },
    {
      "cell_type": "code",
      "execution_count": null,
      "metadata": {
        "colab": {
          "base_uri": "https://localhost:8080/"
        },
        "id": "1tCoOs6liRfd",
        "outputId": "df2e2a80-211c-4e5f-f84d-f3b183f71992"
      },
      "outputs": [
        {
          "name": "stdout",
          "output_type": "stream",
          "text": [
            "Оптимальный базовый класс: Путешествия\n",
            "Количество текстов: 6408\n",
            "Включено классов: 14\n",
            "Общий размер датасета: 99254\n"
          ]
        }
      ],
      "source": [
        "topic_counts = df['topic'].value_counts()\n",
        "best = find_optimal_base_class(topic_counts)\n",
        "\n",
        "print(f'''Оптимальный базовый класс: {best['base_class']}\n",
        "Количество текстов: {best['base_count']}\n",
        "Включено классов: {best['num_classes']}\n",
        "Общий размер датасета: {best['total_samples']}''')"
      ]
    },
    {
      "cell_type": "markdown",
      "metadata": {
        "id": "5fNfi6SqiU3P"
      },
      "source": [
        "Балансируем классы до базового уровня (6408 для \"Путешествий\")"
      ]
    },
    {
      "cell_type": "code",
      "execution_count": null,
      "metadata": {
        "id": "RBnhZ_mTiVPQ"
      },
      "outputs": [],
      "source": [
        "df_filtered = df[df['topic'].isin(topic_counts[topic_counts >= best['base_count']].index)]\n",
        "df_balanced = df_filtered.groupby('topic').head(best['base_count']).reset_index(drop=True)\n",
        "\n",
        "remaining_samples = 100000 - len(df_balanced)\n",
        "topics = df_balanced['topic'].unique().tolist()\n",
        "topics.remove(best['base_class'])\n",
        "num_classes = len(topics)\n",
        "\n",
        "samples_per_class, extra_samples = divmod(remaining_samples, num_classes)"
      ]
    },
    {
      "cell_type": "markdown",
      "metadata": {
        "id": "uQHzNpFzmTv5"
      },
      "source": [
        "Добавляем дополнительные данные к каждому классу, кроме базового"
      ]
    },
    {
      "cell_type": "code",
      "execution_count": null,
      "metadata": {
        "colab": {
          "base_uri": "https://localhost:8080/"
        },
        "id": "GprD0CVEmNNJ",
        "outputId": "a2371582-73fd-4e28-8402-127be723869d"
      },
      "outputs": [
        {
          "name": "stdout",
          "output_type": "stream",
          "text": [
            "\n",
            "Итоговое распределение:\n",
            "topic\n",
            "Россия               7200\n",
            "Спорт                7200\n",
            "Мир                  7200\n",
            "Бывший СССР          7200\n",
            "Интернет и СМИ       7200\n",
            "Силовые структуры    7199\n",
            "Экономика            7199\n",
            "Культура             7199\n",
            "Дом                  7199\n",
            "Наука и техника      7199\n",
            "Из жизни             7199\n",
            "Ценности             7199\n",
            "Бизнес               7199\n",
            "Путешествия          6408\n",
            "Name: count, dtype: int64\n",
            "Общее количество строк: 100000\n"
          ]
        }
      ],
      "source": [
        "additional = []\n",
        "for i, topic in enumerate(topics):\n",
        "    needed = samples_per_class + (i < extra_samples)\n",
        "    topic_data = df_filtered[df_filtered['topic'] == topic].iloc[best['base_count'] : best['base_count']+needed]\n",
        "    additional.append(topic_data)\n",
        "\n",
        "df_final = pd.concat([df_balanced] + additional, ignore_index=True)\n",
        "\n",
        "print(\"\\nИтоговое распределение:\")\n",
        "print(df_final['topic'].value_counts())\n",
        "print(f\"Общее количество строк: {len(df_final)}\")"
      ]
    },
    {
      "cell_type": "code",
      "execution_count": null,
      "metadata": {
        "colab": {
          "base_uri": "https://localhost:8080/",
          "height": 822
        },
        "id": "6Q0cslzl23F0",
        "outputId": "2bf7f163-61d6-4b65-85f9-4e10df5913a8"
      },
      "outputs": [
        {
          "name": "stderr",
          "output_type": "stream",
          "text": [
            "<ipython-input-14-714696da1227>:4: FutureWarning: \n",
            "\n",
            "Passing `palette` without assigning `hue` is deprecated and will be removed in v0.14.0. Assign the `y` variable to `hue` and set `legend=False` for the same effect.\n",
            "\n",
            "  sns.barplot(x=topic_counts.values, y=topic_counts.index, palette=\"viridis\")\n"
          ]
        },
        {
          "data": {
            "image/png": "[encoded data removed]",
            "text/plain": [
              "<Figure size 1200x800 with 1 Axes>"
            ]
          },
          "metadata": {},
          "output_type": "display_data"
        }
      ],
      "source": [
        "sns.set(style=\"whitegrid\")\n",
        "topic_counts = df_final['topic'].value_counts()\n",
        "plt.figure(figsize=(12, 8))\n",
        "sns.barplot(x=topic_counts.values, y=topic_counts.index, palette=\"viridis\")\n",
        "plt.title('Распределение топиков в датасете', fontsize=16)\n",
        "plt.xlabel('Количество записей', fontsize=14)\n",
        "plt.ylabel('Топик', fontsize=14)\n",
        "plt.show()"
      ]
    },
    {
      "cell_type": "markdown",
      "metadata": {
        "id": "dFK3fjrdM_33"
      },
      "source": [
        "# Предобработка данных"
      ]
    },
    {
      "cell_type": "markdown",
      "metadata": {
        "id": "gShMJw3VORv6"
      },
      "source": [
        "Заголовок часто содержит ключевые слова темы, поэтому предлагаю объединить заголовки с текстами"
      ]
    },
    {
      "cell_type": "code",
      "execution_count": null,
      "metadata": {
        "colab": {
          "base_uri": "https://localhost:8080/",
          "height": 206
        },
        "id": "3uxcpry_NHDE",
        "outputId": "abfb4da9-2ab0-461e-ea83-c5a6a329a8be"
      },
      "outputs": [
        {
          "data": {
            "application/vnd.google.colaboratory.intrinsic+json": {
              "summary": "{\n  \"name\": \"df_final\",\n  \"rows\": 100000,\n  \"fields\": [\n    {\n      \"column\": \"title\",\n      \"properties\": {\n        \"dtype\": \"string\",\n        \"num_unique_values\": 99837,\n        \"samples\": [\n          \"\\u0425\\u0430\\u043a\\u0435\\u0440\\u044b \\u043e\\u0434\\u0443\\u0440\\u0430\\u0447\\u0438\\u043b\\u0438 \\u043a\\u043b\\u0438\\u0435\\u043d\\u0442\\u043e\\u0432 \\u043f\\u043e\\u0445\\u043e\\u0440\\u043e\\u043d\\u043d\\u043e\\u0433\\u043e \\u0431\\u044e\\u0440\\u043e\",\n          \"\\u0412 \\u041c\\u0438\\u043d\\u0437\\u0434\\u0440\\u0430\\u0432\\u0435 \\u0440\\u0430\\u0441\\u0441\\u043a\\u0430\\u0437\\u0430\\u043b\\u0438 \\u043e\\u00a0\\u043f\\u0440\\u0435\\u0438\\u043c\\u0443\\u0449\\u0435\\u0441\\u0442\\u0432\\u0435 \\u0436\\u0435\\u043d\\u0449\\u0438\\u043d \\u043d\\u0430\\u0434 \\u043c\\u0443\\u0436\\u0447\\u0438\\u043d\\u0430\\u043c\\u0438\",\n          \"\\u0412 \\u043e\\u0440\\u0433\\u0430\\u043d\\u0438\\u0437\\u043c\\u0435 \\u0443\\u043b\\u0438\\u0442\\u043e\\u043a \\u043d\\u0430\\u0448\\u043b\\u0438 \\u0437\\u0430\\u043c\\u0435\\u043d\\u0443 \\u043d\\u0430\\u0440\\u043a\\u043e\\u0442\\u0438\\u0447\\u0435\\u0441\\u043a\\u0438\\u043c \\u0432\\u0435\\u0449\\u0435\\u0441\\u0442\\u0432\\u0430\\u043c\"\n        ],\n        \"semantic_type\": \"\",\n        \"description\": \"\"\n      }\n    },\n    {\n      \"column\": \"text\",\n      \"properties\": {\n        \"dtype\": \"string\",\n        \"num_unique_values\": 99998,\n        \"samples\": [\n          \"\\u0410\\u0441\\u0442\\u0440\\u043e\\u043d\\u043e\\u043c\\u044b \\u0410\\u0440\\u0438\\u0437\\u043e\\u043d\\u0441\\u043a\\u043e\\u0433\\u043e \\u0443\\u043d\\u0438\\u0432\\u0435\\u0440\\u0441\\u0438\\u0442\\u0435\\u0442\\u0430 \\u043e\\u0431\\u043d\\u0430\\u0440\\u0443\\u0436\\u0438\\u043b\\u0438 \\u0441\\u043b\\u043e\\u0436\\u043d\\u0443\\u044e \\u0441\\u0442\\u0440\\u0443\\u043a\\u0442\\u0443\\u0440\\u0443, \\u043e\\u043a\\u0440\\u0443\\u0436\\u0430\\u044e\\u0449\\u0443\\u044e \\u043c\\u043e\\u043b\\u043e\\u0434\\u0443\\u044e \\u0437\\u0432\\u0435\\u0437\\u0434\\u0443 HR 4796A. \\u041e\\u043d\\u0430 \\u0441\\u043e\\u0441\\u0442\\u043e\\u0438\\u0442 \\u0438\\u0437 \\u043e\\u0442\\u0447\\u0435\\u0442\\u043b\\u0438\\u0432\\u043e\\u0433\\u043e \\u043a\\u043e\\u043b\\u044c\\u0446\\u0430 \\u043e\\u0431\\u043b\\u043e\\u043c\\u043a\\u043e\\u0432 \\u0438 \\u043e\\u0431\\u043b\\u0430\\u043a\\u0430 \\u043d\\u0435\\u043f\\u0440\\u0430\\u0432\\u0438\\u043b\\u044c\\u043d\\u043e\\u0439 \\u0444\\u043e\\u0440\\u043c\\u044b, \\u0442\\u043e\\u0447\\u043d\\u043e\\u0435 \\u043f\\u0440\\u043e\\u0438\\u0441\\u0445\\u043e\\u0436\\u0434\\u0435\\u043d\\u0438\\u0435 \\u043a\\u043e\\u0442\\u043e\\u0440\\u043e\\u0433\\u043e \\u043f\\u043e\\u043a\\u0430 \\u043d\\u0435\\u0438\\u0437\\u0432\\u0435\\u0441\\u0442\\u043d\\u043e. \\u041e\\u0431 \\u044d\\u0442\\u043e\\u043c \\u0441\\u043e\\u043e\\u0431\\u0449\\u0430\\u0435\\u0442\\u0441\\u044f \\u0432 \\u043f\\u0440\\u0435\\u0441\\u0441-\\u0440\\u0435\\u043b\\u0438\\u0437\\u0435 Phys.org. \\u0421\\u0442\\u0440\\u0443\\u043a\\u0442\\u0443\\u0440\\u0430, \\u043e\\u0431\\u0440\\u0430\\u0437\\u043e\\u0432\\u0430\\u043d\\u043d\\u0430\\u044f \\u043f\\u044b\\u043b\\u044c\\u044e \\u0438 \\u0433\\u0430\\u0437\\u043e\\u043c, \\u0431\\u044b\\u043b\\u0430 \\u043e\\u0431\\u043d\\u0430\\u0440\\u0443\\u0436\\u0435\\u043d\\u0430 \\u0441 \\u043f\\u043e\\u043c\\u043e\\u0449\\u044c\\u044e \\u043a\\u043e\\u0441\\u043c\\u0438\\u0447\\u0435\\u0441\\u043a\\u043e\\u0433\\u043e \\u0442\\u0435\\u043b\\u0435\\u0441\\u043a\\u043e\\u043f\\u0430 Hubble. \\u0411\\u0435\\u043b\\u043e\\u0435 \\u043a\\u043e\\u043b\\u044c\\u0446\\u043e \\u0434\\u043e\\u0441\\u0442\\u0438\\u0433\\u0430\\u0435\\u0442 \\u0432 \\u0434\\u0438\\u0430\\u043c\\u0435\\u0442\\u0440\\u0435 77 \\u0430\\u0441\\u0442\\u0440\\u043e\\u043d\\u043e\\u043c\\u0438\\u0447\\u0435\\u0441\\u043a\\u0438\\u0445 \\u0435\\u0434\\u0438\\u043d\\u0438\\u0446, \\u0447\\u0442\\u043e \\u043f\\u043e\\u0447\\u0442\\u0438 \\u0432 \\u0434\\u0432\\u0430 \\u0440\\u0430\\u0437\\u0430 \\u043f\\u0440\\u0435\\u0432\\u044b\\u0448\\u0430\\u0435\\u0442 \\u0441\\u0440\\u0435\\u0434\\u043d\\u0435\\u0435 \\u0440\\u0430\\u0441\\u0441\\u0442\\u043e\\u044f\\u043d\\u0438\\u0435 \\u043e\\u0442 \\u0421\\u043e\\u043b\\u043d\\u0446\\u0430 \\u0434\\u043e \\u041f\\u043b\\u0443\\u0442\\u043e\\u043d\\u0430. \\u041f\\u0440\\u0438 \\u044d\\u0442\\u043e\\u043c \\u0437\\u0432\\u0435\\u0437\\u0434\\u043d\\u044b\\u0439 \\u0432\\u0435\\u0442\\u0435\\u0440, \\u0432\\u043e\\u0437\\u043d\\u0438\\u043a\\u0430\\u044e\\u0449\\u0438\\u0439 \\u0438\\u0437-\\u0437\\u0430 \\u0438\\u0441\\u0442\\u0435\\u0447\\u0435\\u043d\\u0438\\u044f \\u0437\\u0430\\u0440\\u044f\\u0436\\u0435\\u043d\\u043d\\u044b\\u0445 \\u0438 \\u043d\\u0435\\u0439\\u0442\\u0440\\u0430\\u043b\\u044c\\u043d\\u044b\\u0445 \\u0447\\u0430\\u0441\\u0442\\u0438\\u0446 \\u0441 \\u043f\\u043e\\u0432\\u0435\\u0440\\u0445\\u043d\\u043e\\u0441\\u0442\\u0438 \\u0441\\u0432\\u0435\\u0442\\u0438\\u043b\\u0430, \\u0432\\u044b\\u0434\\u0443\\u0432\\u0430\\u0435\\u0442 \\u0444\\u0440\\u0430\\u0433\\u043c\\u0435\\u043d\\u0442\\u044b \\u043a\\u043e\\u043b\\u044c\\u0446\\u0430 \\u0434\\u0430\\u043b\\u044c\\u0448\\u0435 \\u0432 \\u043a\\u043e\\u0441\\u043c\\u043e\\u0441. \\u0412\\u043d\\u0435\\u0448\\u043d\\u044f\\u044f \\u0441\\u0442\\u0440\\u0443\\u043a\\u0442\\u0443\\u0440\\u0430 \\u0430\\u0441\\u0438\\u043c\\u043c\\u0435\\u0442\\u0440\\u0438\\u0447\\u043d\\u0430 \\u0438 \\u0438\\u043c\\u0435\\u0435\\u0442 \\u0444\\u043e\\u0440\\u043c\\u0443 \\u0438\\u0441\\u043a\\u0440\\u0438\\u0432\\u043b\\u0435\\u043d\\u043d\\u043e\\u0433\\u043e \\u0431\\u0443\\u043c\\u0435\\u0440\\u0430\\u043d\\u0433\\u0430. \\u0423\\u0447\\u0435\\u043d\\u044b\\u0435 \\u043e\\u0431\\u044a\\u044f\\u0441\\u043d\\u044f\\u044e\\u0442 \\u044d\\u0442\\u043e \\u043d\\u0435\\u0441\\u043a\\u043e\\u043b\\u044c\\u043a\\u0438\\u043c\\u0438 \\u043f\\u0440\\u0438\\u0447\\u0438\\u043d\\u0430\\u043c\\u0438. \\u0412\\u043e-\\u043f\\u0435\\u0440\\u0432\\u044b\\u0445, \\u044d\\u0442\\u043e \\u043c\\u043e\\u0436\\u0435\\u0442 \\u0431\\u044b\\u0442\\u044c \\u0441\\u0432\\u044f\\u0437\\u0430\\u043d\\u043e \\u0441 \\u0434\\u0432\\u0438\\u0436\\u0435\\u043d\\u0438\\u0435\\u043c \\u0440\\u043e\\u0434\\u0438\\u0442\\u0435\\u043b\\u044c\\u0441\\u043a\\u043e\\u0439 \\u0437\\u0432\\u0435\\u0437\\u0434\\u044b, \\u043a\\u043e\\u0442\\u043e\\u0440\\u0430\\u044f \\u0432\\u043b\\u0438\\u044f\\u0435\\u0442 \\u043d\\u0430 \\u043c\\u0435\\u0436\\u0437\\u0432\\u0435\\u0437\\u0434\\u043d\\u0443\\u044e \\u0441\\u0440\\u0435\\u0434\\u0443, \\u043f\\u043e\\u0434\\u043e\\u0431\\u043d\\u043e \\u043b\\u043e\\u0434\\u043a\\u0435, \\u043e\\u0442 \\u043a\\u043e\\u0442\\u043e\\u0440\\u043e\\u0439 \\u0438\\u0434\\u0443\\u0442 \\u0432\\u043e\\u043b\\u043d\\u044b. \\u0412\\u043e-\\u0432\\u0442\\u043e\\u0440\\u044b\\u0445, \\u043d\\u0430 \\u043e\\u0431\\u043b\\u0430\\u043a\\u043e \\u0432\\u043b\\u0438\\u044f\\u0435\\u0442 \\u0433\\u0440\\u0430\\u0432\\u0438\\u0442\\u0430\\u0446\\u0438\\u043e\\u043d\\u043d\\u043e\\u0435 \\u043f\\u0440\\u0438\\u0442\\u044f\\u0436\\u0435\\u043d\\u0438\\u0435 \\u0441\\u043e\\u0441\\u0435\\u0434\\u043d\\u0435\\u0439 HR 4796B.\",\n          \"\\u0412 \\u043f\\u0440\\u0435\\u0434\\u0434\\u0432\\u0435\\u0440\\u0438\\u0438 \\u0447\\u0435\\u043c\\u043f\\u0438\\u043e\\u043d\\u0430\\u0442\\u0430 \\u043c\\u0438\\u0440\\u0430 \\u043f\\u043e \\u0444\\u0443\\u0442\\u0431\\u043e\\u043b\\u0443 2018 \\u043d\\u0430 \\u043e\\u0444\\u0438\\u0446\\u0438\\u0430\\u043b\\u044c\\u043d\\u043e\\u043c \\u0441\\u0430\\u0439\\u0442\\u0435 \\u0426\\u0423\\u041c\\u0430 \\u043f\\u0440\\u0435\\u0434\\u0441\\u0442\\u0430\\u0432\\u0438\\u043b\\u0438 \\u0434\\u0438\\u0437\\u0430\\u0439\\u043d\\u0435\\u0440\\u0441\\u043a\\u0438\\u0439 \\u043c\\u044f\\u0447 Deluxe Ball \\u0431\\u0440\\u0435\\u043d\\u0434\\u0430 adidas. \\u00ab\\u0412\\u0434\\u043e\\u0445\\u043d\\u043e\\u0432\\u0438\\u0432\\u0448\\u0438\\u0441\\u044c \\u043c\\u043d\\u043e\\u0433\\u043e\\u0432\\u0435\\u043a\\u043e\\u0432\\u044b\\u043c\\u0438 \\u0442\\u0440\\u0430\\u0434\\u0438\\u0446\\u0438\\u044f\\u043c\\u0438 \\u0440\\u0443\\u0441\\u0441\\u043a\\u043e\\u0433\\u043e \\u0448\\u0438\\u0442\\u044c\\u044f, \\u0434\\u0438\\u0437\\u0430\\u0439\\u043d\\u0435\\u0440\\u044b adidas \\u0443\\u043a\\u0440\\u0430\\u0441\\u0438\\u043b\\u0438 \\u043c\\u044f\\u0447 Deluxe Ball \\u0443\\u0437\\u043e\\u0440\\u0430\\u043c\\u0438, \\u043f\\u043e\\u0445\\u043e\\u0436\\u0438\\u043c\\u0438 \\u043d\\u0430 \\u0442\\u0435, \\u043a\\u043e\\u0442\\u043e\\u0440\\u044b\\u043c\\u0438 \\u0440\\u0430\\u0441\\u0448\\u0438\\u0432\\u0430\\u043b\\u0438 \\u043e\\u0434\\u0435\\u0436\\u0434\\u0443 \\u0440\\u0443\\u0441\\u0441\\u043a\\u0438\\u0445 \\u0446\\u0430\\u0440\\u0435\\u0439. \\u041a\\u0430\\u043c\\u0435\\u0440\\u0430 \\u043e\\u0431\\u0442\\u044f\\u043d\\u0443\\u0442\\u0430 \\u0432\\u044b\\u0441\\u043e\\u043a\\u043e\\u0442\\u0435\\u0445\\u043d\\u043e\\u043b\\u043e\\u0433\\u0438\\u0447\\u043d\\u044b\\u043c \\u043c\\u0430\\u0442\\u0435\\u0440\\u0438\\u0430\\u043b\\u043e\\u043c \\u0441 \\u0431\\u0430\\u0440\\u0445\\u0430\\u0442\\u0438\\u0441\\u0442\\u043e\\u0439 \\u0444\\u0430\\u043a\\u0442\\u0443\\u0440\\u043e\\u0439, \\u0432\\u044b\\u0448\\u0438\\u0442\\u044b\\u043c \\u0432\\u0440\\u0443\\u0447\\u043d\\u0443\\u044e \\u0438 \\u0438\\u043d\\u043a\\u0440\\u0443\\u0441\\u0442\\u0438\\u0440\\u043e\\u0432\\u0430\\u043d\\u043d\\u044b\\u043c \\u043a\\u0440\\u0438\\u0441\\u0442\\u0430\\u043b\\u043b\\u0430\\u043c\\u0438\\u00bb, \\u2014 \\u0433\\u043e\\u0432\\u043e\\u0440\\u0438\\u0442\\u0441\\u044f \\u0432 \\u043e\\u043f\\u0438\\u0441\\u0430\\u043d\\u0438\\u0438 \\u043a \\u043f\\u0440\\u043e\\u0434\\u0443\\u043a\\u0442\\u0443. \\u0427\\u0435\\u0440\\u043d\\u044b\\u0439 \\u043c\\u044f\\u0447 \\u0441 \\u0437\\u043e\\u043b\\u043e\\u0442\\u044b\\u043c \\u043e\\u0440\\u043d\\u0430\\u043c\\u0435\\u043d\\u0442\\u043e\\u043c \\u0432 \\u043d\\u0430\\u0446\\u0438\\u043e\\u043d\\u0430\\u043b\\u044c\\u043d\\u043e\\u043c \\u0441\\u0442\\u0438\\u043b\\u0435 \\u0434\\u043e\\u0441\\u0442\\u0443\\u043f\\u0435\\u043d \\u0434\\u043b\\u044f \\u043f\\u0440\\u0435\\u0434\\u0437\\u0430\\u043a\\u0430\\u0437\\u0430 \\u043f\\u043e \\u0446\\u0435\\u043d\\u0435 99 \\u0442\\u044b\\u0441\\u044f\\u0447 \\u0440\\u0443\\u0431\\u043b\\u0435\\u0439. \\u0412 \\u043c\\u0430\\u0435 2018 \\u0433\\u043e\\u0434\\u0430 \\u0432 \\u0426\\u0423\\u041c \\u043f\\u043e\\u0441\\u0442\\u0443\\u043f\\u0438\\u043b\\u0430 \\u043a\\u0430\\u043f\\u0441\\u0443\\u043b\\u044c\\u043d\\u0430\\u044f \\u043a\\u043e\\u043b\\u043b\\u0435\\u043a\\u0446\\u0438\\u044f \\u043c\\u0443\\u0436\\u0441\\u043a\\u043e\\u0439 \\u043e\\u0434\\u0435\\u0436\\u0434\\u044b \\u0438 \\u0430\\u043a\\u0441\\u0435\\u0441\\u0441\\u0443\\u0430\\u0440\\u043e\\u0432 \\u0438\\u0442\\u0430\\u043b\\u044c\\u044f\\u043d\\u0441\\u043a\\u043e\\u0433\\u043e \\u043c\\u043e\\u0434\\u043d\\u043e\\u0433\\u043e \\u0434\\u043e\\u043c\\u0430 Dolce & Gabbana, \\u043f\\u043e\\u0441\\u0432\\u044f\\u0449\\u0435\\u043d\\u043d\\u0430\\u044f \\u0447\\u0435\\u043c\\u043f\\u0438\\u043e\\u043d\\u0430\\u0442\\u0443 \\u043c\\u0438\\u0440\\u0430 \\u043f\\u043e \\u0444\\u0443\\u0442\\u0431\\u043e\\u043b\\u0443-2018 \\u0432 \\u0420\\u043e\\u0441\\u0441\\u0438\\u0438. \\u0412 \\u044d\\u043a\\u0441\\u043a\\u043b\\u044e\\u0437\\u0438\\u0432\\u043d\\u0443\\u044e \\u043b\\u0438\\u043d\\u0438\\u044e \\u0432\\u043e\\u0448\\u043b\\u0438 \\u0441\\u043f\\u043e\\u0440\\u0442\\u0438\\u0432\\u043d\\u044b\\u0439 \\u043a\\u043e\\u0441\\u0442\\u044e\\u043c, \\u0444\\u0443\\u0442\\u0431\\u043e\\u043b\\u043a\\u0438, \\u043f\\u0443\\u043b\\u043e\\u0432\\u0435\\u0440\\u044b, \\u043a\\u0440\\u043e\\u0441\\u0441\\u043e\\u0432\\u043a\\u0438, \\u0431\\u0435\\u0439\\u0441\\u0431\\u043e\\u043b\\u043a\\u0438 \\u0438 \\u0440\\u044e\\u043a\\u0437\\u0430\\u043a\\u0438, \\u043e\\u0444\\u043e\\u0440\\u043c\\u043b\\u0435\\u043d\\u043d\\u044b\\u0435 \\u0432 \\u0444\\u0443\\u0442\\u0431\\u043e\\u043b\\u044c\\u043d\\u043e\\u043c \\u0441\\u0442\\u0438\\u043b\\u0435 \\u0441 \\u043b\\u043e\\u0433\\u043e\\u0442\\u0438\\u043f\\u0430\\u043c\\u0438 \\u043c\\u043e\\u0434\\u043d\\u043e\\u0433\\u043e \\u0434\\u043e\\u043c\\u0430. \\u0427\\u0435\\u043c\\u043f\\u0438\\u043e\\u043d\\u0430\\u0442 \\u043c\\u0438\\u0440\\u0430 \\u043f\\u043e \\u0444\\u0443\\u0442\\u0431\\u043e\\u043b\\u0443 \\u0431\\u0443\\u0434\\u0435\\u0442 \\u043f\\u0440\\u043e\\u0445\\u043e\\u0434\\u0438\\u0442\\u044c \\u0441 14 \\u0438\\u044e\\u043d\\u044f \\u043f\\u043e 15 \\u0438\\u044e\\u043b\\u044f \\u0432 11 \\u0433\\u043e\\u0440\\u043e\\u0434\\u0430\\u0445 \\u0420\\u043e\\u0441\\u0441\\u0438\\u0438.\",\n          \"\\u0412 \\u0427\\u0438\\u0442\\u0435 \\u043e\\u0441\\u0443\\u0436\\u0434\\u0435\\u043d 40-\\u043b\\u0435\\u0442\\u043d\\u0438\\u0439 \\u043c\\u0435\\u0441\\u0442\\u043d\\u044b\\u0439 \\u0436\\u0438\\u0442\\u0435\\u043b\\u044c, \\u0441\\u043e\\u0432\\u0435\\u0440\\u0448\\u0438\\u0432\\u0448\\u0438\\u0439 \\u0441\\u0435\\u0440\\u0438\\u044e \\u043f\\u0440\\u0435\\u0441\\u0442\\u0443\\u043f\\u043b\\u0435\\u043d\\u0438\\u0439. \\u041a\\u0430\\u043a \\u0432 \\u0441\\u0440\\u0435\\u0434\\u0443, 20 \\u0434\\u0435\\u043a\\u0430\\u0431\\u0440\\u044f \\u0440\\u0430\\u0441\\u0441\\u043a\\u0430\\u0437\\u0430\\u043b \\u00ab\\u041b\\u0435\\u043d\\u0442\\u0435.\\u0440\\u0443\\u00bb \\u0415\\u0433\\u043e\\u0440 \\u041c\\u0430\\u0440\\u043a\\u043e\\u0432, \\u043e\\u0444\\u0438\\u0446\\u0438\\u0430\\u043b\\u044c\\u043d\\u044b\\u0439 \\u043f\\u0440\\u0435\\u0434\\u0441\\u0442\\u0430\\u0432\\u0438\\u0442\\u0435\\u043b\\u044c \\u0421\\u043b\\u0435\\u0434\\u0441\\u0442\\u0432\\u0435\\u043d\\u043d\\u043e\\u0433\\u043e \\u0443\\u043f\\u0440\\u0430\\u0432\\u043b\\u0435\\u043d\\u0438\\u044f \\u0421\\u041a\\u0420 \\u043f\\u043e \\u0417\\u0430\\u0431\\u0430\\u0439\\u043a\\u0430\\u043b\\u044c\\u0441\\u043a\\u043e\\u043c\\u0443 \\u043a\\u0440\\u0430\\u044e, \\u0421\\u0435\\u0440\\u0433\\u0435\\u0439 \\u041c\\u0438\\u0445\\u0430\\u0439\\u043b\\u043e\\u0432 \\u043f\\u0440\\u0438\\u0433\\u043e\\u0432\\u043e\\u0440\\u0435\\u043d \\u043a \\u043f\\u043e\\u0436\\u0438\\u0437\\u043d\\u0435\\u043d\\u043d\\u043e\\u043c\\u0443 \\u043b\\u0438\\u0448\\u0435\\u043d\\u0438\\u044e \\u0441\\u0432\\u043e\\u0431\\u043e\\u0434\\u044b. \\u041f\\u043e \\u0441\\u043b\\u043e\\u0432\\u0430\\u043c \\u041c\\u0430\\u0440\\u043a\\u043e\\u0432\\u0430, \\u0432 \\u0441\\u0435\\u043d\\u0442\\u044f\\u0431\\u0440\\u0435 2016 \\u0433\\u043e\\u0434\\u0430 \\u041c\\u0438\\u0445\\u0430\\u0439\\u043b\\u043e\\u0432 \\u0441 \\u043f\\u043e\\u0434\\u0435\\u043b\\u044c\\u043d\\u0438\\u043a\\u043e\\u043c \\u043e\\u0431\\u043d\\u0430\\u0440\\u0443\\u0436\\u0438\\u043b\\u0438 \\u043d\\u0430 \\u0431\\u0435\\u0440\\u0435\\u0433\\u0443 \\u0440\\u0435\\u043a\\u0438 \\u0418\\u043d\\u0433\\u043e\\u0434\\u0430 \\u0432 \\u0427\\u0438\\u0442\\u0438\\u043d\\u0441\\u043a\\u043e\\u043c \\u0440\\u0430\\u0439\\u043e\\u043d\\u0435 \\u0417\\u0430\\u0431\\u0430\\u0439\\u043a\\u0430\\u043b\\u044c\\u044f \\u0430\\u0432\\u0442\\u043e\\u043c\\u043e\\u0431\\u0438\\u043b\\u044c \\u0442\\u0430\\u043a\\u0441\\u0438, \\u0432\\u043e\\u0434\\u0438\\u0442\\u0435\\u043b\\u044c \\u043a\\u043e\\u0442\\u043e\\u0440\\u043e\\u0433\\u043e \\u0441\\u043f\\u0430\\u043b \\u0437\\u0430 \\u0440\\u0443\\u043b\\u0435\\u043c. \\u041e\\u043d\\u0438 \\u0441\\u043d\\u0430\\u0447\\u0430\\u043b\\u0430 \\u0443\\u043a\\u0440\\u0430\\u043b\\u0438 \\u0438\\u0437 \\u0431\\u0430\\u0433\\u0430\\u0436\\u043d\\u0438\\u043a\\u0430 \\u0430\\u0432\\u0442\\u043e\\u043c\\u043e\\u0431\\u0438\\u043b\\u044f \\u043d\\u0430\\u0431\\u043e\\u0440 \\u0438\\u043d\\u0441\\u0442\\u0440\\u0443\\u043c\\u0435\\u043d\\u0442\\u043e\\u0432, \\u0430 \\u0437\\u0430\\u0442\\u0435\\u043c \\u0440\\u0435\\u0448\\u0438\\u043b\\u0438 \\u043f\\u043e\\u0445\\u0438\\u0442\\u0438\\u0442\\u044c \\u0446\\u0435\\u043d\\u043d\\u044b\\u0435 \\u0432\\u0435\\u0449\\u0438 \\u0438\\u0437 \\u0441\\u0430\\u043b\\u043e\\u043d\\u0430. \\u041d\\u043e \\u0432 \\u043c\\u043e\\u043c\\u0435\\u043d\\u0442 \\u043a\\u0440\\u0430\\u0436\\u0438 \\u0448\\u043e\\u0444\\u0435\\u0440 \\u043f\\u0440\\u043e\\u0441\\u043d\\u0443\\u043b\\u0441\\u044f \\u0438 \\u043d\\u0430\\u0447\\u0430\\u043b \\u043e\\u043a\\u0430\\u0437\\u044b\\u0432\\u0430\\u0442\\u044c \\u0441\\u043e\\u043f\\u0440\\u043e\\u0442\\u0438\\u0432\\u043b\\u0435\\u043d\\u0438\\u0435. \\u0422\\u043e\\u0433\\u0434\\u0430 \\u041c\\u0438\\u0445\\u0430\\u0439\\u043b\\u043e\\u0432 \\u0438 \\u0435\\u0433\\u043e \\u0441\\u043e\\u0443\\u0447\\u0430\\u0441\\u0442\\u043d\\u0438\\u043a \\u043d\\u0430\\u043d\\u0435\\u0441\\u043b\\u0438 \\u043c\\u0443\\u0436\\u0447\\u0438\\u043d\\u0435 \\u043d\\u0435\\u0441\\u043a\\u043e\\u043b\\u044c\\u043a\\u043e \\u043d\\u043e\\u0436\\u0435\\u0432\\u044b\\u0445 \\u0440\\u0430\\u043d, \\u043e\\u0442 \\u043a\\u043e\\u0442\\u043e\\u0440\\u044b\\u0445 \\u043e\\u043d \\u0441\\u043a\\u043e\\u043d\\u0447\\u0430\\u043b\\u0441\\u044f \\u043d\\u0430 \\u043c\\u0435\\u0441\\u0442\\u0435 \\u043f\\u0440\\u043e\\u0438\\u0441\\u0448\\u0435\\u0441\\u0442\\u0432\\u0438\\u044f. \\u0417\\u0430\\u0442\\u0435\\u043c \\u043e\\u043d\\u0438 \\u0440\\u0435\\u0448\\u0438\\u043b\\u0438 \\u0443\\u0433\\u043d\\u0430\\u0442\\u044c \\u0430\\u0432\\u0442\\u043e\\u043c\\u043e\\u0431\\u0438\\u043b\\u044c, \\u043d\\u043e \\u043e\\u043d \\u043d\\u0435 \\u0437\\u0430\\u0432\\u0435\\u043b\\u0441\\u044f \\u2014 \\u0438 \\u0442\\u043e\\u0433\\u0434\\u0430 \\u043c\\u0430\\u0448\\u0438\\u043d\\u0443 \\u0441\\u043e\\u0436\\u0433\\u043b\\u0438. \\u00ab\\u0420\\u0430\\u0441\\u0441\\u043b\\u0435\\u0434\\u0443\\u044f \\u044d\\u0442\\u043e \\u043f\\u0440\\u0435\\u0441\\u0442\\u0443\\u043f\\u043b\\u0435\\u043d\\u0438\\u0435, \\u0441\\u043b\\u0435\\u0434\\u043e\\u0432\\u0430\\u0442\\u0435\\u043b\\u0438 \\u0443\\u0441\\u0442\\u0430\\u043d\\u043e\\u0432\\u0438\\u043b\\u0438 \\u043b\\u0438\\u0447\\u043d\\u043e\\u0441\\u0442\\u0438 \\u043f\\u043e\\u0434\\u043e\\u0437\\u0440\\u0435\\u0432\\u0430\\u0435\\u043c\\u044b\\u0445, \\u0438 \\u041c\\u0438\\u0445\\u0430\\u0439\\u043b\\u043e\\u0432 \\u0431\\u044b\\u043b \\u0437\\u0430\\u0434\\u0435\\u0440\\u0436\\u0430\\u043d. \\u041f\\u0440\\u0438 \\u043f\\u0440\\u043e\\u0432\\u0435\\u0440\\u043a\\u0435 \\u0435\\u0433\\u043e \\u0433\\u0435\\u043d\\u043e\\u0442\\u0438\\u043f\\u0430 \\u0431\\u044b\\u043b\\u0430 \\u0443\\u0441\\u0442\\u0430\\u043d\\u043e\\u0432\\u043b\\u0435\\u043d\\u0430 \\u043f\\u0440\\u0438\\u0447\\u0430\\u0441\\u0442\\u043d\\u043e\\u0441\\u0442\\u044c \\u043a \\u0440\\u0435\\u0437\\u043e\\u043d\\u0430\\u043d\\u0441\\u043d\\u043e\\u043c\\u0443 \\u043f\\u0440\\u0435\\u0441\\u0442\\u0443\\u043f\\u043b\\u0435\\u043d\\u0438\\u044e, \\u0441\\u043e\\u0432\\u0435\\u0440\\u0448\\u0435\\u043d\\u043d\\u043e\\u043c\\u0443 \\u0432 \\u0441\\u0435\\u043d\\u0442\\u044f\\u0431\\u0440\\u0435 2003 \\u0433\\u043e\\u0434\\u0430 \\u0432 \\u0427\\u0438\\u0442\\u0435. \\u041e\\u0437\\u043d\\u0430\\u043a\\u043e\\u043c\\u0438\\u0432\\u0448\\u0438\\u0441\\u044c \\u0441 \\u0437\\u0430\\u043a\\u043b\\u044e\\u0447\\u0435\\u043d\\u0438\\u0435\\u043c \\u043a\\u0440\\u0438\\u043c\\u0438\\u043d\\u0430\\u043b\\u0438\\u0441\\u0442\\u043e\\u0432, \\u043e\\u043d \\u043f\\u043e\\u043b\\u043d\\u043e\\u0441\\u0442\\u044c\\u044e \\u043f\\u0440\\u0438\\u0437\\u043d\\u0430\\u043b\\u0441\\u044f \\u0432 \\u0443\\u0431\\u0438\\u0439\\u0441\\u0442\\u0432\\u0435 \\u0440\\u0435\\u0431\\u0435\\u043d\\u043a\\u0430 \\u0438 \\u043f\\u0440\\u0438 \\u043f\\u0440\\u043e\\u0432\\u0435\\u0440\\u043a\\u0435 \\u043f\\u043e\\u043a\\u0430\\u0437\\u0430\\u043d\\u0438\\u0439 \\u043d\\u0430 \\u043c\\u0435\\u0441\\u0442\\u043d\\u043e\\u0441\\u0442\\u0438 \\u0440\\u0430\\u0441\\u0441\\u043a\\u0430\\u0437\\u0430\\u043b \\u043e\\u0431\\u043e \\u0432\\u0441\\u0435\\u0445 \\u043e\\u0431\\u0441\\u0442\\u043e\\u044f\\u0442\\u0435\\u043b\\u044c\\u0441\\u0442\\u0432\\u0430\\u0445\\u00bb, \\u2014 \\u0441\\u043e\\u043e\\u0431\\u0449\\u0438\\u043b \\u043e\\u0444\\u0438\\u0446\\u0438\\u0430\\u043b\\u044c\\u043d\\u044b\\u0439 \\u043f\\u0440\\u0435\\u0434\\u0441\\u0442\\u0430\\u0432\\u0438\\u0442\\u0435\\u043b\\u044c \\u0417\\u0430\\u0431\\u0430\\u0439\\u043a\\u0430\\u043b\\u044c\\u0441\\u043a\\u043e\\u0433\\u043e \\u0443\\u043f\\u0440\\u0430\\u0432\\u043b\\u0435\\u043d\\u0438\\u044f \\u0421\\u041a\\u0420. \\u041a\\u0430\\u043a \\u0441\\u043e\\u043e\\u0431\\u0449\\u0438\\u043b \\u041c\\u0438\\u0445\\u0430\\u0439\\u043b\\u043e\\u0432, \\u043f\\u0440\\u043e\\u0435\\u0437\\u0436\\u0430\\u044f \\u043d\\u0430 \\u0432\\u0435\\u043b\\u043e\\u0441\\u0438\\u043f\\u0435\\u0434\\u0435 \\u043f\\u043e \\u0442\\u0435\\u0440\\u0440\\u0438\\u0442\\u043e\\u0440\\u0438\\u0438 \\u0432\\u043e\\u0435\\u043d\\u043d\\u043e\\u0433\\u043e \\u043f\\u043e\\u043b\\u0438\\u0433\\u043e\\u043d\\u0430 \\u0432 \\u0440\\u0430\\u0439\\u043e\\u043d\\u0435 \\u043f\\u043e\\u0441\\u0435\\u043b\\u043a\\u0430 \\u041a\\u0430\\u0448\\u0442\\u0430\\u043a \\u0433\\u043e\\u0440\\u043e\\u0434\\u0430 \\u0427\\u0438\\u0442\\u044b, \\u043e\\u043d \\u0437\\u0430\\u043c\\u0435\\u0442\\u0438\\u043b \\u0438\\u0434\\u0443\\u0449\\u0443\\u044e \\u0434\\u0435\\u0432\\u044f\\u0442\\u0438\\u043b\\u0435\\u0442\\u043d\\u044e\\u044e \\u0434\\u0435\\u0432\\u043e\\u0447\\u043a\\u0443. \\u041c\\u0443\\u0436\\u0447\\u0438\\u043d\\u0430 \\u043d\\u0430\\u043f\\u0430\\u043b \\u043d\\u0430 \\u043d\\u0435\\u0435, \\u0437\\u0430\\u0442\\u0430\\u0449\\u0438\\u043b \\u0435\\u0435 \\u0432 \\u043f\\u043e\\u0434\\u0437\\u0435\\u043c\\u043d\\u044b\\u0439 \\u0431\\u0443\\u043d\\u043a\\u0435\\u0440, \\u0433\\u0434\\u0435 \\u043d\\u0430\\u0434\\u0440\\u0443\\u0433\\u0430\\u043b\\u0441\\u044f \\u043d\\u0430\\u0434 \\u0440\\u0435\\u0431\\u0435\\u043d\\u043a\\u043e\\u043c, \\u0430 \\u0437\\u0430\\u0442\\u0435\\u043c \\u0437\\u0430\\u0434\\u0443\\u0448\\u0438\\u043b. \\u041f\\u0440\\u043e\\u043f\\u0430\\u0432\\u0448\\u0443\\u044e \\u0434\\u0435\\u0432\\u043e\\u0447\\u043a\\u0443 \\u043d\\u0435\\u0441\\u043a\\u043e\\u043b\\u044c\\u043a\\u043e \\u0434\\u043d\\u0435\\u0439 \\u0438\\u0441\\u043a\\u0430\\u043b\\u0438 \\u043c\\u0438\\u043b\\u0438\\u0446\\u0438\\u044f, \\u0432\\u043e\\u0435\\u043d\\u043d\\u044b\\u0435 \\u0438 \\u0432\\u043e\\u043b\\u043e\\u043d\\u0442\\u0435\\u0440\\u044b \\u0422\\u043e\\u043b\\u044c\\u043a\\u043e \\u0441\\u043f\\u0443\\u0441\\u0442\\u044f \\u0442\\u0440\\u043e\\u0435 \\u0441\\u0443\\u0442\\u043e\\u043a \\u0442\\u0435\\u043b\\u043e \\u0431\\u044b\\u043b\\u043e \\u043e\\u0431\\u043d\\u0430\\u0440\\u0443\\u0436\\u0435\\u043d\\u043e, \\u043d\\u043e \\u0442\\u043e\\u0433\\u0434\\u0430 \\u0443\\u0441\\u0442\\u0430\\u043d\\u043e\\u0432\\u0438\\u0442\\u044c \\u043f\\u0440\\u0435\\u0441\\u0442\\u0443\\u043f\\u043d\\u0438\\u043a\\u0430 \\u043d\\u0435 \\u0443\\u0434\\u0430\\u043b\\u043e\\u0441\\u044c, \\u0445\\u043e\\u0442\\u044f \\u043d\\u0430 \\u043c\\u0435\\u0441\\u0442\\u0435 \\u043f\\u0440\\u043e\\u0438\\u0441\\u0448\\u0435\\u0441\\u0442\\u0432\\u0438\\u044f \\u0431\\u044b\\u043b\\u0438 \\u043e\\u0431\\u043d\\u0430\\u0440\\u0443\\u0436\\u0435\\u043d\\u044b \\u0435\\u0433\\u043e \\u0431\\u0438\\u043e\\u043b\\u043e\\u0433\\u0438\\u0447\\u0435\\u0441\\u043a\\u0438\\u0435 \\u0441\\u043b\\u0435\\u0434\\u044b. \\u0414\\u0432\\u0430 \\u0433\\u043e\\u0434\\u0430 \\u0441\\u043f\\u0443\\u0441\\u0442\\u044f, \\u0432 \\u043e\\u043a\\u0442\\u044f\\u0431\\u0440\\u0435 2005-\\u0433\\u043e, \\u043f\\u0440\\u043e\\u0435\\u0437\\u0436\\u0430\\u044f \\u0432 \\u0442\\u043e\\u043c \\u0436\\u0435 \\u0440\\u0430\\u0439\\u043e\\u043d\\u0435 \\u043d\\u0430 \\u0432\\u0435\\u043b\\u043e\\u0441\\u0438\\u043f\\u0435\\u0434\\u0435, \\u041c\\u0438\\u0445\\u0430\\u0439\\u043b\\u043e\\u0432 \\u0443\\u0432\\u0438\\u0434\\u0435\\u043b \\u0448\\u0435\\u0434\\u0448\\u0443\\u044e \\u043f\\u0435\\u0448\\u043a\\u043e\\u043c 20-\\u043b\\u0435\\u0442\\u043d\\u044e\\u044e \\u0436\\u0435\\u043d\\u0449\\u0438\\u043d\\u0443 \\u0432 \\u043a\\u0440\\u0430\\u0441\\u0438\\u0432\\u043e\\u0439 \\u0434\\u0443\\u0431\\u043b\\u0435\\u043d\\u043a\\u0435. \\u041e\\u043d \\u043d\\u0430\\u043f\\u0430\\u043b \\u043d\\u0430 \\u043d\\u0435\\u0435, \\u043d\\u0430\\u043d\\u0435\\u0441 \\u043d\\u0435\\u0441\\u043a\\u043e\\u043b\\u044c\\u043a\\u043e \\u0434\\u0435\\u0441\\u044f\\u0442\\u043a\\u043e\\u0432 \\u0443\\u0434\\u0430\\u0440\\u043e\\u0432 \\u043d\\u043e\\u0436\\u043e\\u043c \\u0432 \\u0433\\u0440\\u0443\\u0434\\u044c, \\u043f\\u043e\\u0441\\u043b\\u0435 \\u0447\\u0435\\u0433\\u043e \\u0441\\u043d\\u044f\\u043b \\u0441 \\u0442\\u0435\\u043b\\u0430 \\u0432\\u0435\\u0440\\u0445\\u043d\\u044e\\u044e \\u043e\\u0434\\u0435\\u0436\\u0434\\u0443, \\u0437\\u043e\\u043b\\u043e\\u0442\\u044b\\u0435 \\u0443\\u043a\\u0440\\u0430\\u0448\\u0435\\u043d\\u0438\\u044f \\u0438 \\u0441\\u043a\\u0440\\u044b\\u043b\\u0441\\u044f. \\u00ab\\u041f\\u043e\\u0445\\u0438\\u0449\\u0435\\u043d\\u043d\\u0443\\u044e \\u0434\\u0443\\u0431\\u043b\\u0435\\u043d\\u043a\\u0443 \\u041c\\u0438\\u0445\\u0430\\u0439\\u043b\\u043e\\u0432 \\u043f\\u044b\\u0442\\u0430\\u043b\\u0441\\u044f \\u043f\\u043e\\u0434\\u0430\\u0440\\u0438\\u0442\\u044c \\u0436\\u0435\\u043d\\u0435, \\u043d\\u043e \\u0442\\u0430 \\u043e\\u0442\\u043a\\u0430\\u0437\\u0430\\u043b\\u0430\\u0441\\u044c, \\u043e\\u0431\\u043d\\u0430\\u0440\\u0443\\u0436\\u0438\\u0432 \\u043d\\u0430 \\u043d\\u0435\\u0439 \\u043a\\u0440\\u043e\\u0432\\u044c. \\u0422\\u043e\\u0433\\u0434\\u0430 \\u0434\\u0443\\u0448\\u0435\\u0433\\u0443\\u0431 \\u0441\\u0434\\u0435\\u043b\\u0430\\u043b \\u0438\\u0437 \\u043e\\u0434\\u0435\\u0436\\u0434\\u044b \\u043a\\u043e\\u0432\\u0440\\u0438\\u043a-\\u043d\\u0430\\u043a\\u0438\\u0434\\u043a\\u0443, \\u0438 \\u0438\\u0441\\u043f\\u043e\\u043b\\u044c\\u0437\\u043e\\u0432\\u0430\\u043b \\u0434\\u043e\\u043c\\u0430. \\u041f\\u0440\\u0438\\u043c\\u0435\\u0447\\u0430\\u0442\\u0435\\u043b\\u044c\\u043d\\u043e, \\u0447\\u0442\\u043e \\u043d\\u0435\\u0441\\u043a\\u043e\\u043b\\u044c\\u043a\\u043e \\u0434\\u043d\\u0435\\u0439 \\u0441\\u043f\\u0443\\u0441\\u0442\\u044f, \\u043f\\u0440\\u043e\\u0435\\u0437\\u0436\\u0430\\u044f \\u043d\\u0430 \\u0442\\u043e\\u043c \\u0436\\u0435 \\u0432\\u0435\\u043b\\u043e\\u0441\\u0438\\u043f\\u0435\\u0434\\u0435, \\u041c\\u0438\\u0445\\u0430\\u0439\\u043b\\u043e\\u0432 \\u0443\\u0432\\u0438\\u0434\\u0435\\u043b, \\u0447\\u0442\\u043e \\u0442\\u0435\\u043b\\u043e \\u043f\\u043e\\u0433\\u0438\\u0431\\u0448\\u0435\\u0439 \\u0442\\u0430\\u043a \\u0438 \\u043d\\u0435 \\u043e\\u0431\\u043d\\u0430\\u0440\\u0443\\u0436\\u0435\\u043d\\u043e, \\u0438 \\u0441\\u0430\\u043c \\u0437\\u0430\\u044f\\u0432\\u0438\\u043b \\u0432 \\u043f\\u043e\\u043b\\u0438\\u0446\\u0438\\u044e \\u043e \\u0441\\u043e\\u0432\\u0435\\u0440\\u0448\\u0435\\u043d\\u043d\\u043e\\u043c \\u043f\\u0440\\u0435\\u0441\\u0442\\u0443\\u043f\\u043b\\u0435\\u043d\\u0438\\u0438\\u00bb, \\u2014 \\u0440\\u0430\\u0441\\u0441\\u043a\\u0430\\u0437\\u0430\\u043b \\u0415\\u0433\\u043e\\u0440 \\u041c\\u0430\\u0440\\u043a\\u043e\\u0432. \\u041e\\u043d \\u0443\\u0442\\u043e\\u0447\\u043d\\u0438\\u043b, \\u0447\\u0442\\u043e \\u0438 \\u044d\\u0442\\u043e \\u043f\\u0440\\u0435\\u0441\\u0442\\u0443\\u043f\\u043b\\u0435\\u043d\\u0438\\u0435 \\u0431\\u043e\\u043b\\u0435\\u0435 \\u0434\\u0435\\u0441\\u044f\\u0442\\u0438 \\u043b\\u0435\\u0442 \\u043e\\u0441\\u0442\\u0430\\u0432\\u0430\\u043b\\u043e\\u0441\\u044c \\u043d\\u0435\\u0440\\u0430\\u0441\\u043a\\u0440\\u044b\\u0442\\u044b\\u043c. \\u041f\\u0440\\u0438\\u0433\\u043e\\u0432\\u043e\\u0440 \\u041c\\u0438\\u0445\\u0430\\u0439\\u043b\\u043e\\u0432 \\u0432\\u044b\\u0441\\u043b\\u0443\\u0448\\u0430\\u043b \\u0441\\u0442\\u043e\\u044f, \\u043d\\u043e \\u043f\\u043e\\u0432\\u0435\\u0440\\u043d\\u0443\\u0432\\u0448\\u0438\\u0441\\u044c \\u043a \\u0441\\u0443\\u0434\\u044c\\u0435 \\u0441\\u043f\\u0438\\u043d\\u043e\\u0439. \\u041a\\u0430\\u043a \\u0440\\u0430\\u0441\\u0441\\u043a\\u0430\\u0437\\u0430\\u043b \\u00ab\\u041b\\u0435\\u043d\\u0442\\u0435.\\u0440\\u0443\\u00bb \\u0438\\u0441\\u0442\\u043e\\u0447\\u043d\\u0438\\u043a \\u0432 \\u043f\\u0440\\u0430\\u0432\\u043e\\u043e\\u0445\\u0440\\u0430\\u043d\\u0438\\u0442\\u0435\\u043b\\u044c\\u043d\\u044b\\u0445 \\u043e\\u0440\\u0433\\u0430\\u043d\\u0430\\u0445, \\u0440\\u0430\\u043d\\u0435\\u0435 \\u041c\\u0438\\u0445\\u0430\\u0439\\u043b\\u043e\\u0432 \\u0431\\u044b\\u043b \\u0441\\u0443\\u0434\\u0438\\u043c \\u0437\\u0430 \\u043a\\u043e\\u0440\\u044b\\u0441\\u0442\\u043d\\u044b\\u0435 \\u043f\\u0440\\u0435\\u0441\\u0442\\u0443\\u043f\\u043b\\u0435\\u043d\\u0438\\u044f, \\u043d\\u043e \\u0432\\u0441\\u0435 \\u0441\\u0443\\u0434\\u0438\\u043c\\u043e\\u0441\\u0442\\u0438 \\u043f\\u043e\\u0433\\u0430\\u0448\\u0435\\u043d\\u044b. \\u0422\\u0435\\u043c \\u043d\\u0435 \\u043c\\u0435\\u043d\\u0435\\u0435 \\u0441\\u043b\\u0435\\u0434\\u0441\\u0442\\u0432\\u0438\\u0435 \\u043f\\u0440\\u043e\\u0432\\u0435\\u0440\\u044f\\u0435\\u0442 \\u043f\\u0440\\u0438\\u0447\\u0430\\u0441\\u0442\\u043d\\u043e\\u0441\\u0442\\u044c \\u043e\\u0441\\u0443\\u0436\\u0434\\u0435\\u043d\\u043d\\u043e\\u0433\\u043e \\u043a \\u0434\\u0440\\u0443\\u0433\\u0438\\u043c \\u0442\\u044f\\u0436\\u043a\\u0438\\u043c \\u043f\\u0440\\u0435\\u0441\\u0442\\u0443\\u043f\\u043b\\u0435\\u043d\\u0438\\u044f\\u043c \\u2014 \\u0435\\u0441\\u0442\\u044c \\u043e\\u0441\\u043d\\u043e\\u0432\\u0430\\u043d\\u0438\\u044f \\u043f\\u043e\\u043b\\u0430\\u0433\\u0430\\u0442\\u044c, \\u0447\\u0442\\u043e \\u0447\\u0438\\u0441\\u043b\\u043e \\u0435\\u0433\\u043e \\u0436\\u0435\\u0440\\u0442\\u0432 \\u0431\\u043e\\u043b\\u044c\\u0448\\u0435.\"\n        ],\n        \"semantic_type\": \"\",\n        \"description\": \"\"\n      }\n    },\n    {\n      \"column\": \"topic\",\n      \"properties\": {\n        \"dtype\": \"category\",\n        \"num_unique_values\": 14,\n        \"samples\": [\n          \"\\u0414\\u043e\\u043c\",\n          \"\\u0418\\u0437 \\u0436\\u0438\\u0437\\u043d\\u0438\",\n          \"\\u0420\\u043e\\u0441\\u0441\\u0438\\u044f\"\n        ],\n        \"semantic_type\": \"\",\n        \"description\": \"\"\n      }\n    },\n    {\n      \"column\": \"combined_text\",\n      \"properties\": {\n        \"dtype\": \"string\",\n        \"num_unique_values\": 99998,\n        \"samples\": [\n          \"\\u0412\\u043e\\u043a\\u0440\\u0443\\u0433 \\u0437\\u0432\\u0435\\u0437\\u0434\\u044b \\u0437\\u0430\\u043c\\u0435\\u0442\\u0438\\u043b\\u0438 \\u0441\\u0442\\u0440\\u0443\\u043a\\u0442\\u0443\\u0440\\u0443 \\u043d\\u0435\\u0438\\u0437\\u0432\\u0435\\u0441\\u0442\\u043d\\u043e\\u0433\\u043e \\u043f\\u0440\\u043e\\u0438\\u0441\\u0445\\u043e\\u0436\\u0434\\u0435\\u043d\\u0438\\u044f \\u0410\\u0441\\u0442\\u0440\\u043e\\u043d\\u043e\\u043c\\u044b \\u0410\\u0440\\u0438\\u0437\\u043e\\u043d\\u0441\\u043a\\u043e\\u0433\\u043e \\u0443\\u043d\\u0438\\u0432\\u0435\\u0440\\u0441\\u0438\\u0442\\u0435\\u0442\\u0430 \\u043e\\u0431\\u043d\\u0430\\u0440\\u0443\\u0436\\u0438\\u043b\\u0438 \\u0441\\u043b\\u043e\\u0436\\u043d\\u0443\\u044e \\u0441\\u0442\\u0440\\u0443\\u043a\\u0442\\u0443\\u0440\\u0443, \\u043e\\u043a\\u0440\\u0443\\u0436\\u0430\\u044e\\u0449\\u0443\\u044e \\u043c\\u043e\\u043b\\u043e\\u0434\\u0443\\u044e \\u0437\\u0432\\u0435\\u0437\\u0434\\u0443 HR 4796A. \\u041e\\u043d\\u0430 \\u0441\\u043e\\u0441\\u0442\\u043e\\u0438\\u0442 \\u0438\\u0437 \\u043e\\u0442\\u0447\\u0435\\u0442\\u043b\\u0438\\u0432\\u043e\\u0433\\u043e \\u043a\\u043e\\u043b\\u044c\\u0446\\u0430 \\u043e\\u0431\\u043b\\u043e\\u043c\\u043a\\u043e\\u0432 \\u0438 \\u043e\\u0431\\u043b\\u0430\\u043a\\u0430 \\u043d\\u0435\\u043f\\u0440\\u0430\\u0432\\u0438\\u043b\\u044c\\u043d\\u043e\\u0439 \\u0444\\u043e\\u0440\\u043c\\u044b, \\u0442\\u043e\\u0447\\u043d\\u043e\\u0435 \\u043f\\u0440\\u043e\\u0438\\u0441\\u0445\\u043e\\u0436\\u0434\\u0435\\u043d\\u0438\\u0435 \\u043a\\u043e\\u0442\\u043e\\u0440\\u043e\\u0433\\u043e \\u043f\\u043e\\u043a\\u0430 \\u043d\\u0435\\u0438\\u0437\\u0432\\u0435\\u0441\\u0442\\u043d\\u043e. \\u041e\\u0431 \\u044d\\u0442\\u043e\\u043c \\u0441\\u043e\\u043e\\u0431\\u0449\\u0430\\u0435\\u0442\\u0441\\u044f \\u0432 \\u043f\\u0440\\u0435\\u0441\\u0441-\\u0440\\u0435\\u043b\\u0438\\u0437\\u0435 Phys.org. \\u0421\\u0442\\u0440\\u0443\\u043a\\u0442\\u0443\\u0440\\u0430, \\u043e\\u0431\\u0440\\u0430\\u0437\\u043e\\u0432\\u0430\\u043d\\u043d\\u0430\\u044f \\u043f\\u044b\\u043b\\u044c\\u044e \\u0438 \\u0433\\u0430\\u0437\\u043e\\u043c, \\u0431\\u044b\\u043b\\u0430 \\u043e\\u0431\\u043d\\u0430\\u0440\\u0443\\u0436\\u0435\\u043d\\u0430 \\u0441 \\u043f\\u043e\\u043c\\u043e\\u0449\\u044c\\u044e \\u043a\\u043e\\u0441\\u043c\\u0438\\u0447\\u0435\\u0441\\u043a\\u043e\\u0433\\u043e \\u0442\\u0435\\u043b\\u0435\\u0441\\u043a\\u043e\\u043f\\u0430 Hubble. \\u0411\\u0435\\u043b\\u043e\\u0435 \\u043a\\u043e\\u043b\\u044c\\u0446\\u043e \\u0434\\u043e\\u0441\\u0442\\u0438\\u0433\\u0430\\u0435\\u0442 \\u0432 \\u0434\\u0438\\u0430\\u043c\\u0435\\u0442\\u0440\\u0435 77 \\u0430\\u0441\\u0442\\u0440\\u043e\\u043d\\u043e\\u043c\\u0438\\u0447\\u0435\\u0441\\u043a\\u0438\\u0445 \\u0435\\u0434\\u0438\\u043d\\u0438\\u0446, \\u0447\\u0442\\u043e \\u043f\\u043e\\u0447\\u0442\\u0438 \\u0432 \\u0434\\u0432\\u0430 \\u0440\\u0430\\u0437\\u0430 \\u043f\\u0440\\u0435\\u0432\\u044b\\u0448\\u0430\\u0435\\u0442 \\u0441\\u0440\\u0435\\u0434\\u043d\\u0435\\u0435 \\u0440\\u0430\\u0441\\u0441\\u0442\\u043e\\u044f\\u043d\\u0438\\u0435 \\u043e\\u0442 \\u0421\\u043e\\u043b\\u043d\\u0446\\u0430 \\u0434\\u043e \\u041f\\u043b\\u0443\\u0442\\u043e\\u043d\\u0430. \\u041f\\u0440\\u0438 \\u044d\\u0442\\u043e\\u043c \\u0437\\u0432\\u0435\\u0437\\u0434\\u043d\\u044b\\u0439 \\u0432\\u0435\\u0442\\u0435\\u0440, \\u0432\\u043e\\u0437\\u043d\\u0438\\u043a\\u0430\\u044e\\u0449\\u0438\\u0439 \\u0438\\u0437-\\u0437\\u0430 \\u0438\\u0441\\u0442\\u0435\\u0447\\u0435\\u043d\\u0438\\u044f \\u0437\\u0430\\u0440\\u044f\\u0436\\u0435\\u043d\\u043d\\u044b\\u0445 \\u0438 \\u043d\\u0435\\u0439\\u0442\\u0440\\u0430\\u043b\\u044c\\u043d\\u044b\\u0445 \\u0447\\u0430\\u0441\\u0442\\u0438\\u0446 \\u0441 \\u043f\\u043e\\u0432\\u0435\\u0440\\u0445\\u043d\\u043e\\u0441\\u0442\\u0438 \\u0441\\u0432\\u0435\\u0442\\u0438\\u043b\\u0430, \\u0432\\u044b\\u0434\\u0443\\u0432\\u0430\\u0435\\u0442 \\u0444\\u0440\\u0430\\u0433\\u043c\\u0435\\u043d\\u0442\\u044b \\u043a\\u043e\\u043b\\u044c\\u0446\\u0430 \\u0434\\u0430\\u043b\\u044c\\u0448\\u0435 \\u0432 \\u043a\\u043e\\u0441\\u043c\\u043e\\u0441. \\u0412\\u043d\\u0435\\u0448\\u043d\\u044f\\u044f \\u0441\\u0442\\u0440\\u0443\\u043a\\u0442\\u0443\\u0440\\u0430 \\u0430\\u0441\\u0438\\u043c\\u043c\\u0435\\u0442\\u0440\\u0438\\u0447\\u043d\\u0430 \\u0438 \\u0438\\u043c\\u0435\\u0435\\u0442 \\u0444\\u043e\\u0440\\u043c\\u0443 \\u0438\\u0441\\u043a\\u0440\\u0438\\u0432\\u043b\\u0435\\u043d\\u043d\\u043e\\u0433\\u043e \\u0431\\u0443\\u043c\\u0435\\u0440\\u0430\\u043d\\u0433\\u0430. \\u0423\\u0447\\u0435\\u043d\\u044b\\u0435 \\u043e\\u0431\\u044a\\u044f\\u0441\\u043d\\u044f\\u044e\\u0442 \\u044d\\u0442\\u043e \\u043d\\u0435\\u0441\\u043a\\u043e\\u043b\\u044c\\u043a\\u0438\\u043c\\u0438 \\u043f\\u0440\\u0438\\u0447\\u0438\\u043d\\u0430\\u043c\\u0438. \\u0412\\u043e-\\u043f\\u0435\\u0440\\u0432\\u044b\\u0445, \\u044d\\u0442\\u043e \\u043c\\u043e\\u0436\\u0435\\u0442 \\u0431\\u044b\\u0442\\u044c \\u0441\\u0432\\u044f\\u0437\\u0430\\u043d\\u043e \\u0441 \\u0434\\u0432\\u0438\\u0436\\u0435\\u043d\\u0438\\u0435\\u043c \\u0440\\u043e\\u0434\\u0438\\u0442\\u0435\\u043b\\u044c\\u0441\\u043a\\u043e\\u0439 \\u0437\\u0432\\u0435\\u0437\\u0434\\u044b, \\u043a\\u043e\\u0442\\u043e\\u0440\\u0430\\u044f \\u0432\\u043b\\u0438\\u044f\\u0435\\u0442 \\u043d\\u0430 \\u043c\\u0435\\u0436\\u0437\\u0432\\u0435\\u0437\\u0434\\u043d\\u0443\\u044e \\u0441\\u0440\\u0435\\u0434\\u0443, \\u043f\\u043e\\u0434\\u043e\\u0431\\u043d\\u043e \\u043b\\u043e\\u0434\\u043a\\u0435, \\u043e\\u0442 \\u043a\\u043e\\u0442\\u043e\\u0440\\u043e\\u0439 \\u0438\\u0434\\u0443\\u0442 \\u0432\\u043e\\u043b\\u043d\\u044b. \\u0412\\u043e-\\u0432\\u0442\\u043e\\u0440\\u044b\\u0445, \\u043d\\u0430 \\u043e\\u0431\\u043b\\u0430\\u043a\\u043e \\u0432\\u043b\\u0438\\u044f\\u0435\\u0442 \\u0433\\u0440\\u0430\\u0432\\u0438\\u0442\\u0430\\u0446\\u0438\\u043e\\u043d\\u043d\\u043e\\u0435 \\u043f\\u0440\\u0438\\u0442\\u044f\\u0436\\u0435\\u043d\\u0438\\u0435 \\u0441\\u043e\\u0441\\u0435\\u0434\\u043d\\u0435\\u0439 HR 4796B.\",\n          \"\\u041a \\u0447\\u0435\\u043c\\u043f\\u0438\\u043e\\u043d\\u0430\\u0442\\u0443 \\u043c\\u0438\\u0440\\u0430 \\u043f\\u043e\\u00a0\\u0444\\u0443\\u0442\\u0431\\u043e\\u043b\\u0443 \\u0441\\u043e\\u0437\\u0434\\u0430\\u043b\\u0438 \\u044d\\u043a\\u0441\\u043a\\u043b\\u044e\\u0437\\u0438\\u0432\\u043d\\u044b\\u0439 \\u043c\\u044f\\u0447 \\u0412 \\u043f\\u0440\\u0435\\u0434\\u0434\\u0432\\u0435\\u0440\\u0438\\u0438 \\u0447\\u0435\\u043c\\u043f\\u0438\\u043e\\u043d\\u0430\\u0442\\u0430 \\u043c\\u0438\\u0440\\u0430 \\u043f\\u043e \\u0444\\u0443\\u0442\\u0431\\u043e\\u043b\\u0443 2018 \\u043d\\u0430 \\u043e\\u0444\\u0438\\u0446\\u0438\\u0430\\u043b\\u044c\\u043d\\u043e\\u043c \\u0441\\u0430\\u0439\\u0442\\u0435 \\u0426\\u0423\\u041c\\u0430 \\u043f\\u0440\\u0435\\u0434\\u0441\\u0442\\u0430\\u0432\\u0438\\u043b\\u0438 \\u0434\\u0438\\u0437\\u0430\\u0439\\u043d\\u0435\\u0440\\u0441\\u043a\\u0438\\u0439 \\u043c\\u044f\\u0447 Deluxe Ball \\u0431\\u0440\\u0435\\u043d\\u0434\\u0430 adidas. \\u00ab\\u0412\\u0434\\u043e\\u0445\\u043d\\u043e\\u0432\\u0438\\u0432\\u0448\\u0438\\u0441\\u044c \\u043c\\u043d\\u043e\\u0433\\u043e\\u0432\\u0435\\u043a\\u043e\\u0432\\u044b\\u043c\\u0438 \\u0442\\u0440\\u0430\\u0434\\u0438\\u0446\\u0438\\u044f\\u043c\\u0438 \\u0440\\u0443\\u0441\\u0441\\u043a\\u043e\\u0433\\u043e \\u0448\\u0438\\u0442\\u044c\\u044f, \\u0434\\u0438\\u0437\\u0430\\u0439\\u043d\\u0435\\u0440\\u044b adidas \\u0443\\u043a\\u0440\\u0430\\u0441\\u0438\\u043b\\u0438 \\u043c\\u044f\\u0447 Deluxe Ball \\u0443\\u0437\\u043e\\u0440\\u0430\\u043c\\u0438, \\u043f\\u043e\\u0445\\u043e\\u0436\\u0438\\u043c\\u0438 \\u043d\\u0430 \\u0442\\u0435, \\u043a\\u043e\\u0442\\u043e\\u0440\\u044b\\u043c\\u0438 \\u0440\\u0430\\u0441\\u0448\\u0438\\u0432\\u0430\\u043b\\u0438 \\u043e\\u0434\\u0435\\u0436\\u0434\\u0443 \\u0440\\u0443\\u0441\\u0441\\u043a\\u0438\\u0445 \\u0446\\u0430\\u0440\\u0435\\u0439. \\u041a\\u0430\\u043c\\u0435\\u0440\\u0430 \\u043e\\u0431\\u0442\\u044f\\u043d\\u0443\\u0442\\u0430 \\u0432\\u044b\\u0441\\u043e\\u043a\\u043e\\u0442\\u0435\\u0445\\u043d\\u043e\\u043b\\u043e\\u0433\\u0438\\u0447\\u043d\\u044b\\u043c \\u043c\\u0430\\u0442\\u0435\\u0440\\u0438\\u0430\\u043b\\u043e\\u043c \\u0441 \\u0431\\u0430\\u0440\\u0445\\u0430\\u0442\\u0438\\u0441\\u0442\\u043e\\u0439 \\u0444\\u0430\\u043a\\u0442\\u0443\\u0440\\u043e\\u0439, \\u0432\\u044b\\u0448\\u0438\\u0442\\u044b\\u043c \\u0432\\u0440\\u0443\\u0447\\u043d\\u0443\\u044e \\u0438 \\u0438\\u043d\\u043a\\u0440\\u0443\\u0441\\u0442\\u0438\\u0440\\u043e\\u0432\\u0430\\u043d\\u043d\\u044b\\u043c \\u043a\\u0440\\u0438\\u0441\\u0442\\u0430\\u043b\\u043b\\u0430\\u043c\\u0438\\u00bb, \\u2014 \\u0433\\u043e\\u0432\\u043e\\u0440\\u0438\\u0442\\u0441\\u044f \\u0432 \\u043e\\u043f\\u0438\\u0441\\u0430\\u043d\\u0438\\u0438 \\u043a \\u043f\\u0440\\u043e\\u0434\\u0443\\u043a\\u0442\\u0443. \\u0427\\u0435\\u0440\\u043d\\u044b\\u0439 \\u043c\\u044f\\u0447 \\u0441 \\u0437\\u043e\\u043b\\u043e\\u0442\\u044b\\u043c \\u043e\\u0440\\u043d\\u0430\\u043c\\u0435\\u043d\\u0442\\u043e\\u043c \\u0432 \\u043d\\u0430\\u0446\\u0438\\u043e\\u043d\\u0430\\u043b\\u044c\\u043d\\u043e\\u043c \\u0441\\u0442\\u0438\\u043b\\u0435 \\u0434\\u043e\\u0441\\u0442\\u0443\\u043f\\u0435\\u043d \\u0434\\u043b\\u044f \\u043f\\u0440\\u0435\\u0434\\u0437\\u0430\\u043a\\u0430\\u0437\\u0430 \\u043f\\u043e \\u0446\\u0435\\u043d\\u0435 99 \\u0442\\u044b\\u0441\\u044f\\u0447 \\u0440\\u0443\\u0431\\u043b\\u0435\\u0439. \\u0412 \\u043c\\u0430\\u0435 2018 \\u0433\\u043e\\u0434\\u0430 \\u0432 \\u0426\\u0423\\u041c \\u043f\\u043e\\u0441\\u0442\\u0443\\u043f\\u0438\\u043b\\u0430 \\u043a\\u0430\\u043f\\u0441\\u0443\\u043b\\u044c\\u043d\\u0430\\u044f \\u043a\\u043e\\u043b\\u043b\\u0435\\u043a\\u0446\\u0438\\u044f \\u043c\\u0443\\u0436\\u0441\\u043a\\u043e\\u0439 \\u043e\\u0434\\u0435\\u0436\\u0434\\u044b \\u0438 \\u0430\\u043a\\u0441\\u0435\\u0441\\u0441\\u0443\\u0430\\u0440\\u043e\\u0432 \\u0438\\u0442\\u0430\\u043b\\u044c\\u044f\\u043d\\u0441\\u043a\\u043e\\u0433\\u043e \\u043c\\u043e\\u0434\\u043d\\u043e\\u0433\\u043e \\u0434\\u043e\\u043c\\u0430 Dolce & Gabbana, \\u043f\\u043e\\u0441\\u0432\\u044f\\u0449\\u0435\\u043d\\u043d\\u0430\\u044f \\u0447\\u0435\\u043c\\u043f\\u0438\\u043e\\u043d\\u0430\\u0442\\u0443 \\u043c\\u0438\\u0440\\u0430 \\u043f\\u043e \\u0444\\u0443\\u0442\\u0431\\u043e\\u043b\\u0443-2018 \\u0432 \\u0420\\u043e\\u0441\\u0441\\u0438\\u0438. \\u0412 \\u044d\\u043a\\u0441\\u043a\\u043b\\u044e\\u0437\\u0438\\u0432\\u043d\\u0443\\u044e \\u043b\\u0438\\u043d\\u0438\\u044e \\u0432\\u043e\\u0448\\u043b\\u0438 \\u0441\\u043f\\u043e\\u0440\\u0442\\u0438\\u0432\\u043d\\u044b\\u0439 \\u043a\\u043e\\u0441\\u0442\\u044e\\u043c, \\u0444\\u0443\\u0442\\u0431\\u043e\\u043b\\u043a\\u0438, \\u043f\\u0443\\u043b\\u043e\\u0432\\u0435\\u0440\\u044b, \\u043a\\u0440\\u043e\\u0441\\u0441\\u043e\\u0432\\u043a\\u0438, \\u0431\\u0435\\u0439\\u0441\\u0431\\u043e\\u043b\\u043a\\u0438 \\u0438 \\u0440\\u044e\\u043a\\u0437\\u0430\\u043a\\u0438, \\u043e\\u0444\\u043e\\u0440\\u043c\\u043b\\u0435\\u043d\\u043d\\u044b\\u0435 \\u0432 \\u0444\\u0443\\u0442\\u0431\\u043e\\u043b\\u044c\\u043d\\u043e\\u043c \\u0441\\u0442\\u0438\\u043b\\u0435 \\u0441 \\u043b\\u043e\\u0433\\u043e\\u0442\\u0438\\u043f\\u0430\\u043c\\u0438 \\u043c\\u043e\\u0434\\u043d\\u043e\\u0433\\u043e \\u0434\\u043e\\u043c\\u0430. \\u0427\\u0435\\u043c\\u043f\\u0438\\u043e\\u043d\\u0430\\u0442 \\u043c\\u0438\\u0440\\u0430 \\u043f\\u043e \\u0444\\u0443\\u0442\\u0431\\u043e\\u043b\\u0443 \\u0431\\u0443\\u0434\\u0435\\u0442 \\u043f\\u0440\\u043e\\u0445\\u043e\\u0434\\u0438\\u0442\\u044c \\u0441 14 \\u0438\\u044e\\u043d\\u044f \\u043f\\u043e 15 \\u0438\\u044e\\u043b\\u044f \\u0432 11 \\u0433\\u043e\\u0440\\u043e\\u0434\\u0430\\u0445 \\u0420\\u043e\\u0441\\u0441\\u0438\\u0438.\",\n          \"\\u0421\\u0435\\u0440\\u0438\\u0439\\u043d\\u044b\\u0439 \\u0443\\u0431\\u0438\\u0439\\u0446\\u0430 \\u0432\\u00a0\\u0417\\u0430\\u0431\\u0430\\u0439\\u043a\\u0430\\u043b\\u044c\\u0435 \\u043f\\u043e\\u0436\\u0438\\u0437\\u043d\\u0435\\u043d\\u043d\\u043e \\u043b\\u0438\\u0448\\u0435\\u043d \\u0441\\u0432\\u043e\\u0431\\u043e\\u0434\\u044b \\u0412 \\u0427\\u0438\\u0442\\u0435 \\u043e\\u0441\\u0443\\u0436\\u0434\\u0435\\u043d 40-\\u043b\\u0435\\u0442\\u043d\\u0438\\u0439 \\u043c\\u0435\\u0441\\u0442\\u043d\\u044b\\u0439 \\u0436\\u0438\\u0442\\u0435\\u043b\\u044c, \\u0441\\u043e\\u0432\\u0435\\u0440\\u0448\\u0438\\u0432\\u0448\\u0438\\u0439 \\u0441\\u0435\\u0440\\u0438\\u044e \\u043f\\u0440\\u0435\\u0441\\u0442\\u0443\\u043f\\u043b\\u0435\\u043d\\u0438\\u0439. \\u041a\\u0430\\u043a \\u0432 \\u0441\\u0440\\u0435\\u0434\\u0443, 20 \\u0434\\u0435\\u043a\\u0430\\u0431\\u0440\\u044f \\u0440\\u0430\\u0441\\u0441\\u043a\\u0430\\u0437\\u0430\\u043b \\u00ab\\u041b\\u0435\\u043d\\u0442\\u0435.\\u0440\\u0443\\u00bb \\u0415\\u0433\\u043e\\u0440 \\u041c\\u0430\\u0440\\u043a\\u043e\\u0432, \\u043e\\u0444\\u0438\\u0446\\u0438\\u0430\\u043b\\u044c\\u043d\\u044b\\u0439 \\u043f\\u0440\\u0435\\u0434\\u0441\\u0442\\u0430\\u0432\\u0438\\u0442\\u0435\\u043b\\u044c \\u0421\\u043b\\u0435\\u0434\\u0441\\u0442\\u0432\\u0435\\u043d\\u043d\\u043e\\u0433\\u043e \\u0443\\u043f\\u0440\\u0430\\u0432\\u043b\\u0435\\u043d\\u0438\\u044f \\u0421\\u041a\\u0420 \\u043f\\u043e \\u0417\\u0430\\u0431\\u0430\\u0439\\u043a\\u0430\\u043b\\u044c\\u0441\\u043a\\u043e\\u043c\\u0443 \\u043a\\u0440\\u0430\\u044e, \\u0421\\u0435\\u0440\\u0433\\u0435\\u0439 \\u041c\\u0438\\u0445\\u0430\\u0439\\u043b\\u043e\\u0432 \\u043f\\u0440\\u0438\\u0433\\u043e\\u0432\\u043e\\u0440\\u0435\\u043d \\u043a \\u043f\\u043e\\u0436\\u0438\\u0437\\u043d\\u0435\\u043d\\u043d\\u043e\\u043c\\u0443 \\u043b\\u0438\\u0448\\u0435\\u043d\\u0438\\u044e \\u0441\\u0432\\u043e\\u0431\\u043e\\u0434\\u044b. \\u041f\\u043e \\u0441\\u043b\\u043e\\u0432\\u0430\\u043c \\u041c\\u0430\\u0440\\u043a\\u043e\\u0432\\u0430, \\u0432 \\u0441\\u0435\\u043d\\u0442\\u044f\\u0431\\u0440\\u0435 2016 \\u0433\\u043e\\u0434\\u0430 \\u041c\\u0438\\u0445\\u0430\\u0439\\u043b\\u043e\\u0432 \\u0441 \\u043f\\u043e\\u0434\\u0435\\u043b\\u044c\\u043d\\u0438\\u043a\\u043e\\u043c \\u043e\\u0431\\u043d\\u0430\\u0440\\u0443\\u0436\\u0438\\u043b\\u0438 \\u043d\\u0430 \\u0431\\u0435\\u0440\\u0435\\u0433\\u0443 \\u0440\\u0435\\u043a\\u0438 \\u0418\\u043d\\u0433\\u043e\\u0434\\u0430 \\u0432 \\u0427\\u0438\\u0442\\u0438\\u043d\\u0441\\u043a\\u043e\\u043c \\u0440\\u0430\\u0439\\u043e\\u043d\\u0435 \\u0417\\u0430\\u0431\\u0430\\u0439\\u043a\\u0430\\u043b\\u044c\\u044f \\u0430\\u0432\\u0442\\u043e\\u043c\\u043e\\u0431\\u0438\\u043b\\u044c \\u0442\\u0430\\u043a\\u0441\\u0438, \\u0432\\u043e\\u0434\\u0438\\u0442\\u0435\\u043b\\u044c \\u043a\\u043e\\u0442\\u043e\\u0440\\u043e\\u0433\\u043e \\u0441\\u043f\\u0430\\u043b \\u0437\\u0430 \\u0440\\u0443\\u043b\\u0435\\u043c. \\u041e\\u043d\\u0438 \\u0441\\u043d\\u0430\\u0447\\u0430\\u043b\\u0430 \\u0443\\u043a\\u0440\\u0430\\u043b\\u0438 \\u0438\\u0437 \\u0431\\u0430\\u0433\\u0430\\u0436\\u043d\\u0438\\u043a\\u0430 \\u0430\\u0432\\u0442\\u043e\\u043c\\u043e\\u0431\\u0438\\u043b\\u044f \\u043d\\u0430\\u0431\\u043e\\u0440 \\u0438\\u043d\\u0441\\u0442\\u0440\\u0443\\u043c\\u0435\\u043d\\u0442\\u043e\\u0432, \\u0430 \\u0437\\u0430\\u0442\\u0435\\u043c \\u0440\\u0435\\u0448\\u0438\\u043b\\u0438 \\u043f\\u043e\\u0445\\u0438\\u0442\\u0438\\u0442\\u044c \\u0446\\u0435\\u043d\\u043d\\u044b\\u0435 \\u0432\\u0435\\u0449\\u0438 \\u0438\\u0437 \\u0441\\u0430\\u043b\\u043e\\u043d\\u0430. \\u041d\\u043e \\u0432 \\u043c\\u043e\\u043c\\u0435\\u043d\\u0442 \\u043a\\u0440\\u0430\\u0436\\u0438 \\u0448\\u043e\\u0444\\u0435\\u0440 \\u043f\\u0440\\u043e\\u0441\\u043d\\u0443\\u043b\\u0441\\u044f \\u0438 \\u043d\\u0430\\u0447\\u0430\\u043b \\u043e\\u043a\\u0430\\u0437\\u044b\\u0432\\u0430\\u0442\\u044c \\u0441\\u043e\\u043f\\u0440\\u043e\\u0442\\u0438\\u0432\\u043b\\u0435\\u043d\\u0438\\u0435. \\u0422\\u043e\\u0433\\u0434\\u0430 \\u041c\\u0438\\u0445\\u0430\\u0439\\u043b\\u043e\\u0432 \\u0438 \\u0435\\u0433\\u043e \\u0441\\u043e\\u0443\\u0447\\u0430\\u0441\\u0442\\u043d\\u0438\\u043a \\u043d\\u0430\\u043d\\u0435\\u0441\\u043b\\u0438 \\u043c\\u0443\\u0436\\u0447\\u0438\\u043d\\u0435 \\u043d\\u0435\\u0441\\u043a\\u043e\\u043b\\u044c\\u043a\\u043e \\u043d\\u043e\\u0436\\u0435\\u0432\\u044b\\u0445 \\u0440\\u0430\\u043d, \\u043e\\u0442 \\u043a\\u043e\\u0442\\u043e\\u0440\\u044b\\u0445 \\u043e\\u043d \\u0441\\u043a\\u043e\\u043d\\u0447\\u0430\\u043b\\u0441\\u044f \\u043d\\u0430 \\u043c\\u0435\\u0441\\u0442\\u0435 \\u043f\\u0440\\u043e\\u0438\\u0441\\u0448\\u0435\\u0441\\u0442\\u0432\\u0438\\u044f. \\u0417\\u0430\\u0442\\u0435\\u043c \\u043e\\u043d\\u0438 \\u0440\\u0435\\u0448\\u0438\\u043b\\u0438 \\u0443\\u0433\\u043d\\u0430\\u0442\\u044c \\u0430\\u0432\\u0442\\u043e\\u043c\\u043e\\u0431\\u0438\\u043b\\u044c, \\u043d\\u043e \\u043e\\u043d \\u043d\\u0435 \\u0437\\u0430\\u0432\\u0435\\u043b\\u0441\\u044f \\u2014 \\u0438 \\u0442\\u043e\\u0433\\u0434\\u0430 \\u043c\\u0430\\u0448\\u0438\\u043d\\u0443 \\u0441\\u043e\\u0436\\u0433\\u043b\\u0438. \\u00ab\\u0420\\u0430\\u0441\\u0441\\u043b\\u0435\\u0434\\u0443\\u044f \\u044d\\u0442\\u043e \\u043f\\u0440\\u0435\\u0441\\u0442\\u0443\\u043f\\u043b\\u0435\\u043d\\u0438\\u0435, \\u0441\\u043b\\u0435\\u0434\\u043e\\u0432\\u0430\\u0442\\u0435\\u043b\\u0438 \\u0443\\u0441\\u0442\\u0430\\u043d\\u043e\\u0432\\u0438\\u043b\\u0438 \\u043b\\u0438\\u0447\\u043d\\u043e\\u0441\\u0442\\u0438 \\u043f\\u043e\\u0434\\u043e\\u0437\\u0440\\u0435\\u0432\\u0430\\u0435\\u043c\\u044b\\u0445, \\u0438 \\u041c\\u0438\\u0445\\u0430\\u0439\\u043b\\u043e\\u0432 \\u0431\\u044b\\u043b \\u0437\\u0430\\u0434\\u0435\\u0440\\u0436\\u0430\\u043d. \\u041f\\u0440\\u0438 \\u043f\\u0440\\u043e\\u0432\\u0435\\u0440\\u043a\\u0435 \\u0435\\u0433\\u043e \\u0433\\u0435\\u043d\\u043e\\u0442\\u0438\\u043f\\u0430 \\u0431\\u044b\\u043b\\u0430 \\u0443\\u0441\\u0442\\u0430\\u043d\\u043e\\u0432\\u043b\\u0435\\u043d\\u0430 \\u043f\\u0440\\u0438\\u0447\\u0430\\u0441\\u0442\\u043d\\u043e\\u0441\\u0442\\u044c \\u043a \\u0440\\u0435\\u0437\\u043e\\u043d\\u0430\\u043d\\u0441\\u043d\\u043e\\u043c\\u0443 \\u043f\\u0440\\u0435\\u0441\\u0442\\u0443\\u043f\\u043b\\u0435\\u043d\\u0438\\u044e, \\u0441\\u043e\\u0432\\u0435\\u0440\\u0448\\u0435\\u043d\\u043d\\u043e\\u043c\\u0443 \\u0432 \\u0441\\u0435\\u043d\\u0442\\u044f\\u0431\\u0440\\u0435 2003 \\u0433\\u043e\\u0434\\u0430 \\u0432 \\u0427\\u0438\\u0442\\u0435. \\u041e\\u0437\\u043d\\u0430\\u043a\\u043e\\u043c\\u0438\\u0432\\u0448\\u0438\\u0441\\u044c \\u0441 \\u0437\\u0430\\u043a\\u043b\\u044e\\u0447\\u0435\\u043d\\u0438\\u0435\\u043c \\u043a\\u0440\\u0438\\u043c\\u0438\\u043d\\u0430\\u043b\\u0438\\u0441\\u0442\\u043e\\u0432, \\u043e\\u043d \\u043f\\u043e\\u043b\\u043d\\u043e\\u0441\\u0442\\u044c\\u044e \\u043f\\u0440\\u0438\\u0437\\u043d\\u0430\\u043b\\u0441\\u044f \\u0432 \\u0443\\u0431\\u0438\\u0439\\u0441\\u0442\\u0432\\u0435 \\u0440\\u0435\\u0431\\u0435\\u043d\\u043a\\u0430 \\u0438 \\u043f\\u0440\\u0438 \\u043f\\u0440\\u043e\\u0432\\u0435\\u0440\\u043a\\u0435 \\u043f\\u043e\\u043a\\u0430\\u0437\\u0430\\u043d\\u0438\\u0439 \\u043d\\u0430 \\u043c\\u0435\\u0441\\u0442\\u043d\\u043e\\u0441\\u0442\\u0438 \\u0440\\u0430\\u0441\\u0441\\u043a\\u0430\\u0437\\u0430\\u043b \\u043e\\u0431\\u043e \\u0432\\u0441\\u0435\\u0445 \\u043e\\u0431\\u0441\\u0442\\u043e\\u044f\\u0442\\u0435\\u043b\\u044c\\u0441\\u0442\\u0432\\u0430\\u0445\\u00bb, \\u2014 \\u0441\\u043e\\u043e\\u0431\\u0449\\u0438\\u043b \\u043e\\u0444\\u0438\\u0446\\u0438\\u0430\\u043b\\u044c\\u043d\\u044b\\u0439 \\u043f\\u0440\\u0435\\u0434\\u0441\\u0442\\u0430\\u0432\\u0438\\u0442\\u0435\\u043b\\u044c \\u0417\\u0430\\u0431\\u0430\\u0439\\u043a\\u0430\\u043b\\u044c\\u0441\\u043a\\u043e\\u0433\\u043e \\u0443\\u043f\\u0440\\u0430\\u0432\\u043b\\u0435\\u043d\\u0438\\u044f \\u0421\\u041a\\u0420. \\u041a\\u0430\\u043a \\u0441\\u043e\\u043e\\u0431\\u0449\\u0438\\u043b \\u041c\\u0438\\u0445\\u0430\\u0439\\u043b\\u043e\\u0432, \\u043f\\u0440\\u043e\\u0435\\u0437\\u0436\\u0430\\u044f \\u043d\\u0430 \\u0432\\u0435\\u043b\\u043e\\u0441\\u0438\\u043f\\u0435\\u0434\\u0435 \\u043f\\u043e \\u0442\\u0435\\u0440\\u0440\\u0438\\u0442\\u043e\\u0440\\u0438\\u0438 \\u0432\\u043e\\u0435\\u043d\\u043d\\u043e\\u0433\\u043e \\u043f\\u043e\\u043b\\u0438\\u0433\\u043e\\u043d\\u0430 \\u0432 \\u0440\\u0430\\u0439\\u043e\\u043d\\u0435 \\u043f\\u043e\\u0441\\u0435\\u043b\\u043a\\u0430 \\u041a\\u0430\\u0448\\u0442\\u0430\\u043a \\u0433\\u043e\\u0440\\u043e\\u0434\\u0430 \\u0427\\u0438\\u0442\\u044b, \\u043e\\u043d \\u0437\\u0430\\u043c\\u0435\\u0442\\u0438\\u043b \\u0438\\u0434\\u0443\\u0449\\u0443\\u044e \\u0434\\u0435\\u0432\\u044f\\u0442\\u0438\\u043b\\u0435\\u0442\\u043d\\u044e\\u044e \\u0434\\u0435\\u0432\\u043e\\u0447\\u043a\\u0443. \\u041c\\u0443\\u0436\\u0447\\u0438\\u043d\\u0430 \\u043d\\u0430\\u043f\\u0430\\u043b \\u043d\\u0430 \\u043d\\u0435\\u0435, \\u0437\\u0430\\u0442\\u0430\\u0449\\u0438\\u043b \\u0435\\u0435 \\u0432 \\u043f\\u043e\\u0434\\u0437\\u0435\\u043c\\u043d\\u044b\\u0439 \\u0431\\u0443\\u043d\\u043a\\u0435\\u0440, \\u0433\\u0434\\u0435 \\u043d\\u0430\\u0434\\u0440\\u0443\\u0433\\u0430\\u043b\\u0441\\u044f \\u043d\\u0430\\u0434 \\u0440\\u0435\\u0431\\u0435\\u043d\\u043a\\u043e\\u043c, \\u0430 \\u0437\\u0430\\u0442\\u0435\\u043c \\u0437\\u0430\\u0434\\u0443\\u0448\\u0438\\u043b. \\u041f\\u0440\\u043e\\u043f\\u0430\\u0432\\u0448\\u0443\\u044e \\u0434\\u0435\\u0432\\u043e\\u0447\\u043a\\u0443 \\u043d\\u0435\\u0441\\u043a\\u043e\\u043b\\u044c\\u043a\\u043e \\u0434\\u043d\\u0435\\u0439 \\u0438\\u0441\\u043a\\u0430\\u043b\\u0438 \\u043c\\u0438\\u043b\\u0438\\u0446\\u0438\\u044f, \\u0432\\u043e\\u0435\\u043d\\u043d\\u044b\\u0435 \\u0438 \\u0432\\u043e\\u043b\\u043e\\u043d\\u0442\\u0435\\u0440\\u044b \\u0422\\u043e\\u043b\\u044c\\u043a\\u043e \\u0441\\u043f\\u0443\\u0441\\u0442\\u044f \\u0442\\u0440\\u043e\\u0435 \\u0441\\u0443\\u0442\\u043e\\u043a \\u0442\\u0435\\u043b\\u043e \\u0431\\u044b\\u043b\\u043e \\u043e\\u0431\\u043d\\u0430\\u0440\\u0443\\u0436\\u0435\\u043d\\u043e, \\u043d\\u043e \\u0442\\u043e\\u0433\\u0434\\u0430 \\u0443\\u0441\\u0442\\u0430\\u043d\\u043e\\u0432\\u0438\\u0442\\u044c \\u043f\\u0440\\u0435\\u0441\\u0442\\u0443\\u043f\\u043d\\u0438\\u043a\\u0430 \\u043d\\u0435 \\u0443\\u0434\\u0430\\u043b\\u043e\\u0441\\u044c, \\u0445\\u043e\\u0442\\u044f \\u043d\\u0430 \\u043c\\u0435\\u0441\\u0442\\u0435 \\u043f\\u0440\\u043e\\u0438\\u0441\\u0448\\u0435\\u0441\\u0442\\u0432\\u0438\\u044f \\u0431\\u044b\\u043b\\u0438 \\u043e\\u0431\\u043d\\u0430\\u0440\\u0443\\u0436\\u0435\\u043d\\u044b \\u0435\\u0433\\u043e \\u0431\\u0438\\u043e\\u043b\\u043e\\u0433\\u0438\\u0447\\u0435\\u0441\\u043a\\u0438\\u0435 \\u0441\\u043b\\u0435\\u0434\\u044b. \\u0414\\u0432\\u0430 \\u0433\\u043e\\u0434\\u0430 \\u0441\\u043f\\u0443\\u0441\\u0442\\u044f, \\u0432 \\u043e\\u043a\\u0442\\u044f\\u0431\\u0440\\u0435 2005-\\u0433\\u043e, \\u043f\\u0440\\u043e\\u0435\\u0437\\u0436\\u0430\\u044f \\u0432 \\u0442\\u043e\\u043c \\u0436\\u0435 \\u0440\\u0430\\u0439\\u043e\\u043d\\u0435 \\u043d\\u0430 \\u0432\\u0435\\u043b\\u043e\\u0441\\u0438\\u043f\\u0435\\u0434\\u0435, \\u041c\\u0438\\u0445\\u0430\\u0439\\u043b\\u043e\\u0432 \\u0443\\u0432\\u0438\\u0434\\u0435\\u043b \\u0448\\u0435\\u0434\\u0448\\u0443\\u044e \\u043f\\u0435\\u0448\\u043a\\u043e\\u043c 20-\\u043b\\u0435\\u0442\\u043d\\u044e\\u044e \\u0436\\u0435\\u043d\\u0449\\u0438\\u043d\\u0443 \\u0432 \\u043a\\u0440\\u0430\\u0441\\u0438\\u0432\\u043e\\u0439 \\u0434\\u0443\\u0431\\u043b\\u0435\\u043d\\u043a\\u0435. \\u041e\\u043d \\u043d\\u0430\\u043f\\u0430\\u043b \\u043d\\u0430 \\u043d\\u0435\\u0435, \\u043d\\u0430\\u043d\\u0435\\u0441 \\u043d\\u0435\\u0441\\u043a\\u043e\\u043b\\u044c\\u043a\\u043e \\u0434\\u0435\\u0441\\u044f\\u0442\\u043a\\u043e\\u0432 \\u0443\\u0434\\u0430\\u0440\\u043e\\u0432 \\u043d\\u043e\\u0436\\u043e\\u043c \\u0432 \\u0433\\u0440\\u0443\\u0434\\u044c, \\u043f\\u043e\\u0441\\u043b\\u0435 \\u0447\\u0435\\u0433\\u043e \\u0441\\u043d\\u044f\\u043b \\u0441 \\u0442\\u0435\\u043b\\u0430 \\u0432\\u0435\\u0440\\u0445\\u043d\\u044e\\u044e \\u043e\\u0434\\u0435\\u0436\\u0434\\u0443, \\u0437\\u043e\\u043b\\u043e\\u0442\\u044b\\u0435 \\u0443\\u043a\\u0440\\u0430\\u0448\\u0435\\u043d\\u0438\\u044f \\u0438 \\u0441\\u043a\\u0440\\u044b\\u043b\\u0441\\u044f. \\u00ab\\u041f\\u043e\\u0445\\u0438\\u0449\\u0435\\u043d\\u043d\\u0443\\u044e \\u0434\\u0443\\u0431\\u043b\\u0435\\u043d\\u043a\\u0443 \\u041c\\u0438\\u0445\\u0430\\u0439\\u043b\\u043e\\u0432 \\u043f\\u044b\\u0442\\u0430\\u043b\\u0441\\u044f \\u043f\\u043e\\u0434\\u0430\\u0440\\u0438\\u0442\\u044c \\u0436\\u0435\\u043d\\u0435, \\u043d\\u043e \\u0442\\u0430 \\u043e\\u0442\\u043a\\u0430\\u0437\\u0430\\u043b\\u0430\\u0441\\u044c, \\u043e\\u0431\\u043d\\u0430\\u0440\\u0443\\u0436\\u0438\\u0432 \\u043d\\u0430 \\u043d\\u0435\\u0439 \\u043a\\u0440\\u043e\\u0432\\u044c. \\u0422\\u043e\\u0433\\u0434\\u0430 \\u0434\\u0443\\u0448\\u0435\\u0433\\u0443\\u0431 \\u0441\\u0434\\u0435\\u043b\\u0430\\u043b \\u0438\\u0437 \\u043e\\u0434\\u0435\\u0436\\u0434\\u044b \\u043a\\u043e\\u0432\\u0440\\u0438\\u043a-\\u043d\\u0430\\u043a\\u0438\\u0434\\u043a\\u0443, \\u0438 \\u0438\\u0441\\u043f\\u043e\\u043b\\u044c\\u0437\\u043e\\u0432\\u0430\\u043b \\u0434\\u043e\\u043c\\u0430. \\u041f\\u0440\\u0438\\u043c\\u0435\\u0447\\u0430\\u0442\\u0435\\u043b\\u044c\\u043d\\u043e, \\u0447\\u0442\\u043e \\u043d\\u0435\\u0441\\u043a\\u043e\\u043b\\u044c\\u043a\\u043e \\u0434\\u043d\\u0435\\u0439 \\u0441\\u043f\\u0443\\u0441\\u0442\\u044f, \\u043f\\u0440\\u043e\\u0435\\u0437\\u0436\\u0430\\u044f \\u043d\\u0430 \\u0442\\u043e\\u043c \\u0436\\u0435 \\u0432\\u0435\\u043b\\u043e\\u0441\\u0438\\u043f\\u0435\\u0434\\u0435, \\u041c\\u0438\\u0445\\u0430\\u0439\\u043b\\u043e\\u0432 \\u0443\\u0432\\u0438\\u0434\\u0435\\u043b, \\u0447\\u0442\\u043e \\u0442\\u0435\\u043b\\u043e \\u043f\\u043e\\u0433\\u0438\\u0431\\u0448\\u0435\\u0439 \\u0442\\u0430\\u043a \\u0438 \\u043d\\u0435 \\u043e\\u0431\\u043d\\u0430\\u0440\\u0443\\u0436\\u0435\\u043d\\u043e, \\u0438 \\u0441\\u0430\\u043c \\u0437\\u0430\\u044f\\u0432\\u0438\\u043b \\u0432 \\u043f\\u043e\\u043b\\u0438\\u0446\\u0438\\u044e \\u043e \\u0441\\u043e\\u0432\\u0435\\u0440\\u0448\\u0435\\u043d\\u043d\\u043e\\u043c \\u043f\\u0440\\u0435\\u0441\\u0442\\u0443\\u043f\\u043b\\u0435\\u043d\\u0438\\u0438\\u00bb, \\u2014 \\u0440\\u0430\\u0441\\u0441\\u043a\\u0430\\u0437\\u0430\\u043b \\u0415\\u0433\\u043e\\u0440 \\u041c\\u0430\\u0440\\u043a\\u043e\\u0432. \\u041e\\u043d \\u0443\\u0442\\u043e\\u0447\\u043d\\u0438\\u043b, \\u0447\\u0442\\u043e \\u0438 \\u044d\\u0442\\u043e \\u043f\\u0440\\u0435\\u0441\\u0442\\u0443\\u043f\\u043b\\u0435\\u043d\\u0438\\u0435 \\u0431\\u043e\\u043b\\u0435\\u0435 \\u0434\\u0435\\u0441\\u044f\\u0442\\u0438 \\u043b\\u0435\\u0442 \\u043e\\u0441\\u0442\\u0430\\u0432\\u0430\\u043b\\u043e\\u0441\\u044c \\u043d\\u0435\\u0440\\u0430\\u0441\\u043a\\u0440\\u044b\\u0442\\u044b\\u043c. \\u041f\\u0440\\u0438\\u0433\\u043e\\u0432\\u043e\\u0440 \\u041c\\u0438\\u0445\\u0430\\u0439\\u043b\\u043e\\u0432 \\u0432\\u044b\\u0441\\u043b\\u0443\\u0448\\u0430\\u043b \\u0441\\u0442\\u043e\\u044f, \\u043d\\u043e \\u043f\\u043e\\u0432\\u0435\\u0440\\u043d\\u0443\\u0432\\u0448\\u0438\\u0441\\u044c \\u043a \\u0441\\u0443\\u0434\\u044c\\u0435 \\u0441\\u043f\\u0438\\u043d\\u043e\\u0439. \\u041a\\u0430\\u043a \\u0440\\u0430\\u0441\\u0441\\u043a\\u0430\\u0437\\u0430\\u043b \\u00ab\\u041b\\u0435\\u043d\\u0442\\u0435.\\u0440\\u0443\\u00bb \\u0438\\u0441\\u0442\\u043e\\u0447\\u043d\\u0438\\u043a \\u0432 \\u043f\\u0440\\u0430\\u0432\\u043e\\u043e\\u0445\\u0440\\u0430\\u043d\\u0438\\u0442\\u0435\\u043b\\u044c\\u043d\\u044b\\u0445 \\u043e\\u0440\\u0433\\u0430\\u043d\\u0430\\u0445, \\u0440\\u0430\\u043d\\u0435\\u0435 \\u041c\\u0438\\u0445\\u0430\\u0439\\u043b\\u043e\\u0432 \\u0431\\u044b\\u043b \\u0441\\u0443\\u0434\\u0438\\u043c \\u0437\\u0430 \\u043a\\u043e\\u0440\\u044b\\u0441\\u0442\\u043d\\u044b\\u0435 \\u043f\\u0440\\u0435\\u0441\\u0442\\u0443\\u043f\\u043b\\u0435\\u043d\\u0438\\u044f, \\u043d\\u043e \\u0432\\u0441\\u0435 \\u0441\\u0443\\u0434\\u0438\\u043c\\u043e\\u0441\\u0442\\u0438 \\u043f\\u043e\\u0433\\u0430\\u0448\\u0435\\u043d\\u044b. \\u0422\\u0435\\u043c \\u043d\\u0435 \\u043c\\u0435\\u043d\\u0435\\u0435 \\u0441\\u043b\\u0435\\u0434\\u0441\\u0442\\u0432\\u0438\\u0435 \\u043f\\u0440\\u043e\\u0432\\u0435\\u0440\\u044f\\u0435\\u0442 \\u043f\\u0440\\u0438\\u0447\\u0430\\u0441\\u0442\\u043d\\u043e\\u0441\\u0442\\u044c \\u043e\\u0441\\u0443\\u0436\\u0434\\u0435\\u043d\\u043d\\u043e\\u0433\\u043e \\u043a \\u0434\\u0440\\u0443\\u0433\\u0438\\u043c \\u0442\\u044f\\u0436\\u043a\\u0438\\u043c \\u043f\\u0440\\u0435\\u0441\\u0442\\u0443\\u043f\\u043b\\u0435\\u043d\\u0438\\u044f\\u043c \\u2014 \\u0435\\u0441\\u0442\\u044c \\u043e\\u0441\\u043d\\u043e\\u0432\\u0430\\u043d\\u0438\\u044f \\u043f\\u043e\\u043b\\u0430\\u0433\\u0430\\u0442\\u044c, \\u0447\\u0442\\u043e \\u0447\\u0438\\u0441\\u043b\\u043e \\u0435\\u0433\\u043e \\u0436\\u0435\\u0440\\u0442\\u0432 \\u0431\\u043e\\u043b\\u044c\\u0448\\u0435.\"\n        ],\n        \"semantic_type\": \"\",\n        \"description\": \"\"\n      }\n    }\n  ]\n}",
              "type": "dataframe",
              "variable_name": "df_final"
            },
            "text/html": [
              "\n",
              "  <div id=\"df-d5d4aec7-c31b-4ade-a76c-f644d7a853f0\" class=\"colab-df-container\">\n",
              "    <div>\n",
              "<style scoped>\n",
              "    .dataframe tbody tr th:only-of-type {\n",
              "        vertical-align: middle;\n",
              "    }\n",
              "\n",
              "    .dataframe tbody tr th {\n",
              "        vertical-align: top;\n",
              "    }\n",
              "\n",
              "    .dataframe thead th {\n",
              "        text-align: right;\n",
              "    }\n",
              "</style>\n",
              "<table border=\"1\" class=\"dataframe\">\n",
              "  <thead>\n",
              "    <tr style=\"text-align: right;\">\n",
              "      <th></th>\n",
              "      <th>title</th>\n",
              "      <th>text</th>\n",
              "      <th>topic</th>\n",
              "      <th>combined_text</th>\n",
              "    </tr>\n",
              "  </thead>\n",
              "  <tbody>\n",
              "    <tr>\n",
              "      <th>0</th>\n",
              "      <td>Названы регионы России с самой высокой смертно...</td>\n",
              "      <td>Вице-премьер по социальным вопросам Татьяна Го...</td>\n",
              "      <td>Россия</td>\n",
              "      <td>Названы регионы России с самой высокой смертно...</td>\n",
              "    </tr>\n",
              "    <tr>\n",
              "      <th>1</th>\n",
              "      <td>Австрия не представила доказательств вины росс...</td>\n",
              "      <td>Австрийские правоохранительные органы не предс...</td>\n",
              "      <td>Спорт</td>\n",
              "      <td>Австрия не представила доказательств вины росс...</td>\n",
              "    </tr>\n",
              "    <tr>\n",
              "      <th>2</th>\n",
              "      <td>Обнаружено самое счастливое место на планете</td>\n",
              "      <td>Сотрудники социальной сети Instagram проанализ...</td>\n",
              "      <td>Путешествия</td>\n",
              "      <td>Обнаружено самое счастливое место на планете С...</td>\n",
              "    </tr>\n",
              "    <tr>\n",
              "      <th>3</th>\n",
              "      <td>В США раскрыли сумму расходов на расследование...</td>\n",
              "      <td>С начала расследования российского вмешательст...</td>\n",
              "      <td>Мир</td>\n",
              "      <td>В США раскрыли сумму расходов на расследование...</td>\n",
              "    </tr>\n",
              "    <tr>\n",
              "      <th>4</th>\n",
              "      <td>Хакеры рассказали о планах Великобритании зами...</td>\n",
              "      <td>Хакерская группировка Anonymous опубликовала н...</td>\n",
              "      <td>Мир</td>\n",
              "      <td>Хакеры рассказали о планах Великобритании зами...</td>\n",
              "    </tr>\n",
              "  </tbody>\n",
              "</table>\n",
              "</div>\n",
              "    <div class=\"colab-df-buttons\">\n",
              "\n",
              "  <div class=\"colab-df-container\">\n",
              "    <button class=\"colab-df-convert\" onclick=\"convertToInteractive('df-d5d4aec7-c31b-4ade-a76c-f644d7a853f0')\"\n",
              "            title=\"Convert this dataframe to an interactive table.\"\n",
              "            style=\"display:none;\">\n",
              "\n",
              "  <svg xmlns=\"http://www.w3.org/2000/svg\" height=\"24px\" viewBox=\"0 -960 960 960\">\n",
              "    <path d=\"M120-120v-720h720v720H120Zm60-500h600v-160H180v160Zm220 220h160v-160H400v160Zm0 220h160v-160H400v160ZM180-400h160v-160H180v160Zm440 0h160v-160H620v160ZM180-180h160v-160H180v160Zm440 0h160v-160H620v160Z\"/>\n",
              "  </svg>\n",
              "    </button>\n",
              "\n",
              "  <style>\n",
              "    .colab-df-container {\n",
              "      display:flex;\n",
              "      gap: 12px;\n",
              "    }\n",
              "\n",
              "    .colab-df-convert {\n",
              "      background-color: #E8F0FE;\n",
              "      border: none;\n",
              "      border-radius: 50%;\n",
              "      cursor: pointer;\n",
              "      display: none;\n",
              "      fill: #1967D2;\n",
              "      height: 32px;\n",
              "      padding: 0 0 0 0;\n",
              "      width: 32px;\n",
              "    }\n",
              "\n",
              "    .colab-df-convert:hover {\n",
              "      background-color: #E2EBFA;\n",
              "      box-shadow: 0px 1px 2px rgba(60, 64, 67, 0.3), 0px 1px 3px 1px rgba(60, 64, 67, 0.15);\n",
              "      fill: #174EA6;\n",
              "    }\n",
              "\n",
              "    .colab-df-buttons div {\n",
              "      margin-bottom: 4px;\n",
              "    }\n",
              "\n",
              "    [theme=dark] .colab-df-convert {\n",
              "      background-color: #3B4455;\n",
              "      fill: #D2E3FC;\n",
              "    }\n",
              "\n",
              "    [theme=dark] .colab-df-convert:hover {\n",
              "      background-color: #434B5C;\n",
              "      box-shadow: 0px 1px 3px 1px rgba(0, 0, 0, 0.15);\n",
              "      filter: drop-shadow(0px 1px 2px rgba(0, 0, 0, 0.3));\n",
              "      fill: #FFFFFF;\n",
              "    }\n",
              "  </style>\n",
              "\n",
              "    <script>\n",
              "      const buttonEl =\n",
              "        document.querySelector('#df-d5d4aec7-c31b-4ade-a76c-f644d7a853f0 button.colab-df-convert');\n",
              "      buttonEl.style.display =\n",
              "        google.colab.kernel.accessAllowed ? 'block' : 'none';\n",
              "\n",
              "      async function convertToInteractive(key) {\n",
              "        const element = document.querySelector('#df-d5d4aec7-c31b-4ade-a76c-f644d7a853f0');\n",
              "        const dataTable =\n",
              "          await google.colab.kernel.invokeFunction('convertToInteractive',\n",
              "                                                    [key], {});\n",
              "        if (!dataTable) return;\n",
              "\n",
              "        const docLinkHtml = 'Like what you see? Visit the ' +\n",
              "          '<a target=\"_blank\" href=https://colab.research.google.com/notebooks/data_table.ipynb>data table notebook</a>'\n",
              "          + ' to learn more about interactive tables.';\n",
              "        element.innerHTML = '';\n",
              "        dataTable['output_type'] = 'display_data';\n",
              "        await google.colab.output.renderOutput(dataTable, element);\n",
              "        const docLink = document.createElement('div');\n",
              "        docLink.innerHTML = docLinkHtml;\n",
              "        element.appendChild(docLink);\n",
              "      }\n",
              "    </script>\n",
              "  </div>\n",
              "\n",
              "\n",
              "<div id=\"df-49aa3f28-2034-4a29-95d3-d9a568bb35b8\">\n",
              "  <button class=\"colab-df-quickchart\" onclick=\"quickchart('df-49aa3f28-2034-4a29-95d3-d9a568bb35b8')\"\n",
              "            title=\"Suggest charts\"\n",
              "            style=\"display:none;\">\n",
              "\n",
              "<svg xmlns=\"http://www.w3.org/2000/svg\" height=\"24px\"viewBox=\"0 0 24 24\"\n",
              "     width=\"24px\">\n",
              "    <g>\n",
              "        <path d=\"M19 3H5c-1.1 0-2 .9-2 2v14c0 1.1.9 2 2 2h14c1.1 0 2-.9 2-2V5c0-1.1-.9-2-2-2zM9 17H7v-7h2v7zm4 0h-2V7h2v10zm4 0h-2v-4h2v4z\"/>\n",
              "    </g>\n",
              "</svg>\n",
              "  </button>\n",
              "\n",
              "<style>\n",
              "  .colab-df-quickchart {\n",
              "      --bg-color: #E8F0FE;\n",
              "      --fill-color: #1967D2;\n",
              "      --hover-bg-color: #E2EBFA;\n",
              "      --hover-fill-color: #174EA6;\n",
              "      --disabled-fill-color: #AAA;\n",
              "      --disabled-bg-color: #DDD;\n",
              "  }\n",
              "\n",
              "  [theme=dark] .colab-df-quickchart {\n",
              "      --bg-color: #3B4455;\n",
              "      --fill-color: #D2E3FC;\n",
              "      --hover-bg-color: #434B5C;\n",
              "      --hover-fill-color: #FFFFFF;\n",
              "      --disabled-bg-color: #3B4455;\n",
              "      --disabled-fill-color: #666;\n",
              "  }\n",
              "\n",
              "  .colab-df-quickchart {\n",
              "    background-color: var(--bg-color);\n",
              "    border: none;\n",
              "    border-radius: 50%;\n",
              "    cursor: pointer;\n",
              "    display: none;\n",
              "    fill: var(--fill-color);\n",
              "    height: 32px;\n",
              "    padding: 0;\n",
              "    width: 32px;\n",
              "  }\n",
              "\n",
              "  .colab-df-quickchart:hover {\n",
              "    background-color: var(--hover-bg-color);\n",
              "    box-shadow: 0 1px 2px rgba(60, 64, 67, 0.3), 0 1px 3px 1px rgba(60, 64, 67, 0.15);\n",
              "    fill: var(--button-hover-fill-color);\n",
              "  }\n",
              "\n",
              "  .colab-df-quickchart-complete:disabled,\n",
              "  .colab-df-quickchart-complete:disabled:hover {\n",
              "    background-color: var(--disabled-bg-color);\n",
              "    fill: var(--disabled-fill-color);\n",
              "    box-shadow: none;\n",
              "  }\n",
              "\n",
              "  .colab-df-spinner {\n",
              "    border: 2px solid var(--fill-color);\n",
              "    border-color: transparent;\n",
              "    border-bottom-color: var(--fill-color);\n",
              "    animation:\n",
              "      spin 1s steps(1) infinite;\n",
              "  }\n",
              "\n",
              "  @keyframes spin {\n",
              "    0% {\n",
              "      border-color: transparent;\n",
              "      border-bottom-color: var(--fill-color);\n",
              "      border-left-color: var(--fill-color);\n",
              "    }\n",
              "    20% {\n",
              "      border-color: transparent;\n",
              "      border-left-color: var(--fill-color);\n",
              "      border-top-color: var(--fill-color);\n",
              "    }\n",
              "    30% {\n",
              "      border-color: transparent;\n",
              "      border-left-color: var(--fill-color);\n",
              "      border-top-color: var(--fill-color);\n",
              "      border-right-color: var(--fill-color);\n",
              "    }\n",
              "    40% {\n",
              "      border-color: transparent;\n",
              "      border-right-color: var(--fill-color);\n",
              "      border-top-color: var(--fill-color);\n",
              "    }\n",
              "    60% {\n",
              "      border-color: transparent;\n",
              "      border-right-color: var(--fill-color);\n",
              "    }\n",
              "    80% {\n",
              "      border-color: transparent;\n",
              "      border-right-color: var(--fill-color);\n",
              "      border-bottom-color: var(--fill-color);\n",
              "    }\n",
              "    90% {\n",
              "      border-color: transparent;\n",
              "      border-bottom-color: var(--fill-color);\n",
              "    }\n",
              "  }\n",
              "</style>\n",
              "\n",
              "  <script>\n",
              "    async function quickchart(key) {\n",
              "      const quickchartButtonEl =\n",
              "        document.querySelector('#' + key + ' button');\n",
              "      quickchartButtonEl.disabled = true;  // To prevent multiple clicks.\n",
              "      quickchartButtonEl.classList.add('colab-df-spinner');\n",
              "      try {\n",
              "        const charts = await google.colab.kernel.invokeFunction(\n",
              "            'suggestCharts', [key], {});\n",
              "      } catch (error) {\n",
              "        console.error('Error during call to suggestCharts:', error);\n",
              "      }\n",
              "      quickchartButtonEl.classList.remove('colab-df-spinner');\n",
              "      quickchartButtonEl.classList.add('colab-df-quickchart-complete');\n",
              "    }\n",
              "    (() => {\n",
              "      let quickchartButtonEl =\n",
              "        document.querySelector('#df-49aa3f28-2034-4a29-95d3-d9a568bb35b8 button');\n",
              "      quickchartButtonEl.style.display =\n",
              "        google.colab.kernel.accessAllowed ? 'block' : 'none';\n",
              "    })();\n",
              "  </script>\n",
              "</div>\n",
              "    </div>\n",
              "  </div>\n"
            ],
            "text/plain": [
              "                                               title  \\\n",
              "0  Названы регионы России с самой высокой смертно...   \n",
              "1  Австрия не представила доказательств вины росс...   \n",
              "2       Обнаружено самое счастливое место на планете   \n",
              "3  В США раскрыли сумму расходов на расследование...   \n",
              "4  Хакеры рассказали о планах Великобритании зами...   \n",
              "\n",
              "                                                text        topic  \\\n",
              "0  Вице-премьер по социальным вопросам Татьяна Го...       Россия   \n",
              "1  Австрийские правоохранительные органы не предс...        Спорт   \n",
              "2  Сотрудники социальной сети Instagram проанализ...  Путешествия   \n",
              "3  С начала расследования российского вмешательст...          Мир   \n",
              "4  Хакерская группировка Anonymous опубликовала н...          Мир   \n",
              "\n",
              "                                       combined_text  \n",
              "0  Названы регионы России с самой высокой смертно...  \n",
              "1  Австрия не представила доказательств вины росс...  \n",
              "2  Обнаружено самое счастливое место на планете С...  \n",
              "3  В США раскрыли сумму расходов на расследование...  \n",
              "4  Хакеры рассказали о планах Великобритании зами...  "
            ]
          },
          "execution_count": 15,
          "metadata": {},
          "output_type": "execute_result"
        }
      ],
      "source": [
        "df_final['combined_text'] = df_final['title'] + ' ' + df_final['text']\n",
        "df_final.head()"
      ]
    },
    {
      "cell_type": "markdown",
      "metadata": {
        "id": "fK4TIBvTPtC1"
      },
      "source": [
        "Для предобработки данных предлагаю реализовать сдедующую нормализацию текста, включающую:\n",
        "\n",
        "1. Приведение к нижнему регистру для устранения вариативности написания слов;\n",
        "\n",
        "2. Удаление цифр, специальных символов и знаков пунктуации с помощью регулярных выражений;\n",
        "\n",
        "3. Лемматизацию с использованием `pymorphy3` (вместо стемминга);\n",
        "> Лемматизация, в отличие от стемминга, сохраняет семантику и грамматическую корректность, что повышает интерпретируемость признаков.\n",
        "\n",
        "4. Фильтрацию стоп-слов на основе стандартного списка `nltk` для исключения неинформативных токенов."
      ]
    },
    {
      "cell_type": "code",
      "execution_count": null,
      "metadata": {
        "id": "K-i7Ell_4OIB"
      },
      "outputs": [],
      "source": [
        "morph = pymorphy3.MorphAnalyzer()\n",
        "STOP_WORDS = set(stopwords.words('russian'))"
      ]
    },
    {
      "cell_type": "code",
      "execution_count": null,
      "metadata": {
        "id": "IvvA6Qva38Zw"
      },
      "outputs": [],
      "source": [
        "@functools.lru_cache(maxsize=10000)\n",
        "def get_normal_form(word):\n",
        "    return morph.parse(word)[0].normal_form\n",
        "\n",
        "def preprocess(text, debug=False):\n",
        "    original = text\n",
        "\n",
        "    lower_text = text.lower()\n",
        "\n",
        "    cleaned_text = re.sub(r'[^\\w\\s]|[\\d_]', '', lower_text)\n",
        "\n",
        "    tokens = []\n",
        "    debug_normalized = []\n",
        "    for word in cleaned_text.split():\n",
        "        normalized = get_normal_form(word)\n",
        "        if normalized and normalized not in STOP_WORDS:\n",
        "            tokens.append(normalized)\n",
        "            debug_normalized.append(normalized)\n",
        "\n",
        "    if debug:\n",
        "        print(f\"Исходный текст:\\n{original}\\n\")\n",
        "        print(f\"Приведение к нижнему регистру:\\n{lower_text}\\n\")\n",
        "        print(f\"Очистка от спецсимволов и цифр:\\n{cleaned_text}\\n\")\n",
        "        print(f\"Нормализация:\\n {' '.join(debug_normalized)}\")\n",
        "        print(\"=\"*50)\n",
        "\n",
        "    return ' '.join(tokens)"
      ]
    },
    {
      "cell_type": "markdown",
      "metadata": {
        "id": "oqN86kH8uTEG"
      },
      "source": [
        "Обработаем какой-нибудь текст и выведем результат"
      ]
    },
    {
      "cell_type": "code",
      "execution_count": null,
      "metadata": {
        "colab": {
          "base_uri": "https://localhost:8080/",
          "height": 351
        },
        "id": "PWsTr99nxuHm",
        "outputId": "222d8cf1-dc12-4b61-e32e-0badedf59191"
      },
      "outputs": [
        {
          "name": "stdout",
          "output_type": "stream",
          "text": [
            "Исходный текст:\n",
            "В США раскрыли сумму расходов на расследование «российского дела» С начала расследования российского вмешательства в выборы власти США потратили более 25 миллионов долларов. Об этом сообщает Associated Press со ссылкой на отчет Министерства юстиции США. В документе содержатся данные о расходах на следствие с апреля по сентябрь 2018 года. За эти полгода было потрачено 4,6 миллиона долларов, из которых почти 3 миллиона долларов ушли на зарплату сотрудников, 580 тысяч — на поездки и сопутствующие расходы. Ранее Минюст США уже публиковал отчеты о затратах на дело о российском вмешательстве за предыдущие месяцы. 11 декабря расследование спецпрокурора Робера Мюллера показало, что по меньшей мере 14 человек из окружения президента США Дональда Трампа контактировали с россиянами во время его избирательной кампании и последующего переходного периода перед вступлением в должность главы государства. Мюллер с 2017 года ведет дело о якобы российском вмешательстве в американские выборы в 2016-м. Перед ним поставлена задача выяснить, был ли сговор между штабом Трампа и Россией. Кремль и Белый дом отвергают все обвинения. Россию неоднократно обвиняли во вмешательстве в выборы президента США с помощью хакеров. В июне спецслужбы выдвинули заочное обвинение 12 российским разведчикам. По данным спецслужб США, российская разведка использовала две хакерские группировки для взлома серверов Демократической партии.\n",
            "\n",
            "Приведение к нижнему регистру:\n",
            "в сша раскрыли сумму расходов на расследование «российского дела» с начала расследования российского вмешательства в выборы власти сша потратили более 25 миллионов долларов. об этом сообщает associated press со ссылкой на отчет министерства юстиции сша. в документе содержатся данные о расходах на следствие с апреля по сентябрь 2018 года. за эти полгода было потрачено 4,6 миллиона долларов, из которых почти 3 миллиона долларов ушли на зарплату сотрудников, 580 тысяч — на поездки и сопутствующие расходы. ранее минюст сша уже публиковал отчеты о затратах на дело о российском вмешательстве за предыдущие месяцы. 11 декабря расследование спецпрокурора робера мюллера показало, что по меньшей мере 14 человек из окружения президента сша дональда трампа контактировали с россиянами во время его избирательной кампании и последующего переходного периода перед вступлением в должность главы государства. мюллер с 2017 года ведет дело о якобы российском вмешательстве в американские выборы в 2016-м. перед ним поставлена задача выяснить, был ли сговор между штабом трампа и россией. кремль и белый дом отвергают все обвинения. россию неоднократно обвиняли во вмешательстве в выборы президента сша с помощью хакеров. в июне спецслужбы выдвинули заочное обвинение 12 российским разведчикам. по данным спецслужб сша, российская разведка использовала две хакерские группировки для взлома серверов демократической партии.\n",
            "\n",
            "Очистка от спецсимволов и цифр:\n",
            "в сша раскрыли сумму расходов на расследование российского дела с начала расследования российского вмешательства в выборы власти сша потратили более  миллионов долларов об этом сообщает associated press со ссылкой на отчет министерства юстиции сша в документе содержатся данные о расходах на следствие с апреля по сентябрь  года за эти полгода было потрачено  миллиона долларов из которых почти  миллиона долларов ушли на зарплату сотрудников  тысяч  на поездки и сопутствующие расходы ранее минюст сша уже публиковал отчеты о затратах на дело о российском вмешательстве за предыдущие месяцы  декабря расследование спецпрокурора робера мюллера показало что по меньшей мере  человек из окружения президента сша дональда трампа контактировали с россиянами во время его избирательной кампании и последующего переходного периода перед вступлением в должность главы государства мюллер с  года ведет дело о якобы российском вмешательстве в американские выборы в м перед ним поставлена задача выяснить был ли сговор между штабом трампа и россией кремль и белый дом отвергают все обвинения россию неоднократно обвиняли во вмешательстве в выборы президента сша с помощью хакеров в июне спецслужбы выдвинули заочное обвинение  российским разведчикам по данным спецслужб сша российская разведка использовала две хакерские группировки для взлома серверов демократической партии\n",
            "\n",
            "Нормализация:\n",
            " сша раскрыть сумма расход расследование российский дело начало расследование российский вмешательство выборы власть сша потратить миллион доллар это сообщать associated press ссылка отчёт министерство юстиция сша документ содержаться дать расход следствие апрель сентябрь год полгода потратить миллион доллар который миллион доллар уйти зарплата сотрудник тысяча поездка сопутствовать расход ранее минюст сша публиковать отчёт затрата дело российский вмешательство предыдущий месяц декабрь расследование спецпрокурор робер мюллер показать малый мера человек окружение президент сша дональд трамп контактировать россиянин время избирательный кампания последующий переходный период вступление должность глава государство мюллер год вести дело якобы российский вмешательство американский выборы м поставить задача выяснить сговор штаб трамп россия кремль белый дом отвергать всё обвинение россия неоднократно обвинять вмешательство выборы президент сша помощь хакер июнь спецслужба выдвинуть заочный обвинение российский разведчик данные спецслужба сша российский разведка использовать хакерский группировка взлом сервер демократический партия\n",
            "==================================================\n"
          ]
        },
        {
          "data": {
            "application/vnd.google.colaboratory.intrinsic+json": {
              "type": "string"
            },
            "text/plain": [
              "'сша раскрыть сумма расход расследование российский дело начало расследование российский вмешательство выборы власть сша потратить миллион доллар это сообщать associated press ссылка отчёт министерство юстиция сша документ содержаться дать расход следствие апрель сентябрь год полгода потратить миллион доллар который миллион доллар уйти зарплата сотрудник тысяча поездка сопутствовать расход ранее минюст сша публиковать отчёт затрата дело российский вмешательство предыдущий месяц декабрь расследование спецпрокурор робер мюллер показать малый мера человек окружение президент сша дональд трамп контактировать россиянин время избирательный кампания последующий переходный период вступление должность глава государство мюллер год вести дело якобы российский вмешательство американский выборы м поставить задача выяснить сговор штаб трамп россия кремль белый дом отвергать всё обвинение россия неоднократно обвинять вмешательство выборы президент сша помощь хакер июнь спецслужба выдвинуть заочный обвинение российский разведчик данные спецслужба сша российский разведка использовать хакерский группировка взлом сервер демократический партия'"
            ]
          },
          "execution_count": 18,
          "metadata": {},
          "output_type": "execute_result"
        }
      ],
      "source": [
        "preprocess(df_final['combined_text'][3], debug=True)"
      ]
    },
    {
      "cell_type": "markdown",
      "metadata": {
        "id": "2B86aAQhu235"
      },
      "source": [
        "Примененим ко всему датафрейму"
      ]
    },
    {
      "cell_type": "code",
      "execution_count": null,
      "metadata": {
        "colab": {
          "base_uri": "https://localhost:8080/",
          "height": 206
        },
        "id": "Zs8EWj50j_vQ",
        "outputId": "8604b0bc-ca7d-4f21-ae5d-56eb3c4cb7a7"
      },
      "outputs": [
        {
          "data": {
            "application/vnd.google.colaboratory.intrinsic+json": {
              "summary": "{\n  \"name\": \"df_final\",\n  \"rows\": 100000,\n  \"fields\": [\n    {\n      \"column\": \"title\",\n      \"properties\": {\n        \"dtype\": \"string\",\n        \"num_unique_values\": 99837,\n        \"samples\": [\n          \"\\u0425\\u0430\\u043a\\u0435\\u0440\\u044b \\u043e\\u0434\\u0443\\u0440\\u0430\\u0447\\u0438\\u043b\\u0438 \\u043a\\u043b\\u0438\\u0435\\u043d\\u0442\\u043e\\u0432 \\u043f\\u043e\\u0445\\u043e\\u0440\\u043e\\u043d\\u043d\\u043e\\u0433\\u043e \\u0431\\u044e\\u0440\\u043e\",\n          \"\\u0412 \\u041c\\u0438\\u043d\\u0437\\u0434\\u0440\\u0430\\u0432\\u0435 \\u0440\\u0430\\u0441\\u0441\\u043a\\u0430\\u0437\\u0430\\u043b\\u0438 \\u043e\\u00a0\\u043f\\u0440\\u0435\\u0438\\u043c\\u0443\\u0449\\u0435\\u0441\\u0442\\u0432\\u0435 \\u0436\\u0435\\u043d\\u0449\\u0438\\u043d \\u043d\\u0430\\u0434 \\u043c\\u0443\\u0436\\u0447\\u0438\\u043d\\u0430\\u043c\\u0438\",\n          \"\\u0412 \\u043e\\u0440\\u0433\\u0430\\u043d\\u0438\\u0437\\u043c\\u0435 \\u0443\\u043b\\u0438\\u0442\\u043e\\u043a \\u043d\\u0430\\u0448\\u043b\\u0438 \\u0437\\u0430\\u043c\\u0435\\u043d\\u0443 \\u043d\\u0430\\u0440\\u043a\\u043e\\u0442\\u0438\\u0447\\u0435\\u0441\\u043a\\u0438\\u043c \\u0432\\u0435\\u0449\\u0435\\u0441\\u0442\\u0432\\u0430\\u043c\"\n        ],\n        \"semantic_type\": \"\",\n        \"description\": \"\"\n      }\n    },\n    {\n      \"column\": \"text\",\n      \"properties\": {\n        \"dtype\": \"string\",\n        \"num_unique_values\": 99998,\n        \"samples\": [\n          \"\\u0410\\u0441\\u0442\\u0440\\u043e\\u043d\\u043e\\u043c\\u044b \\u0410\\u0440\\u0438\\u0437\\u043e\\u043d\\u0441\\u043a\\u043e\\u0433\\u043e \\u0443\\u043d\\u0438\\u0432\\u0435\\u0440\\u0441\\u0438\\u0442\\u0435\\u0442\\u0430 \\u043e\\u0431\\u043d\\u0430\\u0440\\u0443\\u0436\\u0438\\u043b\\u0438 \\u0441\\u043b\\u043e\\u0436\\u043d\\u0443\\u044e \\u0441\\u0442\\u0440\\u0443\\u043a\\u0442\\u0443\\u0440\\u0443, \\u043e\\u043a\\u0440\\u0443\\u0436\\u0430\\u044e\\u0449\\u0443\\u044e \\u043c\\u043e\\u043b\\u043e\\u0434\\u0443\\u044e \\u0437\\u0432\\u0435\\u0437\\u0434\\u0443 HR 4796A. \\u041e\\u043d\\u0430 \\u0441\\u043e\\u0441\\u0442\\u043e\\u0438\\u0442 \\u0438\\u0437 \\u043e\\u0442\\u0447\\u0435\\u0442\\u043b\\u0438\\u0432\\u043e\\u0433\\u043e \\u043a\\u043e\\u043b\\u044c\\u0446\\u0430 \\u043e\\u0431\\u043b\\u043e\\u043c\\u043a\\u043e\\u0432 \\u0438 \\u043e\\u0431\\u043b\\u0430\\u043a\\u0430 \\u043d\\u0435\\u043f\\u0440\\u0430\\u0432\\u0438\\u043b\\u044c\\u043d\\u043e\\u0439 \\u0444\\u043e\\u0440\\u043c\\u044b, \\u0442\\u043e\\u0447\\u043d\\u043e\\u0435 \\u043f\\u0440\\u043e\\u0438\\u0441\\u0445\\u043e\\u0436\\u0434\\u0435\\u043d\\u0438\\u0435 \\u043a\\u043e\\u0442\\u043e\\u0440\\u043e\\u0433\\u043e \\u043f\\u043e\\u043a\\u0430 \\u043d\\u0435\\u0438\\u0437\\u0432\\u0435\\u0441\\u0442\\u043d\\u043e. \\u041e\\u0431 \\u044d\\u0442\\u043e\\u043c \\u0441\\u043e\\u043e\\u0431\\u0449\\u0430\\u0435\\u0442\\u0441\\u044f \\u0432 \\u043f\\u0440\\u0435\\u0441\\u0441-\\u0440\\u0435\\u043b\\u0438\\u0437\\u0435 Phys.org. \\u0421\\u0442\\u0440\\u0443\\u043a\\u0442\\u0443\\u0440\\u0430, \\u043e\\u0431\\u0440\\u0430\\u0437\\u043e\\u0432\\u0430\\u043d\\u043d\\u0430\\u044f \\u043f\\u044b\\u043b\\u044c\\u044e \\u0438 \\u0433\\u0430\\u0437\\u043e\\u043c, \\u0431\\u044b\\u043b\\u0430 \\u043e\\u0431\\u043d\\u0430\\u0440\\u0443\\u0436\\u0435\\u043d\\u0430 \\u0441 \\u043f\\u043e\\u043c\\u043e\\u0449\\u044c\\u044e \\u043a\\u043e\\u0441\\u043c\\u0438\\u0447\\u0435\\u0441\\u043a\\u043e\\u0433\\u043e \\u0442\\u0435\\u043b\\u0435\\u0441\\u043a\\u043e\\u043f\\u0430 Hubble. \\u0411\\u0435\\u043b\\u043e\\u0435 \\u043a\\u043e\\u043b\\u044c\\u0446\\u043e \\u0434\\u043e\\u0441\\u0442\\u0438\\u0433\\u0430\\u0435\\u0442 \\u0432 \\u0434\\u0438\\u0430\\u043c\\u0435\\u0442\\u0440\\u0435 77 \\u0430\\u0441\\u0442\\u0440\\u043e\\u043d\\u043e\\u043c\\u0438\\u0447\\u0435\\u0441\\u043a\\u0438\\u0445 \\u0435\\u0434\\u0438\\u043d\\u0438\\u0446, \\u0447\\u0442\\u043e \\u043f\\u043e\\u0447\\u0442\\u0438 \\u0432 \\u0434\\u0432\\u0430 \\u0440\\u0430\\u0437\\u0430 \\u043f\\u0440\\u0435\\u0432\\u044b\\u0448\\u0430\\u0435\\u0442 \\u0441\\u0440\\u0435\\u0434\\u043d\\u0435\\u0435 \\u0440\\u0430\\u0441\\u0441\\u0442\\u043e\\u044f\\u043d\\u0438\\u0435 \\u043e\\u0442 \\u0421\\u043e\\u043b\\u043d\\u0446\\u0430 \\u0434\\u043e \\u041f\\u043b\\u0443\\u0442\\u043e\\u043d\\u0430. \\u041f\\u0440\\u0438 \\u044d\\u0442\\u043e\\u043c \\u0437\\u0432\\u0435\\u0437\\u0434\\u043d\\u044b\\u0439 \\u0432\\u0435\\u0442\\u0435\\u0440, \\u0432\\u043e\\u0437\\u043d\\u0438\\u043a\\u0430\\u044e\\u0449\\u0438\\u0439 \\u0438\\u0437-\\u0437\\u0430 \\u0438\\u0441\\u0442\\u0435\\u0447\\u0435\\u043d\\u0438\\u044f \\u0437\\u0430\\u0440\\u044f\\u0436\\u0435\\u043d\\u043d\\u044b\\u0445 \\u0438 \\u043d\\u0435\\u0439\\u0442\\u0440\\u0430\\u043b\\u044c\\u043d\\u044b\\u0445 \\u0447\\u0430\\u0441\\u0442\\u0438\\u0446 \\u0441 \\u043f\\u043e\\u0432\\u0435\\u0440\\u0445\\u043d\\u043e\\u0441\\u0442\\u0438 \\u0441\\u0432\\u0435\\u0442\\u0438\\u043b\\u0430, \\u0432\\u044b\\u0434\\u0443\\u0432\\u0430\\u0435\\u0442 \\u0444\\u0440\\u0430\\u0433\\u043c\\u0435\\u043d\\u0442\\u044b \\u043a\\u043e\\u043b\\u044c\\u0446\\u0430 \\u0434\\u0430\\u043b\\u044c\\u0448\\u0435 \\u0432 \\u043a\\u043e\\u0441\\u043c\\u043e\\u0441. \\u0412\\u043d\\u0435\\u0448\\u043d\\u044f\\u044f \\u0441\\u0442\\u0440\\u0443\\u043a\\u0442\\u0443\\u0440\\u0430 \\u0430\\u0441\\u0438\\u043c\\u043c\\u0435\\u0442\\u0440\\u0438\\u0447\\u043d\\u0430 \\u0438 \\u0438\\u043c\\u0435\\u0435\\u0442 \\u0444\\u043e\\u0440\\u043c\\u0443 \\u0438\\u0441\\u043a\\u0440\\u0438\\u0432\\u043b\\u0435\\u043d\\u043d\\u043e\\u0433\\u043e \\u0431\\u0443\\u043c\\u0435\\u0440\\u0430\\u043d\\u0433\\u0430. \\u0423\\u0447\\u0435\\u043d\\u044b\\u0435 \\u043e\\u0431\\u044a\\u044f\\u0441\\u043d\\u044f\\u044e\\u0442 \\u044d\\u0442\\u043e \\u043d\\u0435\\u0441\\u043a\\u043e\\u043b\\u044c\\u043a\\u0438\\u043c\\u0438 \\u043f\\u0440\\u0438\\u0447\\u0438\\u043d\\u0430\\u043c\\u0438. \\u0412\\u043e-\\u043f\\u0435\\u0440\\u0432\\u044b\\u0445, \\u044d\\u0442\\u043e \\u043c\\u043e\\u0436\\u0435\\u0442 \\u0431\\u044b\\u0442\\u044c \\u0441\\u0432\\u044f\\u0437\\u0430\\u043d\\u043e \\u0441 \\u0434\\u0432\\u0438\\u0436\\u0435\\u043d\\u0438\\u0435\\u043c \\u0440\\u043e\\u0434\\u0438\\u0442\\u0435\\u043b\\u044c\\u0441\\u043a\\u043e\\u0439 \\u0437\\u0432\\u0435\\u0437\\u0434\\u044b, \\u043a\\u043e\\u0442\\u043e\\u0440\\u0430\\u044f \\u0432\\u043b\\u0438\\u044f\\u0435\\u0442 \\u043d\\u0430 \\u043c\\u0435\\u0436\\u0437\\u0432\\u0435\\u0437\\u0434\\u043d\\u0443\\u044e \\u0441\\u0440\\u0435\\u0434\\u0443, \\u043f\\u043e\\u0434\\u043e\\u0431\\u043d\\u043e \\u043b\\u043e\\u0434\\u043a\\u0435, \\u043e\\u0442 \\u043a\\u043e\\u0442\\u043e\\u0440\\u043e\\u0439 \\u0438\\u0434\\u0443\\u0442 \\u0432\\u043e\\u043b\\u043d\\u044b. \\u0412\\u043e-\\u0432\\u0442\\u043e\\u0440\\u044b\\u0445, \\u043d\\u0430 \\u043e\\u0431\\u043b\\u0430\\u043a\\u043e \\u0432\\u043b\\u0438\\u044f\\u0435\\u0442 \\u0433\\u0440\\u0430\\u0432\\u0438\\u0442\\u0430\\u0446\\u0438\\u043e\\u043d\\u043d\\u043e\\u0435 \\u043f\\u0440\\u0438\\u0442\\u044f\\u0436\\u0435\\u043d\\u0438\\u0435 \\u0441\\u043e\\u0441\\u0435\\u0434\\u043d\\u0435\\u0439 HR 4796B.\",\n          \"\\u0412 \\u043f\\u0440\\u0435\\u0434\\u0434\\u0432\\u0435\\u0440\\u0438\\u0438 \\u0447\\u0435\\u043c\\u043f\\u0438\\u043e\\u043d\\u0430\\u0442\\u0430 \\u043c\\u0438\\u0440\\u0430 \\u043f\\u043e \\u0444\\u0443\\u0442\\u0431\\u043e\\u043b\\u0443 2018 \\u043d\\u0430 \\u043e\\u0444\\u0438\\u0446\\u0438\\u0430\\u043b\\u044c\\u043d\\u043e\\u043c \\u0441\\u0430\\u0439\\u0442\\u0435 \\u0426\\u0423\\u041c\\u0430 \\u043f\\u0440\\u0435\\u0434\\u0441\\u0442\\u0430\\u0432\\u0438\\u043b\\u0438 \\u0434\\u0438\\u0437\\u0430\\u0439\\u043d\\u0435\\u0440\\u0441\\u043a\\u0438\\u0439 \\u043c\\u044f\\u0447 Deluxe Ball \\u0431\\u0440\\u0435\\u043d\\u0434\\u0430 adidas. \\u00ab\\u0412\\u0434\\u043e\\u0445\\u043d\\u043e\\u0432\\u0438\\u0432\\u0448\\u0438\\u0441\\u044c \\u043c\\u043d\\u043e\\u0433\\u043e\\u0432\\u0435\\u043a\\u043e\\u0432\\u044b\\u043c\\u0438 \\u0442\\u0440\\u0430\\u0434\\u0438\\u0446\\u0438\\u044f\\u043c\\u0438 \\u0440\\u0443\\u0441\\u0441\\u043a\\u043e\\u0433\\u043e \\u0448\\u0438\\u0442\\u044c\\u044f, \\u0434\\u0438\\u0437\\u0430\\u0439\\u043d\\u0435\\u0440\\u044b adidas \\u0443\\u043a\\u0440\\u0430\\u0441\\u0438\\u043b\\u0438 \\u043c\\u044f\\u0447 Deluxe Ball \\u0443\\u0437\\u043e\\u0440\\u0430\\u043c\\u0438, \\u043f\\u043e\\u0445\\u043e\\u0436\\u0438\\u043c\\u0438 \\u043d\\u0430 \\u0442\\u0435, \\u043a\\u043e\\u0442\\u043e\\u0440\\u044b\\u043c\\u0438 \\u0440\\u0430\\u0441\\u0448\\u0438\\u0432\\u0430\\u043b\\u0438 \\u043e\\u0434\\u0435\\u0436\\u0434\\u0443 \\u0440\\u0443\\u0441\\u0441\\u043a\\u0438\\u0445 \\u0446\\u0430\\u0440\\u0435\\u0439. \\u041a\\u0430\\u043c\\u0435\\u0440\\u0430 \\u043e\\u0431\\u0442\\u044f\\u043d\\u0443\\u0442\\u0430 \\u0432\\u044b\\u0441\\u043e\\u043a\\u043e\\u0442\\u0435\\u0445\\u043d\\u043e\\u043b\\u043e\\u0433\\u0438\\u0447\\u043d\\u044b\\u043c \\u043c\\u0430\\u0442\\u0435\\u0440\\u0438\\u0430\\u043b\\u043e\\u043c \\u0441 \\u0431\\u0430\\u0440\\u0445\\u0430\\u0442\\u0438\\u0441\\u0442\\u043e\\u0439 \\u0444\\u0430\\u043a\\u0442\\u0443\\u0440\\u043e\\u0439, \\u0432\\u044b\\u0448\\u0438\\u0442\\u044b\\u043c \\u0432\\u0440\\u0443\\u0447\\u043d\\u0443\\u044e \\u0438 \\u0438\\u043d\\u043a\\u0440\\u0443\\u0441\\u0442\\u0438\\u0440\\u043e\\u0432\\u0430\\u043d\\u043d\\u044b\\u043c \\u043a\\u0440\\u0438\\u0441\\u0442\\u0430\\u043b\\u043b\\u0430\\u043c\\u0438\\u00bb, \\u2014 \\u0433\\u043e\\u0432\\u043e\\u0440\\u0438\\u0442\\u0441\\u044f \\u0432 \\u043e\\u043f\\u0438\\u0441\\u0430\\u043d\\u0438\\u0438 \\u043a \\u043f\\u0440\\u043e\\u0434\\u0443\\u043a\\u0442\\u0443. \\u0427\\u0435\\u0440\\u043d\\u044b\\u0439 \\u043c\\u044f\\u0447 \\u0441 \\u0437\\u043e\\u043b\\u043e\\u0442\\u044b\\u043c \\u043e\\u0440\\u043d\\u0430\\u043c\\u0435\\u043d\\u0442\\u043e\\u043c \\u0432 \\u043d\\u0430\\u0446\\u0438\\u043e\\u043d\\u0430\\u043b\\u044c\\u043d\\u043e\\u043c \\u0441\\u0442\\u0438\\u043b\\u0435 \\u0434\\u043e\\u0441\\u0442\\u0443\\u043f\\u0435\\u043d \\u0434\\u043b\\u044f \\u043f\\u0440\\u0435\\u0434\\u0437\\u0430\\u043a\\u0430\\u0437\\u0430 \\u043f\\u043e \\u0446\\u0435\\u043d\\u0435 99 \\u0442\\u044b\\u0441\\u044f\\u0447 \\u0440\\u0443\\u0431\\u043b\\u0435\\u0439. \\u0412 \\u043c\\u0430\\u0435 2018 \\u0433\\u043e\\u0434\\u0430 \\u0432 \\u0426\\u0423\\u041c \\u043f\\u043e\\u0441\\u0442\\u0443\\u043f\\u0438\\u043b\\u0430 \\u043a\\u0430\\u043f\\u0441\\u0443\\u043b\\u044c\\u043d\\u0430\\u044f \\u043a\\u043e\\u043b\\u043b\\u0435\\u043a\\u0446\\u0438\\u044f \\u043c\\u0443\\u0436\\u0441\\u043a\\u043e\\u0439 \\u043e\\u0434\\u0435\\u0436\\u0434\\u044b \\u0438 \\u0430\\u043a\\u0441\\u0435\\u0441\\u0441\\u0443\\u0430\\u0440\\u043e\\u0432 \\u0438\\u0442\\u0430\\u043b\\u044c\\u044f\\u043d\\u0441\\u043a\\u043e\\u0433\\u043e \\u043c\\u043e\\u0434\\u043d\\u043e\\u0433\\u043e \\u0434\\u043e\\u043c\\u0430 Dolce & Gabbana, \\u043f\\u043e\\u0441\\u0432\\u044f\\u0449\\u0435\\u043d\\u043d\\u0430\\u044f \\u0447\\u0435\\u043c\\u043f\\u0438\\u043e\\u043d\\u0430\\u0442\\u0443 \\u043c\\u0438\\u0440\\u0430 \\u043f\\u043e \\u0444\\u0443\\u0442\\u0431\\u043e\\u043b\\u0443-2018 \\u0432 \\u0420\\u043e\\u0441\\u0441\\u0438\\u0438. \\u0412 \\u044d\\u043a\\u0441\\u043a\\u043b\\u044e\\u0437\\u0438\\u0432\\u043d\\u0443\\u044e \\u043b\\u0438\\u043d\\u0438\\u044e \\u0432\\u043e\\u0448\\u043b\\u0438 \\u0441\\u043f\\u043e\\u0440\\u0442\\u0438\\u0432\\u043d\\u044b\\u0439 \\u043a\\u043e\\u0441\\u0442\\u044e\\u043c, \\u0444\\u0443\\u0442\\u0431\\u043e\\u043b\\u043a\\u0438, \\u043f\\u0443\\u043b\\u043e\\u0432\\u0435\\u0440\\u044b, \\u043a\\u0440\\u043e\\u0441\\u0441\\u043e\\u0432\\u043a\\u0438, \\u0431\\u0435\\u0439\\u0441\\u0431\\u043e\\u043b\\u043a\\u0438 \\u0438 \\u0440\\u044e\\u043a\\u0437\\u0430\\u043a\\u0438, \\u043e\\u0444\\u043e\\u0440\\u043c\\u043b\\u0435\\u043d\\u043d\\u044b\\u0435 \\u0432 \\u0444\\u0443\\u0442\\u0431\\u043e\\u043b\\u044c\\u043d\\u043e\\u043c \\u0441\\u0442\\u0438\\u043b\\u0435 \\u0441 \\u043b\\u043e\\u0433\\u043e\\u0442\\u0438\\u043f\\u0430\\u043c\\u0438 \\u043c\\u043e\\u0434\\u043d\\u043e\\u0433\\u043e \\u0434\\u043e\\u043c\\u0430. \\u0427\\u0435\\u043c\\u043f\\u0438\\u043e\\u043d\\u0430\\u0442 \\u043c\\u0438\\u0440\\u0430 \\u043f\\u043e \\u0444\\u0443\\u0442\\u0431\\u043e\\u043b\\u0443 \\u0431\\u0443\\u0434\\u0435\\u0442 \\u043f\\u0440\\u043e\\u0445\\u043e\\u0434\\u0438\\u0442\\u044c \\u0441 14 \\u0438\\u044e\\u043d\\u044f \\u043f\\u043e 15 \\u0438\\u044e\\u043b\\u044f \\u0432 11 \\u0433\\u043e\\u0440\\u043e\\u0434\\u0430\\u0445 \\u0420\\u043e\\u0441\\u0441\\u0438\\u0438.\",\n          \"\\u0412 \\u0427\\u0438\\u0442\\u0435 \\u043e\\u0441\\u0443\\u0436\\u0434\\u0435\\u043d 40-\\u043b\\u0435\\u0442\\u043d\\u0438\\u0439 \\u043c\\u0435\\u0441\\u0442\\u043d\\u044b\\u0439 \\u0436\\u0438\\u0442\\u0435\\u043b\\u044c, \\u0441\\u043e\\u0432\\u0435\\u0440\\u0448\\u0438\\u0432\\u0448\\u0438\\u0439 \\u0441\\u0435\\u0440\\u0438\\u044e \\u043f\\u0440\\u0435\\u0441\\u0442\\u0443\\u043f\\u043b\\u0435\\u043d\\u0438\\u0439. \\u041a\\u0430\\u043a \\u0432 \\u0441\\u0440\\u0435\\u0434\\u0443, 20 \\u0434\\u0435\\u043a\\u0430\\u0431\\u0440\\u044f \\u0440\\u0430\\u0441\\u0441\\u043a\\u0430\\u0437\\u0430\\u043b \\u00ab\\u041b\\u0435\\u043d\\u0442\\u0435.\\u0440\\u0443\\u00bb \\u0415\\u0433\\u043e\\u0440 \\u041c\\u0430\\u0440\\u043a\\u043e\\u0432, \\u043e\\u0444\\u0438\\u0446\\u0438\\u0430\\u043b\\u044c\\u043d\\u044b\\u0439 \\u043f\\u0440\\u0435\\u0434\\u0441\\u0442\\u0430\\u0432\\u0438\\u0442\\u0435\\u043b\\u044c \\u0421\\u043b\\u0435\\u0434\\u0441\\u0442\\u0432\\u0435\\u043d\\u043d\\u043e\\u0433\\u043e \\u0443\\u043f\\u0440\\u0430\\u0432\\u043b\\u0435\\u043d\\u0438\\u044f \\u0421\\u041a\\u0420 \\u043f\\u043e \\u0417\\u0430\\u0431\\u0430\\u0439\\u043a\\u0430\\u043b\\u044c\\u0441\\u043a\\u043e\\u043c\\u0443 \\u043a\\u0440\\u0430\\u044e, \\u0421\\u0435\\u0440\\u0433\\u0435\\u0439 \\u041c\\u0438\\u0445\\u0430\\u0439\\u043b\\u043e\\u0432 \\u043f\\u0440\\u0438\\u0433\\u043e\\u0432\\u043e\\u0440\\u0435\\u043d \\u043a \\u043f\\u043e\\u0436\\u0438\\u0437\\u043d\\u0435\\u043d\\u043d\\u043e\\u043c\\u0443 \\u043b\\u0438\\u0448\\u0435\\u043d\\u0438\\u044e \\u0441\\u0432\\u043e\\u0431\\u043e\\u0434\\u044b. \\u041f\\u043e \\u0441\\u043b\\u043e\\u0432\\u0430\\u043c \\u041c\\u0430\\u0440\\u043a\\u043e\\u0432\\u0430, \\u0432 \\u0441\\u0435\\u043d\\u0442\\u044f\\u0431\\u0440\\u0435 2016 \\u0433\\u043e\\u0434\\u0430 \\u041c\\u0438\\u0445\\u0430\\u0439\\u043b\\u043e\\u0432 \\u0441 \\u043f\\u043e\\u0434\\u0435\\u043b\\u044c\\u043d\\u0438\\u043a\\u043e\\u043c \\u043e\\u0431\\u043d\\u0430\\u0440\\u0443\\u0436\\u0438\\u043b\\u0438 \\u043d\\u0430 \\u0431\\u0435\\u0440\\u0435\\u0433\\u0443 \\u0440\\u0435\\u043a\\u0438 \\u0418\\u043d\\u0433\\u043e\\u0434\\u0430 \\u0432 \\u0427\\u0438\\u0442\\u0438\\u043d\\u0441\\u043a\\u043e\\u043c \\u0440\\u0430\\u0439\\u043e\\u043d\\u0435 \\u0417\\u0430\\u0431\\u0430\\u0439\\u043a\\u0430\\u043b\\u044c\\u044f \\u0430\\u0432\\u0442\\u043e\\u043c\\u043e\\u0431\\u0438\\u043b\\u044c \\u0442\\u0430\\u043a\\u0441\\u0438, \\u0432\\u043e\\u0434\\u0438\\u0442\\u0435\\u043b\\u044c \\u043a\\u043e\\u0442\\u043e\\u0440\\u043e\\u0433\\u043e \\u0441\\u043f\\u0430\\u043b \\u0437\\u0430 \\u0440\\u0443\\u043b\\u0435\\u043c. \\u041e\\u043d\\u0438 \\u0441\\u043d\\u0430\\u0447\\u0430\\u043b\\u0430 \\u0443\\u043a\\u0440\\u0430\\u043b\\u0438 \\u0438\\u0437 \\u0431\\u0430\\u0433\\u0430\\u0436\\u043d\\u0438\\u043a\\u0430 \\u0430\\u0432\\u0442\\u043e\\u043c\\u043e\\u0431\\u0438\\u043b\\u044f \\u043d\\u0430\\u0431\\u043e\\u0440 \\u0438\\u043d\\u0441\\u0442\\u0440\\u0443\\u043c\\u0435\\u043d\\u0442\\u043e\\u0432, \\u0430 \\u0437\\u0430\\u0442\\u0435\\u043c \\u0440\\u0435\\u0448\\u0438\\u043b\\u0438 \\u043f\\u043e\\u0445\\u0438\\u0442\\u0438\\u0442\\u044c \\u0446\\u0435\\u043d\\u043d\\u044b\\u0435 \\u0432\\u0435\\u0449\\u0438 \\u0438\\u0437 \\u0441\\u0430\\u043b\\u043e\\u043d\\u0430. \\u041d\\u043e \\u0432 \\u043c\\u043e\\u043c\\u0435\\u043d\\u0442 \\u043a\\u0440\\u0430\\u0436\\u0438 \\u0448\\u043e\\u0444\\u0435\\u0440 \\u043f\\u0440\\u043e\\u0441\\u043d\\u0443\\u043b\\u0441\\u044f \\u0438 \\u043d\\u0430\\u0447\\u0430\\u043b \\u043e\\u043a\\u0430\\u0437\\u044b\\u0432\\u0430\\u0442\\u044c \\u0441\\u043e\\u043f\\u0440\\u043e\\u0442\\u0438\\u0432\\u043b\\u0435\\u043d\\u0438\\u0435. \\u0422\\u043e\\u0433\\u0434\\u0430 \\u041c\\u0438\\u0445\\u0430\\u0439\\u043b\\u043e\\u0432 \\u0438 \\u0435\\u0433\\u043e \\u0441\\u043e\\u0443\\u0447\\u0430\\u0441\\u0442\\u043d\\u0438\\u043a \\u043d\\u0430\\u043d\\u0435\\u0441\\u043b\\u0438 \\u043c\\u0443\\u0436\\u0447\\u0438\\u043d\\u0435 \\u043d\\u0435\\u0441\\u043a\\u043e\\u043b\\u044c\\u043a\\u043e \\u043d\\u043e\\u0436\\u0435\\u0432\\u044b\\u0445 \\u0440\\u0430\\u043d, \\u043e\\u0442 \\u043a\\u043e\\u0442\\u043e\\u0440\\u044b\\u0445 \\u043e\\u043d \\u0441\\u043a\\u043e\\u043d\\u0447\\u0430\\u043b\\u0441\\u044f \\u043d\\u0430 \\u043c\\u0435\\u0441\\u0442\\u0435 \\u043f\\u0440\\u043e\\u0438\\u0441\\u0448\\u0435\\u0441\\u0442\\u0432\\u0438\\u044f. \\u0417\\u0430\\u0442\\u0435\\u043c \\u043e\\u043d\\u0438 \\u0440\\u0435\\u0448\\u0438\\u043b\\u0438 \\u0443\\u0433\\u043d\\u0430\\u0442\\u044c \\u0430\\u0432\\u0442\\u043e\\u043c\\u043e\\u0431\\u0438\\u043b\\u044c, \\u043d\\u043e \\u043e\\u043d \\u043d\\u0435 \\u0437\\u0430\\u0432\\u0435\\u043b\\u0441\\u044f \\u2014 \\u0438 \\u0442\\u043e\\u0433\\u0434\\u0430 \\u043c\\u0430\\u0448\\u0438\\u043d\\u0443 \\u0441\\u043e\\u0436\\u0433\\u043b\\u0438. \\u00ab\\u0420\\u0430\\u0441\\u0441\\u043b\\u0435\\u0434\\u0443\\u044f \\u044d\\u0442\\u043e \\u043f\\u0440\\u0435\\u0441\\u0442\\u0443\\u043f\\u043b\\u0435\\u043d\\u0438\\u0435, \\u0441\\u043b\\u0435\\u0434\\u043e\\u0432\\u0430\\u0442\\u0435\\u043b\\u0438 \\u0443\\u0441\\u0442\\u0430\\u043d\\u043e\\u0432\\u0438\\u043b\\u0438 \\u043b\\u0438\\u0447\\u043d\\u043e\\u0441\\u0442\\u0438 \\u043f\\u043e\\u0434\\u043e\\u0437\\u0440\\u0435\\u0432\\u0430\\u0435\\u043c\\u044b\\u0445, \\u0438 \\u041c\\u0438\\u0445\\u0430\\u0439\\u043b\\u043e\\u0432 \\u0431\\u044b\\u043b \\u0437\\u0430\\u0434\\u0435\\u0440\\u0436\\u0430\\u043d. \\u041f\\u0440\\u0438 \\u043f\\u0440\\u043e\\u0432\\u0435\\u0440\\u043a\\u0435 \\u0435\\u0433\\u043e \\u0433\\u0435\\u043d\\u043e\\u0442\\u0438\\u043f\\u0430 \\u0431\\u044b\\u043b\\u0430 \\u0443\\u0441\\u0442\\u0430\\u043d\\u043e\\u0432\\u043b\\u0435\\u043d\\u0430 \\u043f\\u0440\\u0438\\u0447\\u0430\\u0441\\u0442\\u043d\\u043e\\u0441\\u0442\\u044c \\u043a \\u0440\\u0435\\u0437\\u043e\\u043d\\u0430\\u043d\\u0441\\u043d\\u043e\\u043c\\u0443 \\u043f\\u0440\\u0435\\u0441\\u0442\\u0443\\u043f\\u043b\\u0435\\u043d\\u0438\\u044e, \\u0441\\u043e\\u0432\\u0435\\u0440\\u0448\\u0435\\u043d\\u043d\\u043e\\u043c\\u0443 \\u0432 \\u0441\\u0435\\u043d\\u0442\\u044f\\u0431\\u0440\\u0435 2003 \\u0433\\u043e\\u0434\\u0430 \\u0432 \\u0427\\u0438\\u0442\\u0435. \\u041e\\u0437\\u043d\\u0430\\u043a\\u043e\\u043c\\u0438\\u0432\\u0448\\u0438\\u0441\\u044c \\u0441 \\u0437\\u0430\\u043a\\u043b\\u044e\\u0447\\u0435\\u043d\\u0438\\u0435\\u043c \\u043a\\u0440\\u0438\\u043c\\u0438\\u043d\\u0430\\u043b\\u0438\\u0441\\u0442\\u043e\\u0432, \\u043e\\u043d \\u043f\\u043e\\u043b\\u043d\\u043e\\u0441\\u0442\\u044c\\u044e \\u043f\\u0440\\u0438\\u0437\\u043d\\u0430\\u043b\\u0441\\u044f \\u0432 \\u0443\\u0431\\u0438\\u0439\\u0441\\u0442\\u0432\\u0435 \\u0440\\u0435\\u0431\\u0435\\u043d\\u043a\\u0430 \\u0438 \\u043f\\u0440\\u0438 \\u043f\\u0440\\u043e\\u0432\\u0435\\u0440\\u043a\\u0435 \\u043f\\u043e\\u043a\\u0430\\u0437\\u0430\\u043d\\u0438\\u0439 \\u043d\\u0430 \\u043c\\u0435\\u0441\\u0442\\u043d\\u043e\\u0441\\u0442\\u0438 \\u0440\\u0430\\u0441\\u0441\\u043a\\u0430\\u0437\\u0430\\u043b \\u043e\\u0431\\u043e \\u0432\\u0441\\u0435\\u0445 \\u043e\\u0431\\u0441\\u0442\\u043e\\u044f\\u0442\\u0435\\u043b\\u044c\\u0441\\u0442\\u0432\\u0430\\u0445\\u00bb, \\u2014 \\u0441\\u043e\\u043e\\u0431\\u0449\\u0438\\u043b \\u043e\\u0444\\u0438\\u0446\\u0438\\u0430\\u043b\\u044c\\u043d\\u044b\\u0439 \\u043f\\u0440\\u0435\\u0434\\u0441\\u0442\\u0430\\u0432\\u0438\\u0442\\u0435\\u043b\\u044c \\u0417\\u0430\\u0431\\u0430\\u0439\\u043a\\u0430\\u043b\\u044c\\u0441\\u043a\\u043e\\u0433\\u043e \\u0443\\u043f\\u0440\\u0430\\u0432\\u043b\\u0435\\u043d\\u0438\\u044f \\u0421\\u041a\\u0420. \\u041a\\u0430\\u043a \\u0441\\u043e\\u043e\\u0431\\u0449\\u0438\\u043b \\u041c\\u0438\\u0445\\u0430\\u0439\\u043b\\u043e\\u0432, \\u043f\\u0440\\u043e\\u0435\\u0437\\u0436\\u0430\\u044f \\u043d\\u0430 \\u0432\\u0435\\u043b\\u043e\\u0441\\u0438\\u043f\\u0435\\u0434\\u0435 \\u043f\\u043e \\u0442\\u0435\\u0440\\u0440\\u0438\\u0442\\u043e\\u0440\\u0438\\u0438 \\u0432\\u043e\\u0435\\u043d\\u043d\\u043e\\u0433\\u043e \\u043f\\u043e\\u043b\\u0438\\u0433\\u043e\\u043d\\u0430 \\u0432 \\u0440\\u0430\\u0439\\u043e\\u043d\\u0435 \\u043f\\u043e\\u0441\\u0435\\u043b\\u043a\\u0430 \\u041a\\u0430\\u0448\\u0442\\u0430\\u043a \\u0433\\u043e\\u0440\\u043e\\u0434\\u0430 \\u0427\\u0438\\u0442\\u044b, \\u043e\\u043d \\u0437\\u0430\\u043c\\u0435\\u0442\\u0438\\u043b \\u0438\\u0434\\u0443\\u0449\\u0443\\u044e \\u0434\\u0435\\u0432\\u044f\\u0442\\u0438\\u043b\\u0435\\u0442\\u043d\\u044e\\u044e \\u0434\\u0435\\u0432\\u043e\\u0447\\u043a\\u0443. \\u041c\\u0443\\u0436\\u0447\\u0438\\u043d\\u0430 \\u043d\\u0430\\u043f\\u0430\\u043b \\u043d\\u0430 \\u043d\\u0435\\u0435, \\u0437\\u0430\\u0442\\u0430\\u0449\\u0438\\u043b \\u0435\\u0435 \\u0432 \\u043f\\u043e\\u0434\\u0437\\u0435\\u043c\\u043d\\u044b\\u0439 \\u0431\\u0443\\u043d\\u043a\\u0435\\u0440, \\u0433\\u0434\\u0435 \\u043d\\u0430\\u0434\\u0440\\u0443\\u0433\\u0430\\u043b\\u0441\\u044f \\u043d\\u0430\\u0434 \\u0440\\u0435\\u0431\\u0435\\u043d\\u043a\\u043e\\u043c, \\u0430 \\u0437\\u0430\\u0442\\u0435\\u043c \\u0437\\u0430\\u0434\\u0443\\u0448\\u0438\\u043b. \\u041f\\u0440\\u043e\\u043f\\u0430\\u0432\\u0448\\u0443\\u044e \\u0434\\u0435\\u0432\\u043e\\u0447\\u043a\\u0443 \\u043d\\u0435\\u0441\\u043a\\u043e\\u043b\\u044c\\u043a\\u043e \\u0434\\u043d\\u0435\\u0439 \\u0438\\u0441\\u043a\\u0430\\u043b\\u0438 \\u043c\\u0438\\u043b\\u0438\\u0446\\u0438\\u044f, \\u0432\\u043e\\u0435\\u043d\\u043d\\u044b\\u0435 \\u0438 \\u0432\\u043e\\u043b\\u043e\\u043d\\u0442\\u0435\\u0440\\u044b \\u0422\\u043e\\u043b\\u044c\\u043a\\u043e \\u0441\\u043f\\u0443\\u0441\\u0442\\u044f \\u0442\\u0440\\u043e\\u0435 \\u0441\\u0443\\u0442\\u043e\\u043a \\u0442\\u0435\\u043b\\u043e \\u0431\\u044b\\u043b\\u043e \\u043e\\u0431\\u043d\\u0430\\u0440\\u0443\\u0436\\u0435\\u043d\\u043e, \\u043d\\u043e \\u0442\\u043e\\u0433\\u0434\\u0430 \\u0443\\u0441\\u0442\\u0430\\u043d\\u043e\\u0432\\u0438\\u0442\\u044c \\u043f\\u0440\\u0435\\u0441\\u0442\\u0443\\u043f\\u043d\\u0438\\u043a\\u0430 \\u043d\\u0435 \\u0443\\u0434\\u0430\\u043b\\u043e\\u0441\\u044c, \\u0445\\u043e\\u0442\\u044f \\u043d\\u0430 \\u043c\\u0435\\u0441\\u0442\\u0435 \\u043f\\u0440\\u043e\\u0438\\u0441\\u0448\\u0435\\u0441\\u0442\\u0432\\u0438\\u044f \\u0431\\u044b\\u043b\\u0438 \\u043e\\u0431\\u043d\\u0430\\u0440\\u0443\\u0436\\u0435\\u043d\\u044b \\u0435\\u0433\\u043e \\u0431\\u0438\\u043e\\u043b\\u043e\\u0433\\u0438\\u0447\\u0435\\u0441\\u043a\\u0438\\u0435 \\u0441\\u043b\\u0435\\u0434\\u044b. \\u0414\\u0432\\u0430 \\u0433\\u043e\\u0434\\u0430 \\u0441\\u043f\\u0443\\u0441\\u0442\\u044f, \\u0432 \\u043e\\u043a\\u0442\\u044f\\u0431\\u0440\\u0435 2005-\\u0433\\u043e, \\u043f\\u0440\\u043e\\u0435\\u0437\\u0436\\u0430\\u044f \\u0432 \\u0442\\u043e\\u043c \\u0436\\u0435 \\u0440\\u0430\\u0439\\u043e\\u043d\\u0435 \\u043d\\u0430 \\u0432\\u0435\\u043b\\u043e\\u0441\\u0438\\u043f\\u0435\\u0434\\u0435, \\u041c\\u0438\\u0445\\u0430\\u0439\\u043b\\u043e\\u0432 \\u0443\\u0432\\u0438\\u0434\\u0435\\u043b \\u0448\\u0435\\u0434\\u0448\\u0443\\u044e \\u043f\\u0435\\u0448\\u043a\\u043e\\u043c 20-\\u043b\\u0435\\u0442\\u043d\\u044e\\u044e \\u0436\\u0435\\u043d\\u0449\\u0438\\u043d\\u0443 \\u0432 \\u043a\\u0440\\u0430\\u0441\\u0438\\u0432\\u043e\\u0439 \\u0434\\u0443\\u0431\\u043b\\u0435\\u043d\\u043a\\u0435. \\u041e\\u043d \\u043d\\u0430\\u043f\\u0430\\u043b \\u043d\\u0430 \\u043d\\u0435\\u0435, \\u043d\\u0430\\u043d\\u0435\\u0441 \\u043d\\u0435\\u0441\\u043a\\u043e\\u043b\\u044c\\u043a\\u043e \\u0434\\u0435\\u0441\\u044f\\u0442\\u043a\\u043e\\u0432 \\u0443\\u0434\\u0430\\u0440\\u043e\\u0432 \\u043d\\u043e\\u0436\\u043e\\u043c \\u0432 \\u0433\\u0440\\u0443\\u0434\\u044c, \\u043f\\u043e\\u0441\\u043b\\u0435 \\u0447\\u0435\\u0433\\u043e \\u0441\\u043d\\u044f\\u043b \\u0441 \\u0442\\u0435\\u043b\\u0430 \\u0432\\u0435\\u0440\\u0445\\u043d\\u044e\\u044e \\u043e\\u0434\\u0435\\u0436\\u0434\\u0443, \\u0437\\u043e\\u043b\\u043e\\u0442\\u044b\\u0435 \\u0443\\u043a\\u0440\\u0430\\u0448\\u0435\\u043d\\u0438\\u044f \\u0438 \\u0441\\u043a\\u0440\\u044b\\u043b\\u0441\\u044f. \\u00ab\\u041f\\u043e\\u0445\\u0438\\u0449\\u0435\\u043d\\u043d\\u0443\\u044e \\u0434\\u0443\\u0431\\u043b\\u0435\\u043d\\u043a\\u0443 \\u041c\\u0438\\u0445\\u0430\\u0439\\u043b\\u043e\\u0432 \\u043f\\u044b\\u0442\\u0430\\u043b\\u0441\\u044f \\u043f\\u043e\\u0434\\u0430\\u0440\\u0438\\u0442\\u044c \\u0436\\u0435\\u043d\\u0435, \\u043d\\u043e \\u0442\\u0430 \\u043e\\u0442\\u043a\\u0430\\u0437\\u0430\\u043b\\u0430\\u0441\\u044c, \\u043e\\u0431\\u043d\\u0430\\u0440\\u0443\\u0436\\u0438\\u0432 \\u043d\\u0430 \\u043d\\u0435\\u0439 \\u043a\\u0440\\u043e\\u0432\\u044c. \\u0422\\u043e\\u0433\\u0434\\u0430 \\u0434\\u0443\\u0448\\u0435\\u0433\\u0443\\u0431 \\u0441\\u0434\\u0435\\u043b\\u0430\\u043b \\u0438\\u0437 \\u043e\\u0434\\u0435\\u0436\\u0434\\u044b \\u043a\\u043e\\u0432\\u0440\\u0438\\u043a-\\u043d\\u0430\\u043a\\u0438\\u0434\\u043a\\u0443, \\u0438 \\u0438\\u0441\\u043f\\u043e\\u043b\\u044c\\u0437\\u043e\\u0432\\u0430\\u043b \\u0434\\u043e\\u043c\\u0430. \\u041f\\u0440\\u0438\\u043c\\u0435\\u0447\\u0430\\u0442\\u0435\\u043b\\u044c\\u043d\\u043e, \\u0447\\u0442\\u043e \\u043d\\u0435\\u0441\\u043a\\u043e\\u043b\\u044c\\u043a\\u043e \\u0434\\u043d\\u0435\\u0439 \\u0441\\u043f\\u0443\\u0441\\u0442\\u044f, \\u043f\\u0440\\u043e\\u0435\\u0437\\u0436\\u0430\\u044f \\u043d\\u0430 \\u0442\\u043e\\u043c \\u0436\\u0435 \\u0432\\u0435\\u043b\\u043e\\u0441\\u0438\\u043f\\u0435\\u0434\\u0435, \\u041c\\u0438\\u0445\\u0430\\u0439\\u043b\\u043e\\u0432 \\u0443\\u0432\\u0438\\u0434\\u0435\\u043b, \\u0447\\u0442\\u043e \\u0442\\u0435\\u043b\\u043e \\u043f\\u043e\\u0433\\u0438\\u0431\\u0448\\u0435\\u0439 \\u0442\\u0430\\u043a \\u0438 \\u043d\\u0435 \\u043e\\u0431\\u043d\\u0430\\u0440\\u0443\\u0436\\u0435\\u043d\\u043e, \\u0438 \\u0441\\u0430\\u043c \\u0437\\u0430\\u044f\\u0432\\u0438\\u043b \\u0432 \\u043f\\u043e\\u043b\\u0438\\u0446\\u0438\\u044e \\u043e \\u0441\\u043e\\u0432\\u0435\\u0440\\u0448\\u0435\\u043d\\u043d\\u043e\\u043c \\u043f\\u0440\\u0435\\u0441\\u0442\\u0443\\u043f\\u043b\\u0435\\u043d\\u0438\\u0438\\u00bb, \\u2014 \\u0440\\u0430\\u0441\\u0441\\u043a\\u0430\\u0437\\u0430\\u043b \\u0415\\u0433\\u043e\\u0440 \\u041c\\u0430\\u0440\\u043a\\u043e\\u0432. \\u041e\\u043d \\u0443\\u0442\\u043e\\u0447\\u043d\\u0438\\u043b, \\u0447\\u0442\\u043e \\u0438 \\u044d\\u0442\\u043e \\u043f\\u0440\\u0435\\u0441\\u0442\\u0443\\u043f\\u043b\\u0435\\u043d\\u0438\\u0435 \\u0431\\u043e\\u043b\\u0435\\u0435 \\u0434\\u0435\\u0441\\u044f\\u0442\\u0438 \\u043b\\u0435\\u0442 \\u043e\\u0441\\u0442\\u0430\\u0432\\u0430\\u043b\\u043e\\u0441\\u044c \\u043d\\u0435\\u0440\\u0430\\u0441\\u043a\\u0440\\u044b\\u0442\\u044b\\u043c. \\u041f\\u0440\\u0438\\u0433\\u043e\\u0432\\u043e\\u0440 \\u041c\\u0438\\u0445\\u0430\\u0439\\u043b\\u043e\\u0432 \\u0432\\u044b\\u0441\\u043b\\u0443\\u0448\\u0430\\u043b \\u0441\\u0442\\u043e\\u044f, \\u043d\\u043e \\u043f\\u043e\\u0432\\u0435\\u0440\\u043d\\u0443\\u0432\\u0448\\u0438\\u0441\\u044c \\u043a \\u0441\\u0443\\u0434\\u044c\\u0435 \\u0441\\u043f\\u0438\\u043d\\u043e\\u0439. \\u041a\\u0430\\u043a \\u0440\\u0430\\u0441\\u0441\\u043a\\u0430\\u0437\\u0430\\u043b \\u00ab\\u041b\\u0435\\u043d\\u0442\\u0435.\\u0440\\u0443\\u00bb \\u0438\\u0441\\u0442\\u043e\\u0447\\u043d\\u0438\\u043a \\u0432 \\u043f\\u0440\\u0430\\u0432\\u043e\\u043e\\u0445\\u0440\\u0430\\u043d\\u0438\\u0442\\u0435\\u043b\\u044c\\u043d\\u044b\\u0445 \\u043e\\u0440\\u0433\\u0430\\u043d\\u0430\\u0445, \\u0440\\u0430\\u043d\\u0435\\u0435 \\u041c\\u0438\\u0445\\u0430\\u0439\\u043b\\u043e\\u0432 \\u0431\\u044b\\u043b \\u0441\\u0443\\u0434\\u0438\\u043c \\u0437\\u0430 \\u043a\\u043e\\u0440\\u044b\\u0441\\u0442\\u043d\\u044b\\u0435 \\u043f\\u0440\\u0435\\u0441\\u0442\\u0443\\u043f\\u043b\\u0435\\u043d\\u0438\\u044f, \\u043d\\u043e \\u0432\\u0441\\u0435 \\u0441\\u0443\\u0434\\u0438\\u043c\\u043e\\u0441\\u0442\\u0438 \\u043f\\u043e\\u0433\\u0430\\u0448\\u0435\\u043d\\u044b. \\u0422\\u0435\\u043c \\u043d\\u0435 \\u043c\\u0435\\u043d\\u0435\\u0435 \\u0441\\u043b\\u0435\\u0434\\u0441\\u0442\\u0432\\u0438\\u0435 \\u043f\\u0440\\u043e\\u0432\\u0435\\u0440\\u044f\\u0435\\u0442 \\u043f\\u0440\\u0438\\u0447\\u0430\\u0441\\u0442\\u043d\\u043e\\u0441\\u0442\\u044c \\u043e\\u0441\\u0443\\u0436\\u0434\\u0435\\u043d\\u043d\\u043e\\u0433\\u043e \\u043a \\u0434\\u0440\\u0443\\u0433\\u0438\\u043c \\u0442\\u044f\\u0436\\u043a\\u0438\\u043c \\u043f\\u0440\\u0435\\u0441\\u0442\\u0443\\u043f\\u043b\\u0435\\u043d\\u0438\\u044f\\u043c \\u2014 \\u0435\\u0441\\u0442\\u044c \\u043e\\u0441\\u043d\\u043e\\u0432\\u0430\\u043d\\u0438\\u044f \\u043f\\u043e\\u043b\\u0430\\u0433\\u0430\\u0442\\u044c, \\u0447\\u0442\\u043e \\u0447\\u0438\\u0441\\u043b\\u043e \\u0435\\u0433\\u043e \\u0436\\u0435\\u0440\\u0442\\u0432 \\u0431\\u043e\\u043b\\u044c\\u0448\\u0435.\"\n        ],\n        \"semantic_type\": \"\",\n        \"description\": \"\"\n      }\n    },\n    {\n      \"column\": \"topic\",\n      \"properties\": {\n        \"dtype\": \"category\",\n        \"num_unique_values\": 14,\n        \"samples\": [\n          \"\\u0414\\u043e\\u043c\",\n          \"\\u0418\\u0437 \\u0436\\u0438\\u0437\\u043d\\u0438\",\n          \"\\u0420\\u043e\\u0441\\u0441\\u0438\\u044f\"\n        ],\n        \"semantic_type\": \"\",\n        \"description\": \"\"\n      }\n    },\n    {\n      \"column\": \"combined_text\",\n      \"properties\": {\n        \"dtype\": \"string\",\n        \"num_unique_values\": 99998,\n        \"samples\": [\n          \"\\u0412\\u043e\\u043a\\u0440\\u0443\\u0433 \\u0437\\u0432\\u0435\\u0437\\u0434\\u044b \\u0437\\u0430\\u043c\\u0435\\u0442\\u0438\\u043b\\u0438 \\u0441\\u0442\\u0440\\u0443\\u043a\\u0442\\u0443\\u0440\\u0443 \\u043d\\u0435\\u0438\\u0437\\u0432\\u0435\\u0441\\u0442\\u043d\\u043e\\u0433\\u043e \\u043f\\u0440\\u043e\\u0438\\u0441\\u0445\\u043e\\u0436\\u0434\\u0435\\u043d\\u0438\\u044f \\u0410\\u0441\\u0442\\u0440\\u043e\\u043d\\u043e\\u043c\\u044b \\u0410\\u0440\\u0438\\u0437\\u043e\\u043d\\u0441\\u043a\\u043e\\u0433\\u043e \\u0443\\u043d\\u0438\\u0432\\u0435\\u0440\\u0441\\u0438\\u0442\\u0435\\u0442\\u0430 \\u043e\\u0431\\u043d\\u0430\\u0440\\u0443\\u0436\\u0438\\u043b\\u0438 \\u0441\\u043b\\u043e\\u0436\\u043d\\u0443\\u044e \\u0441\\u0442\\u0440\\u0443\\u043a\\u0442\\u0443\\u0440\\u0443, \\u043e\\u043a\\u0440\\u0443\\u0436\\u0430\\u044e\\u0449\\u0443\\u044e \\u043c\\u043e\\u043b\\u043e\\u0434\\u0443\\u044e \\u0437\\u0432\\u0435\\u0437\\u0434\\u0443 HR 4796A. \\u041e\\u043d\\u0430 \\u0441\\u043e\\u0441\\u0442\\u043e\\u0438\\u0442 \\u0438\\u0437 \\u043e\\u0442\\u0447\\u0435\\u0442\\u043b\\u0438\\u0432\\u043e\\u0433\\u043e \\u043a\\u043e\\u043b\\u044c\\u0446\\u0430 \\u043e\\u0431\\u043b\\u043e\\u043c\\u043a\\u043e\\u0432 \\u0438 \\u043e\\u0431\\u043b\\u0430\\u043a\\u0430 \\u043d\\u0435\\u043f\\u0440\\u0430\\u0432\\u0438\\u043b\\u044c\\u043d\\u043e\\u0439 \\u0444\\u043e\\u0440\\u043c\\u044b, \\u0442\\u043e\\u0447\\u043d\\u043e\\u0435 \\u043f\\u0440\\u043e\\u0438\\u0441\\u0445\\u043e\\u0436\\u0434\\u0435\\u043d\\u0438\\u0435 \\u043a\\u043e\\u0442\\u043e\\u0440\\u043e\\u0433\\u043e \\u043f\\u043e\\u043a\\u0430 \\u043d\\u0435\\u0438\\u0437\\u0432\\u0435\\u0441\\u0442\\u043d\\u043e. \\u041e\\u0431 \\u044d\\u0442\\u043e\\u043c \\u0441\\u043e\\u043e\\u0431\\u0449\\u0430\\u0435\\u0442\\u0441\\u044f \\u0432 \\u043f\\u0440\\u0435\\u0441\\u0441-\\u0440\\u0435\\u043b\\u0438\\u0437\\u0435 Phys.org. \\u0421\\u0442\\u0440\\u0443\\u043a\\u0442\\u0443\\u0440\\u0430, \\u043e\\u0431\\u0440\\u0430\\u0437\\u043e\\u0432\\u0430\\u043d\\u043d\\u0430\\u044f \\u043f\\u044b\\u043b\\u044c\\u044e \\u0438 \\u0433\\u0430\\u0437\\u043e\\u043c, \\u0431\\u044b\\u043b\\u0430 \\u043e\\u0431\\u043d\\u0430\\u0440\\u0443\\u0436\\u0435\\u043d\\u0430 \\u0441 \\u043f\\u043e\\u043c\\u043e\\u0449\\u044c\\u044e \\u043a\\u043e\\u0441\\u043c\\u0438\\u0447\\u0435\\u0441\\u043a\\u043e\\u0433\\u043e \\u0442\\u0435\\u043b\\u0435\\u0441\\u043a\\u043e\\u043f\\u0430 Hubble. \\u0411\\u0435\\u043b\\u043e\\u0435 \\u043a\\u043e\\u043b\\u044c\\u0446\\u043e \\u0434\\u043e\\u0441\\u0442\\u0438\\u0433\\u0430\\u0435\\u0442 \\u0432 \\u0434\\u0438\\u0430\\u043c\\u0435\\u0442\\u0440\\u0435 77 \\u0430\\u0441\\u0442\\u0440\\u043e\\u043d\\u043e\\u043c\\u0438\\u0447\\u0435\\u0441\\u043a\\u0438\\u0445 \\u0435\\u0434\\u0438\\u043d\\u0438\\u0446, \\u0447\\u0442\\u043e \\u043f\\u043e\\u0447\\u0442\\u0438 \\u0432 \\u0434\\u0432\\u0430 \\u0440\\u0430\\u0437\\u0430 \\u043f\\u0440\\u0435\\u0432\\u044b\\u0448\\u0430\\u0435\\u0442 \\u0441\\u0440\\u0435\\u0434\\u043d\\u0435\\u0435 \\u0440\\u0430\\u0441\\u0441\\u0442\\u043e\\u044f\\u043d\\u0438\\u0435 \\u043e\\u0442 \\u0421\\u043e\\u043b\\u043d\\u0446\\u0430 \\u0434\\u043e \\u041f\\u043b\\u0443\\u0442\\u043e\\u043d\\u0430. \\u041f\\u0440\\u0438 \\u044d\\u0442\\u043e\\u043c \\u0437\\u0432\\u0435\\u0437\\u0434\\u043d\\u044b\\u0439 \\u0432\\u0435\\u0442\\u0435\\u0440, \\u0432\\u043e\\u0437\\u043d\\u0438\\u043a\\u0430\\u044e\\u0449\\u0438\\u0439 \\u0438\\u0437-\\u0437\\u0430 \\u0438\\u0441\\u0442\\u0435\\u0447\\u0435\\u043d\\u0438\\u044f \\u0437\\u0430\\u0440\\u044f\\u0436\\u0435\\u043d\\u043d\\u044b\\u0445 \\u0438 \\u043d\\u0435\\u0439\\u0442\\u0440\\u0430\\u043b\\u044c\\u043d\\u044b\\u0445 \\u0447\\u0430\\u0441\\u0442\\u0438\\u0446 \\u0441 \\u043f\\u043e\\u0432\\u0435\\u0440\\u0445\\u043d\\u043e\\u0441\\u0442\\u0438 \\u0441\\u0432\\u0435\\u0442\\u0438\\u043b\\u0430, \\u0432\\u044b\\u0434\\u0443\\u0432\\u0430\\u0435\\u0442 \\u0444\\u0440\\u0430\\u0433\\u043c\\u0435\\u043d\\u0442\\u044b \\u043a\\u043e\\u043b\\u044c\\u0446\\u0430 \\u0434\\u0430\\u043b\\u044c\\u0448\\u0435 \\u0432 \\u043a\\u043e\\u0441\\u043c\\u043e\\u0441. \\u0412\\u043d\\u0435\\u0448\\u043d\\u044f\\u044f \\u0441\\u0442\\u0440\\u0443\\u043a\\u0442\\u0443\\u0440\\u0430 \\u0430\\u0441\\u0438\\u043c\\u043c\\u0435\\u0442\\u0440\\u0438\\u0447\\u043d\\u0430 \\u0438 \\u0438\\u043c\\u0435\\u0435\\u0442 \\u0444\\u043e\\u0440\\u043c\\u0443 \\u0438\\u0441\\u043a\\u0440\\u0438\\u0432\\u043b\\u0435\\u043d\\u043d\\u043e\\u0433\\u043e \\u0431\\u0443\\u043c\\u0435\\u0440\\u0430\\u043d\\u0433\\u0430. \\u0423\\u0447\\u0435\\u043d\\u044b\\u0435 \\u043e\\u0431\\u044a\\u044f\\u0441\\u043d\\u044f\\u044e\\u0442 \\u044d\\u0442\\u043e \\u043d\\u0435\\u0441\\u043a\\u043e\\u043b\\u044c\\u043a\\u0438\\u043c\\u0438 \\u043f\\u0440\\u0438\\u0447\\u0438\\u043d\\u0430\\u043c\\u0438. \\u0412\\u043e-\\u043f\\u0435\\u0440\\u0432\\u044b\\u0445, \\u044d\\u0442\\u043e \\u043c\\u043e\\u0436\\u0435\\u0442 \\u0431\\u044b\\u0442\\u044c \\u0441\\u0432\\u044f\\u0437\\u0430\\u043d\\u043e \\u0441 \\u0434\\u0432\\u0438\\u0436\\u0435\\u043d\\u0438\\u0435\\u043c \\u0440\\u043e\\u0434\\u0438\\u0442\\u0435\\u043b\\u044c\\u0441\\u043a\\u043e\\u0439 \\u0437\\u0432\\u0435\\u0437\\u0434\\u044b, \\u043a\\u043e\\u0442\\u043e\\u0440\\u0430\\u044f \\u0432\\u043b\\u0438\\u044f\\u0435\\u0442 \\u043d\\u0430 \\u043c\\u0435\\u0436\\u0437\\u0432\\u0435\\u0437\\u0434\\u043d\\u0443\\u044e \\u0441\\u0440\\u0435\\u0434\\u0443, \\u043f\\u043e\\u0434\\u043e\\u0431\\u043d\\u043e \\u043b\\u043e\\u0434\\u043a\\u0435, \\u043e\\u0442 \\u043a\\u043e\\u0442\\u043e\\u0440\\u043e\\u0439 \\u0438\\u0434\\u0443\\u0442 \\u0432\\u043e\\u043b\\u043d\\u044b. \\u0412\\u043e-\\u0432\\u0442\\u043e\\u0440\\u044b\\u0445, \\u043d\\u0430 \\u043e\\u0431\\u043b\\u0430\\u043a\\u043e \\u0432\\u043b\\u0438\\u044f\\u0435\\u0442 \\u0433\\u0440\\u0430\\u0432\\u0438\\u0442\\u0430\\u0446\\u0438\\u043e\\u043d\\u043d\\u043e\\u0435 \\u043f\\u0440\\u0438\\u0442\\u044f\\u0436\\u0435\\u043d\\u0438\\u0435 \\u0441\\u043e\\u0441\\u0435\\u0434\\u043d\\u0435\\u0439 HR 4796B.\",\n          \"\\u041a \\u0447\\u0435\\u043c\\u043f\\u0438\\u043e\\u043d\\u0430\\u0442\\u0443 \\u043c\\u0438\\u0440\\u0430 \\u043f\\u043e\\u00a0\\u0444\\u0443\\u0442\\u0431\\u043e\\u043b\\u0443 \\u0441\\u043e\\u0437\\u0434\\u0430\\u043b\\u0438 \\u044d\\u043a\\u0441\\u043a\\u043b\\u044e\\u0437\\u0438\\u0432\\u043d\\u044b\\u0439 \\u043c\\u044f\\u0447 \\u0412 \\u043f\\u0440\\u0435\\u0434\\u0434\\u0432\\u0435\\u0440\\u0438\\u0438 \\u0447\\u0435\\u043c\\u043f\\u0438\\u043e\\u043d\\u0430\\u0442\\u0430 \\u043c\\u0438\\u0440\\u0430 \\u043f\\u043e \\u0444\\u0443\\u0442\\u0431\\u043e\\u043b\\u0443 2018 \\u043d\\u0430 \\u043e\\u0444\\u0438\\u0446\\u0438\\u0430\\u043b\\u044c\\u043d\\u043e\\u043c \\u0441\\u0430\\u0439\\u0442\\u0435 \\u0426\\u0423\\u041c\\u0430 \\u043f\\u0440\\u0435\\u0434\\u0441\\u0442\\u0430\\u0432\\u0438\\u043b\\u0438 \\u0434\\u0438\\u0437\\u0430\\u0439\\u043d\\u0435\\u0440\\u0441\\u043a\\u0438\\u0439 \\u043c\\u044f\\u0447 Deluxe Ball \\u0431\\u0440\\u0435\\u043d\\u0434\\u0430 adidas. \\u00ab\\u0412\\u0434\\u043e\\u0445\\u043d\\u043e\\u0432\\u0438\\u0432\\u0448\\u0438\\u0441\\u044c \\u043c\\u043d\\u043e\\u0433\\u043e\\u0432\\u0435\\u043a\\u043e\\u0432\\u044b\\u043c\\u0438 \\u0442\\u0440\\u0430\\u0434\\u0438\\u0446\\u0438\\u044f\\u043c\\u0438 \\u0440\\u0443\\u0441\\u0441\\u043a\\u043e\\u0433\\u043e \\u0448\\u0438\\u0442\\u044c\\u044f, \\u0434\\u0438\\u0437\\u0430\\u0439\\u043d\\u0435\\u0440\\u044b adidas \\u0443\\u043a\\u0440\\u0430\\u0441\\u0438\\u043b\\u0438 \\u043c\\u044f\\u0447 Deluxe Ball \\u0443\\u0437\\u043e\\u0440\\u0430\\u043c\\u0438, \\u043f\\u043e\\u0445\\u043e\\u0436\\u0438\\u043c\\u0438 \\u043d\\u0430 \\u0442\\u0435, \\u043a\\u043e\\u0442\\u043e\\u0440\\u044b\\u043c\\u0438 \\u0440\\u0430\\u0441\\u0448\\u0438\\u0432\\u0430\\u043b\\u0438 \\u043e\\u0434\\u0435\\u0436\\u0434\\u0443 \\u0440\\u0443\\u0441\\u0441\\u043a\\u0438\\u0445 \\u0446\\u0430\\u0440\\u0435\\u0439. \\u041a\\u0430\\u043c\\u0435\\u0440\\u0430 \\u043e\\u0431\\u0442\\u044f\\u043d\\u0443\\u0442\\u0430 \\u0432\\u044b\\u0441\\u043e\\u043a\\u043e\\u0442\\u0435\\u0445\\u043d\\u043e\\u043b\\u043e\\u0433\\u0438\\u0447\\u043d\\u044b\\u043c \\u043c\\u0430\\u0442\\u0435\\u0440\\u0438\\u0430\\u043b\\u043e\\u043c \\u0441 \\u0431\\u0430\\u0440\\u0445\\u0430\\u0442\\u0438\\u0441\\u0442\\u043e\\u0439 \\u0444\\u0430\\u043a\\u0442\\u0443\\u0440\\u043e\\u0439, \\u0432\\u044b\\u0448\\u0438\\u0442\\u044b\\u043c \\u0432\\u0440\\u0443\\u0447\\u043d\\u0443\\u044e \\u0438 \\u0438\\u043d\\u043a\\u0440\\u0443\\u0441\\u0442\\u0438\\u0440\\u043e\\u0432\\u0430\\u043d\\u043d\\u044b\\u043c \\u043a\\u0440\\u0438\\u0441\\u0442\\u0430\\u043b\\u043b\\u0430\\u043c\\u0438\\u00bb, \\u2014 \\u0433\\u043e\\u0432\\u043e\\u0440\\u0438\\u0442\\u0441\\u044f \\u0432 \\u043e\\u043f\\u0438\\u0441\\u0430\\u043d\\u0438\\u0438 \\u043a \\u043f\\u0440\\u043e\\u0434\\u0443\\u043a\\u0442\\u0443. \\u0427\\u0435\\u0440\\u043d\\u044b\\u0439 \\u043c\\u044f\\u0447 \\u0441 \\u0437\\u043e\\u043b\\u043e\\u0442\\u044b\\u043c \\u043e\\u0440\\u043d\\u0430\\u043c\\u0435\\u043d\\u0442\\u043e\\u043c \\u0432 \\u043d\\u0430\\u0446\\u0438\\u043e\\u043d\\u0430\\u043b\\u044c\\u043d\\u043e\\u043c \\u0441\\u0442\\u0438\\u043b\\u0435 \\u0434\\u043e\\u0441\\u0442\\u0443\\u043f\\u0435\\u043d \\u0434\\u043b\\u044f \\u043f\\u0440\\u0435\\u0434\\u0437\\u0430\\u043a\\u0430\\u0437\\u0430 \\u043f\\u043e \\u0446\\u0435\\u043d\\u0435 99 \\u0442\\u044b\\u0441\\u044f\\u0447 \\u0440\\u0443\\u0431\\u043b\\u0435\\u0439. \\u0412 \\u043c\\u0430\\u0435 2018 \\u0433\\u043e\\u0434\\u0430 \\u0432 \\u0426\\u0423\\u041c \\u043f\\u043e\\u0441\\u0442\\u0443\\u043f\\u0438\\u043b\\u0430 \\u043a\\u0430\\u043f\\u0441\\u0443\\u043b\\u044c\\u043d\\u0430\\u044f \\u043a\\u043e\\u043b\\u043b\\u0435\\u043a\\u0446\\u0438\\u044f \\u043c\\u0443\\u0436\\u0441\\u043a\\u043e\\u0439 \\u043e\\u0434\\u0435\\u0436\\u0434\\u044b \\u0438 \\u0430\\u043a\\u0441\\u0435\\u0441\\u0441\\u0443\\u0430\\u0440\\u043e\\u0432 \\u0438\\u0442\\u0430\\u043b\\u044c\\u044f\\u043d\\u0441\\u043a\\u043e\\u0433\\u043e \\u043c\\u043e\\u0434\\u043d\\u043e\\u0433\\u043e \\u0434\\u043e\\u043c\\u0430 Dolce & Gabbana, \\u043f\\u043e\\u0441\\u0432\\u044f\\u0449\\u0435\\u043d\\u043d\\u0430\\u044f \\u0447\\u0435\\u043c\\u043f\\u0438\\u043e\\u043d\\u0430\\u0442\\u0443 \\u043c\\u0438\\u0440\\u0430 \\u043f\\u043e \\u0444\\u0443\\u0442\\u0431\\u043e\\u043b\\u0443-2018 \\u0432 \\u0420\\u043e\\u0441\\u0441\\u0438\\u0438. \\u0412 \\u044d\\u043a\\u0441\\u043a\\u043b\\u044e\\u0437\\u0438\\u0432\\u043d\\u0443\\u044e \\u043b\\u0438\\u043d\\u0438\\u044e \\u0432\\u043e\\u0448\\u043b\\u0438 \\u0441\\u043f\\u043e\\u0440\\u0442\\u0438\\u0432\\u043d\\u044b\\u0439 \\u043a\\u043e\\u0441\\u0442\\u044e\\u043c, \\u0444\\u0443\\u0442\\u0431\\u043e\\u043b\\u043a\\u0438, \\u043f\\u0443\\u043b\\u043e\\u0432\\u0435\\u0440\\u044b, \\u043a\\u0440\\u043e\\u0441\\u0441\\u043e\\u0432\\u043a\\u0438, \\u0431\\u0435\\u0439\\u0441\\u0431\\u043e\\u043b\\u043a\\u0438 \\u0438 \\u0440\\u044e\\u043a\\u0437\\u0430\\u043a\\u0438, \\u043e\\u0444\\u043e\\u0440\\u043c\\u043b\\u0435\\u043d\\u043d\\u044b\\u0435 \\u0432 \\u0444\\u0443\\u0442\\u0431\\u043e\\u043b\\u044c\\u043d\\u043e\\u043c \\u0441\\u0442\\u0438\\u043b\\u0435 \\u0441 \\u043b\\u043e\\u0433\\u043e\\u0442\\u0438\\u043f\\u0430\\u043c\\u0438 \\u043c\\u043e\\u0434\\u043d\\u043e\\u0433\\u043e \\u0434\\u043e\\u043c\\u0430. \\u0427\\u0435\\u043c\\u043f\\u0438\\u043e\\u043d\\u0430\\u0442 \\u043c\\u0438\\u0440\\u0430 \\u043f\\u043e \\u0444\\u0443\\u0442\\u0431\\u043e\\u043b\\u0443 \\u0431\\u0443\\u0434\\u0435\\u0442 \\u043f\\u0440\\u043e\\u0445\\u043e\\u0434\\u0438\\u0442\\u044c \\u0441 14 \\u0438\\u044e\\u043d\\u044f \\u043f\\u043e 15 \\u0438\\u044e\\u043b\\u044f \\u0432 11 \\u0433\\u043e\\u0440\\u043e\\u0434\\u0430\\u0445 \\u0420\\u043e\\u0441\\u0441\\u0438\\u0438.\",\n          \"\\u0421\\u0435\\u0440\\u0438\\u0439\\u043d\\u044b\\u0439 \\u0443\\u0431\\u0438\\u0439\\u0446\\u0430 \\u0432\\u00a0\\u0417\\u0430\\u0431\\u0430\\u0439\\u043a\\u0430\\u043b\\u044c\\u0435 \\u043f\\u043e\\u0436\\u0438\\u0437\\u043d\\u0435\\u043d\\u043d\\u043e \\u043b\\u0438\\u0448\\u0435\\u043d \\u0441\\u0432\\u043e\\u0431\\u043e\\u0434\\u044b \\u0412 \\u0427\\u0438\\u0442\\u0435 \\u043e\\u0441\\u0443\\u0436\\u0434\\u0435\\u043d 40-\\u043b\\u0435\\u0442\\u043d\\u0438\\u0439 \\u043c\\u0435\\u0441\\u0442\\u043d\\u044b\\u0439 \\u0436\\u0438\\u0442\\u0435\\u043b\\u044c, \\u0441\\u043e\\u0432\\u0435\\u0440\\u0448\\u0438\\u0432\\u0448\\u0438\\u0439 \\u0441\\u0435\\u0440\\u0438\\u044e \\u043f\\u0440\\u0435\\u0441\\u0442\\u0443\\u043f\\u043b\\u0435\\u043d\\u0438\\u0439. \\u041a\\u0430\\u043a \\u0432 \\u0441\\u0440\\u0435\\u0434\\u0443, 20 \\u0434\\u0435\\u043a\\u0430\\u0431\\u0440\\u044f \\u0440\\u0430\\u0441\\u0441\\u043a\\u0430\\u0437\\u0430\\u043b \\u00ab\\u041b\\u0435\\u043d\\u0442\\u0435.\\u0440\\u0443\\u00bb \\u0415\\u0433\\u043e\\u0440 \\u041c\\u0430\\u0440\\u043a\\u043e\\u0432, \\u043e\\u0444\\u0438\\u0446\\u0438\\u0430\\u043b\\u044c\\u043d\\u044b\\u0439 \\u043f\\u0440\\u0435\\u0434\\u0441\\u0442\\u0430\\u0432\\u0438\\u0442\\u0435\\u043b\\u044c \\u0421\\u043b\\u0435\\u0434\\u0441\\u0442\\u0432\\u0435\\u043d\\u043d\\u043e\\u0433\\u043e \\u0443\\u043f\\u0440\\u0430\\u0432\\u043b\\u0435\\u043d\\u0438\\u044f \\u0421\\u041a\\u0420 \\u043f\\u043e \\u0417\\u0430\\u0431\\u0430\\u0439\\u043a\\u0430\\u043b\\u044c\\u0441\\u043a\\u043e\\u043c\\u0443 \\u043a\\u0440\\u0430\\u044e, \\u0421\\u0435\\u0440\\u0433\\u0435\\u0439 \\u041c\\u0438\\u0445\\u0430\\u0439\\u043b\\u043e\\u0432 \\u043f\\u0440\\u0438\\u0433\\u043e\\u0432\\u043e\\u0440\\u0435\\u043d \\u043a \\u043f\\u043e\\u0436\\u0438\\u0437\\u043d\\u0435\\u043d\\u043d\\u043e\\u043c\\u0443 \\u043b\\u0438\\u0448\\u0435\\u043d\\u0438\\u044e \\u0441\\u0432\\u043e\\u0431\\u043e\\u0434\\u044b. \\u041f\\u043e \\u0441\\u043b\\u043e\\u0432\\u0430\\u043c \\u041c\\u0430\\u0440\\u043a\\u043e\\u0432\\u0430, \\u0432 \\u0441\\u0435\\u043d\\u0442\\u044f\\u0431\\u0440\\u0435 2016 \\u0433\\u043e\\u0434\\u0430 \\u041c\\u0438\\u0445\\u0430\\u0439\\u043b\\u043e\\u0432 \\u0441 \\u043f\\u043e\\u0434\\u0435\\u043b\\u044c\\u043d\\u0438\\u043a\\u043e\\u043c \\u043e\\u0431\\u043d\\u0430\\u0440\\u0443\\u0436\\u0438\\u043b\\u0438 \\u043d\\u0430 \\u0431\\u0435\\u0440\\u0435\\u0433\\u0443 \\u0440\\u0435\\u043a\\u0438 \\u0418\\u043d\\u0433\\u043e\\u0434\\u0430 \\u0432 \\u0427\\u0438\\u0442\\u0438\\u043d\\u0441\\u043a\\u043e\\u043c \\u0440\\u0430\\u0439\\u043e\\u043d\\u0435 \\u0417\\u0430\\u0431\\u0430\\u0439\\u043a\\u0430\\u043b\\u044c\\u044f \\u0430\\u0432\\u0442\\u043e\\u043c\\u043e\\u0431\\u0438\\u043b\\u044c \\u0442\\u0430\\u043a\\u0441\\u0438, \\u0432\\u043e\\u0434\\u0438\\u0442\\u0435\\u043b\\u044c \\u043a\\u043e\\u0442\\u043e\\u0440\\u043e\\u0433\\u043e \\u0441\\u043f\\u0430\\u043b \\u0437\\u0430 \\u0440\\u0443\\u043b\\u0435\\u043c. \\u041e\\u043d\\u0438 \\u0441\\u043d\\u0430\\u0447\\u0430\\u043b\\u0430 \\u0443\\u043a\\u0440\\u0430\\u043b\\u0438 \\u0438\\u0437 \\u0431\\u0430\\u0433\\u0430\\u0436\\u043d\\u0438\\u043a\\u0430 \\u0430\\u0432\\u0442\\u043e\\u043c\\u043e\\u0431\\u0438\\u043b\\u044f \\u043d\\u0430\\u0431\\u043e\\u0440 \\u0438\\u043d\\u0441\\u0442\\u0440\\u0443\\u043c\\u0435\\u043d\\u0442\\u043e\\u0432, \\u0430 \\u0437\\u0430\\u0442\\u0435\\u043c \\u0440\\u0435\\u0448\\u0438\\u043b\\u0438 \\u043f\\u043e\\u0445\\u0438\\u0442\\u0438\\u0442\\u044c \\u0446\\u0435\\u043d\\u043d\\u044b\\u0435 \\u0432\\u0435\\u0449\\u0438 \\u0438\\u0437 \\u0441\\u0430\\u043b\\u043e\\u043d\\u0430. \\u041d\\u043e \\u0432 \\u043c\\u043e\\u043c\\u0435\\u043d\\u0442 \\u043a\\u0440\\u0430\\u0436\\u0438 \\u0448\\u043e\\u0444\\u0435\\u0440 \\u043f\\u0440\\u043e\\u0441\\u043d\\u0443\\u043b\\u0441\\u044f \\u0438 \\u043d\\u0430\\u0447\\u0430\\u043b \\u043e\\u043a\\u0430\\u0437\\u044b\\u0432\\u0430\\u0442\\u044c \\u0441\\u043e\\u043f\\u0440\\u043e\\u0442\\u0438\\u0432\\u043b\\u0435\\u043d\\u0438\\u0435. \\u0422\\u043e\\u0433\\u0434\\u0430 \\u041c\\u0438\\u0445\\u0430\\u0439\\u043b\\u043e\\u0432 \\u0438 \\u0435\\u0433\\u043e \\u0441\\u043e\\u0443\\u0447\\u0430\\u0441\\u0442\\u043d\\u0438\\u043a \\u043d\\u0430\\u043d\\u0435\\u0441\\u043b\\u0438 \\u043c\\u0443\\u0436\\u0447\\u0438\\u043d\\u0435 \\u043d\\u0435\\u0441\\u043a\\u043e\\u043b\\u044c\\u043a\\u043e \\u043d\\u043e\\u0436\\u0435\\u0432\\u044b\\u0445 \\u0440\\u0430\\u043d, \\u043e\\u0442 \\u043a\\u043e\\u0442\\u043e\\u0440\\u044b\\u0445 \\u043e\\u043d \\u0441\\u043a\\u043e\\u043d\\u0447\\u0430\\u043b\\u0441\\u044f \\u043d\\u0430 \\u043c\\u0435\\u0441\\u0442\\u0435 \\u043f\\u0440\\u043e\\u0438\\u0441\\u0448\\u0435\\u0441\\u0442\\u0432\\u0438\\u044f. \\u0417\\u0430\\u0442\\u0435\\u043c \\u043e\\u043d\\u0438 \\u0440\\u0435\\u0448\\u0438\\u043b\\u0438 \\u0443\\u0433\\u043d\\u0430\\u0442\\u044c \\u0430\\u0432\\u0442\\u043e\\u043c\\u043e\\u0431\\u0438\\u043b\\u044c, \\u043d\\u043e \\u043e\\u043d \\u043d\\u0435 \\u0437\\u0430\\u0432\\u0435\\u043b\\u0441\\u044f \\u2014 \\u0438 \\u0442\\u043e\\u0433\\u0434\\u0430 \\u043c\\u0430\\u0448\\u0438\\u043d\\u0443 \\u0441\\u043e\\u0436\\u0433\\u043b\\u0438. \\u00ab\\u0420\\u0430\\u0441\\u0441\\u043b\\u0435\\u0434\\u0443\\u044f \\u044d\\u0442\\u043e \\u043f\\u0440\\u0435\\u0441\\u0442\\u0443\\u043f\\u043b\\u0435\\u043d\\u0438\\u0435, \\u0441\\u043b\\u0435\\u0434\\u043e\\u0432\\u0430\\u0442\\u0435\\u043b\\u0438 \\u0443\\u0441\\u0442\\u0430\\u043d\\u043e\\u0432\\u0438\\u043b\\u0438 \\u043b\\u0438\\u0447\\u043d\\u043e\\u0441\\u0442\\u0438 \\u043f\\u043e\\u0434\\u043e\\u0437\\u0440\\u0435\\u0432\\u0430\\u0435\\u043c\\u044b\\u0445, \\u0438 \\u041c\\u0438\\u0445\\u0430\\u0439\\u043b\\u043e\\u0432 \\u0431\\u044b\\u043b \\u0437\\u0430\\u0434\\u0435\\u0440\\u0436\\u0430\\u043d. \\u041f\\u0440\\u0438 \\u043f\\u0440\\u043e\\u0432\\u0435\\u0440\\u043a\\u0435 \\u0435\\u0433\\u043e \\u0433\\u0435\\u043d\\u043e\\u0442\\u0438\\u043f\\u0430 \\u0431\\u044b\\u043b\\u0430 \\u0443\\u0441\\u0442\\u0430\\u043d\\u043e\\u0432\\u043b\\u0435\\u043d\\u0430 \\u043f\\u0440\\u0438\\u0447\\u0430\\u0441\\u0442\\u043d\\u043e\\u0441\\u0442\\u044c \\u043a \\u0440\\u0435\\u0437\\u043e\\u043d\\u0430\\u043d\\u0441\\u043d\\u043e\\u043c\\u0443 \\u043f\\u0440\\u0435\\u0441\\u0442\\u0443\\u043f\\u043b\\u0435\\u043d\\u0438\\u044e, \\u0441\\u043e\\u0432\\u0435\\u0440\\u0448\\u0435\\u043d\\u043d\\u043e\\u043c\\u0443 \\u0432 \\u0441\\u0435\\u043d\\u0442\\u044f\\u0431\\u0440\\u0435 2003 \\u0433\\u043e\\u0434\\u0430 \\u0432 \\u0427\\u0438\\u0442\\u0435. \\u041e\\u0437\\u043d\\u0430\\u043a\\u043e\\u043c\\u0438\\u0432\\u0448\\u0438\\u0441\\u044c \\u0441 \\u0437\\u0430\\u043a\\u043b\\u044e\\u0447\\u0435\\u043d\\u0438\\u0435\\u043c \\u043a\\u0440\\u0438\\u043c\\u0438\\u043d\\u0430\\u043b\\u0438\\u0441\\u0442\\u043e\\u0432, \\u043e\\u043d \\u043f\\u043e\\u043b\\u043d\\u043e\\u0441\\u0442\\u044c\\u044e \\u043f\\u0440\\u0438\\u0437\\u043d\\u0430\\u043b\\u0441\\u044f \\u0432 \\u0443\\u0431\\u0438\\u0439\\u0441\\u0442\\u0432\\u0435 \\u0440\\u0435\\u0431\\u0435\\u043d\\u043a\\u0430 \\u0438 \\u043f\\u0440\\u0438 \\u043f\\u0440\\u043e\\u0432\\u0435\\u0440\\u043a\\u0435 \\u043f\\u043e\\u043a\\u0430\\u0437\\u0430\\u043d\\u0438\\u0439 \\u043d\\u0430 \\u043c\\u0435\\u0441\\u0442\\u043d\\u043e\\u0441\\u0442\\u0438 \\u0440\\u0430\\u0441\\u0441\\u043a\\u0430\\u0437\\u0430\\u043b \\u043e\\u0431\\u043e \\u0432\\u0441\\u0435\\u0445 \\u043e\\u0431\\u0441\\u0442\\u043e\\u044f\\u0442\\u0435\\u043b\\u044c\\u0441\\u0442\\u0432\\u0430\\u0445\\u00bb, \\u2014 \\u0441\\u043e\\u043e\\u0431\\u0449\\u0438\\u043b \\u043e\\u0444\\u0438\\u0446\\u0438\\u0430\\u043b\\u044c\\u043d\\u044b\\u0439 \\u043f\\u0440\\u0435\\u0434\\u0441\\u0442\\u0430\\u0432\\u0438\\u0442\\u0435\\u043b\\u044c \\u0417\\u0430\\u0431\\u0430\\u0439\\u043a\\u0430\\u043b\\u044c\\u0441\\u043a\\u043e\\u0433\\u043e \\u0443\\u043f\\u0440\\u0430\\u0432\\u043b\\u0435\\u043d\\u0438\\u044f \\u0421\\u041a\\u0420. \\u041a\\u0430\\u043a \\u0441\\u043e\\u043e\\u0431\\u0449\\u0438\\u043b \\u041c\\u0438\\u0445\\u0430\\u0439\\u043b\\u043e\\u0432, \\u043f\\u0440\\u043e\\u0435\\u0437\\u0436\\u0430\\u044f \\u043d\\u0430 \\u0432\\u0435\\u043b\\u043e\\u0441\\u0438\\u043f\\u0435\\u0434\\u0435 \\u043f\\u043e \\u0442\\u0435\\u0440\\u0440\\u0438\\u0442\\u043e\\u0440\\u0438\\u0438 \\u0432\\u043e\\u0435\\u043d\\u043d\\u043e\\u0433\\u043e \\u043f\\u043e\\u043b\\u0438\\u0433\\u043e\\u043d\\u0430 \\u0432 \\u0440\\u0430\\u0439\\u043e\\u043d\\u0435 \\u043f\\u043e\\u0441\\u0435\\u043b\\u043a\\u0430 \\u041a\\u0430\\u0448\\u0442\\u0430\\u043a \\u0433\\u043e\\u0440\\u043e\\u0434\\u0430 \\u0427\\u0438\\u0442\\u044b, \\u043e\\u043d \\u0437\\u0430\\u043c\\u0435\\u0442\\u0438\\u043b \\u0438\\u0434\\u0443\\u0449\\u0443\\u044e \\u0434\\u0435\\u0432\\u044f\\u0442\\u0438\\u043b\\u0435\\u0442\\u043d\\u044e\\u044e \\u0434\\u0435\\u0432\\u043e\\u0447\\u043a\\u0443. \\u041c\\u0443\\u0436\\u0447\\u0438\\u043d\\u0430 \\u043d\\u0430\\u043f\\u0430\\u043b \\u043d\\u0430 \\u043d\\u0435\\u0435, \\u0437\\u0430\\u0442\\u0430\\u0449\\u0438\\u043b \\u0435\\u0435 \\u0432 \\u043f\\u043e\\u0434\\u0437\\u0435\\u043c\\u043d\\u044b\\u0439 \\u0431\\u0443\\u043d\\u043a\\u0435\\u0440, \\u0433\\u0434\\u0435 \\u043d\\u0430\\u0434\\u0440\\u0443\\u0433\\u0430\\u043b\\u0441\\u044f \\u043d\\u0430\\u0434 \\u0440\\u0435\\u0431\\u0435\\u043d\\u043a\\u043e\\u043c, \\u0430 \\u0437\\u0430\\u0442\\u0435\\u043c \\u0437\\u0430\\u0434\\u0443\\u0448\\u0438\\u043b. \\u041f\\u0440\\u043e\\u043f\\u0430\\u0432\\u0448\\u0443\\u044e \\u0434\\u0435\\u0432\\u043e\\u0447\\u043a\\u0443 \\u043d\\u0435\\u0441\\u043a\\u043e\\u043b\\u044c\\u043a\\u043e \\u0434\\u043d\\u0435\\u0439 \\u0438\\u0441\\u043a\\u0430\\u043b\\u0438 \\u043c\\u0438\\u043b\\u0438\\u0446\\u0438\\u044f, \\u0432\\u043e\\u0435\\u043d\\u043d\\u044b\\u0435 \\u0438 \\u0432\\u043e\\u043b\\u043e\\u043d\\u0442\\u0435\\u0440\\u044b \\u0422\\u043e\\u043b\\u044c\\u043a\\u043e \\u0441\\u043f\\u0443\\u0441\\u0442\\u044f \\u0442\\u0440\\u043e\\u0435 \\u0441\\u0443\\u0442\\u043e\\u043a \\u0442\\u0435\\u043b\\u043e \\u0431\\u044b\\u043b\\u043e \\u043e\\u0431\\u043d\\u0430\\u0440\\u0443\\u0436\\u0435\\u043d\\u043e, \\u043d\\u043e \\u0442\\u043e\\u0433\\u0434\\u0430 \\u0443\\u0441\\u0442\\u0430\\u043d\\u043e\\u0432\\u0438\\u0442\\u044c \\u043f\\u0440\\u0435\\u0441\\u0442\\u0443\\u043f\\u043d\\u0438\\u043a\\u0430 \\u043d\\u0435 \\u0443\\u0434\\u0430\\u043b\\u043e\\u0441\\u044c, \\u0445\\u043e\\u0442\\u044f \\u043d\\u0430 \\u043c\\u0435\\u0441\\u0442\\u0435 \\u043f\\u0440\\u043e\\u0438\\u0441\\u0448\\u0435\\u0441\\u0442\\u0432\\u0438\\u044f \\u0431\\u044b\\u043b\\u0438 \\u043e\\u0431\\u043d\\u0430\\u0440\\u0443\\u0436\\u0435\\u043d\\u044b \\u0435\\u0433\\u043e \\u0431\\u0438\\u043e\\u043b\\u043e\\u0433\\u0438\\u0447\\u0435\\u0441\\u043a\\u0438\\u0435 \\u0441\\u043b\\u0435\\u0434\\u044b. \\u0414\\u0432\\u0430 \\u0433\\u043e\\u0434\\u0430 \\u0441\\u043f\\u0443\\u0441\\u0442\\u044f, \\u0432 \\u043e\\u043a\\u0442\\u044f\\u0431\\u0440\\u0435 2005-\\u0433\\u043e, \\u043f\\u0440\\u043e\\u0435\\u0437\\u0436\\u0430\\u044f \\u0432 \\u0442\\u043e\\u043c \\u0436\\u0435 \\u0440\\u0430\\u0439\\u043e\\u043d\\u0435 \\u043d\\u0430 \\u0432\\u0435\\u043b\\u043e\\u0441\\u0438\\u043f\\u0435\\u0434\\u0435, \\u041c\\u0438\\u0445\\u0430\\u0439\\u043b\\u043e\\u0432 \\u0443\\u0432\\u0438\\u0434\\u0435\\u043b \\u0448\\u0435\\u0434\\u0448\\u0443\\u044e \\u043f\\u0435\\u0448\\u043a\\u043e\\u043c 20-\\u043b\\u0435\\u0442\\u043d\\u044e\\u044e \\u0436\\u0435\\u043d\\u0449\\u0438\\u043d\\u0443 \\u0432 \\u043a\\u0440\\u0430\\u0441\\u0438\\u0432\\u043e\\u0439 \\u0434\\u0443\\u0431\\u043b\\u0435\\u043d\\u043a\\u0435. \\u041e\\u043d \\u043d\\u0430\\u043f\\u0430\\u043b \\u043d\\u0430 \\u043d\\u0435\\u0435, \\u043d\\u0430\\u043d\\u0435\\u0441 \\u043d\\u0435\\u0441\\u043a\\u043e\\u043b\\u044c\\u043a\\u043e \\u0434\\u0435\\u0441\\u044f\\u0442\\u043a\\u043e\\u0432 \\u0443\\u0434\\u0430\\u0440\\u043e\\u0432 \\u043d\\u043e\\u0436\\u043e\\u043c \\u0432 \\u0433\\u0440\\u0443\\u0434\\u044c, \\u043f\\u043e\\u0441\\u043b\\u0435 \\u0447\\u0435\\u0433\\u043e \\u0441\\u043d\\u044f\\u043b \\u0441 \\u0442\\u0435\\u043b\\u0430 \\u0432\\u0435\\u0440\\u0445\\u043d\\u044e\\u044e \\u043e\\u0434\\u0435\\u0436\\u0434\\u0443, \\u0437\\u043e\\u043b\\u043e\\u0442\\u044b\\u0435 \\u0443\\u043a\\u0440\\u0430\\u0448\\u0435\\u043d\\u0438\\u044f \\u0438 \\u0441\\u043a\\u0440\\u044b\\u043b\\u0441\\u044f. \\u00ab\\u041f\\u043e\\u0445\\u0438\\u0449\\u0435\\u043d\\u043d\\u0443\\u044e \\u0434\\u0443\\u0431\\u043b\\u0435\\u043d\\u043a\\u0443 \\u041c\\u0438\\u0445\\u0430\\u0439\\u043b\\u043e\\u0432 \\u043f\\u044b\\u0442\\u0430\\u043b\\u0441\\u044f \\u043f\\u043e\\u0434\\u0430\\u0440\\u0438\\u0442\\u044c \\u0436\\u0435\\u043d\\u0435, \\u043d\\u043e \\u0442\\u0430 \\u043e\\u0442\\u043a\\u0430\\u0437\\u0430\\u043b\\u0430\\u0441\\u044c, \\u043e\\u0431\\u043d\\u0430\\u0440\\u0443\\u0436\\u0438\\u0432 \\u043d\\u0430 \\u043d\\u0435\\u0439 \\u043a\\u0440\\u043e\\u0432\\u044c. \\u0422\\u043e\\u0433\\u0434\\u0430 \\u0434\\u0443\\u0448\\u0435\\u0433\\u0443\\u0431 \\u0441\\u0434\\u0435\\u043b\\u0430\\u043b \\u0438\\u0437 \\u043e\\u0434\\u0435\\u0436\\u0434\\u044b \\u043a\\u043e\\u0432\\u0440\\u0438\\u043a-\\u043d\\u0430\\u043a\\u0438\\u0434\\u043a\\u0443, \\u0438 \\u0438\\u0441\\u043f\\u043e\\u043b\\u044c\\u0437\\u043e\\u0432\\u0430\\u043b \\u0434\\u043e\\u043c\\u0430. \\u041f\\u0440\\u0438\\u043c\\u0435\\u0447\\u0430\\u0442\\u0435\\u043b\\u044c\\u043d\\u043e, \\u0447\\u0442\\u043e \\u043d\\u0435\\u0441\\u043a\\u043e\\u043b\\u044c\\u043a\\u043e \\u0434\\u043d\\u0435\\u0439 \\u0441\\u043f\\u0443\\u0441\\u0442\\u044f, \\u043f\\u0440\\u043e\\u0435\\u0437\\u0436\\u0430\\u044f \\u043d\\u0430 \\u0442\\u043e\\u043c \\u0436\\u0435 \\u0432\\u0435\\u043b\\u043e\\u0441\\u0438\\u043f\\u0435\\u0434\\u0435, \\u041c\\u0438\\u0445\\u0430\\u0439\\u043b\\u043e\\u0432 \\u0443\\u0432\\u0438\\u0434\\u0435\\u043b, \\u0447\\u0442\\u043e \\u0442\\u0435\\u043b\\u043e \\u043f\\u043e\\u0433\\u0438\\u0431\\u0448\\u0435\\u0439 \\u0442\\u0430\\u043a \\u0438 \\u043d\\u0435 \\u043e\\u0431\\u043d\\u0430\\u0440\\u0443\\u0436\\u0435\\u043d\\u043e, \\u0438 \\u0441\\u0430\\u043c \\u0437\\u0430\\u044f\\u0432\\u0438\\u043b \\u0432 \\u043f\\u043e\\u043b\\u0438\\u0446\\u0438\\u044e \\u043e \\u0441\\u043e\\u0432\\u0435\\u0440\\u0448\\u0435\\u043d\\u043d\\u043e\\u043c \\u043f\\u0440\\u0435\\u0441\\u0442\\u0443\\u043f\\u043b\\u0435\\u043d\\u0438\\u0438\\u00bb, \\u2014 \\u0440\\u0430\\u0441\\u0441\\u043a\\u0430\\u0437\\u0430\\u043b \\u0415\\u0433\\u043e\\u0440 \\u041c\\u0430\\u0440\\u043a\\u043e\\u0432. \\u041e\\u043d \\u0443\\u0442\\u043e\\u0447\\u043d\\u0438\\u043b, \\u0447\\u0442\\u043e \\u0438 \\u044d\\u0442\\u043e \\u043f\\u0440\\u0435\\u0441\\u0442\\u0443\\u043f\\u043b\\u0435\\u043d\\u0438\\u0435 \\u0431\\u043e\\u043b\\u0435\\u0435 \\u0434\\u0435\\u0441\\u044f\\u0442\\u0438 \\u043b\\u0435\\u0442 \\u043e\\u0441\\u0442\\u0430\\u0432\\u0430\\u043b\\u043e\\u0441\\u044c \\u043d\\u0435\\u0440\\u0430\\u0441\\u043a\\u0440\\u044b\\u0442\\u044b\\u043c. \\u041f\\u0440\\u0438\\u0433\\u043e\\u0432\\u043e\\u0440 \\u041c\\u0438\\u0445\\u0430\\u0439\\u043b\\u043e\\u0432 \\u0432\\u044b\\u0441\\u043b\\u0443\\u0448\\u0430\\u043b \\u0441\\u0442\\u043e\\u044f, \\u043d\\u043e \\u043f\\u043e\\u0432\\u0435\\u0440\\u043d\\u0443\\u0432\\u0448\\u0438\\u0441\\u044c \\u043a \\u0441\\u0443\\u0434\\u044c\\u0435 \\u0441\\u043f\\u0438\\u043d\\u043e\\u0439. \\u041a\\u0430\\u043a \\u0440\\u0430\\u0441\\u0441\\u043a\\u0430\\u0437\\u0430\\u043b \\u00ab\\u041b\\u0435\\u043d\\u0442\\u0435.\\u0440\\u0443\\u00bb \\u0438\\u0441\\u0442\\u043e\\u0447\\u043d\\u0438\\u043a \\u0432 \\u043f\\u0440\\u0430\\u0432\\u043e\\u043e\\u0445\\u0440\\u0430\\u043d\\u0438\\u0442\\u0435\\u043b\\u044c\\u043d\\u044b\\u0445 \\u043e\\u0440\\u0433\\u0430\\u043d\\u0430\\u0445, \\u0440\\u0430\\u043d\\u0435\\u0435 \\u041c\\u0438\\u0445\\u0430\\u0439\\u043b\\u043e\\u0432 \\u0431\\u044b\\u043b \\u0441\\u0443\\u0434\\u0438\\u043c \\u0437\\u0430 \\u043a\\u043e\\u0440\\u044b\\u0441\\u0442\\u043d\\u044b\\u0435 \\u043f\\u0440\\u0435\\u0441\\u0442\\u0443\\u043f\\u043b\\u0435\\u043d\\u0438\\u044f, \\u043d\\u043e \\u0432\\u0441\\u0435 \\u0441\\u0443\\u0434\\u0438\\u043c\\u043e\\u0441\\u0442\\u0438 \\u043f\\u043e\\u0433\\u0430\\u0448\\u0435\\u043d\\u044b. \\u0422\\u0435\\u043c \\u043d\\u0435 \\u043c\\u0435\\u043d\\u0435\\u0435 \\u0441\\u043b\\u0435\\u0434\\u0441\\u0442\\u0432\\u0438\\u0435 \\u043f\\u0440\\u043e\\u0432\\u0435\\u0440\\u044f\\u0435\\u0442 \\u043f\\u0440\\u0438\\u0447\\u0430\\u0441\\u0442\\u043d\\u043e\\u0441\\u0442\\u044c \\u043e\\u0441\\u0443\\u0436\\u0434\\u0435\\u043d\\u043d\\u043e\\u0433\\u043e \\u043a \\u0434\\u0440\\u0443\\u0433\\u0438\\u043c \\u0442\\u044f\\u0436\\u043a\\u0438\\u043c \\u043f\\u0440\\u0435\\u0441\\u0442\\u0443\\u043f\\u043b\\u0435\\u043d\\u0438\\u044f\\u043c \\u2014 \\u0435\\u0441\\u0442\\u044c \\u043e\\u0441\\u043d\\u043e\\u0432\\u0430\\u043d\\u0438\\u044f \\u043f\\u043e\\u043b\\u0430\\u0433\\u0430\\u0442\\u044c, \\u0447\\u0442\\u043e \\u0447\\u0438\\u0441\\u043b\\u043e \\u0435\\u0433\\u043e \\u0436\\u0435\\u0440\\u0442\\u0432 \\u0431\\u043e\\u043b\\u044c\\u0448\\u0435.\"\n        ],\n        \"semantic_type\": \"\",\n        \"description\": \"\"\n      }\n    },\n    {\n      \"column\": \"clean_text\",\n      \"properties\": {\n        \"dtype\": \"string\",\n        \"num_unique_values\": 99998,\n        \"samples\": [\n          \"\\u0432\\u043e\\u043a\\u0440\\u0443\\u0433 \\u0437\\u0432\\u0435\\u0437\\u0434\\u0430 \\u0437\\u0430\\u043c\\u0435\\u0442\\u0438\\u0442\\u044c \\u0441\\u0442\\u0440\\u0443\\u043a\\u0442\\u0443\\u0440\\u0430 \\u043d\\u0435\\u0438\\u0437\\u0432\\u0435\\u0441\\u0442\\u043d\\u044b\\u0439 \\u043f\\u0440\\u043e\\u0438\\u0441\\u0445\\u043e\\u0436\\u0434\\u0435\\u043d\\u0438\\u0435 \\u0430\\u0441\\u0442\\u0440\\u043e\\u043d\\u043e\\u043c \\u0430\\u0440\\u0438\\u0437\\u043e\\u043d\\u0441\\u043a\\u0438\\u0439 \\u0443\\u043d\\u0438\\u0432\\u0435\\u0440\\u0441\\u0438\\u0442\\u0435\\u0442 \\u043e\\u0431\\u043d\\u0430\\u0440\\u0443\\u0436\\u0438\\u0442\\u044c \\u0441\\u043b\\u043e\\u0436\\u043d\\u044b\\u0439 \\u0441\\u0442\\u0440\\u0443\\u043a\\u0442\\u0443\\u0440\\u0430 \\u043e\\u043a\\u0440\\u0443\\u0436\\u0430\\u044e\\u0449\\u0438\\u0439 \\u043c\\u043e\\u043b\\u043e\\u0434\\u043e\\u0439 \\u0437\\u0432\\u0435\\u0437\\u0434\\u0430 hr a \\u0441\\u043e\\u0441\\u0442\\u043e\\u044f\\u0442\\u044c \\u043e\\u0442\\u0447\\u0451\\u0442\\u043b\\u0438\\u0432\\u044b\\u0439 \\u043a\\u043e\\u043b\\u044c\\u0446\\u043e \\u043e\\u0431\\u043b\\u043e\\u043c\\u043e\\u043a \\u043e\\u0431\\u043b\\u0430\\u043a\\u043e \\u043d\\u0435\\u043f\\u0440\\u0430\\u0432\\u0438\\u043b\\u044c\\u043d\\u044b\\u0439 \\u0444\\u043e\\u0440\\u043c\\u0430 \\u0442\\u043e\\u0447\\u043d\\u044b\\u0439 \\u043f\\u0440\\u043e\\u0438\\u0441\\u0445\\u043e\\u0436\\u0434\\u0435\\u043d\\u0438\\u0435 \\u043a\\u043e\\u0442\\u043e\\u0440\\u044b\\u0439 \\u043f\\u043e\\u043a\\u0430 \\u043d\\u0435\\u0438\\u0437\\u0432\\u0435\\u0441\\u0442\\u043d\\u043e \\u044d\\u0442\\u043e \\u0441\\u043e\\u043e\\u0431\\u0449\\u0430\\u0442\\u044c\\u0441\\u044f \\u043f\\u0440\\u0435\\u0441\\u0441\\u0440\\u0435\\u043b\\u0438\\u0437 physorg \\u0441\\u0442\\u0440\\u0443\\u043a\\u0442\\u0443\\u0440\\u0430 \\u043e\\u0431\\u0440\\u0430\\u0437\\u043e\\u0432\\u0430\\u0442\\u044c \\u043f\\u044b\\u043b\\u044c \\u0433\\u0430\\u0437 \\u043e\\u0431\\u043d\\u0430\\u0440\\u0443\\u0436\\u0438\\u0442\\u044c \\u043f\\u043e\\u043c\\u043e\\u0449\\u044c \\u043a\\u043e\\u0441\\u043c\\u0438\\u0447\\u0435\\u0441\\u043a\\u0438\\u0439 \\u0442\\u0435\\u043b\\u0435\\u0441\\u043a\\u043e\\u043f hubble \\u0431\\u0435\\u043b\\u044b\\u0439 \\u043a\\u043e\\u043b\\u044c\\u0446\\u043e \\u0434\\u043e\\u0441\\u0442\\u0438\\u0433\\u0430\\u0442\\u044c \\u0434\\u0438\\u0430\\u043c\\u0435\\u0442\\u0440 \\u0430\\u0441\\u0442\\u0440\\u043e\\u043d\\u043e\\u043c\\u0438\\u0447\\u0435\\u0441\\u043a\\u0438\\u0439 \\u0435\\u0434\\u0438\\u043d\\u0438\\u0446\\u0430 \\u043f\\u0440\\u0435\\u0432\\u044b\\u0448\\u0430\\u0442\\u044c \\u0441\\u0440\\u0435\\u0434\\u043d\\u0438\\u0439 \\u0440\\u0430\\u0441\\u0441\\u0442\\u043e\\u044f\\u043d\\u0438\\u0435 \\u0441\\u043e\\u043b\\u043d\\u0446\\u0435 \\u043f\\u043b\\u0443\\u0442\\u043e\\u043d \\u044d\\u0442\\u043e \\u0437\\u0432\\u0451\\u0437\\u0434\\u043d\\u044b\\u0439 \\u0432\\u0435\\u0442\\u0435\\u0440 \\u0432\\u043e\\u0437\\u043d\\u0438\\u043a\\u0430\\u0442\\u044c \\u0438\\u0437\\u0437 \\u0438\\u0441\\u0442\\u0435\\u0447\\u0435\\u043d\\u0438\\u0435 \\u0437\\u0430\\u0440\\u044f\\u0434\\u0438\\u0442\\u044c \\u043d\\u0435\\u0439\\u0442\\u0440\\u0430\\u043b\\u044c\\u043d\\u044b\\u0439 \\u0447\\u0430\\u0441\\u0442\\u0438\\u0446\\u0430 \\u043f\\u043e\\u0432\\u0435\\u0440\\u0445\\u043d\\u043e\\u0441\\u0442\\u044c \\u0441\\u0432\\u0435\\u0442\\u0438\\u043b\\u043e \\u0432\\u044b\\u0434\\u0443\\u0432\\u0430\\u0442\\u044c \\u0444\\u0440\\u0430\\u0433\\u043c\\u0435\\u043d\\u0442 \\u043a\\u043e\\u043b\\u044c\\u0446\\u043e \\u0434\\u0430\\u043b\\u0451\\u043a\\u0438\\u0439 \\u043a\\u043e\\u0441\\u043c\\u043e\\u0441 \\u0432\\u043d\\u0435\\u0448\\u043d\\u0438\\u0439 \\u0441\\u0442\\u0440\\u0443\\u043a\\u0442\\u0443\\u0440\\u0430 \\u0430\\u0441\\u0438\\u043c\\u043c\\u0435\\u0442\\u0440\\u0438\\u0447\\u043d\\u044b\\u0439 \\u0438\\u043c\\u0435\\u0442\\u044c \\u0444\\u043e\\u0440\\u043c\\u0430 \\u0438\\u0441\\u043a\\u0440\\u0438\\u0432\\u0438\\u0442\\u044c \\u0431\\u0443\\u043c\\u0435\\u0440\\u0430\\u043d\\u0433 \\u0443\\u0447\\u0451\\u043d\\u044b\\u0439 \\u043e\\u0431\\u044a\\u044f\\u0441\\u043d\\u044f\\u0442\\u044c \\u044d\\u0442\\u043e \\u043d\\u0435\\u0441\\u043a\\u043e\\u043b\\u044c\\u043a\\u043e \\u043f\\u0440\\u0438\\u0447\\u0438\\u043d\\u0430 \\u0432\\u043e\\u043f\\u0435\\u0440\\u0432\\u043e\\u0435 \\u044d\\u0442\\u043e \\u043c\\u043e\\u0447\\u044c \\u0441\\u0432\\u044f\\u0437\\u0430\\u0442\\u044c \\u0434\\u0432\\u0438\\u0436\\u0435\\u043d\\u0438\\u0435 \\u0440\\u043e\\u0434\\u0438\\u0442\\u0435\\u043b\\u044c\\u0441\\u043a\\u0438\\u0439 \\u0437\\u0432\\u0435\\u0437\\u0434\\u0430 \\u043a\\u043e\\u0442\\u043e\\u0440\\u044b\\u0439 \\u0432\\u043b\\u0438\\u044f\\u0442\\u044c \\u043c\\u0435\\u0436\\u0437\\u0432\\u0451\\u0437\\u0434\\u043d\\u044b\\u0439 \\u0441\\u0440\\u0435\\u0434\\u0430 \\u043f\\u043e\\u0434\\u043e\\u0431\\u043d\\u043e \\u043b\\u043e\\u0434\\u043a\\u0430 \\u043a\\u043e\\u0442\\u043e\\u0440\\u044b\\u0439 \\u0438\\u0434\\u0442\\u0438 \\u0432\\u043e\\u043b\\u043d\\u0430 \\u0432\\u043e\\u0432\\u0442\\u043e\\u0440\\u043e\\u0435 \\u043e\\u0431\\u043b\\u0430\\u043a\\u043e \\u0432\\u043b\\u0438\\u044f\\u0442\\u044c \\u0433\\u0440\\u0430\\u0432\\u0438\\u0442\\u0430\\u0446\\u0438\\u043e\\u043d\\u043d\\u044b\\u0439 \\u043f\\u0440\\u0438\\u0442\\u044f\\u0436\\u0435\\u043d\\u0438\\u0435 \\u0441\\u043e\\u0441\\u0435\\u0434\\u043d\\u0438\\u0439 hr b\",\n          \"\\u0447\\u0435\\u043c\\u043f\\u0438\\u043e\\u043d\\u0430\\u0442 \\u043c\\u0438\\u0440 \\u0444\\u0443\\u0442\\u0431\\u043e\\u043b \\u0441\\u043e\\u0437\\u0434\\u0430\\u0442\\u044c \\u044d\\u043a\\u0441\\u043a\\u043b\\u044e\\u0437\\u0438\\u0432\\u043d\\u044b\\u0439 \\u043c\\u044f\\u0447 \\u043f\\u0440\\u0435\\u0434\\u0434\\u0432\\u0435\\u0440\\u0438\\u0435 \\u0447\\u0435\\u043c\\u043f\\u0438\\u043e\\u043d\\u0430\\u0442 \\u043c\\u0438\\u0440 \\u0444\\u0443\\u0442\\u0431\\u043e\\u043b \\u043e\\u0444\\u0438\\u0446\\u0438\\u0430\\u043b\\u044c\\u043d\\u044b\\u0439 \\u0441\\u0430\\u0439\\u0442 \\u0446\\u0443\\u043c \\u043f\\u0440\\u0435\\u0434\\u0441\\u0442\\u0430\\u0432\\u0438\\u0442\\u044c \\u0434\\u0438\\u0437\\u0430\\u0439\\u043d\\u0435\\u0440\\u0441\\u043a\\u0438\\u0439 \\u043c\\u044f\\u0447 deluxe ball \\u0431\\u0440\\u0435\\u043d\\u0434 adidas \\u0432\\u0434\\u043e\\u0445\\u043d\\u043e\\u0432\\u0438\\u0442\\u044c\\u0441\\u044f \\u043c\\u043d\\u043e\\u0433\\u043e\\u0432\\u0435\\u043a\\u043e\\u0432\\u044b\\u0439 \\u0442\\u0440\\u0430\\u0434\\u0438\\u0446\\u0438\\u044f \\u0440\\u0443\\u0441\\u0441\\u043a\\u0438\\u0439 \\u0448\\u0438\\u0442\\u044c\\u0451 \\u0434\\u0438\\u0437\\u0430\\u0439\\u043d\\u0435\\u0440 adidas \\u0443\\u043a\\u0440\\u0430\\u0441\\u0438\\u0442\\u044c \\u043c\\u044f\\u0447 deluxe ball \\u0443\\u0437\\u043e\\u0440 \\u043f\\u043e\\u0445\\u043e\\u0436\\u0438\\u0439 \\u043a\\u043e\\u0442\\u043e\\u0440\\u044b\\u0439 \\u0440\\u0430\\u0441\\u0448\\u0438\\u0432\\u0430\\u0442\\u044c \\u043e\\u0434\\u0435\\u0436\\u0434\\u0430 \\u0440\\u0443\\u0441\\u0441\\u043a\\u0438\\u0439 \\u0446\\u0430\\u0440\\u044c \\u043a\\u0430\\u043c\\u0435\\u0440\\u0430 \\u043e\\u0431\\u0442\\u044f\\u043d\\u0443\\u0442\\u044b\\u0439 \\u0432\\u044b\\u0441\\u043e\\u043a\\u043e\\u0442\\u0435\\u0445\\u043d\\u043e\\u043b\\u043e\\u0433\\u0438\\u0447\\u043d\\u044b\\u0439 \\u043c\\u0430\\u0442\\u0435\\u0440\\u0438\\u0430\\u043b \\u0431\\u0430\\u0440\\u0445\\u0430\\u0442\\u0438\\u0441\\u0442\\u044b\\u0439 \\u0444\\u0430\\u043a\\u0442\\u0443\\u0440\\u0430 \\u0432\\u044b\\u0448\\u0438\\u0442\\u044b\\u0439 \\u0432\\u0440\\u0443\\u0447\\u043d\\u0443\\u044e \\u0438\\u043d\\u043a\\u0440\\u0443\\u0441\\u0442\\u0438\\u0440\\u043e\\u0432\\u0430\\u0442\\u044c \\u043a\\u0440\\u0438\\u0441\\u0442\\u0430\\u043b\\u043b \\u0433\\u043e\\u0432\\u043e\\u0440\\u0438\\u0442\\u044c\\u0441\\u044f \\u043e\\u043f\\u0438\\u0441\\u0430\\u043d\\u0438\\u0435 \\u043f\\u0440\\u043e\\u0434\\u0443\\u043a\\u0442 \\u0447\\u0451\\u0440\\u043d\\u044b\\u0439 \\u043c\\u044f\\u0447 \\u0437\\u043e\\u043b\\u043e\\u0442\\u043e\\u0439 \\u043e\\u0440\\u043d\\u0430\\u043c\\u0435\\u043d\\u0442 \\u043d\\u0430\\u0446\\u0438\\u043e\\u043d\\u0430\\u043b\\u044c\\u043d\\u044b\\u0439 \\u0441\\u0442\\u0438\\u043b\\u044c \\u0434\\u043e\\u0441\\u0442\\u0443\\u043f\\u043d\\u044b\\u0439 \\u043f\\u0440\\u0435\\u0434\\u0437\\u0430\\u043a\\u0430\\u0437 \\u0446\\u0435\\u043d\\u0430 \\u0442\\u044b\\u0441\\u044f\\u0447\\u0430 \\u0440\\u0443\\u0431\\u043b\\u044c \\u043c\\u0430\\u0439 \\u0433\\u043e\\u0434 \\u0446\\u0443\\u043c \\u043f\\u043e\\u0441\\u0442\\u0443\\u043f\\u0438\\u0442\\u044c \\u043a\\u0430\\u043f\\u0441\\u0443\\u043b\\u044c\\u043d\\u044b\\u0439 \\u043a\\u043e\\u043b\\u043b\\u0435\\u043a\\u0446\\u0438\\u044f \\u043c\\u0443\\u0436\\u0441\\u043a\\u043e\\u0439 \\u043e\\u0434\\u0435\\u0436\\u0434\\u0430 \\u0430\\u043a\\u0441\\u0435\\u0441\\u0441\\u0443\\u0430\\u0440 \\u0438\\u0442\\u0430\\u043b\\u044c\\u044f\\u043d\\u0441\\u043a\\u0438\\u0439 \\u043c\\u043e\\u0434\\u043d\\u044b\\u0439 \\u0434\\u043e\\u043c dolce gabbana \\u043f\\u043e\\u0441\\u0432\\u044f\\u0442\\u0438\\u0442\\u044c \\u0447\\u0435\\u043c\\u043f\\u0438\\u043e\\u043d\\u0430\\u0442 \\u043c\\u0438\\u0440 \\u0444\\u0443\\u0442\\u0431\\u043e\\u043b \\u0440\\u043e\\u0441\\u0441\\u0438\\u044f \\u044d\\u043a\\u0441\\u043a\\u043b\\u044e\\u0437\\u0438\\u0432\\u043d\\u044b\\u0439 \\u043b\\u0438\\u043d\\u0438\\u044f \\u0432\\u043e\\u0439\\u0442\\u0438 \\u0441\\u043f\\u043e\\u0440\\u0442\\u0438\\u0432\\u043d\\u044b\\u0439 \\u043a\\u043e\\u0441\\u0442\\u044e\\u043c \\u0444\\u0443\\u0442\\u0431\\u043e\\u043b\\u043a\\u0430 \\u043f\\u0443\\u043b\\u043e\\u0432\\u0435\\u0440 \\u043a\\u0440\\u043e\\u0441\\u0441\\u043e\\u0432\\u043e\\u043a \\u0431\\u0435\\u0439\\u0441\\u0431\\u043e\\u043b\\u043a\\u0430 \\u0440\\u044e\\u043a\\u0437\\u0430\\u043a \\u043e\\u0444\\u043e\\u0440\\u043c\\u0438\\u0442\\u044c \\u0444\\u0443\\u0442\\u0431\\u043e\\u043b\\u044c\\u043d\\u044b\\u0439 \\u0441\\u0442\\u0438\\u043b\\u044c \\u043b\\u043e\\u0433\\u043e\\u0442\\u0438\\u043f \\u043c\\u043e\\u0434\\u043d\\u044b\\u0439 \\u0434\\u043e\\u043c \\u0447\\u0435\\u043c\\u043f\\u0438\\u043e\\u043d\\u0430\\u0442 \\u043c\\u0438\\u0440 \\u0444\\u0443\\u0442\\u0431\\u043e\\u043b \\u043f\\u0440\\u043e\\u0445\\u043e\\u0434\\u0438\\u0442\\u044c \\u0438\\u044e\\u043d\\u044c \\u0438\\u044e\\u043b\\u044c \\u0433\\u043e\\u0440\\u043e\\u0434 \\u0440\\u043e\\u0441\\u0441\\u0438\\u044f\",\n          \"\\u0441\\u0435\\u0440\\u0438\\u0439\\u043d\\u044b\\u0439 \\u0443\\u0431\\u0438\\u0439\\u0446\\u0430 \\u0437\\u0430\\u0431\\u0430\\u0439\\u043a\\u0430\\u043b\\u044c\\u0435 \\u043f\\u043e\\u0436\\u0438\\u0437\\u043d\\u0435\\u043d\\u043d\\u043e \\u043b\\u0438\\u0448\\u0438\\u0442\\u044c \\u0441\\u0432\\u043e\\u0431\\u043e\\u0434\\u0430 \\u0447\\u0438\\u0442\\u0430 \\u043e\\u0441\\u0443\\u0434\\u0438\\u0442\\u044c \\u043b\\u0435\\u0442\\u043d\\u0438\\u0439 \\u043c\\u0435\\u0441\\u0442\\u043d\\u044b\\u0439 \\u0436\\u0438\\u0442\\u0435\\u043b\\u044c \\u0441\\u043e\\u0432\\u0435\\u0440\\u0448\\u0438\\u0442\\u044c \\u0441\\u0435\\u0440\\u0438\\u044f \\u043f\\u0440\\u0435\\u0441\\u0442\\u0443\\u043f\\u043b\\u0435\\u043d\\u0438\\u0435 \\u0441\\u0440\\u0435\\u0434\\u0430 \\u0434\\u0435\\u043a\\u0430\\u0431\\u0440\\u044c \\u0440\\u0430\\u0441\\u0441\\u043a\\u0430\\u0437\\u0430\\u0442\\u044c \\u043b\\u0435\\u043d\\u0442\\u0435\\u0440 \\u0435\\u0433\\u043e\\u0440 \\u043c\\u0430\\u0440\\u043a\\u043e\\u0432 \\u043e\\u0444\\u0438\\u0446\\u0438\\u0430\\u043b\\u044c\\u043d\\u044b\\u0439 \\u043f\\u0440\\u0435\\u0434\\u0441\\u0442\\u0430\\u0432\\u0438\\u0442\\u0435\\u043b\\u044c \\u0441\\u043b\\u0435\\u0434\\u0441\\u0442\\u0432\\u0435\\u043d\\u043d\\u044b\\u0439 \\u0443\\u043f\\u0440\\u0430\\u0432\\u043b\\u0435\\u043d\\u0438\\u0435 \\u0441\\u043a\\u0440 \\u0437\\u0430\\u0431\\u0430\\u0439\\u043a\\u0430\\u043b\\u044c\\u0441\\u043a\\u0438\\u0439 \\u043a\\u0440\\u0430\\u0439 \\u0441\\u0435\\u0440\\u0433\\u0435\\u0439 \\u043c\\u0438\\u0445\\u0430\\u0439\\u043b\\u043e\\u0432 \\u043f\\u0440\\u0438\\u0433\\u043e\\u0432\\u043e\\u0440\\u0438\\u0442\\u044c \\u043f\\u043e\\u0436\\u0438\\u0437\\u043d\\u0435\\u043d\\u043d\\u044b\\u0439 \\u043b\\u0438\\u0448\\u0435\\u043d\\u0438\\u0435 \\u0441\\u0432\\u043e\\u0431\\u043e\\u0434\\u0430 \\u0441\\u043b\\u043e\\u0432\\u043e \\u043c\\u0430\\u0440\\u043a\\u043e\\u0432 \\u0441\\u0435\\u043d\\u0442\\u044f\\u0431\\u0440\\u044c \\u0433\\u043e\\u0434 \\u043c\\u0438\\u0445\\u0430\\u0439\\u043b\\u043e\\u0432 \\u043f\\u043e\\u0434\\u0435\\u043b\\u044c\\u043d\\u0438\\u043a \\u043e\\u0431\\u043d\\u0430\\u0440\\u0443\\u0436\\u0438\\u0442\\u044c \\u0431\\u0435\\u0440\\u0435\\u0433 \\u0440\\u0435\\u043a\\u0430 \\u0438\\u043d\\u0433\\u043e\\u0434\\u0430 \\u0447\\u0438\\u0442\\u0438\\u043d\\u0441\\u043a\\u0438\\u0439 \\u0440\\u0430\\u0439\\u043e\\u043d \\u0437\\u0430\\u0431\\u0430\\u0439\\u043a\\u0430\\u043b\\u044c\\u0435 \\u0430\\u0432\\u0442\\u043e\\u043c\\u043e\\u0431\\u0438\\u043b\\u044c \\u0442\\u0430\\u043a\\u0441\\u0438 \\u0432\\u043e\\u0434\\u0438\\u0442\\u0435\\u043b\\u044c \\u043a\\u043e\\u0442\\u043e\\u0440\\u044b\\u0439 \\u0441\\u043f\\u0430\\u0441\\u0442\\u044c \\u0440\\u0443\\u043b\\u044c \\u0441\\u043d\\u0430\\u0447\\u0430\\u043b\\u0430 \\u0443\\u043a\\u0440\\u0430\\u0441\\u0442\\u044c \\u0431\\u0430\\u0433\\u0430\\u0436\\u043d\\u0438\\u043a \\u0430\\u0432\\u0442\\u043e\\u043c\\u043e\\u0431\\u0438\\u043b\\u044c \\u043d\\u0430\\u0431\\u043e\\u0440 \\u0438\\u043d\\u0441\\u0442\\u0440\\u0443\\u043c\\u0435\\u043d\\u0442 \\u0437\\u0430\\u0442\\u0435\\u043c \\u0440\\u0435\\u0448\\u0438\\u0442\\u044c \\u043f\\u043e\\u0445\\u0438\\u0442\\u0438\\u0442\\u044c \\u0446\\u0435\\u043d\\u043d\\u044b\\u0439 \\u0432\\u0435\\u0449\\u044c \\u0441\\u0430\\u043b\\u043e\\u043d \\u043c\\u043e\\u043c\\u0435\\u043d\\u0442 \\u043a\\u0440\\u0430\\u0436\\u0430 \\u0448\\u043e\\u0444\\u0435\\u0440 \\u043f\\u0440\\u043e\\u0441\\u043d\\u0443\\u0442\\u044c\\u0441\\u044f \\u043d\\u0430\\u0447\\u0430\\u0442\\u044c \\u043e\\u043a\\u0430\\u0437\\u044b\\u0432\\u0430\\u0442\\u044c \\u0441\\u043e\\u043f\\u0440\\u043e\\u0442\\u0438\\u0432\\u043b\\u0435\\u043d\\u0438\\u0435 \\u043c\\u0438\\u0445\\u0430\\u0439\\u043b\\u043e\\u0432 \\u0441\\u043e\\u0443\\u0447\\u0430\\u0441\\u0442\\u043d\\u0438\\u043a \\u043d\\u0430\\u043d\\u0435\\u0441\\u0442\\u0438 \\u043c\\u0443\\u0436\\u0447\\u0438\\u043d\\u0430 \\u043d\\u0435\\u0441\\u043a\\u043e\\u043b\\u044c\\u043a\\u043e \\u043d\\u043e\\u0436\\u0435\\u0432\\u043e\\u0439 \\u0440\\u0430\\u043d \\u043a\\u043e\\u0442\\u043e\\u0440\\u044b\\u0439 \\u0441\\u043a\\u043e\\u043d\\u0447\\u0430\\u0442\\u044c\\u0441\\u044f \\u043c\\u0435\\u0441\\u0442\\u043e \\u043f\\u0440\\u043e\\u0438\\u0441\\u0448\\u0435\\u0441\\u0442\\u0432\\u0438\\u0435 \\u0437\\u0430\\u0442\\u0435\\u043c \\u0440\\u0435\\u0448\\u0438\\u0442\\u044c \\u0443\\u0433\\u043d\\u0430\\u0442\\u044c \\u0430\\u0432\\u0442\\u043e\\u043c\\u043e\\u0431\\u0438\\u043b\\u044c \\u0437\\u0430\\u0432\\u0435\\u0441\\u0442\\u0438\\u0441\\u044c \\u043c\\u0430\\u0448\\u0438\\u043d\\u0430 \\u0441\\u0436\\u0435\\u0447\\u044c \\u0440\\u0430\\u0441\\u0441\\u043b\\u0435\\u0434\\u043e\\u0432\\u0430\\u0442\\u044c \\u044d\\u0442\\u043e \\u043f\\u0440\\u0435\\u0441\\u0442\\u0443\\u043f\\u043b\\u0435\\u043d\\u0438\\u0435 \\u0441\\u043b\\u0435\\u0434\\u043e\\u0432\\u0430\\u0442\\u0435\\u043b\\u044c \\u0443\\u0441\\u0442\\u0430\\u043d\\u043e\\u0432\\u0438\\u0442\\u044c \\u043b\\u0438\\u0447\\u043d\\u043e\\u0441\\u0442\\u044c \\u043f\\u043e\\u0434\\u043e\\u0437\\u0440\\u0435\\u0432\\u0430\\u0442\\u044c \\u043c\\u0438\\u0445\\u0430\\u0439\\u043b\\u043e\\u0432 \\u0437\\u0430\\u0434\\u0435\\u0440\\u0436\\u0430\\u0442\\u044c \\u043f\\u0440\\u043e\\u0432\\u0435\\u0440\\u043a\\u0430 \\u0433\\u0435\\u043d\\u043e\\u0442\\u0438\\u043f \\u0443\\u0441\\u0442\\u0430\\u043d\\u043e\\u0432\\u0438\\u0442\\u044c \\u043f\\u0440\\u0438\\u0447\\u0430\\u0441\\u0442\\u043d\\u043e\\u0441\\u0442\\u044c \\u0440\\u0435\\u0437\\u043e\\u043d\\u0430\\u043d\\u0441\\u043d\\u044b\\u0439 \\u043f\\u0440\\u0435\\u0441\\u0442\\u0443\\u043f\\u043b\\u0435\\u043d\\u0438\\u0435 \\u0441\\u043e\\u0432\\u0435\\u0440\\u0448\\u0435\\u043d\\u043d\\u044b\\u0439 \\u0441\\u0435\\u043d\\u0442\\u044f\\u0431\\u0440\\u044c \\u0433\\u043e\\u0434 \\u0447\\u0438\\u0442\\u0430 \\u043e\\u0437\\u043d\\u0430\\u043a\\u043e\\u043c\\u0438\\u0442\\u044c\\u0441\\u044f \\u0437\\u0430\\u043a\\u043b\\u044e\\u0447\\u0435\\u043d\\u0438\\u0435 \\u043a\\u0440\\u0438\\u043c\\u0438\\u043d\\u0430\\u043b\\u0438\\u0441\\u0442 \\u043f\\u043e\\u043b\\u043d\\u043e\\u0441\\u0442\\u044c\\u044e \\u043f\\u0440\\u0438\\u0437\\u043d\\u0430\\u0442\\u044c\\u0441\\u044f \\u0443\\u0431\\u0438\\u0439\\u0441\\u0442\\u0432\\u043e \\u0440\\u0435\\u0431\\u0451\\u043d\\u043e\\u043a \\u043f\\u0440\\u043e\\u0432\\u0435\\u0440\\u043a\\u0430 \\u043f\\u043e\\u043a\\u0430\\u0437\\u0430\\u043d\\u0438\\u0435 \\u043c\\u0435\\u0441\\u0442\\u043d\\u043e\\u0441\\u0442\\u044c \\u0440\\u0430\\u0441\\u0441\\u043a\\u0430\\u0437\\u0430\\u0442\\u044c \\u0432\\u0435\\u0441\\u044c \\u043e\\u0431\\u0441\\u0442\\u043e\\u044f\\u0442\\u0435\\u043b\\u044c\\u0441\\u0442\\u0432\\u043e \\u0441\\u043e\\u043e\\u0431\\u0449\\u0438\\u0442\\u044c \\u043e\\u0444\\u0438\\u0446\\u0438\\u0430\\u043b\\u044c\\u043d\\u044b\\u0439 \\u043f\\u0440\\u0435\\u0434\\u0441\\u0442\\u0430\\u0432\\u0438\\u0442\\u0435\\u043b\\u044c \\u0437\\u0430\\u0431\\u0430\\u0439\\u043a\\u0430\\u043b\\u044c\\u0441\\u043a\\u0438\\u0439 \\u0443\\u043f\\u0440\\u0430\\u0432\\u043b\\u0435\\u043d\\u0438\\u0435 \\u0441\\u043a\\u0440 \\u0441\\u043e\\u043e\\u0431\\u0449\\u0438\\u0442\\u044c \\u043c\\u0438\\u0445\\u0430\\u0439\\u043b\\u043e\\u0432 \\u043f\\u0440\\u043e\\u0435\\u0437\\u0436\\u0430\\u0442\\u044c \\u0432\\u0435\\u043b\\u043e\\u0441\\u0438\\u043f\\u0435\\u0434 \\u0442\\u0435\\u0440\\u0440\\u0438\\u0442\\u043e\\u0440\\u0438\\u044f \\u0432\\u043e\\u0435\\u043d\\u043d\\u044b\\u0439 \\u043f\\u043e\\u043b\\u0438\\u0433\\u043e\\u043d \\u0440\\u0430\\u0439\\u043e\\u043d \\u043f\\u043e\\u0441\\u0451\\u043b\\u043e\\u043a \\u043a\\u0430\\u0448\\u0442\\u0430\\u043a \\u0433\\u043e\\u0440\\u043e\\u0434 \\u0447\\u0438\\u0442\\u0430 \\u0437\\u0430\\u043c\\u0435\\u0442\\u0438\\u0442\\u044c \\u0438\\u0434\\u0442\\u0438 \\u0434\\u0435\\u0432\\u044f\\u0442\\u0438\\u043b\\u0435\\u0442\\u043d\\u0438\\u0439 \\u0434\\u0435\\u0432\\u043e\\u0447\\u043a\\u0430 \\u043c\\u0443\\u0436\\u0447\\u0438\\u043d\\u0430 \\u043d\\u0430\\u043f\\u0430\\u0441\\u0442\\u044c \\u0437\\u0430\\u0442\\u0430\\u0449\\u0438\\u0442\\u044c \\u043f\\u043e\\u0434\\u0437\\u0435\\u043c\\u043d\\u044b\\u0439 \\u0431\\u0443\\u043d\\u043a\\u0435\\u0440 \\u043d\\u0430\\u0434\\u0440\\u0443\\u0433\\u0430\\u0442\\u044c\\u0441\\u044f \\u0440\\u0435\\u0431\\u0451\\u043d\\u043e\\u043a \\u0437\\u0430\\u0442\\u0435\\u043c \\u0437\\u0430\\u0434\\u0443\\u0448\\u0438\\u0442\\u044c \\u043f\\u0440\\u043e\\u043f\\u0430\\u0441\\u0442\\u044c \\u0434\\u0435\\u0432\\u043e\\u0447\\u043a\\u0430 \\u043d\\u0435\\u0441\\u043a\\u043e\\u043b\\u044c\\u043a\\u043e \\u0434\\u0435\\u043d\\u044c \\u0438\\u0441\\u043a\\u0430\\u0442\\u044c \\u043c\\u0438\\u043b\\u0438\\u0446\\u0438\\u044f \\u0432\\u043e\\u0435\\u043d\\u043d\\u044b\\u0439 \\u0432\\u043e\\u043b\\u043e\\u043d\\u0442\\u0451\\u0440 \\u0441\\u043f\\u0443\\u0441\\u0442\\u044f \\u0442\\u0440\\u043e\\u0435 \\u0441\\u0443\\u0442\\u043a\\u0438 \\u0442\\u0435\\u043b\\u043e \\u043e\\u0431\\u043d\\u0430\\u0440\\u0443\\u0436\\u0438\\u0442\\u044c \\u0443\\u0441\\u0442\\u0430\\u043d\\u043e\\u0432\\u0438\\u0442\\u044c \\u043f\\u0440\\u0435\\u0441\\u0442\\u0443\\u043f\\u043d\\u0438\\u043a \\u0443\\u0434\\u0430\\u0442\\u044c\\u0441\\u044f \\u0445\\u043e\\u0442\\u044f \\u043c\\u0435\\u0441\\u0442\\u043e \\u043f\\u0440\\u043e\\u0438\\u0441\\u0448\\u0435\\u0441\\u0442\\u0432\\u0438\\u0435 \\u043e\\u0431\\u043d\\u0430\\u0440\\u0443\\u0436\\u0438\\u0442\\u044c \\u0431\\u0438\\u043e\\u043b\\u043e\\u0433\\u0438\\u0447\\u0435\\u0441\\u043a\\u0438\\u0439 \\u0441\\u043b\\u0435\\u0434 \\u0433\\u043e\\u0434 \\u0441\\u043f\\u0443\\u0441\\u0442\\u044f \\u043e\\u043a\\u0442\\u044f\\u0431\\u0440\\u044c \\u0433\\u043e \\u043f\\u0440\\u043e\\u0435\\u0437\\u0436\\u0430\\u0442\\u044c \\u0440\\u0430\\u0439\\u043e\\u043d \\u0432\\u0435\\u043b\\u043e\\u0441\\u0438\\u043f\\u0435\\u0434 \\u043c\\u0438\\u0445\\u0430\\u0439\\u043b\\u043e\\u0432 \\u0443\\u0432\\u0438\\u0434\\u0435\\u0442\\u044c \\u0438\\u0434\\u0442\\u0438 \\u043f\\u0435\\u0448\\u043a\\u043e\\u043c \\u043b\\u0435\\u0442\\u043d\\u0438\\u0439 \\u0436\\u0435\\u043d\\u0449\\u0438\\u043d\\u0430 \\u043a\\u0440\\u0430\\u0441\\u0438\\u0432\\u044b\\u0439 \\u0434\\u0443\\u0431\\u043b\\u0451\\u043d\\u043a\\u0430 \\u043d\\u0430\\u043f\\u0430\\u0441\\u0442\\u044c \\u043d\\u0430\\u043d\\u0435\\u0441\\u0442\\u0438 \\u043d\\u0435\\u0441\\u043a\\u043e\\u043b\\u044c\\u043a\\u043e \\u0434\\u0435\\u0441\\u044f\\u0442\\u043e\\u043a \\u0443\\u0434\\u0430\\u0440 \\u043d\\u043e\\u0436 \\u0433\\u0440\\u0443\\u0434\\u044c \\u0441\\u043d\\u044f\\u0442\\u044c \\u0442\\u0435\\u043b\\u043e \\u0432\\u0435\\u0440\\u0445\\u043d\\u0438\\u0439 \\u043e\\u0434\\u0435\\u0436\\u0434\\u0430 \\u0437\\u043e\\u043b\\u043e\\u0442\\u043e\\u0439 \\u0443\\u043a\\u0440\\u0430\\u0448\\u0435\\u043d\\u0438\\u0435 \\u0441\\u043a\\u0440\\u044b\\u0442\\u044c\\u0441\\u044f \\u043f\\u043e\\u0445\\u0438\\u0442\\u0438\\u0442\\u044c \\u0434\\u0443\\u0431\\u043b\\u0451\\u043d\\u043a\\u0430 \\u043c\\u0438\\u0445\\u0430\\u0439\\u043b\\u043e\\u0432 \\u043f\\u044b\\u0442\\u0430\\u0442\\u044c\\u0441\\u044f \\u043f\\u043e\\u0434\\u0430\\u0440\\u0438\\u0442\\u044c \\u0436\\u0435\\u043d\\u0430 \\u043e\\u0442\\u043a\\u0430\\u0437\\u0430\\u0442\\u044c\\u0441\\u044f \\u043e\\u0431\\u043d\\u0430\\u0440\\u0443\\u0436\\u0438\\u0442\\u044c \\u043a\\u0440\\u043e\\u0432\\u044c \\u0434\\u0443\\u0448\\u0435\\u0433\\u0443\\u0431 \\u0441\\u0434\\u0435\\u043b\\u0430\\u0442\\u044c \\u043e\\u0434\\u0435\\u0436\\u0434\\u0430 \\u043a\\u043e\\u0432\\u0440\\u0438\\u043a\\u043d\\u0430\\u043a\\u0438\\u0434\\u043a\\u0430 \\u0438\\u0441\\u043f\\u043e\\u043b\\u044c\\u0437\\u043e\\u0432\\u0430\\u0442\\u044c \\u0434\\u043e\\u043c \\u043f\\u0440\\u0438\\u043c\\u0435\\u0447\\u0430\\u0442\\u0435\\u043b\\u044c\\u043d\\u043e \\u043d\\u0435\\u0441\\u043a\\u043e\\u043b\\u044c\\u043a\\u043e \\u0434\\u0435\\u043d\\u044c \\u0441\\u043f\\u0443\\u0441\\u0442\\u044f \\u043f\\u0440\\u043e\\u0435\\u0437\\u0436\\u0430\\u0442\\u044c \\u0432\\u0435\\u043b\\u043e\\u0441\\u0438\\u043f\\u0435\\u0434 \\u043c\\u0438\\u0445\\u0430\\u0439\\u043b\\u043e\\u0432 \\u0443\\u0432\\u0438\\u0434\\u0435\\u0442\\u044c \\u0442\\u0435\\u043b\\u043e \\u043f\\u043e\\u0433\\u0438\\u0431\\u0448\\u0438\\u0439 \\u043e\\u0431\\u043d\\u0430\\u0440\\u0443\\u0436\\u0438\\u0442\\u044c \\u0437\\u0430\\u044f\\u0432\\u0438\\u0442\\u044c \\u043f\\u043e\\u043b\\u0438\\u0446\\u0438\\u044f \\u0441\\u043e\\u0432\\u0435\\u0440\\u0448\\u0435\\u043d\\u043d\\u044b\\u0439 \\u043f\\u0440\\u0435\\u0441\\u0442\\u0443\\u043f\\u043b\\u0435\\u043d\\u0438\\u0435 \\u0440\\u0430\\u0441\\u0441\\u043a\\u0430\\u0437\\u0430\\u0442\\u044c \\u0435\\u0433\\u043e\\u0440 \\u043c\\u0430\\u0440\\u043a\\u043e\\u0432 \\u0443\\u0442\\u043e\\u0447\\u043d\\u0438\\u0442\\u044c \\u044d\\u0442\\u043e \\u043f\\u0440\\u0435\\u0441\\u0442\\u0443\\u043f\\u043b\\u0435\\u043d\\u0438\\u0435 \\u0434\\u0435\\u0441\\u044f\\u0442\\u044c \\u0433\\u043e\\u0434 \\u043e\\u0441\\u0442\\u0430\\u0432\\u0430\\u0442\\u044c\\u0441\\u044f \\u043d\\u0435\\u0440\\u0430\\u0441\\u043a\\u0440\\u044b\\u0442\\u044b\\u0439 \\u043f\\u0440\\u0438\\u0433\\u043e\\u0432\\u043e\\u0440 \\u043c\\u0438\\u0445\\u0430\\u0439\\u043b\\u043e\\u0432 \\u0432\\u044b\\u0441\\u043b\\u0443\\u0448\\u0430\\u0442\\u044c \\u0441\\u0442\\u043e\\u044f \\u043f\\u043e\\u0432\\u0435\\u0440\\u043d\\u0443\\u0442\\u044c\\u0441\\u044f \\u0441\\u0443\\u0434\\u044c\\u044f \\u0441\\u043f\\u0438\\u043d\\u0430 \\u0440\\u0430\\u0441\\u0441\\u043a\\u0430\\u0437\\u0430\\u0442\\u044c \\u043b\\u0435\\u043d\\u0442\\u0435\\u0440 \\u0438\\u0441\\u0442\\u043e\\u0447\\u043d\\u0438\\u043a \\u043f\\u0440\\u0430\\u0432\\u043e\\u043e\\u0445\\u0440\\u0430\\u043d\\u0438\\u0442\\u0435\\u043b\\u044c\\u043d\\u044b\\u0439 \\u043e\\u0440\\u0433\\u0430\\u043d \\u0440\\u0430\\u043d\\u0435\\u0435 \\u043c\\u0438\\u0445\\u0430\\u0439\\u043b\\u043e\\u0432 \\u0441\\u0443\\u0434\\u0438\\u0442\\u044c \\u043a\\u043e\\u0440\\u044b\\u0441\\u0442\\u043d\\u044b\\u0439 \\u043f\\u0440\\u0435\\u0441\\u0442\\u0443\\u043f\\u043b\\u0435\\u043d\\u0438\\u0435 \\u0432\\u0441\\u0451 \\u0441\\u0443\\u0434\\u0438\\u043c\\u043e\\u0441\\u0442\\u044c \\u043f\\u043e\\u0433\\u0430\\u0441\\u0438\\u0442\\u044c \\u043c\\u0435\\u043d\\u0435\\u0435 \\u0441\\u043b\\u0435\\u0434\\u0441\\u0442\\u0432\\u0438\\u0435 \\u043f\\u0440\\u043e\\u0432\\u0435\\u0440\\u044f\\u0442\\u044c \\u043f\\u0440\\u0438\\u0447\\u0430\\u0441\\u0442\\u043d\\u043e\\u0441\\u0442\\u044c \\u043e\\u0441\\u0443\\u0434\\u0438\\u0442\\u044c \\u0442\\u044f\\u0436\\u043a\\u0438\\u0439 \\u043f\\u0440\\u0435\\u0441\\u0442\\u0443\\u043f\\u043b\\u0435\\u043d\\u0438\\u0435 \\u043e\\u0441\\u043d\\u043e\\u0432\\u0430\\u043d\\u0438\\u0435 \\u043f\\u043e\\u043b\\u0430\\u0433\\u0430\\u0442\\u044c \\u0447\\u0438\\u0441\\u043b\\u043e \\u0436\\u0435\\u0440\\u0442\\u0432\\u0430 \\u0431\\u043e\\u043b\\u044c\\u0448\\u043e\\u0439\"\n        ],\n        \"semantic_type\": \"\",\n        \"description\": \"\"\n      }\n    }\n  ]\n}",
              "type": "dataframe",
              "variable_name": "df_final"
            },
            "text/html": [
              "\n",
              "  <div id=\"df-79d7e70c-7918-4e4e-b7df-311a691ee9d1\" class=\"colab-df-container\">\n",
              "    <div>\n",
              "<style scoped>\n",
              "    .dataframe tbody tr th:only-of-type {\n",
              "        vertical-align: middle;\n",
              "    }\n",
              "\n",
              "    .dataframe tbody tr th {\n",
              "        vertical-align: top;\n",
              "    }\n",
              "\n",
              "    .dataframe thead th {\n",
              "        text-align: right;\n",
              "    }\n",
              "</style>\n",
              "<table border=\"1\" class=\"dataframe\">\n",
              "  <thead>\n",
              "    <tr style=\"text-align: right;\">\n",
              "      <th></th>\n",
              "      <th>title</th>\n",
              "      <th>text</th>\n",
              "      <th>topic</th>\n",
              "      <th>combined_text</th>\n",
              "      <th>clean_text</th>\n",
              "    </tr>\n",
              "  </thead>\n",
              "  <tbody>\n",
              "    <tr>\n",
              "      <th>0</th>\n",
              "      <td>Названы регионы России с самой высокой смертно...</td>\n",
              "      <td>Вице-премьер по социальным вопросам Татьяна Го...</td>\n",
              "      <td>Россия</td>\n",
              "      <td>Названы регионы России с самой высокой смертно...</td>\n",
              "      <td>назвать регион россия высокий смертность рак в...</td>\n",
              "    </tr>\n",
              "    <tr>\n",
              "      <th>1</th>\n",
              "      <td>Австрия не представила доказательств вины росс...</td>\n",
              "      <td>Австрийские правоохранительные органы не предс...</td>\n",
              "      <td>Спорт</td>\n",
              "      <td>Австрия не представила доказательств вины росс...</td>\n",
              "      <td>австрия представить доказательство вина россий...</td>\n",
              "    </tr>\n",
              "    <tr>\n",
              "      <th>2</th>\n",
              "      <td>Обнаружено самое счастливое место на планете</td>\n",
              "      <td>Сотрудники социальной сети Instagram проанализ...</td>\n",
              "      <td>Путешествия</td>\n",
              "      <td>Обнаружено самое счастливое место на планете С...</td>\n",
              "      <td>обнаружить самый счастливый место планета сотр...</td>\n",
              "    </tr>\n",
              "    <tr>\n",
              "      <th>3</th>\n",
              "      <td>В США раскрыли сумму расходов на расследование...</td>\n",
              "      <td>С начала расследования российского вмешательст...</td>\n",
              "      <td>Мир</td>\n",
              "      <td>В США раскрыли сумму расходов на расследование...</td>\n",
              "      <td>сша раскрыть сумма расход расследование россий...</td>\n",
              "    </tr>\n",
              "    <tr>\n",
              "      <th>4</th>\n",
              "      <td>Хакеры рассказали о планах Великобритании зами...</td>\n",
              "      <td>Хакерская группировка Anonymous опубликовала н...</td>\n",
              "      <td>Мир</td>\n",
              "      <td>Хакеры рассказали о планах Великобритании зами...</td>\n",
              "      <td>хакер рассказать план великобритания заминиров...</td>\n",
              "    </tr>\n",
              "  </tbody>\n",
              "</table>\n",
              "</div>\n",
              "    <div class=\"colab-df-buttons\">\n",
              "\n",
              "  <div class=\"colab-df-container\">\n",
              "    <button class=\"colab-df-convert\" onclick=\"convertToInteractive('df-79d7e70c-7918-4e4e-b7df-311a691ee9d1')\"\n",
              "            title=\"Convert this dataframe to an interactive table.\"\n",
              "            style=\"display:none;\">\n",
              "\n",
              "  <svg xmlns=\"http://www.w3.org/2000/svg\" height=\"24px\" viewBox=\"0 -960 960 960\">\n",
              "    <path d=\"M120-120v-720h720v720H120Zm60-500h600v-160H180v160Zm220 220h160v-160H400v160Zm0 220h160v-160H400v160ZM180-400h160v-160H180v160Zm440 0h160v-160H620v160ZM180-180h160v-160H180v160Zm440 0h160v-160H620v160Z\"/>\n",
              "  </svg>\n",
              "    </button>\n",
              "\n",
              "  <style>\n",
              "    .colab-df-container {\n",
              "      display:flex;\n",
              "      gap: 12px;\n",
              "    }\n",
              "\n",
              "    .colab-df-convert {\n",
              "      background-color: #E8F0FE;\n",
              "      border: none;\n",
              "      border-radius: 50%;\n",
              "      cursor: pointer;\n",
              "      display: none;\n",
              "      fill: #1967D2;\n",
              "      height: 32px;\n",
              "      padding: 0 0 0 0;\n",
              "      width: 32px;\n",
              "    }\n",
              "\n",
              "    .colab-df-convert:hover {\n",
              "      background-color: #E2EBFA;\n",
              "      box-shadow: 0px 1px 2px rgba(60, 64, 67, 0.3), 0px 1px 3px 1px rgba(60, 64, 67, 0.15);\n",
              "      fill: #174EA6;\n",
              "    }\n",
              "\n",
              "    .colab-df-buttons div {\n",
              "      margin-bottom: 4px;\n",
              "    }\n",
              "\n",
              "    [theme=dark] .colab-df-convert {\n",
              "      background-color: #3B4455;\n",
              "      fill: #D2E3FC;\n",
              "    }\n",
              "\n",
              "    [theme=dark] .colab-df-convert:hover {\n",
              "      background-color: #434B5C;\n",
              "      box-shadow: 0px 1px 3px 1px rgba(0, 0, 0, 0.15);\n",
              "      filter: drop-shadow(0px 1px 2px rgba(0, 0, 0, 0.3));\n",
              "      fill: #FFFFFF;\n",
              "    }\n",
              "  </style>\n",
              "\n",
              "    <script>\n",
              "      const buttonEl =\n",
              "        document.querySelector('#df-79d7e70c-7918-4e4e-b7df-311a691ee9d1 button.colab-df-convert');\n",
              "      buttonEl.style.display =\n",
              "        google.colab.kernel.accessAllowed ? 'block' : 'none';\n",
              "\n",
              "      async function convertToInteractive(key) {\n",
              "        const element = document.querySelector('#df-79d7e70c-7918-4e4e-b7df-311a691ee9d1');\n",
              "        const dataTable =\n",
              "          await google.colab.kernel.invokeFunction('convertToInteractive',\n",
              "                                                    [key], {});\n",
              "        if (!dataTable) return;\n",
              "\n",
              "        const docLinkHtml = 'Like what you see? Visit the ' +\n",
              "          '<a target=\"_blank\" href=https://colab.research.google.com/notebooks/data_table.ipynb>data table notebook</a>'\n",
              "          + ' to learn more about interactive tables.';\n",
              "        element.innerHTML = '';\n",
              "        dataTable['output_type'] = 'display_data';\n",
              "        await google.colab.output.renderOutput(dataTable, element);\n",
              "        const docLink = document.createElement('div');\n",
              "        docLink.innerHTML = docLinkHtml;\n",
              "        element.appendChild(docLink);\n",
              "      }\n",
              "    </script>\n",
              "  </div>\n",
              "\n",
              "\n",
              "<div id=\"df-e1c7bcc5-fa71-4ba9-b39c-24f9aed9805a\">\n",
              "  <button class=\"colab-df-quickchart\" onclick=\"quickchart('df-e1c7bcc5-fa71-4ba9-b39c-24f9aed9805a')\"\n",
              "            title=\"Suggest charts\"\n",
              "            style=\"display:none;\">\n",
              "\n",
              "<svg xmlns=\"http://www.w3.org/2000/svg\" height=\"24px\"viewBox=\"0 0 24 24\"\n",
              "     width=\"24px\">\n",
              "    <g>\n",
              "        <path d=\"M19 3H5c-1.1 0-2 .9-2 2v14c0 1.1.9 2 2 2h14c1.1 0 2-.9 2-2V5c0-1.1-.9-2-2-2zM9 17H7v-7h2v7zm4 0h-2V7h2v10zm4 0h-2v-4h2v4z\"/>\n",
              "    </g>\n",
              "</svg>\n",
              "  </button>\n",
              "\n",
              "<style>\n",
              "  .colab-df-quickchart {\n",
              "      --bg-color: #E8F0FE;\n",
              "      --fill-color: #1967D2;\n",
              "      --hover-bg-color: #E2EBFA;\n",
              "      --hover-fill-color: #174EA6;\n",
              "      --disabled-fill-color: #AAA;\n",
              "      --disabled-bg-color: #DDD;\n",
              "  }\n",
              "\n",
              "  [theme=dark] .colab-df-quickchart {\n",
              "      --bg-color: #3B4455;\n",
              "      --fill-color: #D2E3FC;\n",
              "      --hover-bg-color: #434B5C;\n",
              "      --hover-fill-color: #FFFFFF;\n",
              "      --disabled-bg-color: #3B4455;\n",
              "      --disabled-fill-color: #666;\n",
              "  }\n",
              "\n",
              "  .colab-df-quickchart {\n",
              "    background-color: var(--bg-color);\n",
              "    border: none;\n",
              "    border-radius: 50%;\n",
              "    cursor: pointer;\n",
              "    display: none;\n",
              "    fill: var(--fill-color);\n",
              "    height: 32px;\n",
              "    padding: 0;\n",
              "    width: 32px;\n",
              "  }\n",
              "\n",
              "  .colab-df-quickchart:hover {\n",
              "    background-color: var(--hover-bg-color);\n",
              "    box-shadow: 0 1px 2px rgba(60, 64, 67, 0.3), 0 1px 3px 1px rgba(60, 64, 67, 0.15);\n",
              "    fill: var(--button-hover-fill-color);\n",
              "  }\n",
              "\n",
              "  .colab-df-quickchart-complete:disabled,\n",
              "  .colab-df-quickchart-complete:disabled:hover {\n",
              "    background-color: var(--disabled-bg-color);\n",
              "    fill: var(--disabled-fill-color);\n",
              "    box-shadow: none;\n",
              "  }\n",
              "\n",
              "  .colab-df-spinner {\n",
              "    border: 2px solid var(--fill-color);\n",
              "    border-color: transparent;\n",
              "    border-bottom-color: var(--fill-color);\n",
              "    animation:\n",
              "      spin 1s steps(1) infinite;\n",
              "  }\n",
              "\n",
              "  @keyframes spin {\n",
              "    0% {\n",
              "      border-color: transparent;\n",
              "      border-bottom-color: var(--fill-color);\n",
              "      border-left-color: var(--fill-color);\n",
              "    }\n",
              "    20% {\n",
              "      border-color: transparent;\n",
              "      border-left-color: var(--fill-color);\n",
              "      border-top-color: var(--fill-color);\n",
              "    }\n",
              "    30% {\n",
              "      border-color: transparent;\n",
              "      border-left-color: var(--fill-color);\n",
              "      border-top-color: var(--fill-color);\n",
              "      border-right-color: var(--fill-color);\n",
              "    }\n",
              "    40% {\n",
              "      border-color: transparent;\n",
              "      border-right-color: var(--fill-color);\n",
              "      border-top-color: var(--fill-color);\n",
              "    }\n",
              "    60% {\n",
              "      border-color: transparent;\n",
              "      border-right-color: var(--fill-color);\n",
              "    }\n",
              "    80% {\n",
              "      border-color: transparent;\n",
              "      border-right-color: var(--fill-color);\n",
              "      border-bottom-color: var(--fill-color);\n",
              "    }\n",
              "    90% {\n",
              "      border-color: transparent;\n",
              "      border-bottom-color: var(--fill-color);\n",
              "    }\n",
              "  }\n",
              "</style>\n",
              "\n",
              "  <script>\n",
              "    async function quickchart(key) {\n",
              "      const quickchartButtonEl =\n",
              "        document.querySelector('#' + key + ' button');\n",
              "      quickchartButtonEl.disabled = true;  // To prevent multiple clicks.\n",
              "      quickchartButtonEl.classList.add('colab-df-spinner');\n",
              "      try {\n",
              "        const charts = await google.colab.kernel.invokeFunction(\n",
              "            'suggestCharts', [key], {});\n",
              "      } catch (error) {\n",
              "        console.error('Error during call to suggestCharts:', error);\n",
              "      }\n",
              "      quickchartButtonEl.classList.remove('colab-df-spinner');\n",
              "      quickchartButtonEl.classList.add('colab-df-quickchart-complete');\n",
              "    }\n",
              "    (() => {\n",
              "      let quickchartButtonEl =\n",
              "        document.querySelector('#df-e1c7bcc5-fa71-4ba9-b39c-24f9aed9805a button');\n",
              "      quickchartButtonEl.style.display =\n",
              "        google.colab.kernel.accessAllowed ? 'block' : 'none';\n",
              "    })();\n",
              "  </script>\n",
              "</div>\n",
              "    </div>\n",
              "  </div>\n"
            ],
            "text/plain": [
              "                                               title  \\\n",
              "0  Названы регионы России с самой высокой смертно...   \n",
              "1  Австрия не представила доказательств вины росс...   \n",
              "2       Обнаружено самое счастливое место на планете   \n",
              "3  В США раскрыли сумму расходов на расследование...   \n",
              "4  Хакеры рассказали о планах Великобритании зами...   \n",
              "\n",
              "                                                text        topic  \\\n",
              "0  Вице-премьер по социальным вопросам Татьяна Го...       Россия   \n",
              "1  Австрийские правоохранительные органы не предс...        Спорт   \n",
              "2  Сотрудники социальной сети Instagram проанализ...  Путешествия   \n",
              "3  С начала расследования российского вмешательст...          Мир   \n",
              "4  Хакерская группировка Anonymous опубликовала н...          Мир   \n",
              "\n",
              "                                       combined_text  \\\n",
              "0  Названы регионы России с самой высокой смертно...   \n",
              "1  Австрия не представила доказательств вины росс...   \n",
              "2  Обнаружено самое счастливое место на планете С...   \n",
              "3  В США раскрыли сумму расходов на расследование...   \n",
              "4  Хакеры рассказали о планах Великобритании зами...   \n",
              "\n",
              "                                          clean_text  \n",
              "0  назвать регион россия высокий смертность рак в...  \n",
              "1  австрия представить доказательство вина россий...  \n",
              "2  обнаружить самый счастливый место планета сотр...  \n",
              "3  сша раскрыть сумма расход расследование россий...  \n",
              "4  хакер рассказать план великобритания заминиров...  "
            ]
          },
          "execution_count": 19,
          "metadata": {},
          "output_type": "execute_result"
        }
      ],
      "source": [
        "df_final['clean_text'] = df_final['combined_text'].apply(preprocess)\n",
        "df_final.head()"
      ]
    },
    {
      "cell_type": "markdown",
      "metadata": {
        "id": "2aFMKNkuyY_o"
      },
      "source": [
        "Резделим датафрейм на обучающую, валидационную и тестовую выборки (60/20/20)"
      ]
    },
    {
      "cell_type": "code",
      "execution_count": null,
      "metadata": {
        "id": "Bxhj3TlGXDUH"
      },
      "outputs": [],
      "source": [
        "X_train, X_val_test, y_train, y_val_test = train_test_split(\n",
        "    df_final['clean_text'], df_final['topic'],\n",
        "    test_size=0.4, stratify=df_final['topic'], random_state=42\n",
        ")\n",
        "\n",
        "X_val, X_test, y_val, y_test = train_test_split(\n",
        "    X_val_test, y_val_test,\n",
        "    test_size=0.5, stratify=y_val_test, random_state=42\n",
        ")"
      ]
    },
    {
      "cell_type": "markdown",
      "metadata": {
        "id": "fJmr8owWivF_"
      },
      "source": [
        "# DummyClassifier"
      ]
    },
    {
      "cell_type": "markdown",
      "metadata": {
        "id": "4jQ7qObQyrmZ"
      },
      "source": [
        "Для установки базового уровня качества классификации был выбран **DummyClassifier** со стратегией `\"stratified\"`, так как он предсказывает метки, сохраняя распределение классов из обучающей выборки."
      ]
    },
    {
      "cell_type": "code",
      "execution_count": null,
      "metadata": {
        "colab": {
          "base_uri": "https://localhost:8080/"
        },
        "id": "ogWqj3cKiurL",
        "outputId": "8dd27389-a2ec-465a-9e68-d933c6d993ce"
      },
      "outputs": [
        {
          "name": "stdout",
          "output_type": "stream",
          "text": [
            "DummyClassifier Classification Report (test):\n",
            "                    precision    recall  f1-score   support\n",
            "\n",
            "           Бизнес       0.07      0.07      0.07      1439\n",
            "      Бывший СССР       0.07      0.07      0.07      1440\n",
            "              Дом       0.06      0.07      0.06      1439\n",
            "         Из жизни       0.07      0.07      0.07      1440\n",
            "   Интернет и СМИ       0.09      0.09      0.09      1440\n",
            "         Культура       0.07      0.07      0.07      1440\n",
            "              Мир       0.07      0.07      0.07      1440\n",
            "  Наука и техника       0.07      0.07      0.07      1440\n",
            "      Путешествия       0.07      0.07      0.07      1282\n",
            "           Россия       0.08      0.08      0.08      1440\n",
            "Силовые структуры       0.07      0.07      0.07      1440\n",
            "            Спорт       0.07      0.07      0.07      1440\n",
            "         Ценности       0.07      0.07      0.07      1440\n",
            "        Экономика       0.08      0.08      0.08      1440\n",
            "\n",
            "         accuracy                           0.07     20000\n",
            "        macro avg       0.07      0.07      0.07     20000\n",
            "     weighted avg       0.07      0.07      0.07     20000\n",
            "\n"
          ]
        }
      ],
      "source": [
        "dummy = DummyClassifier(strategy=\"stratified\", random_state=42)\n",
        "dummy.fit(X_train, y_train)\n",
        "y_test_pred_dummy = dummy.predict(X_test)\n",
        "print(\"DummyClassifier Classification Report (test):\\n\", classification_report(y_test, y_test_pred_dummy))"
      ]
    },
    {
      "cell_type": "markdown",
      "metadata": {
        "id": "9Ks1gTKy8lEW"
      },
      "source": [
        "Результат показывает, что метрики `precision, recall, F1` для всех классов около **7%**, что близко к случайному угадыванию. Это значит, что настоящие модели должны быть значительно лучше — такой результат задаёт нижнюю границу качества, которую нужно преодолеть.\n",
        "Точность 7% также подтверждает, что классы примерно сбалансированы (нет доминирующего класса), что упрощает обучение моделей."
      ]
    },
    {
      "cell_type": "markdown",
      "metadata": {
        "id": "1aA9o5GyjTn9"
      },
      "source": [
        "# LogisticRegression"
      ]
    },
    {
      "cell_type": "markdown",
      "metadata": {
        "id": "Hli3hb77ywsr"
      },
      "source": [
        "## CountVectorizer"
      ]
    },
    {
      "cell_type": "code",
      "execution_count": null,
      "metadata": {
        "id": "DJl4D-jajUjA"
      },
      "outputs": [],
      "source": [
        "pipe_count = Pipeline([\n",
        "    ('vectorizer', CountVectorizer()),\n",
        "    ('model', LogisticRegression(random_state=42, max_iter=1000))\n",
        "])"
      ]
    },
    {
      "cell_type": "code",
      "execution_count": null,
      "metadata": {
        "id": "536WpbPhy0qL"
      },
      "outputs": [],
      "source": [
        "pipe_count.fit(X_train, y_train)\n",
        "y_val_pred_count = pipe_count.predict(X_val)"
      ]
    },
    {
      "cell_type": "code",
      "execution_count": null,
      "metadata": {
        "colab": {
          "base_uri": "https://localhost:8080/"
        },
        "id": "hTJVJWdAyKLt",
        "outputId": "59d8ae27-a4b8-44fa-a3ee-908077e5c158"
      },
      "outputs": [
        {
          "name": "stdout",
          "output_type": "stream",
          "text": [
            "CountVectorizer Validation Classification Report:\n",
            "                    precision    recall  f1-score   support\n",
            "\n",
            "           Бизнес     0.7882    0.8063    0.7971      1440\n",
            "      Бывший СССР     0.8962    0.8931    0.8946      1440\n",
            "              Дом     0.8965    0.8722    0.8842      1440\n",
            "         Из жизни     0.7928    0.8264    0.8092      1440\n",
            "   Интернет и СМИ     0.8536    0.8257    0.8394      1440\n",
            "         Культура     0.8977    0.9076    0.9026      1440\n",
            "              Мир     0.8004    0.8299    0.8149      1440\n",
            "  Наука и техника     0.8880    0.8979    0.8930      1440\n",
            "      Путешествия     0.8962    0.8767    0.8863      1281\n",
            "           Россия     0.7384    0.7410    0.7397      1440\n",
            "Силовые структуры     0.8272    0.8214    0.8243      1439\n",
            "            Спорт     0.9636    0.9736    0.9686      1440\n",
            "         Ценности     0.9377    0.9299    0.9338      1440\n",
            "        Экономика     0.7873    0.7556    0.7711      1440\n",
            "\n",
            "         accuracy                         0.8539     20000\n",
            "        macro avg     0.8545    0.8541    0.8542     20000\n",
            "     weighted avg     0.8542    0.8539    0.8539     20000\n",
            "\n"
          ]
        }
      ],
      "source": [
        "print(\"CountVectorizer Validation Classification Report:\\n\", classification_report(y_val, y_val_pred_count, digits=4))"
      ]
    },
    {
      "cell_type": "markdown",
      "metadata": {
        "id": "HPji5aqwz_hY"
      },
      "source": [
        "## TfidfVectorizer"
      ]
    },
    {
      "cell_type": "code",
      "execution_count": null,
      "metadata": {
        "id": "-_S4rlnV0CH-"
      },
      "outputs": [],
      "source": [
        "pipe_tfidf = Pipeline([\n",
        "    ('vectorizer', TfidfVectorizer()),\n",
        "    ('model', LogisticRegression(random_state=42, max_iter=1000))\n",
        "])"
      ]
    },
    {
      "cell_type": "code",
      "execution_count": null,
      "metadata": {
        "id": "AjtNvwHq0Icx"
      },
      "outputs": [],
      "source": [
        "pipe_tfidf.fit(X_train, y_train)\n",
        "y_val_pred_tfidf = pipe_tfidf.predict(X_val)"
      ]
    },
    {
      "cell_type": "code",
      "execution_count": null,
      "metadata": {
        "colab": {
          "base_uri": "https://localhost:8080/"
        },
        "id": "aS-9wacryNGm",
        "outputId": "9aad9efa-8d86-44ae-8e7a-9bf41a7bf90f"
      },
      "outputs": [
        {
          "name": "stdout",
          "output_type": "stream",
          "text": [
            "TfidfVectorizer Validation Classification Report:\n",
            "                    precision    recall  f1-score   support\n",
            "\n",
            "           Бизнес     0.7707    0.8194    0.7943      1440\n",
            "      Бывший СССР     0.8916    0.9028    0.8972      1440\n",
            "              Дом     0.8959    0.8549    0.8749      1440\n",
            "         Из жизни     0.7908    0.8403    0.8148      1440\n",
            "   Интернет и СМИ     0.8424    0.8243    0.8333      1440\n",
            "         Культура     0.8775    0.9000    0.8886      1440\n",
            "              Мир     0.8038    0.8222    0.8129      1440\n",
            "  Наука и техника     0.8812    0.9118    0.8962      1440\n",
            "      Путешествия     0.8904    0.8876    0.8890      1281\n",
            "           Россия     0.7551    0.7257    0.7401      1440\n",
            "Силовые структуры     0.8179    0.8179    0.8179      1439\n",
            "            Спорт     0.9581    0.9694    0.9638      1440\n",
            "         Ценности     0.9444    0.9194    0.9317      1440\n",
            "        Экономика     0.8114    0.7319    0.7696      1440\n",
            "\n",
            "         accuracy                         0.8517     20000\n",
            "        macro avg     0.8522    0.8520    0.8517     20000\n",
            "     weighted avg     0.8519    0.8517    0.8514     20000\n",
            "\n"
          ]
        }
      ],
      "source": [
        "print(\"TfidfVectorizer Validation Classification Report:\\n\", classification_report(y_val, y_val_pred_tfidf, digits=4))"
      ]
    },
    {
      "cell_type": "markdown",
      "metadata": {
        "id": "ymfAO8MEAQW_"
      },
      "source": [
        "# Оптимизация гиперпараметров"
      ]
    },
    {
      "cell_type": "code",
      "execution_count": null,
      "metadata": {
        "id": "C3o3BaZx3wUC"
      },
      "outputs": [],
      "source": [
        "params = {\n",
        "    'vectorizer__max_df': [0.7 ,0.8, 0.9, 1],\n",
        "    'vectorizer__max_features': [25_000, 30_000, 35_000],\n",
        "    'vectorizer__ngram_range': [(1,1), (1,2)],\n",
        "    'model__C': [0.1, 1, 10]\n",
        "}"
      ]
    },
    {
      "cell_type": "markdown",
      "metadata": {
        "id": "xrDfpmpy6zYS"
      },
      "source": [
        "Ниже приведено пояснение, почему я выбрал такие варианты значений для `'vectorizer__max_features'`"
      ]
    },
    {
      "cell_type": "markdown",
      "metadata": {
        "id": "9bobk0aTHOR4"
      },
      "source": [
        "Собираем все токены из тренировочных текстов в один список, считаем частоту токенов и берем N самых частых"
      ]
    },
    {
      "cell_type": "code",
      "execution_count": null,
      "metadata": {
        "colab": {
          "base_uri": "https://localhost:8080/"
        },
        "id": "ikuMkF8FG7NE",
        "outputId": "034335db-0a88-49e3-dd0f-30278266ca7d"
      },
      "outputs": [
        {
          "name": "stdout",
          "output_type": "stream",
          "text": [
            "Минимальная частота среди 25000 популярных токенов: 16\n",
            "Минимальная частота среди 30000 популярных токенов: 11\n",
            "Минимальная частота среди 35000 популярных токенов: 8\n"
          ]
        }
      ],
      "source": [
        "MAX_FEATURES1 = 25_000\n",
        "MAX_FEATURES2 = 30_000\n",
        "MAX_FEATURES3 = 35_000\n",
        "\n",
        "all_tokens = list(chain.from_iterable(text.split() for text in X_train))\n",
        "\n",
        "def min_common_token_count(all_tokens, MAX_FEATURES):\n",
        "  common_tokens = Counter(all_tokens).most_common(MAX_FEATURES)\n",
        "  min_count = common_tokens[-1][1] if common_tokens else 0\n",
        "  return min_count\n",
        "\n",
        "print(f'Минимальная частота среди {MAX_FEATURES1} популярных токенов: {min_common_token_count(all_tokens, MAX_FEATURES1)}')\n",
        "print(f'Минимальная частота среди {MAX_FEATURES2} популярных токенов: {min_common_token_count(all_tokens, MAX_FEATURES2)}')\n",
        "print(f'Минимальная частота среди {MAX_FEATURES3} популярных токенов: {min_common_token_count(all_tokens, MAX_FEATURES3)}')"
      ]
    },
    {
      "cell_type": "code",
      "execution_count": null,
      "metadata": {
        "colab": {
          "base_uri": "https://localhost:8080/",
          "height": 480
        },
        "id": "wzFB9N3ufCK2",
        "outputId": "9b0f8824-39c8-470e-c31a-2b6d14ca120c"
      },
      "outputs": [
        {
          "data": {
            "image/png": "[encoded data removed]",
            "text/plain": [
              "<Figure size 640x480 with 1 Axes>"
            ]
          },
          "metadata": {},
          "output_type": "display_data"
        }
      ],
      "source": [
        "x = [22_000, 25_000, 28_000, 32_000, 35_000, 38_000]\n",
        "y = [min_common_token_count(all_tokens, k) for k in x]\n",
        "\n",
        "plt.plot(x, y, marker='o')\n",
        "plt.xlabel('max_features')\n",
        "plt.ylabel('Минимальная частота токена')\n",
        "plt.title('Зависимость минимальной частоты от max_features')\n",
        "plt.show()"
      ]
    },
    {
      "cell_type": "markdown",
      "metadata": {
        "id": "ZiKtZ8xN24Qn"
      },
      "source": [
        "## CountVectorizer + RandomizedSearchCV"
      ]
    },
    {
      "cell_type": "code",
      "execution_count": null,
      "metadata": {
        "colab": {
          "base_uri": "https://localhost:8080/"
        },
        "id": "xZhqN2q63wUE",
        "outputId": "7f25d212-4d21-43eb-bc2c-cba47e5baabe"
      },
      "outputs": [
        {
          "data": {
            "text/plain": [
              "{'vectorizer__ngram_range': (1, 2),\n",
              " 'vectorizer__max_features': 35000,\n",
              " 'vectorizer__max_df': 0.9,\n",
              " 'model__C': 0.1}"
            ]
          },
          "execution_count": 37,
          "metadata": {},
          "output_type": "execute_result"
        }
      ],
      "source": [
        "random_count = RandomizedSearchCV(\n",
        "    pipe_count,\n",
        "    params,\n",
        "    cv=3,\n",
        "    scoring='accuracy',\n",
        "    n_jobs=-1\n",
        ")\n",
        "random_count.fit(X_train, y_train)\n",
        "best_params_count = random_count.best_params_\n",
        "best_params_count"
      ]
    },
    {
      "cell_type": "code",
      "execution_count": null,
      "metadata": {
        "id": "M80mLwNt3wUE"
      },
      "outputs": [],
      "source": [
        "best_pipe_count = Pipeline([\n",
        "    ('vectorizer', CountVectorizer(\n",
        "        max_features=best_params_count['vectorizer__max_features'],\n",
        "        ngram_range=best_params_count['vectorizer__ngram_range'],\n",
        "        max_df=best_params_count['vectorizer__max_df']\n",
        "    )),\n",
        "    ('model', LogisticRegression(\n",
        "        C=best_params_count['model__C'],\n",
        "        random_state=42,\n",
        "        max_iter=1000\n",
        "    ))\n",
        "])"
      ]
    },
    {
      "cell_type": "code",
      "execution_count": null,
      "metadata": {
        "id": "aeIvk8xt8kvQ"
      },
      "outputs": [],
      "source": [
        "best_pipe_count.fit(X_train, y_train)\n",
        "y_val_pred_count_random = best_pipe_count.predict(X_val)"
      ]
    },
    {
      "cell_type": "code",
      "execution_count": null,
      "metadata": {
        "colab": {
          "base_uri": "https://localhost:8080/"
        },
        "id": "4XGT7yGuyLu_",
        "outputId": "db1d94eb-2f87-42bc-d585-d918463ac6bb"
      },
      "outputs": [
        {
          "name": "stdout",
          "output_type": "stream",
          "text": [
            "CountVectorizer + RandomizedSearchCV Validation Classification Report:\n",
            "                    precision    recall  f1-score   support\n",
            "\n",
            "           Бизнес     0.8080    0.8097    0.8089      1440\n",
            "      Бывший СССР     0.9055    0.8986    0.9021      1440\n",
            "              Дом     0.9074    0.8910    0.8991      1440\n",
            "         Из жизни     0.8082    0.8396    0.8236      1440\n",
            "   Интернет и СМИ     0.8604    0.8389    0.8495      1440\n",
            "         Культура     0.8968    0.9111    0.9039      1440\n",
            "              Мир     0.8123    0.8444    0.8281      1440\n",
            "  Наука и техника     0.8953    0.9090    0.9021      1440\n",
            "      Путешествия     0.9141    0.8884    0.9010      1281\n",
            "           Россия     0.7599    0.7583    0.7591      1440\n",
            "Силовые структуры     0.8449    0.8443    0.8446      1439\n",
            "            Спорт     0.9610    0.9750    0.9679      1440\n",
            "         Ценности     0.9398    0.9319    0.9358      1440\n",
            "        Экономика     0.8026    0.7708    0.7864      1440\n",
            "\n",
            "         accuracy                         0.8649     20000\n",
            "        macro avg     0.8654    0.8651    0.8652     20000\n",
            "     weighted avg     0.8651    0.8649    0.8649     20000\n",
            "\n"
          ]
        }
      ],
      "source": [
        "print(\"CountVectorizer + RandomizedSearchCV Validation Classification Report:\\n\", classification_report(y_val, y_val_pred_count_random, digits=4))"
      ]
    },
    {
      "cell_type": "markdown",
      "metadata": {
        "id": "RY-mJyTL0qcm"
      },
      "source": [
        "## TfidfVectorizer + RandomizedSearchCV"
      ]
    },
    {
      "cell_type": "code",
      "execution_count": null,
      "metadata": {
        "colab": {
          "base_uri": "https://localhost:8080/"
        },
        "id": "FnvFou_B9_3W",
        "outputId": "12166001-b39c-41f6-e1e2-131a043da177"
      },
      "outputs": [
        {
          "data": {
            "text/plain": [
              "{'vectorizer__ngram_range': (1, 1),\n",
              " 'vectorizer__max_features': 30000,\n",
              " 'vectorizer__max_df': 0.7,\n",
              " 'model__C': 10}"
            ]
          },
          "execution_count": 31,
          "metadata": {},
          "output_type": "execute_result"
        }
      ],
      "source": [
        "random_tfidf = RandomizedSearchCV(\n",
        "    pipe_tfidf,\n",
        "    params,\n",
        "    cv=3,\n",
        "    scoring='accuracy',\n",
        "    n_jobs=-1\n",
        ")\n",
        "random_tfidf.fit(X_train, y_train)\n",
        "best_params_tfidf = random_tfidf.best_params_\n",
        "best_params_tfidf"
      ]
    },
    {
      "cell_type": "code",
      "execution_count": null,
      "metadata": {
        "id": "oVNw0A4e9_3W"
      },
      "outputs": [],
      "source": [
        "best_pipe_tfidf = Pipeline([\n",
        "    ('vectorizer', TfidfVectorizer(\n",
        "        max_features=best_params_tfidf['vectorizer__max_features'],\n",
        "        ngram_range=best_params_tfidf['vectorizer__ngram_range'],\n",
        "        max_df=best_params_tfidf['vectorizer__max_df']\n",
        "    )),\n",
        "    ('model', LogisticRegression(\n",
        "        C=best_params_tfidf['model__C'],\n",
        "        random_state=42,\n",
        "        max_iter=1000\n",
        "    ))\n",
        "])"
      ]
    },
    {
      "cell_type": "code",
      "execution_count": null,
      "metadata": {
        "id": "Y29JvUdA9_3W"
      },
      "outputs": [],
      "source": [
        "best_pipe_tfidf.fit(X_train, y_train)\n",
        "y_val_pred_tfidf_random = best_pipe_tfidf.predict(X_val)"
      ]
    },
    {
      "cell_type": "code",
      "execution_count": null,
      "metadata": {
        "colab": {
          "base_uri": "https://localhost:8080/"
        },
        "id": "8T8oGBHUyOwA",
        "outputId": "2fc5cede-7771-4ab1-c1e9-fc2491bbb416"
      },
      "outputs": [
        {
          "name": "stdout",
          "output_type": "stream",
          "text": [
            "TfidfVectorizer + RandomizedSearchCV Validation Classification Report:\n",
            "                    precision    recall  f1-score   support\n",
            "\n",
            "           Бизнес     0.7835    0.8167    0.7997      1440\n",
            "      Бывший СССР     0.9003    0.9097    0.9050      1440\n",
            "              Дом     0.9045    0.8812    0.8927      1440\n",
            "         Из жизни     0.7959    0.8368    0.8158      1440\n",
            "   Интернет и СМИ     0.8603    0.8340    0.8470      1440\n",
            "         Культура     0.8949    0.9167    0.9057      1440\n",
            "              Мир     0.8165    0.8340    0.8251      1440\n",
            "  Наука и техника     0.8855    0.9076    0.8964      1440\n",
            "      Путешествия     0.9103    0.8868    0.8984      1281\n",
            "           Россия     0.7708    0.7521    0.7613      1440\n",
            "Силовые структуры     0.8386    0.8339    0.8362      1439\n",
            "            Спорт     0.9623    0.9743    0.9683      1440\n",
            "         Ценности     0.9403    0.9292    0.9347      1440\n",
            "        Экономика     0.8073    0.7535    0.7795      1440\n",
            "\n",
            "         accuracy                         0.8617     20000\n",
            "        macro avg     0.8622    0.8619    0.8618     20000\n",
            "     weighted avg     0.8618    0.8617    0.8616     20000\n",
            "\n"
          ]
        }
      ],
      "source": [
        "print(\"TfidfVectorizer + RandomizedSearchCV Validation Classification Report:\\n\", classification_report(y_val, y_val_pred_tfidf_random, digits=4))"
      ]
    },
    {
      "cell_type": "markdown",
      "metadata": {
        "id": "TIvrE7JH_T4Y"
      },
      "source": [
        "# Оценка качества лучшего пайплайна на тестовой выборке"
      ]
    },
    {
      "cell_type": "markdown",
      "metadata": {
        "id": "PM6m_L9JxsxP"
      },
      "source": [
        "## CountVectorizer + RandomizedSearchCV (test)"
      ]
    },
    {
      "cell_type": "code",
      "execution_count": null,
      "metadata": {
        "id": "R3awfOowxxNz"
      },
      "outputs": [],
      "source": [
        "y_test_pred_count_random = best_pipe_count.predict(X_test)"
      ]
    },
    {
      "cell_type": "code",
      "execution_count": null,
      "metadata": {
        "colab": {
          "base_uri": "https://localhost:8080/"
        },
        "id": "bS08jqZDxxN0",
        "outputId": "0db7447b-4509-45de-d314-22b4701d69be"
      },
      "outputs": [
        {
          "name": "stdout",
          "output_type": "stream",
          "text": [
            "CountVectorizer + RandomizedSearchCV Classification Report (test):\n",
            "                    precision    recall  f1-score   support\n",
            "\n",
            "           Бизнес     0.8203    0.8214    0.8208      1439\n",
            "      Бывший СССР     0.9024    0.9118    0.9071      1440\n",
            "              Дом     0.9065    0.8958    0.9011      1439\n",
            "         Из жизни     0.8125    0.8396    0.8258      1440\n",
            "   Интернет и СМИ     0.8684    0.8389    0.8534      1440\n",
            "         Культура     0.9088    0.9278    0.9182      1440\n",
            "              Мир     0.8282    0.8438    0.8359      1440\n",
            "  Наука и техника     0.8962    0.9056    0.9009      1440\n",
            "      Путешествия     0.8899    0.8830    0.8865      1282\n",
            "           Россия     0.7664    0.7861    0.7761      1440\n",
            "Силовые структуры     0.8456    0.8368    0.8412      1440\n",
            "            Спорт     0.9603    0.9750    0.9676      1440\n",
            "         Ценности     0.9484    0.9194    0.9337      1440\n",
            "        Экономика     0.8187    0.7840    0.8010      1440\n",
            "\n",
            "         accuracy                         0.8691     20000\n",
            "        macro avg     0.8695    0.8692    0.8692     20000\n",
            "     weighted avg     0.8693    0.8691    0.8691     20000\n",
            "\n"
          ]
        }
      ],
      "source": [
        "print(\"CountVectorizer + RandomizedSearchCV Classification Report (test):\\n\", classification_report(y_test, y_test_pred_count_random, digits=4))"
      ]
    },
    {
      "cell_type": "markdown",
      "metadata": {
        "id": "PHiuLMIpxjFC"
      },
      "source": [
        "## TfidfVectorizer + RandomizedSearchCV (test)"
      ]
    },
    {
      "cell_type": "code",
      "execution_count": null,
      "metadata": {
        "id": "yNyr-kNB_WL3"
      },
      "outputs": [],
      "source": [
        "y_test_pred_tfidf_random = best_pipe_tfidf.predict(X_test)"
      ]
    },
    {
      "cell_type": "code",
      "execution_count": null,
      "metadata": {
        "colab": {
          "base_uri": "https://localhost:8080/"
        },
        "id": "3cA6lqjtyQNX",
        "outputId": "1653e8e9-6497-46dd-f8d2-58bbd30b3821"
      },
      "outputs": [
        {
          "name": "stdout",
          "output_type": "stream",
          "text": [
            "TfidfVectorizer + RandomizedSearchCV Classification Report (test):\n",
            "                    precision    recall  f1-score   support\n",
            "\n",
            "           Бизнес     0.7887    0.8145    0.8014      1439\n",
            "      Бывший СССР     0.9002    0.9083    0.9043      1440\n",
            "              Дом     0.8988    0.8951    0.8969      1439\n",
            "         Из жизни     0.8030    0.8264    0.8145      1440\n",
            "   Интернет и СМИ     0.8563    0.8278    0.8418      1440\n",
            "         Культура     0.9119    0.9278    0.9198      1440\n",
            "              Мир     0.8165    0.8500    0.8329      1440\n",
            "  Наука и техника     0.8947    0.9090    0.9018      1440\n",
            "      Путешествия     0.8928    0.8838    0.8883      1282\n",
            "           Россия     0.7632    0.7701    0.7667      1440\n",
            "Силовые структуры     0.8312    0.8243    0.8278      1440\n",
            "            Спорт     0.9582    0.9722    0.9652      1440\n",
            "         Ценности     0.9490    0.9181    0.9333      1440\n",
            "        Экономика     0.8254    0.7583    0.7904      1440\n",
            "\n",
            "         accuracy                         0.8631     20000\n",
            "        macro avg     0.8636    0.8633    0.8632     20000\n",
            "     weighted avg     0.8634    0.8631    0.8630     20000\n",
            "\n"
          ]
        }
      ],
      "source": [
        "print(\"TfidfVectorizer + RandomizedSearchCV Classification Report (test):\\n\", classification_report(y_test, y_test_pred_tfidf_random, digits=4))"
      ]
    },
    {
      "cell_type": "markdown",
      "metadata": {
        "id": "FESCphqFRkv0"
      },
      "source": [
        "# Вывод"
      ]
    },
    {
      "cell_type": "markdown",
      "metadata": {
        "id": "Xiw71t2l13Sv"
      },
      "source": [
        "Обе модели на основе CountVectorizer и TfidfVectorizer продемонстрировали сопоставимое качество (accuracy ~86-87%), что указывает на схожую эффективность методов векторизации для данной задачи. Это может быть связано с особенностями корпуса, где частотные признаки (учитываемые CountVectorizer) оказались столь же информативны, как и взвешенные по TF-IDF.\n",
        "\n",
        "Балансировка данных позволила:\n",
        "- Включить 14 классов из исходного корпуса, сохранив репрезентативность выборки при ограничении в 100 тыс. текстов;\n",
        "- Равномерно распределить примеры между классами (по ~7200 на класс), кроме базового (\"Путешествия\" — 6408), минимизировав дисбаланс.\n",
        "\n",
        "Обе модели (CountVectorizer и TfidfVectorizer) значительно превзошли DummyClassifier, который показал accuracy 7% и F1-меру в диапазоне 0.06–0.09 для всех классов."
      ]
    }
  ],
  "metadata": {
    "colab": {
      "provenance": [],
      "toc_visible": true
    },
    "kernelspec": {
      "display_name": ".venv",
      "language": "python",
      "name": "python3"
    },
    "language_info": {
      "codemirror_mode": {
        "name": "ipython",
        "version": 3
      },
      "file_extension": ".py",
      "mimetype": "text/x-python",
      "name": "python",
      "nbconvert_exporter": "python",
      "pygments_lexer": "ipython3",
      "version": "3.13.2"
    }
  },
  "nbformat": 4,
  "nbformat_minor": 0
}
